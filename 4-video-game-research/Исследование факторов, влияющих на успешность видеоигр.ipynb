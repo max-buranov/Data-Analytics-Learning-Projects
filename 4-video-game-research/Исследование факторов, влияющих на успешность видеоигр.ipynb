{
 "cells": [
  {
   "cell_type": "markdown",
   "metadata": {},
   "source": [
    "# Буранов М.М. \n",
    "<h1> Исследование факторов, влияющих на успешность видеоигр </h1>"
   ]
  },
  {
   "cell_type": "markdown",
   "metadata": {},
   "source": [
    "<h2>Содержание<span class=\"tocSkip\"></span></h2>\n",
    "<br>\n",
    "<div class=\"toc\">\n",
    "    <ul class=\"toc-item\">\n",
    "        <li>\n",
    "            <span>\n",
    "                <a href=\"#Введение\" data-toc-modified-id=\"Введение-1\">\n",
    "                    <span class=\"toc-item-num\">1&nbsp;&nbsp;\n",
    "                    </span>Введение\n",
    "                </a>\n",
    "              </span>\n",
    "        </li>\n",
    "    <ul class=\"toc-item\">\n",
    "        <li>\n",
    "            <span>\n",
    "                <a href=\"#Изучение-данных-из-файла\" data-toc-modified-id=\"Изучение-данных-из-файла-2\">\n",
    "                    <span class=\"toc-item-num\">2&nbsp;&nbsp;\n",
    "                    </span>Изучение данных из файла\n",
    "                </a>\n",
    "            </span>\n",
    "        </li>\n",
    "        <li>\n",
    "            <span>\n",
    "                <a href=\"#Предобработка-данных\" data-toc-modified-id=\"Предобработка-данных-3\">\n",
    "                    <span class=\"toc-item-num\">3&nbsp;&nbsp;\n",
    "                    </span>Предобработка данных\n",
    "                </a>\n",
    "            </span>\n",
    "        </li>\n",
    "        <li>\n",
    "            <span>\n",
    "                <a href=\"#Анализ-данных\" data-toc-modified-id=\"Анализ-данных-4\">\n",
    "                    <span class=\"toc-item-num\">4&nbsp;&nbsp;\n",
    "                    </span>Анализ данных\n",
    "                </a>\n",
    "            </span>\n",
    "        </li>\n",
    "         <li>\n",
    "            <span>\n",
    "                <a href=\"#Портреты-пользователей-по-регионам\" data-toc-modified-id=\"Портреты-пользователей-по-регионам-5\">\n",
    "                    <span class=\"toc-item-num\">5&nbsp;&nbsp;\n",
    "                    </span>Портреты пользователей по регионам\n",
    "                </a>\n",
    "            </span>\n",
    "        </li>\n",
    "         <li>\n",
    "            <span>\n",
    "                <a href=\"#Проверка-гипотез\" data-toc-modified-id=\"Проверка-гипотез-6\">\n",
    "                    <span class=\"toc-item-num\">6&nbsp;&nbsp;\n",
    "                    </span>Проверка гипотез\n",
    "                </a>\n",
    "            </span>\n",
    "        </li>        \n",
    "        <li>\n",
    "            <span>\n",
    "                <a href=\"#Общий-вывод\" data-toc-modified-id=\"Общий-вывод-7\">\n",
    "                    <span class=\"toc-item-num\">7&nbsp;&nbsp;\n",
    "                    </span>Общий вывод\n",
    "                </a>\n",
    "            </span>\n",
    "        </li>\n",
    "<br>\n",
    "<br>\n",
    "<br>\n",
    "</div>"
   ]
  },
  {
   "cell_type": "markdown",
   "metadata": {},
   "source": [
    "# Введение"
   ]
  },
  {
   "cell_type": "markdown",
   "metadata": {},
   "source": [
    "В данной работе нам предстоит провести анализ рынка видеоигр с 1980 по 2016 год для интернет-магазина \"Стримчик\". <b>Цель</b> данной работы - выявить факторы, влияющие на популярность видеоигр и составить систему рекомендаций для нашего интернет-магазина. В дальнейшем эти рекомендации будут использованы для выбора потенциально популярных продуктов и планирования рекламных кампаний.\n",
    "<br>\n",
    "<br>\n",
    "Для анализа из открытых источников для нас предоставлены исторические данные о продажах игр, оценки пользователей и экспертов, жанры и платформы (например, Xbox или PlayStation). <br>\n",
    "<br>\n",
    "Подробное <b>описание датафрейма</b>:<br>\n",
    "•\tName — название игры<br>\n",
    "•\tPlatform — платформа<br>\n",
    "•\tYear_of_Release — год выпуска<br>\n",
    "•\tGenre — жанр игры<br>\n",
    "•\tNA_sales — продажи в Северной Америке (миллионы проданных копий)<br>\n",
    "•\tEU_sales — продажи в Европе (миллионы проданных копий)<br>\n",
    "•\tJP_sales — продажи в Японии (миллионы проданных копий)<br>\n",
    "•\tOther_sales — продажи в других странах (миллионы проданных копий)<br>\n",
    "•\tCritic_Score — оценка критиков (максимум 100)<br>\n",
    "•\tUser_Score — оценка пользователей (максимум 10)<br>\n",
    "•\tRating — рейтинг от организации ESRB (англ. Entertainment Software Rating Board). Эта ассоциация определяет рейтинг компьютерных игр и присваивает им подходящую возрастную категорию.<br>\n",
    "<br>\n",
    "Чтобы достичь поставленную цель, необходимо выполнить следующие <b>задачи:</b> <br>\n",
    "•\tОпределить актуальный период выхода видеоигр<br>\n",
    "•\tОтобрать лидирующие платформы и сравнить их глобальные продажи <br>\n",
    "•\tВыявить уровень связи между продажами и отзывами в рамках конкретных платформ<br>\n",
    "•\tИзучить, какие жанры являются наиболее популярными<br>\n",
    "•\tСоставить портрет покупателей по регионам<br>\n",
    "<br>\n",
    "Также в ходе исслеования нам нужно будет проверить <b>гипотезы</b> о равенсте рейтингов двух платформ - Xbox One и PC, и двух жанров - Action и Sports. Сформилуруем H-0 и H-1 для каждой:<br>\n",
    "<br>\n",
    "•\tH-0 Средние пользовательские рейтинги платформ Xbox One и PC равны;<br>\n",
    "•\tH-1 Средние пользовательские рейтинги платформ Xbox One и PC отличаются;<br>\n",
    "<br>\n",
    "•\tH-0 Средние пользовательские рейтинги жанров Action (англ. «действие», экшен-игры) и Sports (англ. «спортивные соревнования») равны.<br>\n",
    "•\tH-1 Средние пользовательские рейтинги жанров Action (англ. «действие», экшен-игры) и Sports (англ. «спортивные соревнования») отличаются.<br>\n",
    "\n"
   ]
  },
  {
   "cell_type": "markdown",
   "metadata": {},
   "source": [
    "# Изучение данных из файла\n"
   ]
  },
  {
   "cell_type": "code",
   "execution_count": 1,
   "metadata": {},
   "outputs": [],
   "source": [
    "import pandas as pd\n",
    "import matplotlib.pyplot as plt\n",
    "import seaborn as sns\n",
    "import numpy as np\n",
    "import warnings\n",
    "from scipy import stats as st\n",
    "warnings.simplefilter('ignore')"
   ]
  },
  {
   "cell_type": "code",
   "execution_count": 2,
   "metadata": {},
   "outputs": [],
   "source": [
    "try:\n",
    "    games = pd.read_csv('https://####.csv')\n",
    "except:\n",
    "    print ('Поменяй путь к файлу!')"
   ]
  },
  {
   "cell_type": "code",
   "execution_count": 3,
   "metadata": {},
   "outputs": [
    {
     "data": {
      "text/html": [
       "<div>\n",
       "<style scoped>\n",
       "    .dataframe tbody tr th:only-of-type {\n",
       "        vertical-align: middle;\n",
       "    }\n",
       "\n",
       "    .dataframe tbody tr th {\n",
       "        vertical-align: top;\n",
       "    }\n",
       "\n",
       "    .dataframe thead th {\n",
       "        text-align: right;\n",
       "    }\n",
       "</style>\n",
       "<table border=\"1\" class=\"dataframe\">\n",
       "  <thead>\n",
       "    <tr style=\"text-align: right;\">\n",
       "      <th></th>\n",
       "      <th>Name</th>\n",
       "      <th>Platform</th>\n",
       "      <th>Year_of_Release</th>\n",
       "      <th>Genre</th>\n",
       "      <th>NA_sales</th>\n",
       "      <th>EU_sales</th>\n",
       "      <th>JP_sales</th>\n",
       "      <th>Other_sales</th>\n",
       "      <th>Critic_Score</th>\n",
       "      <th>User_Score</th>\n",
       "      <th>Rating</th>\n",
       "    </tr>\n",
       "  </thead>\n",
       "  <tbody>\n",
       "    <tr>\n",
       "      <th>0</th>\n",
       "      <td>Wii Sports</td>\n",
       "      <td>Wii</td>\n",
       "      <td>2006.0</td>\n",
       "      <td>Sports</td>\n",
       "      <td>41.36</td>\n",
       "      <td>28.96</td>\n",
       "      <td>3.77</td>\n",
       "      <td>8.45</td>\n",
       "      <td>76.0</td>\n",
       "      <td>8</td>\n",
       "      <td>E</td>\n",
       "    </tr>\n",
       "    <tr>\n",
       "      <th>1</th>\n",
       "      <td>Super Mario Bros.</td>\n",
       "      <td>NES</td>\n",
       "      <td>1985.0</td>\n",
       "      <td>Platform</td>\n",
       "      <td>29.08</td>\n",
       "      <td>3.58</td>\n",
       "      <td>6.81</td>\n",
       "      <td>0.77</td>\n",
       "      <td>NaN</td>\n",
       "      <td>NaN</td>\n",
       "      <td>NaN</td>\n",
       "    </tr>\n",
       "    <tr>\n",
       "      <th>2</th>\n",
       "      <td>Mario Kart Wii</td>\n",
       "      <td>Wii</td>\n",
       "      <td>2008.0</td>\n",
       "      <td>Racing</td>\n",
       "      <td>15.68</td>\n",
       "      <td>12.76</td>\n",
       "      <td>3.79</td>\n",
       "      <td>3.29</td>\n",
       "      <td>82.0</td>\n",
       "      <td>8.3</td>\n",
       "      <td>E</td>\n",
       "    </tr>\n",
       "    <tr>\n",
       "      <th>3</th>\n",
       "      <td>Wii Sports Resort</td>\n",
       "      <td>Wii</td>\n",
       "      <td>2009.0</td>\n",
       "      <td>Sports</td>\n",
       "      <td>15.61</td>\n",
       "      <td>10.93</td>\n",
       "      <td>3.28</td>\n",
       "      <td>2.95</td>\n",
       "      <td>80.0</td>\n",
       "      <td>8</td>\n",
       "      <td>E</td>\n",
       "    </tr>\n",
       "    <tr>\n",
       "      <th>4</th>\n",
       "      <td>Pokemon Red/Pokemon Blue</td>\n",
       "      <td>GB</td>\n",
       "      <td>1996.0</td>\n",
       "      <td>Role-Playing</td>\n",
       "      <td>11.27</td>\n",
       "      <td>8.89</td>\n",
       "      <td>10.22</td>\n",
       "      <td>1.00</td>\n",
       "      <td>NaN</td>\n",
       "      <td>NaN</td>\n",
       "      <td>NaN</td>\n",
       "    </tr>\n",
       "    <tr>\n",
       "      <th>5</th>\n",
       "      <td>Tetris</td>\n",
       "      <td>GB</td>\n",
       "      <td>1989.0</td>\n",
       "      <td>Puzzle</td>\n",
       "      <td>23.20</td>\n",
       "      <td>2.26</td>\n",
       "      <td>4.22</td>\n",
       "      <td>0.58</td>\n",
       "      <td>NaN</td>\n",
       "      <td>NaN</td>\n",
       "      <td>NaN</td>\n",
       "    </tr>\n",
       "    <tr>\n",
       "      <th>6</th>\n",
       "      <td>New Super Mario Bros.</td>\n",
       "      <td>DS</td>\n",
       "      <td>2006.0</td>\n",
       "      <td>Platform</td>\n",
       "      <td>11.28</td>\n",
       "      <td>9.14</td>\n",
       "      <td>6.50</td>\n",
       "      <td>2.88</td>\n",
       "      <td>89.0</td>\n",
       "      <td>8.5</td>\n",
       "      <td>E</td>\n",
       "    </tr>\n",
       "    <tr>\n",
       "      <th>7</th>\n",
       "      <td>Wii Play</td>\n",
       "      <td>Wii</td>\n",
       "      <td>2006.0</td>\n",
       "      <td>Misc</td>\n",
       "      <td>13.96</td>\n",
       "      <td>9.18</td>\n",
       "      <td>2.93</td>\n",
       "      <td>2.84</td>\n",
       "      <td>58.0</td>\n",
       "      <td>6.6</td>\n",
       "      <td>E</td>\n",
       "    </tr>\n",
       "    <tr>\n",
       "      <th>8</th>\n",
       "      <td>New Super Mario Bros. Wii</td>\n",
       "      <td>Wii</td>\n",
       "      <td>2009.0</td>\n",
       "      <td>Platform</td>\n",
       "      <td>14.44</td>\n",
       "      <td>6.94</td>\n",
       "      <td>4.70</td>\n",
       "      <td>2.24</td>\n",
       "      <td>87.0</td>\n",
       "      <td>8.4</td>\n",
       "      <td>E</td>\n",
       "    </tr>\n",
       "    <tr>\n",
       "      <th>9</th>\n",
       "      <td>Duck Hunt</td>\n",
       "      <td>NES</td>\n",
       "      <td>1984.0</td>\n",
       "      <td>Shooter</td>\n",
       "      <td>26.93</td>\n",
       "      <td>0.63</td>\n",
       "      <td>0.28</td>\n",
       "      <td>0.47</td>\n",
       "      <td>NaN</td>\n",
       "      <td>NaN</td>\n",
       "      <td>NaN</td>\n",
       "    </tr>\n",
       "  </tbody>\n",
       "</table>\n",
       "</div>"
      ],
      "text/plain": [
       "                        Name Platform  Year_of_Release         Genre  \\\n",
       "0                 Wii Sports      Wii           2006.0        Sports   \n",
       "1          Super Mario Bros.      NES           1985.0      Platform   \n",
       "2             Mario Kart Wii      Wii           2008.0        Racing   \n",
       "3          Wii Sports Resort      Wii           2009.0        Sports   \n",
       "4   Pokemon Red/Pokemon Blue       GB           1996.0  Role-Playing   \n",
       "5                     Tetris       GB           1989.0        Puzzle   \n",
       "6      New Super Mario Bros.       DS           2006.0      Platform   \n",
       "7                   Wii Play      Wii           2006.0          Misc   \n",
       "8  New Super Mario Bros. Wii      Wii           2009.0      Platform   \n",
       "9                  Duck Hunt      NES           1984.0       Shooter   \n",
       "\n",
       "   NA_sales  EU_sales  JP_sales  Other_sales  Critic_Score User_Score Rating  \n",
       "0     41.36     28.96      3.77         8.45          76.0          8      E  \n",
       "1     29.08      3.58      6.81         0.77           NaN        NaN    NaN  \n",
       "2     15.68     12.76      3.79         3.29          82.0        8.3      E  \n",
       "3     15.61     10.93      3.28         2.95          80.0          8      E  \n",
       "4     11.27      8.89     10.22         1.00           NaN        NaN    NaN  \n",
       "5     23.20      2.26      4.22         0.58           NaN        NaN    NaN  \n",
       "6     11.28      9.14      6.50         2.88          89.0        8.5      E  \n",
       "7     13.96      9.18      2.93         2.84          58.0        6.6      E  \n",
       "8     14.44      6.94      4.70         2.24          87.0        8.4      E  \n",
       "9     26.93      0.63      0.28         0.47           NaN        NaN    NaN  "
      ]
     },
     "execution_count": 3,
     "metadata": {},
     "output_type": "execute_result"
    }
   ],
   "source": [
    "games.head(10)"
   ]
  },
  {
   "cell_type": "code",
   "execution_count": 4,
   "metadata": {},
   "outputs": [
    {
     "data": {
      "text/html": [
       "<div>\n",
       "<style scoped>\n",
       "    .dataframe tbody tr th:only-of-type {\n",
       "        vertical-align: middle;\n",
       "    }\n",
       "\n",
       "    .dataframe tbody tr th {\n",
       "        vertical-align: top;\n",
       "    }\n",
       "\n",
       "    .dataframe thead th {\n",
       "        text-align: right;\n",
       "    }\n",
       "</style>\n",
       "<table border=\"1\" class=\"dataframe\">\n",
       "  <thead>\n",
       "    <tr style=\"text-align: right;\">\n",
       "      <th></th>\n",
       "      <th>Name</th>\n",
       "      <th>Platform</th>\n",
       "      <th>Year_of_Release</th>\n",
       "      <th>Genre</th>\n",
       "      <th>NA_sales</th>\n",
       "      <th>EU_sales</th>\n",
       "      <th>JP_sales</th>\n",
       "      <th>Other_sales</th>\n",
       "      <th>Critic_Score</th>\n",
       "      <th>User_Score</th>\n",
       "      <th>Rating</th>\n",
       "    </tr>\n",
       "  </thead>\n",
       "  <tbody>\n",
       "    <tr>\n",
       "      <th>5748</th>\n",
       "      <td>Brothers In Arms: Earned in Blood</td>\n",
       "      <td>XB</td>\n",
       "      <td>2005.0</td>\n",
       "      <td>Shooter</td>\n",
       "      <td>0.23</td>\n",
       "      <td>0.07</td>\n",
       "      <td>0.00</td>\n",
       "      <td>0.01</td>\n",
       "      <td>85.0</td>\n",
       "      <td>8.6</td>\n",
       "      <td>M</td>\n",
       "    </tr>\n",
       "    <tr>\n",
       "      <th>4338</th>\n",
       "      <td>Mobile Suit Gundam</td>\n",
       "      <td>PS</td>\n",
       "      <td>1995.0</td>\n",
       "      <td>Action</td>\n",
       "      <td>0.00</td>\n",
       "      <td>0.00</td>\n",
       "      <td>0.42</td>\n",
       "      <td>0.03</td>\n",
       "      <td>NaN</td>\n",
       "      <td>NaN</td>\n",
       "      <td>NaN</td>\n",
       "    </tr>\n",
       "    <tr>\n",
       "      <th>7541</th>\n",
       "      <td>MLB SlugFest 20-03</td>\n",
       "      <td>XB</td>\n",
       "      <td>2002.0</td>\n",
       "      <td>Sports</td>\n",
       "      <td>0.15</td>\n",
       "      <td>0.04</td>\n",
       "      <td>0.00</td>\n",
       "      <td>0.01</td>\n",
       "      <td>79.0</td>\n",
       "      <td>7.8</td>\n",
       "      <td>E</td>\n",
       "    </tr>\n",
       "    <tr>\n",
       "      <th>2677</th>\n",
       "      <td>FIFA 12</td>\n",
       "      <td>Wii</td>\n",
       "      <td>2011.0</td>\n",
       "      <td>Sports</td>\n",
       "      <td>0.15</td>\n",
       "      <td>0.50</td>\n",
       "      <td>0.00</td>\n",
       "      <td>0.11</td>\n",
       "      <td>NaN</td>\n",
       "      <td>NaN</td>\n",
       "      <td>NaN</td>\n",
       "    </tr>\n",
       "    <tr>\n",
       "      <th>2571</th>\n",
       "      <td>Need for Speed: Hot Pursuit 2</td>\n",
       "      <td>GC</td>\n",
       "      <td>2002.0</td>\n",
       "      <td>Racing</td>\n",
       "      <td>0.68</td>\n",
       "      <td>0.09</td>\n",
       "      <td>0.00</td>\n",
       "      <td>0.02</td>\n",
       "      <td>68.0</td>\n",
       "      <td>8.3</td>\n",
       "      <td>E</td>\n",
       "    </tr>\n",
       "    <tr>\n",
       "      <th>14044</th>\n",
       "      <td>Harukanaru Toki no Naka de 3: Unmei no Meikyuu...</td>\n",
       "      <td>PSP</td>\n",
       "      <td>2009.0</td>\n",
       "      <td>Adventure</td>\n",
       "      <td>0.00</td>\n",
       "      <td>0.00</td>\n",
       "      <td>0.04</td>\n",
       "      <td>0.00</td>\n",
       "      <td>NaN</td>\n",
       "      <td>NaN</td>\n",
       "      <td>NaN</td>\n",
       "    </tr>\n",
       "    <tr>\n",
       "      <th>10250</th>\n",
       "      <td>Nicktoons: Unite!</td>\n",
       "      <td>DS</td>\n",
       "      <td>2006.0</td>\n",
       "      <td>Adventure</td>\n",
       "      <td>0.10</td>\n",
       "      <td>0.00</td>\n",
       "      <td>0.00</td>\n",
       "      <td>0.01</td>\n",
       "      <td>NaN</td>\n",
       "      <td>NaN</td>\n",
       "      <td>NaN</td>\n",
       "    </tr>\n",
       "    <tr>\n",
       "      <th>8709</th>\n",
       "      <td>Warhammer 40,000: Fire Warrior</td>\n",
       "      <td>PS2</td>\n",
       "      <td>2003.0</td>\n",
       "      <td>Shooter</td>\n",
       "      <td>0.08</td>\n",
       "      <td>0.06</td>\n",
       "      <td>0.00</td>\n",
       "      <td>0.02</td>\n",
       "      <td>64.0</td>\n",
       "      <td>8.3</td>\n",
       "      <td>M</td>\n",
       "    </tr>\n",
       "    <tr>\n",
       "      <th>8233</th>\n",
       "      <td>The Grim Adventures of Billy &amp; Mandy</td>\n",
       "      <td>GC</td>\n",
       "      <td>2006.0</td>\n",
       "      <td>Action</td>\n",
       "      <td>0.13</td>\n",
       "      <td>0.03</td>\n",
       "      <td>0.00</td>\n",
       "      <td>0.00</td>\n",
       "      <td>NaN</td>\n",
       "      <td>NaN</td>\n",
       "      <td>NaN</td>\n",
       "    </tr>\n",
       "    <tr>\n",
       "      <th>10963</th>\n",
       "      <td>Football Manager 2017</td>\n",
       "      <td>PC</td>\n",
       "      <td>2016.0</td>\n",
       "      <td>Simulation</td>\n",
       "      <td>0.00</td>\n",
       "      <td>0.09</td>\n",
       "      <td>0.00</td>\n",
       "      <td>0.01</td>\n",
       "      <td>81.0</td>\n",
       "      <td>4.3</td>\n",
       "      <td>E</td>\n",
       "    </tr>\n",
       "  </tbody>\n",
       "</table>\n",
       "</div>"
      ],
      "text/plain": [
       "                                                    Name Platform  \\\n",
       "5748                   Brothers In Arms: Earned in Blood       XB   \n",
       "4338                                  Mobile Suit Gundam       PS   \n",
       "7541                                  MLB SlugFest 20-03       XB   \n",
       "2677                                             FIFA 12      Wii   \n",
       "2571                       Need for Speed: Hot Pursuit 2       GC   \n",
       "14044  Harukanaru Toki no Naka de 3: Unmei no Meikyuu...      PSP   \n",
       "10250                                  Nicktoons: Unite!       DS   \n",
       "8709                      Warhammer 40,000: Fire Warrior      PS2   \n",
       "8233                The Grim Adventures of Billy & Mandy       GC   \n",
       "10963                              Football Manager 2017       PC   \n",
       "\n",
       "       Year_of_Release       Genre  NA_sales  EU_sales  JP_sales  Other_sales  \\\n",
       "5748            2005.0     Shooter      0.23      0.07      0.00         0.01   \n",
       "4338            1995.0      Action      0.00      0.00      0.42         0.03   \n",
       "7541            2002.0      Sports      0.15      0.04      0.00         0.01   \n",
       "2677            2011.0      Sports      0.15      0.50      0.00         0.11   \n",
       "2571            2002.0      Racing      0.68      0.09      0.00         0.02   \n",
       "14044           2009.0   Adventure      0.00      0.00      0.04         0.00   \n",
       "10250           2006.0   Adventure      0.10      0.00      0.00         0.01   \n",
       "8709            2003.0     Shooter      0.08      0.06      0.00         0.02   \n",
       "8233            2006.0      Action      0.13      0.03      0.00         0.00   \n",
       "10963           2016.0  Simulation      0.00      0.09      0.00         0.01   \n",
       "\n",
       "       Critic_Score User_Score Rating  \n",
       "5748           85.0        8.6      M  \n",
       "4338            NaN        NaN    NaN  \n",
       "7541           79.0        7.8      E  \n",
       "2677            NaN        NaN    NaN  \n",
       "2571           68.0        8.3      E  \n",
       "14044           NaN        NaN    NaN  \n",
       "10250           NaN        NaN    NaN  \n",
       "8709           64.0        8.3      M  \n",
       "8233            NaN        NaN    NaN  \n",
       "10963          81.0        4.3      E  "
      ]
     },
     "execution_count": 4,
     "metadata": {},
     "output_type": "execute_result"
    }
   ],
   "source": [
    "games.sample(10)"
   ]
  },
  {
   "cell_type": "code",
   "execution_count": 5,
   "metadata": {},
   "outputs": [
    {
     "data": {
      "text/html": [
       "<div>\n",
       "<style scoped>\n",
       "    .dataframe tbody tr th:only-of-type {\n",
       "        vertical-align: middle;\n",
       "    }\n",
       "\n",
       "    .dataframe tbody tr th {\n",
       "        vertical-align: top;\n",
       "    }\n",
       "\n",
       "    .dataframe thead th {\n",
       "        text-align: right;\n",
       "    }\n",
       "</style>\n",
       "<table border=\"1\" class=\"dataframe\">\n",
       "  <thead>\n",
       "    <tr style=\"text-align: right;\">\n",
       "      <th></th>\n",
       "      <th>Name</th>\n",
       "      <th>Platform</th>\n",
       "      <th>Year_of_Release</th>\n",
       "      <th>Genre</th>\n",
       "      <th>NA_sales</th>\n",
       "      <th>EU_sales</th>\n",
       "      <th>JP_sales</th>\n",
       "      <th>Other_sales</th>\n",
       "      <th>Critic_Score</th>\n",
       "      <th>User_Score</th>\n",
       "      <th>Rating</th>\n",
       "    </tr>\n",
       "  </thead>\n",
       "  <tbody>\n",
       "    <tr>\n",
       "      <th>16705</th>\n",
       "      <td>15 Days</td>\n",
       "      <td>PC</td>\n",
       "      <td>2009.0</td>\n",
       "      <td>Adventure</td>\n",
       "      <td>0.00</td>\n",
       "      <td>0.01</td>\n",
       "      <td>0.00</td>\n",
       "      <td>0.0</td>\n",
       "      <td>63.0</td>\n",
       "      <td>5.8</td>\n",
       "      <td>NaN</td>\n",
       "    </tr>\n",
       "    <tr>\n",
       "      <th>16706</th>\n",
       "      <td>Men in Black II: Alien Escape</td>\n",
       "      <td>GC</td>\n",
       "      <td>2003.0</td>\n",
       "      <td>Shooter</td>\n",
       "      <td>0.01</td>\n",
       "      <td>0.00</td>\n",
       "      <td>0.00</td>\n",
       "      <td>0.0</td>\n",
       "      <td>NaN</td>\n",
       "      <td>tbd</td>\n",
       "      <td>T</td>\n",
       "    </tr>\n",
       "    <tr>\n",
       "      <th>16707</th>\n",
       "      <td>Aiyoku no Eustia</td>\n",
       "      <td>PSV</td>\n",
       "      <td>2014.0</td>\n",
       "      <td>Misc</td>\n",
       "      <td>0.00</td>\n",
       "      <td>0.00</td>\n",
       "      <td>0.01</td>\n",
       "      <td>0.0</td>\n",
       "      <td>NaN</td>\n",
       "      <td>NaN</td>\n",
       "      <td>NaN</td>\n",
       "    </tr>\n",
       "    <tr>\n",
       "      <th>16708</th>\n",
       "      <td>Woody Woodpecker in Crazy Castle 5</td>\n",
       "      <td>GBA</td>\n",
       "      <td>2002.0</td>\n",
       "      <td>Platform</td>\n",
       "      <td>0.01</td>\n",
       "      <td>0.00</td>\n",
       "      <td>0.00</td>\n",
       "      <td>0.0</td>\n",
       "      <td>NaN</td>\n",
       "      <td>NaN</td>\n",
       "      <td>NaN</td>\n",
       "    </tr>\n",
       "    <tr>\n",
       "      <th>16709</th>\n",
       "      <td>SCORE International Baja 1000: The Official Game</td>\n",
       "      <td>PS2</td>\n",
       "      <td>2008.0</td>\n",
       "      <td>Racing</td>\n",
       "      <td>0.00</td>\n",
       "      <td>0.00</td>\n",
       "      <td>0.00</td>\n",
       "      <td>0.0</td>\n",
       "      <td>NaN</td>\n",
       "      <td>NaN</td>\n",
       "      <td>NaN</td>\n",
       "    </tr>\n",
       "    <tr>\n",
       "      <th>16710</th>\n",
       "      <td>Samurai Warriors: Sanada Maru</td>\n",
       "      <td>PS3</td>\n",
       "      <td>2016.0</td>\n",
       "      <td>Action</td>\n",
       "      <td>0.00</td>\n",
       "      <td>0.00</td>\n",
       "      <td>0.01</td>\n",
       "      <td>0.0</td>\n",
       "      <td>NaN</td>\n",
       "      <td>NaN</td>\n",
       "      <td>NaN</td>\n",
       "    </tr>\n",
       "    <tr>\n",
       "      <th>16711</th>\n",
       "      <td>LMA Manager 2007</td>\n",
       "      <td>X360</td>\n",
       "      <td>2006.0</td>\n",
       "      <td>Sports</td>\n",
       "      <td>0.00</td>\n",
       "      <td>0.01</td>\n",
       "      <td>0.00</td>\n",
       "      <td>0.0</td>\n",
       "      <td>NaN</td>\n",
       "      <td>NaN</td>\n",
       "      <td>NaN</td>\n",
       "    </tr>\n",
       "    <tr>\n",
       "      <th>16712</th>\n",
       "      <td>Haitaka no Psychedelica</td>\n",
       "      <td>PSV</td>\n",
       "      <td>2016.0</td>\n",
       "      <td>Adventure</td>\n",
       "      <td>0.00</td>\n",
       "      <td>0.00</td>\n",
       "      <td>0.01</td>\n",
       "      <td>0.0</td>\n",
       "      <td>NaN</td>\n",
       "      <td>NaN</td>\n",
       "      <td>NaN</td>\n",
       "    </tr>\n",
       "    <tr>\n",
       "      <th>16713</th>\n",
       "      <td>Spirits &amp; Spells</td>\n",
       "      <td>GBA</td>\n",
       "      <td>2003.0</td>\n",
       "      <td>Platform</td>\n",
       "      <td>0.01</td>\n",
       "      <td>0.00</td>\n",
       "      <td>0.00</td>\n",
       "      <td>0.0</td>\n",
       "      <td>NaN</td>\n",
       "      <td>NaN</td>\n",
       "      <td>NaN</td>\n",
       "    </tr>\n",
       "    <tr>\n",
       "      <th>16714</th>\n",
       "      <td>Winning Post 8 2016</td>\n",
       "      <td>PSV</td>\n",
       "      <td>2016.0</td>\n",
       "      <td>Simulation</td>\n",
       "      <td>0.00</td>\n",
       "      <td>0.00</td>\n",
       "      <td>0.01</td>\n",
       "      <td>0.0</td>\n",
       "      <td>NaN</td>\n",
       "      <td>NaN</td>\n",
       "      <td>NaN</td>\n",
       "    </tr>\n",
       "  </tbody>\n",
       "</table>\n",
       "</div>"
      ],
      "text/plain": [
       "                                                   Name Platform  \\\n",
       "16705                                           15 Days       PC   \n",
       "16706                     Men in Black II: Alien Escape       GC   \n",
       "16707                                  Aiyoku no Eustia      PSV   \n",
       "16708                Woody Woodpecker in Crazy Castle 5      GBA   \n",
       "16709  SCORE International Baja 1000: The Official Game      PS2   \n",
       "16710                     Samurai Warriors: Sanada Maru      PS3   \n",
       "16711                                  LMA Manager 2007     X360   \n",
       "16712                           Haitaka no Psychedelica      PSV   \n",
       "16713                                  Spirits & Spells      GBA   \n",
       "16714                               Winning Post 8 2016      PSV   \n",
       "\n",
       "       Year_of_Release       Genre  NA_sales  EU_sales  JP_sales  Other_sales  \\\n",
       "16705           2009.0   Adventure      0.00      0.01      0.00          0.0   \n",
       "16706           2003.0     Shooter      0.01      0.00      0.00          0.0   \n",
       "16707           2014.0        Misc      0.00      0.00      0.01          0.0   \n",
       "16708           2002.0    Platform      0.01      0.00      0.00          0.0   \n",
       "16709           2008.0      Racing      0.00      0.00      0.00          0.0   \n",
       "16710           2016.0      Action      0.00      0.00      0.01          0.0   \n",
       "16711           2006.0      Sports      0.00      0.01      0.00          0.0   \n",
       "16712           2016.0   Adventure      0.00      0.00      0.01          0.0   \n",
       "16713           2003.0    Platform      0.01      0.00      0.00          0.0   \n",
       "16714           2016.0  Simulation      0.00      0.00      0.01          0.0   \n",
       "\n",
       "       Critic_Score User_Score Rating  \n",
       "16705          63.0        5.8    NaN  \n",
       "16706           NaN        tbd      T  \n",
       "16707           NaN        NaN    NaN  \n",
       "16708           NaN        NaN    NaN  \n",
       "16709           NaN        NaN    NaN  \n",
       "16710           NaN        NaN    NaN  \n",
       "16711           NaN        NaN    NaN  \n",
       "16712           NaN        NaN    NaN  \n",
       "16713           NaN        NaN    NaN  \n",
       "16714           NaN        NaN    NaN  "
      ]
     },
     "execution_count": 5,
     "metadata": {},
     "output_type": "execute_result"
    }
   ],
   "source": [
    "games.tail(10)"
   ]
  },
  {
   "cell_type": "code",
   "execution_count": 6,
   "metadata": {},
   "outputs": [
    {
     "name": "stdout",
     "output_type": "stream",
     "text": [
      "<class 'pandas.core.frame.DataFrame'>\n",
      "RangeIndex: 16715 entries, 0 to 16714\n",
      "Data columns (total 11 columns):\n",
      " #   Column           Non-Null Count  Dtype  \n",
      "---  ------           --------------  -----  \n",
      " 0   Name             16713 non-null  object \n",
      " 1   Platform         16715 non-null  object \n",
      " 2   Year_of_Release  16446 non-null  float64\n",
      " 3   Genre            16713 non-null  object \n",
      " 4   NA_sales         16715 non-null  float64\n",
      " 5   EU_sales         16715 non-null  float64\n",
      " 6   JP_sales         16715 non-null  float64\n",
      " 7   Other_sales      16715 non-null  float64\n",
      " 8   Critic_Score     8137 non-null   float64\n",
      " 9   User_Score       10014 non-null  object \n",
      " 10  Rating           9949 non-null   object \n",
      "dtypes: float64(6), object(5)\n",
      "memory usage: 1.4+ MB\n"
     ]
    }
   ],
   "source": [
    "games.info()"
   ]
  },
  {
   "cell_type": "code",
   "execution_count": 7,
   "metadata": {},
   "outputs": [
    {
     "data": {
      "text/plain": [
       "(16715, 11)"
      ]
     },
     "execution_count": 7,
     "metadata": {},
     "output_type": "execute_result"
    }
   ],
   "source": [
    "games.shape"
   ]
  },
  {
   "cell_type": "markdown",
   "metadata": {},
   "source": [
    "### Проблемы в данных\n",
    "\n",
    "Видим, что в 6 из 11 столбиков пропущены значения (name, year_of_release, genre, critic_score, user_score, rating). \n",
    "\n",
    "В столбике user_score нужно изменить тип данных на float. \n",
    "\n",
    "Название столбиков нужно привести к нижнему регистру. "
   ]
  },
  {
   "cell_type": "code",
   "execution_count": 8,
   "metadata": {},
   "outputs": [],
   "source": [
    "#games.describe()"
   ]
  },
  {
   "cell_type": "markdown",
   "metadata": {},
   "source": [
    "# Предобработка данных"
   ]
  },
  {
   "cell_type": "markdown",
   "metadata": {},
   "source": [
    "### Изменим регистр названия столбиков"
   ]
  },
  {
   "cell_type": "code",
   "execution_count": 9,
   "metadata": {},
   "outputs": [],
   "source": [
    "games.columns = map(lambda x: x.lower(), games.columns)"
   ]
  },
  {
   "cell_type": "markdown",
   "metadata": {},
   "source": [
    "### Изменим типы данных"
   ]
  },
  {
   "cell_type": "code",
   "execution_count": 10,
   "metadata": {},
   "outputs": [
    {
     "name": "stdout",
     "output_type": "stream",
     "text": [
      "<class 'pandas.core.frame.DataFrame'>\n",
      "RangeIndex: 16715 entries, 0 to 16714\n",
      "Data columns (total 11 columns):\n",
      " #   Column           Non-Null Count  Dtype  \n",
      "---  ------           --------------  -----  \n",
      " 0   name             16713 non-null  object \n",
      " 1   platform         16715 non-null  object \n",
      " 2   year_of_release  16446 non-null  Int64  \n",
      " 3   genre            16713 non-null  object \n",
      " 4   na_sales         16715 non-null  float64\n",
      " 5   eu_sales         16715 non-null  float64\n",
      " 6   jp_sales         16715 non-null  float64\n",
      " 7   other_sales      16715 non-null  float64\n",
      " 8   critic_score     8137 non-null   float64\n",
      " 9   user_score       7590 non-null   float64\n",
      " 10  rating           9949 non-null   object \n",
      "dtypes: Int64(1), float64(6), object(4)\n",
      "memory usage: 1.4+ MB\n"
     ]
    }
   ],
   "source": [
    "games = games.astype({'year_of_release':'Int64'}, errors = 'ignore')\n",
    "games['user_score'] = pd.to_numeric(games['user_score'], errors='coerce')\n",
    "games.info()"
   ]
  },
  {
   "cell_type": "markdown",
   "metadata": {},
   "source": [
    "Изменили тип в столбике с годом выпуска - для красоты. \n",
    "\n",
    "Изменили тип в столбике user_score на float. Значения с нечисловым форматом  - \"tbd\" заменили на Nan, т.к. эта аббревиатура означает \"требует уточнения\", т.е. данных по этим играм пока нет. "
   ]
  },
  {
   "cell_type": "markdown",
   "metadata": {},
   "source": [
    "### Проверим пропуски в значениях"
   ]
  },
  {
   "cell_type": "markdown",
   "metadata": {},
   "source": [
    "#### Name, Genre"
   ]
  },
  {
   "cell_type": "code",
   "execution_count": 11,
   "metadata": {},
   "outputs": [
    {
     "data": {
      "text/html": [
       "<div>\n",
       "<style scoped>\n",
       "    .dataframe tbody tr th:only-of-type {\n",
       "        vertical-align: middle;\n",
       "    }\n",
       "\n",
       "    .dataframe tbody tr th {\n",
       "        vertical-align: top;\n",
       "    }\n",
       "\n",
       "    .dataframe thead th {\n",
       "        text-align: right;\n",
       "    }\n",
       "</style>\n",
       "<table border=\"1\" class=\"dataframe\">\n",
       "  <thead>\n",
       "    <tr style=\"text-align: right;\">\n",
       "      <th></th>\n",
       "      <th>name</th>\n",
       "      <th>platform</th>\n",
       "      <th>year_of_release</th>\n",
       "      <th>genre</th>\n",
       "      <th>na_sales</th>\n",
       "      <th>eu_sales</th>\n",
       "      <th>jp_sales</th>\n",
       "      <th>other_sales</th>\n",
       "      <th>critic_score</th>\n",
       "      <th>user_score</th>\n",
       "      <th>rating</th>\n",
       "    </tr>\n",
       "  </thead>\n",
       "  <tbody>\n",
       "    <tr>\n",
       "      <th>659</th>\n",
       "      <td>NaN</td>\n",
       "      <td>GEN</td>\n",
       "      <td>1993</td>\n",
       "      <td>NaN</td>\n",
       "      <td>1.78</td>\n",
       "      <td>0.53</td>\n",
       "      <td>0.00</td>\n",
       "      <td>0.08</td>\n",
       "      <td>NaN</td>\n",
       "      <td>NaN</td>\n",
       "      <td>NaN</td>\n",
       "    </tr>\n",
       "    <tr>\n",
       "      <th>14244</th>\n",
       "      <td>NaN</td>\n",
       "      <td>GEN</td>\n",
       "      <td>1993</td>\n",
       "      <td>NaN</td>\n",
       "      <td>0.00</td>\n",
       "      <td>0.00</td>\n",
       "      <td>0.03</td>\n",
       "      <td>0.00</td>\n",
       "      <td>NaN</td>\n",
       "      <td>NaN</td>\n",
       "      <td>NaN</td>\n",
       "    </tr>\n",
       "  </tbody>\n",
       "</table>\n",
       "</div>"
      ],
      "text/plain": [
       "      name platform  year_of_release genre  na_sales  eu_sales  jp_sales  \\\n",
       "659    NaN      GEN             1993   NaN      1.78      0.53      0.00   \n",
       "14244  NaN      GEN             1993   NaN      0.00      0.00      0.03   \n",
       "\n",
       "       other_sales  critic_score  user_score rating  \n",
       "659           0.08           NaN         NaN    NaN  \n",
       "14244         0.00           NaN         NaN    NaN  "
      ]
     },
     "execution_count": 11,
     "metadata": {},
     "output_type": "execute_result"
    }
   ],
   "source": [
    "games[games['name'].isna()]"
   ]
  },
  {
   "cell_type": "markdown",
   "metadata": {},
   "source": [
    "Вего 2 пропуска в столбике Name. Эти же строчки имеют пропущенные значения в других важных показателях. Сразу удалим их, при этом избавимся от всех пропусков в столбике Genre. "
   ]
  },
  {
   "cell_type": "code",
   "execution_count": 12,
   "metadata": {},
   "outputs": [],
   "source": [
    "games.dropna(subset = ['name'], inplace = True)"
   ]
  },
  {
   "cell_type": "markdown",
   "metadata": {},
   "source": [
    "#### Year_of_Release и рейтинги"
   ]
  },
  {
   "cell_type": "code",
   "execution_count": 13,
   "metadata": {},
   "outputs": [],
   "source": [
    "#games.info()"
   ]
  },
  {
   "cell_type": "code",
   "execution_count": 14,
   "metadata": {},
   "outputs": [
    {
     "name": "stdout",
     "output_type": "stream",
     "text": [
      "269\n",
      "8576\n",
      "9123\n",
      "6764\n"
     ]
    }
   ],
   "source": [
    "print(len(games[games['year_of_release'].isna()]))\n",
    "print(len(games[games['critic_score'].isna()]))\n",
    "print(len(games[games['user_score'].isna()]))\n",
    "print(len(games[games['rating'].isna()]))"
   ]
  },
  {
   "cell_type": "markdown",
   "metadata": {},
   "source": [
    "269 пропусков в дате релиза. Это около 2% от общего количества данных. Эти строки можно удалить. \n",
    "\n",
    "В остальных столбиках пропусков слишком много. Оставим их, они не должны помешать при анализе данных. \n",
    "\n",
    "P.S. Пропуски помешали при подсчёте p-value, удалили строки непосредственно перед расчётом, чтобы для других подсчётов у нас оставалось больше данных. "
   ]
  },
  {
   "cell_type": "code",
   "execution_count": 15,
   "metadata": {},
   "outputs": [],
   "source": [
    "games['rating'].fillna('undefined', inplace = True)"
   ]
  },
  {
   "cell_type": "code",
   "execution_count": 16,
   "metadata": {},
   "outputs": [],
   "source": [
    "games.dropna(subset = ['year_of_release'], inplace = True)"
   ]
  },
  {
   "cell_type": "markdown",
   "metadata": {},
   "source": [
    "### Добавление столбика с общими продажами"
   ]
  },
  {
   "cell_type": "code",
   "execution_count": 17,
   "metadata": {},
   "outputs": [],
   "source": [
    "games['revenue']=games['na_sales']+games['eu_sales']+games['jp_sales']+games['other_sales']"
   ]
  },
  {
   "cell_type": "markdown",
   "metadata": {},
   "source": [
    "### Проверка дубликатов"
   ]
  },
  {
   "cell_type": "code",
   "execution_count": 18,
   "metadata": {},
   "outputs": [
    {
     "data": {
      "text/plain": [
       "array(['Sports', 'Platform', 'Racing', 'Role-Playing', 'Puzzle', 'Misc',\n",
       "       'Shooter', 'Simulation', 'Action', 'Fighting', 'Adventure',\n",
       "       'Strategy'], dtype=object)"
      ]
     },
     "execution_count": 18,
     "metadata": {},
     "output_type": "execute_result"
    }
   ],
   "source": [
    "games.genre.unique()"
   ]
  },
  {
   "cell_type": "markdown",
   "metadata": {},
   "source": [
    "Дубликатов нет."
   ]
  },
  {
   "cell_type": "code",
   "execution_count": 19,
   "metadata": {},
   "outputs": [
    {
     "data": {
      "text/plain": [
       "array(['Wii', 'NES', 'GB', 'DS', 'X360', 'PS3', 'PS2', 'SNES', 'GBA',\n",
       "       'PS4', '3DS', 'N64', 'PS', 'XB', 'PC', '2600', 'PSP', 'XOne',\n",
       "       'WiiU', 'GC', 'GEN', 'DC', 'PSV', 'SAT', 'SCD', 'WS', 'NG', 'TG16',\n",
       "       '3DO', 'GG', 'PCFX'], dtype=object)"
      ]
     },
     "execution_count": 19,
     "metadata": {},
     "output_type": "execute_result"
    }
   ],
   "source": [
    "games.platform.unique()"
   ]
  },
  {
   "cell_type": "markdown",
   "metadata": {},
   "source": [
    "Дубликатов нет. "
   ]
  },
  {
   "cell_type": "code",
   "execution_count": 20,
   "metadata": {},
   "outputs": [
    {
     "data": {
      "text/plain": [
       "11426"
      ]
     },
     "execution_count": 20,
     "metadata": {},
     "output_type": "execute_result"
    }
   ],
   "source": [
    "games.name.nunique()"
   ]
  },
  {
   "cell_type": "markdown",
   "metadata": {},
   "source": [
    "Уникальных названий игр меньше, чем записей в датафрейме. Возможно это связано с тем, что некоторые игры выходят сразу на несколько платформ. "
   ]
  },
  {
   "cell_type": "code",
   "execution_count": 21,
   "metadata": {},
   "outputs": [
    {
     "data": {
      "text/html": [
       "<div>\n",
       "<style scoped>\n",
       "    .dataframe tbody tr th:only-of-type {\n",
       "        vertical-align: middle;\n",
       "    }\n",
       "\n",
       "    .dataframe tbody tr th {\n",
       "        vertical-align: top;\n",
       "    }\n",
       "\n",
       "    .dataframe thead th {\n",
       "        text-align: right;\n",
       "    }\n",
       "</style>\n",
       "<table border=\"1\" class=\"dataframe\">\n",
       "  <thead>\n",
       "    <tr style=\"text-align: right;\">\n",
       "      <th></th>\n",
       "      <th></th>\n",
       "      <th>genre</th>\n",
       "    </tr>\n",
       "    <tr>\n",
       "      <th>name</th>\n",
       "      <th>platform</th>\n",
       "      <th></th>\n",
       "    </tr>\n",
       "  </thead>\n",
       "  <tbody>\n",
       "    <tr>\n",
       "      <th rowspan=\"2\" valign=\"top\">Need for Speed: Most Wanted</th>\n",
       "      <th>X360</th>\n",
       "      <td>2</td>\n",
       "    </tr>\n",
       "    <tr>\n",
       "      <th>PC</th>\n",
       "      <td>2</td>\n",
       "    </tr>\n",
       "    <tr>\n",
       "      <th>Madden NFL 13</th>\n",
       "      <th>PS3</th>\n",
       "      <td>2</td>\n",
       "    </tr>\n",
       "    <tr>\n",
       "      <th>Rascal</th>\n",
       "      <th>PS</th>\n",
       "      <td>1</td>\n",
       "    </tr>\n",
       "    <tr>\n",
       "      <th rowspan=\"3\" valign=\"top\">Ratatouille</th>\n",
       "      <th>GC</th>\n",
       "      <td>1</td>\n",
       "    </tr>\n",
       "    <tr>\n",
       "      <th>GBA</th>\n",
       "      <td>1</td>\n",
       "    </tr>\n",
       "    <tr>\n",
       "      <th>DS</th>\n",
       "      <td>1</td>\n",
       "    </tr>\n",
       "    <tr>\n",
       "      <th rowspan=\"2\" valign=\"top\">Rat Attack!</th>\n",
       "      <th>PS</th>\n",
       "      <td>1</td>\n",
       "    </tr>\n",
       "    <tr>\n",
       "      <th>N64</th>\n",
       "      <td>1</td>\n",
       "    </tr>\n",
       "    <tr>\n",
       "      <th>Beyblade Burst</th>\n",
       "      <th>3DS</th>\n",
       "      <td>1</td>\n",
       "    </tr>\n",
       "  </tbody>\n",
       "</table>\n",
       "</div>"
      ],
      "text/plain": [
       "                                      genre\n",
       "name                        platform       \n",
       "Need for Speed: Most Wanted X360          2\n",
       "                            PC            2\n",
       "Madden NFL 13               PS3           2\n",
       "Rascal                      PS            1\n",
       "Ratatouille                 GC            1\n",
       "                            GBA           1\n",
       "                            DS            1\n",
       "Rat Attack!                 PS            1\n",
       "                            N64           1\n",
       " Beyblade Burst             3DS           1"
      ]
     },
     "execution_count": 21,
     "metadata": {},
     "output_type": "execute_result"
    }
   ],
   "source": [
    "(\n",
    "games\n",
    "    .pivot_table(index=['name', 'platform'], values='genre', aggfunc = 'count')\n",
    "    .sort_values('genre', ascending=False)\n",
    "    .head(10)\n",
    ")"
   ]
  },
  {
   "cell_type": "code",
   "execution_count": 22,
   "metadata": {},
   "outputs": [
    {
     "data": {
      "text/html": [
       "<div>\n",
       "<style scoped>\n",
       "    .dataframe tbody tr th:only-of-type {\n",
       "        vertical-align: middle;\n",
       "    }\n",
       "\n",
       "    .dataframe tbody tr th {\n",
       "        vertical-align: top;\n",
       "    }\n",
       "\n",
       "    .dataframe thead th {\n",
       "        text-align: right;\n",
       "    }\n",
       "</style>\n",
       "<table border=\"1\" class=\"dataframe\">\n",
       "  <thead>\n",
       "    <tr style=\"text-align: right;\">\n",
       "      <th></th>\n",
       "      <th>platform</th>\n",
       "    </tr>\n",
       "    <tr>\n",
       "      <th>name</th>\n",
       "      <th></th>\n",
       "    </tr>\n",
       "  </thead>\n",
       "  <tbody>\n",
       "    <tr>\n",
       "      <th>Need for Speed: Most Wanted</th>\n",
       "      <td>12</td>\n",
       "    </tr>\n",
       "    <tr>\n",
       "      <th>FIFA 14</th>\n",
       "      <td>9</td>\n",
       "    </tr>\n",
       "    <tr>\n",
       "      <th>Ratatouille</th>\n",
       "      <td>9</td>\n",
       "    </tr>\n",
       "    <tr>\n",
       "      <th>LEGO Marvel Super Heroes</th>\n",
       "      <td>9</td>\n",
       "    </tr>\n",
       "    <tr>\n",
       "      <th>Cars</th>\n",
       "      <td>8</td>\n",
       "    </tr>\n",
       "    <tr>\n",
       "      <th>LEGO Jurassic World</th>\n",
       "      <td>8</td>\n",
       "    </tr>\n",
       "    <tr>\n",
       "      <th>Madden NFL 07</th>\n",
       "      <td>8</td>\n",
       "    </tr>\n",
       "    <tr>\n",
       "      <th>LEGO The Hobbit</th>\n",
       "      <td>8</td>\n",
       "    </tr>\n",
       "    <tr>\n",
       "      <th>Monopoly</th>\n",
       "      <td>8</td>\n",
       "    </tr>\n",
       "    <tr>\n",
       "      <th>FIFA 15</th>\n",
       "      <td>8</td>\n",
       "    </tr>\n",
       "  </tbody>\n",
       "</table>\n",
       "</div>"
      ],
      "text/plain": [
       "                             platform\n",
       "name                                 \n",
       "Need for Speed: Most Wanted        12\n",
       "FIFA 14                             9\n",
       "Ratatouille                         9\n",
       "LEGO Marvel Super Heroes            9\n",
       "Cars                                8\n",
       "LEGO Jurassic World                 8\n",
       "Madden NFL 07                       8\n",
       "LEGO The Hobbit                     8\n",
       "Monopoly                            8\n",
       "FIFA 15                             8"
      ]
     },
     "execution_count": 22,
     "metadata": {},
     "output_type": "execute_result"
    }
   ],
   "source": [
    "(\n",
    "games\n",
    "    .pivot_table(index=['name'], values='platform', aggfunc = 'count')\n",
    "    .sort_values('platform', ascending=False)\n",
    "    .head(10)\n",
    ")"
   ]
  },
  {
   "cell_type": "markdown",
   "metadata": {},
   "source": [
    "Мы видим, что многие игры действительно выходят на нескольких плотформах. Однако у нас есть 2 случая, где игра выходила по 2 раза на одной платформе. Проверим эти строки. "
   ]
  },
  {
   "cell_type": "markdown",
   "metadata": {},
   "source": [
    "<b> Need for Speed: Most Wanted </b>"
   ]
  },
  {
   "cell_type": "code",
   "execution_count": 23,
   "metadata": {},
   "outputs": [
    {
     "data": {
      "text/html": [
       "<div>\n",
       "<style scoped>\n",
       "    .dataframe tbody tr th:only-of-type {\n",
       "        vertical-align: middle;\n",
       "    }\n",
       "\n",
       "    .dataframe tbody tr th {\n",
       "        vertical-align: top;\n",
       "    }\n",
       "\n",
       "    .dataframe thead th {\n",
       "        text-align: right;\n",
       "    }\n",
       "</style>\n",
       "<table border=\"1\" class=\"dataframe\">\n",
       "  <thead>\n",
       "    <tr style=\"text-align: right;\">\n",
       "      <th></th>\n",
       "      <th>name</th>\n",
       "      <th>platform</th>\n",
       "      <th>year_of_release</th>\n",
       "      <th>genre</th>\n",
       "      <th>na_sales</th>\n",
       "      <th>eu_sales</th>\n",
       "      <th>jp_sales</th>\n",
       "      <th>other_sales</th>\n",
       "      <th>critic_score</th>\n",
       "      <th>user_score</th>\n",
       "      <th>rating</th>\n",
       "      <th>revenue</th>\n",
       "    </tr>\n",
       "  </thead>\n",
       "  <tbody>\n",
       "    <tr>\n",
       "      <th>253</th>\n",
       "      <td>Need for Speed: Most Wanted</td>\n",
       "      <td>PS2</td>\n",
       "      <td>2005</td>\n",
       "      <td>Racing</td>\n",
       "      <td>2.03</td>\n",
       "      <td>1.79</td>\n",
       "      <td>0.08</td>\n",
       "      <td>0.47</td>\n",
       "      <td>82.0</td>\n",
       "      <td>9.1</td>\n",
       "      <td>T</td>\n",
       "      <td>4.37</td>\n",
       "    </tr>\n",
       "    <tr>\n",
       "      <th>523</th>\n",
       "      <td>Need for Speed: Most Wanted</td>\n",
       "      <td>PS3</td>\n",
       "      <td>2012</td>\n",
       "      <td>Racing</td>\n",
       "      <td>0.71</td>\n",
       "      <td>1.46</td>\n",
       "      <td>0.06</td>\n",
       "      <td>0.58</td>\n",
       "      <td>NaN</td>\n",
       "      <td>NaN</td>\n",
       "      <td>undefined</td>\n",
       "      <td>2.81</td>\n",
       "    </tr>\n",
       "    <tr>\n",
       "      <th>1190</th>\n",
       "      <td>Need for Speed: Most Wanted</td>\n",
       "      <td>X360</td>\n",
       "      <td>2012</td>\n",
       "      <td>Racing</td>\n",
       "      <td>0.62</td>\n",
       "      <td>0.78</td>\n",
       "      <td>0.01</td>\n",
       "      <td>0.15</td>\n",
       "      <td>83.0</td>\n",
       "      <td>8.5</td>\n",
       "      <td>T</td>\n",
       "      <td>1.56</td>\n",
       "    </tr>\n",
       "    <tr>\n",
       "      <th>1591</th>\n",
       "      <td>Need for Speed: Most Wanted</td>\n",
       "      <td>X360</td>\n",
       "      <td>2005</td>\n",
       "      <td>Racing</td>\n",
       "      <td>1.00</td>\n",
       "      <td>0.13</td>\n",
       "      <td>0.02</td>\n",
       "      <td>0.10</td>\n",
       "      <td>83.0</td>\n",
       "      <td>8.5</td>\n",
       "      <td>T</td>\n",
       "      <td>1.25</td>\n",
       "    </tr>\n",
       "    <tr>\n",
       "      <th>1998</th>\n",
       "      <td>Need for Speed: Most Wanted</td>\n",
       "      <td>XB</td>\n",
       "      <td>2005</td>\n",
       "      <td>Racing</td>\n",
       "      <td>0.53</td>\n",
       "      <td>0.46</td>\n",
       "      <td>0.00</td>\n",
       "      <td>0.05</td>\n",
       "      <td>83.0</td>\n",
       "      <td>8.8</td>\n",
       "      <td>T</td>\n",
       "      <td>1.04</td>\n",
       "    </tr>\n",
       "    <tr>\n",
       "      <th>2048</th>\n",
       "      <td>Need for Speed: Most Wanted</td>\n",
       "      <td>PSV</td>\n",
       "      <td>2012</td>\n",
       "      <td>Racing</td>\n",
       "      <td>0.33</td>\n",
       "      <td>0.45</td>\n",
       "      <td>0.01</td>\n",
       "      <td>0.22</td>\n",
       "      <td>NaN</td>\n",
       "      <td>NaN</td>\n",
       "      <td>undefined</td>\n",
       "      <td>1.01</td>\n",
       "    </tr>\n",
       "    <tr>\n",
       "      <th>3581</th>\n",
       "      <td>Need for Speed: Most Wanted</td>\n",
       "      <td>GC</td>\n",
       "      <td>2005</td>\n",
       "      <td>Racing</td>\n",
       "      <td>0.43</td>\n",
       "      <td>0.11</td>\n",
       "      <td>0.00</td>\n",
       "      <td>0.02</td>\n",
       "      <td>80.0</td>\n",
       "      <td>9.1</td>\n",
       "      <td>T</td>\n",
       "      <td>0.56</td>\n",
       "    </tr>\n",
       "    <tr>\n",
       "      <th>5972</th>\n",
       "      <td>Need for Speed: Most Wanted</td>\n",
       "      <td>PC</td>\n",
       "      <td>2005</td>\n",
       "      <td>Racing</td>\n",
       "      <td>0.02</td>\n",
       "      <td>0.23</td>\n",
       "      <td>0.00</td>\n",
       "      <td>0.04</td>\n",
       "      <td>82.0</td>\n",
       "      <td>8.5</td>\n",
       "      <td>T</td>\n",
       "      <td>0.29</td>\n",
       "    </tr>\n",
       "    <tr>\n",
       "      <th>6273</th>\n",
       "      <td>Need for Speed: Most Wanted</td>\n",
       "      <td>WiiU</td>\n",
       "      <td>2013</td>\n",
       "      <td>Racing</td>\n",
       "      <td>0.13</td>\n",
       "      <td>0.12</td>\n",
       "      <td>0.00</td>\n",
       "      <td>0.02</td>\n",
       "      <td>NaN</td>\n",
       "      <td>NaN</td>\n",
       "      <td>undefined</td>\n",
       "      <td>0.27</td>\n",
       "    </tr>\n",
       "    <tr>\n",
       "      <th>6410</th>\n",
       "      <td>Need for Speed: Most Wanted</td>\n",
       "      <td>DS</td>\n",
       "      <td>2005</td>\n",
       "      <td>Racing</td>\n",
       "      <td>0.24</td>\n",
       "      <td>0.01</td>\n",
       "      <td>0.00</td>\n",
       "      <td>0.02</td>\n",
       "      <td>45.0</td>\n",
       "      <td>6.1</td>\n",
       "      <td>E</td>\n",
       "      <td>0.27</td>\n",
       "    </tr>\n",
       "    <tr>\n",
       "      <th>6473</th>\n",
       "      <td>Need for Speed: Most Wanted</td>\n",
       "      <td>GBA</td>\n",
       "      <td>2005</td>\n",
       "      <td>Racing</td>\n",
       "      <td>0.19</td>\n",
       "      <td>0.07</td>\n",
       "      <td>0.00</td>\n",
       "      <td>0.00</td>\n",
       "      <td>NaN</td>\n",
       "      <td>8.3</td>\n",
       "      <td>E</td>\n",
       "      <td>0.26</td>\n",
       "    </tr>\n",
       "    <tr>\n",
       "      <th>11715</th>\n",
       "      <td>Need for Speed: Most Wanted</td>\n",
       "      <td>PC</td>\n",
       "      <td>2012</td>\n",
       "      <td>Racing</td>\n",
       "      <td>0.00</td>\n",
       "      <td>0.06</td>\n",
       "      <td>0.00</td>\n",
       "      <td>0.02</td>\n",
       "      <td>82.0</td>\n",
       "      <td>8.5</td>\n",
       "      <td>T</td>\n",
       "      <td>0.08</td>\n",
       "    </tr>\n",
       "  </tbody>\n",
       "</table>\n",
       "</div>"
      ],
      "text/plain": [
       "                              name platform  year_of_release   genre  \\\n",
       "253    Need for Speed: Most Wanted      PS2             2005  Racing   \n",
       "523    Need for Speed: Most Wanted      PS3             2012  Racing   \n",
       "1190   Need for Speed: Most Wanted     X360             2012  Racing   \n",
       "1591   Need for Speed: Most Wanted     X360             2005  Racing   \n",
       "1998   Need for Speed: Most Wanted       XB             2005  Racing   \n",
       "2048   Need for Speed: Most Wanted      PSV             2012  Racing   \n",
       "3581   Need for Speed: Most Wanted       GC             2005  Racing   \n",
       "5972   Need for Speed: Most Wanted       PC             2005  Racing   \n",
       "6273   Need for Speed: Most Wanted     WiiU             2013  Racing   \n",
       "6410   Need for Speed: Most Wanted       DS             2005  Racing   \n",
       "6473   Need for Speed: Most Wanted      GBA             2005  Racing   \n",
       "11715  Need for Speed: Most Wanted       PC             2012  Racing   \n",
       "\n",
       "       na_sales  eu_sales  jp_sales  other_sales  critic_score  user_score  \\\n",
       "253        2.03      1.79      0.08         0.47          82.0         9.1   \n",
       "523        0.71      1.46      0.06         0.58           NaN         NaN   \n",
       "1190       0.62      0.78      0.01         0.15          83.0         8.5   \n",
       "1591       1.00      0.13      0.02         0.10          83.0         8.5   \n",
       "1998       0.53      0.46      0.00         0.05          83.0         8.8   \n",
       "2048       0.33      0.45      0.01         0.22           NaN         NaN   \n",
       "3581       0.43      0.11      0.00         0.02          80.0         9.1   \n",
       "5972       0.02      0.23      0.00         0.04          82.0         8.5   \n",
       "6273       0.13      0.12      0.00         0.02           NaN         NaN   \n",
       "6410       0.24      0.01      0.00         0.02          45.0         6.1   \n",
       "6473       0.19      0.07      0.00         0.00           NaN         8.3   \n",
       "11715      0.00      0.06      0.00         0.02          82.0         8.5   \n",
       "\n",
       "          rating  revenue  \n",
       "253            T     4.37  \n",
       "523    undefined     2.81  \n",
       "1190           T     1.56  \n",
       "1591           T     1.25  \n",
       "1998           T     1.04  \n",
       "2048   undefined     1.01  \n",
       "3581           T     0.56  \n",
       "5972           T     0.29  \n",
       "6273   undefined     0.27  \n",
       "6410           E     0.27  \n",
       "6473           E     0.26  \n",
       "11715          T     0.08  "
      ]
     },
     "execution_count": 23,
     "metadata": {},
     "output_type": "execute_result"
    }
   ],
   "source": [
    "games[(games['name']=='Need for Speed: Most Wanted')]"
   ]
  },
  {
   "cell_type": "markdown",
   "metadata": {},
   "source": [
    "Строки не являются дубликатами, т.к. в 2005 и 20012 году выходили игры с одинаковыми названиями."
   ]
  },
  {
   "cell_type": "markdown",
   "metadata": {},
   "source": [
    "<b> Madden NFL 13 </b>"
   ]
  },
  {
   "cell_type": "code",
   "execution_count": 24,
   "metadata": {},
   "outputs": [
    {
     "data": {
      "text/html": [
       "<div>\n",
       "<style scoped>\n",
       "    .dataframe tbody tr th:only-of-type {\n",
       "        vertical-align: middle;\n",
       "    }\n",
       "\n",
       "    .dataframe tbody tr th {\n",
       "        vertical-align: top;\n",
       "    }\n",
       "\n",
       "    .dataframe thead th {\n",
       "        text-align: right;\n",
       "    }\n",
       "</style>\n",
       "<table border=\"1\" class=\"dataframe\">\n",
       "  <thead>\n",
       "    <tr style=\"text-align: right;\">\n",
       "      <th></th>\n",
       "      <th>name</th>\n",
       "      <th>platform</th>\n",
       "      <th>year_of_release</th>\n",
       "      <th>genre</th>\n",
       "      <th>na_sales</th>\n",
       "      <th>eu_sales</th>\n",
       "      <th>jp_sales</th>\n",
       "      <th>other_sales</th>\n",
       "      <th>critic_score</th>\n",
       "      <th>user_score</th>\n",
       "      <th>rating</th>\n",
       "      <th>revenue</th>\n",
       "    </tr>\n",
       "  </thead>\n",
       "  <tbody>\n",
       "    <tr>\n",
       "      <th>604</th>\n",
       "      <td>Madden NFL 13</td>\n",
       "      <td>PS3</td>\n",
       "      <td>2012</td>\n",
       "      <td>Sports</td>\n",
       "      <td>2.11</td>\n",
       "      <td>0.22</td>\n",
       "      <td>0.0</td>\n",
       "      <td>0.23</td>\n",
       "      <td>83.0</td>\n",
       "      <td>5.5</td>\n",
       "      <td>E</td>\n",
       "      <td>2.56</td>\n",
       "    </tr>\n",
       "    <tr>\n",
       "      <th>16230</th>\n",
       "      <td>Madden NFL 13</td>\n",
       "      <td>PS3</td>\n",
       "      <td>2012</td>\n",
       "      <td>Sports</td>\n",
       "      <td>0.00</td>\n",
       "      <td>0.01</td>\n",
       "      <td>0.0</td>\n",
       "      <td>0.00</td>\n",
       "      <td>83.0</td>\n",
       "      <td>5.5</td>\n",
       "      <td>E</td>\n",
       "      <td>0.01</td>\n",
       "    </tr>\n",
       "  </tbody>\n",
       "</table>\n",
       "</div>"
      ],
      "text/plain": [
       "                name platform  year_of_release   genre  na_sales  eu_sales  \\\n",
       "604    Madden NFL 13      PS3             2012  Sports      2.11      0.22   \n",
       "16230  Madden NFL 13      PS3             2012  Sports      0.00      0.01   \n",
       "\n",
       "       jp_sales  other_sales  critic_score  user_score rating  revenue  \n",
       "604         0.0         0.23          83.0         5.5      E     2.56  \n",
       "16230       0.0         0.00          83.0         5.5      E     0.01  "
      ]
     },
     "execution_count": 24,
     "metadata": {},
     "output_type": "execute_result"
    }
   ],
   "source": [
    "games[(games['name']=='Madden NFL 13')&(games['platform']=='PS3')]"
   ]
  },
  {
   "cell_type": "markdown",
   "metadata": {},
   "source": [
    "\n",
    "\n",
    "Здесь же скорее всего мы имем дело с дубликатом. Все данные совпадают. В дубликате выручка по всем регионам нулевая, кроме Европейского Союза. Удалим дубликат. "
   ]
  },
  {
   "cell_type": "code",
   "execution_count": 25,
   "metadata": {},
   "outputs": [],
   "source": [
    "games = games.drop(16230, axis=0)"
   ]
  },
  {
   "cell_type": "code",
   "execution_count": 26,
   "metadata": {},
   "outputs": [],
   "source": [
    "games.loc[(games['name']=='Madden NFL 13')&(games['platform']=='PS3'), 'eu_sales']=0.23"
   ]
  },
  {
   "cell_type": "markdown",
   "metadata": {},
   "source": [
    "Удалили дубликат, сложили сумму продаж в Европе. \n",
    "\n",
    "Данные готовы к анализу."
   ]
  },
  {
   "cell_type": "markdown",
   "metadata": {},
   "source": [
    "# Анализ данных"
   ]
  },
  {
   "cell_type": "markdown",
   "metadata": {},
   "source": [
    "### Сколько игр выпускалось в разные годы"
   ]
  },
  {
   "cell_type": "code",
   "execution_count": 27,
   "metadata": {},
   "outputs": [
    {
     "data": {
      "text/html": [
       "<div>\n",
       "<style scoped>\n",
       "    .dataframe tbody tr th:only-of-type {\n",
       "        vertical-align: middle;\n",
       "    }\n",
       "\n",
       "    .dataframe tbody tr th {\n",
       "        vertical-align: top;\n",
       "    }\n",
       "\n",
       "    .dataframe thead th {\n",
       "        text-align: right;\n",
       "    }\n",
       "</style>\n",
       "<table border=\"1\" class=\"dataframe\">\n",
       "  <thead>\n",
       "    <tr style=\"text-align: right;\">\n",
       "      <th></th>\n",
       "      <th>genre</th>\n",
       "      <th>revenue</th>\n",
       "    </tr>\n",
       "    <tr>\n",
       "      <th>year_of_release</th>\n",
       "      <th></th>\n",
       "      <th></th>\n",
       "    </tr>\n",
       "  </thead>\n",
       "  <tbody>\n",
       "    <tr>\n",
       "      <th>1980</th>\n",
       "      <td>9</td>\n",
       "      <td>11.38</td>\n",
       "    </tr>\n",
       "    <tr>\n",
       "      <th>1981</th>\n",
       "      <td>46</td>\n",
       "      <td>35.68</td>\n",
       "    </tr>\n",
       "    <tr>\n",
       "      <th>1982</th>\n",
       "      <td>36</td>\n",
       "      <td>28.88</td>\n",
       "    </tr>\n",
       "    <tr>\n",
       "      <th>1983</th>\n",
       "      <td>17</td>\n",
       "      <td>16.80</td>\n",
       "    </tr>\n",
       "    <tr>\n",
       "      <th>1984</th>\n",
       "      <td>14</td>\n",
       "      <td>50.35</td>\n",
       "    </tr>\n",
       "  </tbody>\n",
       "</table>\n",
       "</div>"
      ],
      "text/plain": [
       "                 genre  revenue\n",
       "year_of_release                \n",
       "1980                 9    11.38\n",
       "1981                46    35.68\n",
       "1982                36    28.88\n",
       "1983                17    16.80\n",
       "1984                14    50.35"
      ]
     },
     "execution_count": 27,
     "metadata": {},
     "output_type": "execute_result"
    }
   ],
   "source": [
    "games.pivot_table(index=\"year_of_release\", values =['genre','revenue'], aggfunc = {'genre':'count', 'revenue':'sum'}).head()"
   ]
  },
  {
   "cell_type": "code",
   "execution_count": 28,
   "metadata": {},
   "outputs": [
    {
     "name": "stdout",
     "output_type": "stream",
     "text": [
      "<class 'pandas.core.frame.DataFrame'>\n",
      "Int64Index: 705 entries, 1 to 16666\n",
      "Data columns (total 12 columns):\n",
      " #   Column           Non-Null Count  Dtype  \n",
      "---  ------           --------------  -----  \n",
      " 0   name             705 non-null    object \n",
      " 1   platform         705 non-null    object \n",
      " 2   year_of_release  705 non-null    Int64  \n",
      " 3   genre            705 non-null    object \n",
      " 4   na_sales         705 non-null    float64\n",
      " 5   eu_sales         705 non-null    float64\n",
      " 6   jp_sales         705 non-null    float64\n",
      " 7   other_sales      705 non-null    float64\n",
      " 8   critic_score     4 non-null      float64\n",
      " 9   user_score       4 non-null      float64\n",
      " 10  rating           705 non-null    object \n",
      " 11  revenue          705 non-null    float64\n",
      "dtypes: Int64(1), float64(7), object(4)\n",
      "memory usage: 72.3+ KB\n"
     ]
    }
   ],
   "source": [
    "(\n",
    "    games[games['year_of_release']\n",
    "          .isin([1980,1981,1982,1983,1984,1985,1986,1987,1988,1989,\n",
    "                 1990,1991,1992,1993,1994,1995])]\n",
    "            .info()\n",
    ")"
   ]
  },
  {
   "cell_type": "code",
   "execution_count": 29,
   "metadata": {},
   "outputs": [
    {
     "data": {
      "text/plain": [
       "<AxesSubplot:xlabel='year_of_release'>"
      ]
     },
     "execution_count": 29,
     "metadata": {},
     "output_type": "execute_result"
    },
    {
     "data": {
      "image/png": "[encoded data removed]",
      "text/plain": [
       "<Figure size 720x504 with 1 Axes>"
      ]
     },
     "metadata": {
      "needs_background": "light"
     },
     "output_type": "display_data"
    }
   ],
   "source": [
    "games.pivot_table(index='year_of_release', values ='name', aggfunc='count').plot(kind='bar', figsize=(10,7))"
   ]
  },
  {
   "cell_type": "markdown",
   "metadata": {},
   "source": [
    "С 1980 по 1993 года видеоигр выходило значительно меньше, чем в последующие периоды. Эта сфера тогда только зарождалась. К тому же у нас практически нет оценок пользователей и критиков за этот период, что делает анализ этого периода бесполезным. К нему можно ещё добавить 1994 и 1995 года, т.к. по ним мы имеем тоже мало оценок. \n",
    "\n",
    "Уберем 2016 год, т.к. скорее всего по нему собраны ещё не все данные. В будущем это может повлиять на статистику, если мы будем иметь оценку видеоигры, но продажи будут учтены не за весь год. "
   ]
  },
  {
   "cell_type": "code",
   "execution_count": 30,
   "metadata": {},
   "outputs": [],
   "source": [
    "games_split=(games[games['year_of_release']\n",
    "                  .isin(list(range(2013,2017)))]\n",
    ")"
   ]
  },
  {
   "cell_type": "code",
   "execution_count": 31,
   "metadata": {},
   "outputs": [
    {
     "data": {
      "text/plain": [
       "count    2233.000000\n",
       "mean     2014.477385\n",
       "std         1.089439\n",
       "min      2013.000000\n",
       "25%      2014.000000\n",
       "50%      2014.000000\n",
       "75%      2015.000000\n",
       "max      2016.000000\n",
       "Name: year_of_release, dtype: float64"
      ]
     },
     "execution_count": 31,
     "metadata": {},
     "output_type": "execute_result"
    }
   ],
   "source": [
    "# КОД РЕВЬЮВЕРА\n",
    "\n",
    "games_split.year_of_release.describe()"
   ]
  },
  {
   "cell_type": "markdown",
   "metadata": {},
   "source": [
    "<h4> Посчитаем количество игр, выходивших на каждой платформе по годам</h4>"
   ]
  },
  {
   "cell_type": "code",
   "execution_count": 32,
   "metadata": {},
   "outputs": [
    {
     "data": {
      "text/html": [
       "<div>\n",
       "<style scoped>\n",
       "    .dataframe tbody tr th:only-of-type {\n",
       "        vertical-align: middle;\n",
       "    }\n",
       "\n",
       "    .dataframe tbody tr th {\n",
       "        vertical-align: top;\n",
       "    }\n",
       "\n",
       "    .dataframe thead tr th {\n",
       "        text-align: left;\n",
       "    }\n",
       "\n",
       "    .dataframe thead tr:last-of-type th {\n",
       "        text-align: right;\n",
       "    }\n",
       "</style>\n",
       "<table border=\"1\" class=\"dataframe\">\n",
       "  <thead>\n",
       "    <tr>\n",
       "      <th></th>\n",
       "      <th colspan=\"11\" halign=\"left\">count</th>\n",
       "    </tr>\n",
       "    <tr>\n",
       "      <th></th>\n",
       "      <th colspan=\"11\" halign=\"left\">revenue</th>\n",
       "    </tr>\n",
       "    <tr>\n",
       "      <th>platform</th>\n",
       "      <th>3DS</th>\n",
       "      <th>DS</th>\n",
       "      <th>PC</th>\n",
       "      <th>PS3</th>\n",
       "      <th>PS4</th>\n",
       "      <th>PSP</th>\n",
       "      <th>PSV</th>\n",
       "      <th>Wii</th>\n",
       "      <th>WiiU</th>\n",
       "      <th>X360</th>\n",
       "      <th>XOne</th>\n",
       "    </tr>\n",
       "    <tr>\n",
       "      <th>year_of_release</th>\n",
       "      <th></th>\n",
       "      <th></th>\n",
       "      <th></th>\n",
       "      <th></th>\n",
       "      <th></th>\n",
       "      <th></th>\n",
       "      <th></th>\n",
       "      <th></th>\n",
       "      <th></th>\n",
       "      <th></th>\n",
       "      <th></th>\n",
       "    </tr>\n",
       "  </thead>\n",
       "  <tbody>\n",
       "    <tr>\n",
       "      <th>2013</th>\n",
       "      <td>91.0</td>\n",
       "      <td>8.0</td>\n",
       "      <td>38.0</td>\n",
       "      <td>126.0</td>\n",
       "      <td>16.0</td>\n",
       "      <td>54.0</td>\n",
       "      <td>63.0</td>\n",
       "      <td>12.0</td>\n",
       "      <td>42.0</td>\n",
       "      <td>75.0</td>\n",
       "      <td>19.0</td>\n",
       "    </tr>\n",
       "    <tr>\n",
       "      <th>2014</th>\n",
       "      <td>80.0</td>\n",
       "      <td>NaN</td>\n",
       "      <td>47.0</td>\n",
       "      <td>108.0</td>\n",
       "      <td>75.0</td>\n",
       "      <td>10.0</td>\n",
       "      <td>100.0</td>\n",
       "      <td>6.0</td>\n",
       "      <td>31.0</td>\n",
       "      <td>63.0</td>\n",
       "      <td>61.0</td>\n",
       "    </tr>\n",
       "    <tr>\n",
       "      <th>2015</th>\n",
       "      <td>86.0</td>\n",
       "      <td>NaN</td>\n",
       "      <td>50.0</td>\n",
       "      <td>73.0</td>\n",
       "      <td>137.0</td>\n",
       "      <td>3.0</td>\n",
       "      <td>110.0</td>\n",
       "      <td>4.0</td>\n",
       "      <td>28.0</td>\n",
       "      <td>35.0</td>\n",
       "      <td>80.0</td>\n",
       "    </tr>\n",
       "    <tr>\n",
       "      <th>2016</th>\n",
       "      <td>46.0</td>\n",
       "      <td>NaN</td>\n",
       "      <td>54.0</td>\n",
       "      <td>38.0</td>\n",
       "      <td>164.0</td>\n",
       "      <td>NaN</td>\n",
       "      <td>85.0</td>\n",
       "      <td>1.0</td>\n",
       "      <td>14.0</td>\n",
       "      <td>13.0</td>\n",
       "      <td>87.0</td>\n",
       "    </tr>\n",
       "  </tbody>\n",
       "</table>\n",
       "</div>"
      ],
      "text/plain": [
       "                  count                                                    \\\n",
       "                revenue                                                     \n",
       "platform            3DS   DS    PC    PS3    PS4   PSP    PSV   Wii  WiiU   \n",
       "year_of_release                                                             \n",
       "2013               91.0  8.0  38.0  126.0   16.0  54.0   63.0  12.0  42.0   \n",
       "2014               80.0  NaN  47.0  108.0   75.0  10.0  100.0   6.0  31.0   \n",
       "2015               86.0  NaN  50.0   73.0  137.0   3.0  110.0   4.0  28.0   \n",
       "2016               46.0  NaN  54.0   38.0  164.0   NaN   85.0   1.0  14.0   \n",
       "\n",
       "                             \n",
       "                             \n",
       "platform         X360  XOne  \n",
       "year_of_release              \n",
       "2013             75.0  19.0  \n",
       "2014             63.0  61.0  \n",
       "2015             35.0  80.0  \n",
       "2016             13.0  87.0  "
      ]
     },
     "execution_count": 32,
     "metadata": {},
     "output_type": "execute_result"
    }
   ],
   "source": [
    "(\n",
    "    games_split\n",
    "    .pivot_table(index=['year_of_release'],columns='platform', values =['revenue'], aggfunc = ['count'])\n",
    ")"
   ]
  },
  {
   "cell_type": "markdown",
   "metadata": {},
   "source": [
    "#### Топ 15 компаний с самой высокой выручкой с 2013 года"
   ]
  },
  {
   "cell_type": "code",
   "execution_count": 33,
   "metadata": {},
   "outputs": [
    {
     "data": {
      "text/plain": [
       "['PS4', 'PS3', 'XOne', '3DS', 'X360', 'WiiU', 'PC', 'PSV', 'Wii', 'PSP']"
      ]
     },
     "execution_count": 33,
     "metadata": {},
     "output_type": "execute_result"
    }
   ],
   "source": [
    "revenue_data = (\n",
    "    games_split\n",
    "    .pivot_table(index=['platform'], values =['revenue'], aggfunc = ['sum'])\n",
    "    #.reset_index(level ='sum', drop=True)\n",
    ")\n",
    "\n",
    "revenue_data.columns = ['revenue']\n",
    "\n",
    "top_5_list =(\n",
    "    revenue_data\n",
    "    .sort_values('revenue', ascending = False)\n",
    "    .head(10)\n",
    "    .reset_index()\n",
    "    .platform\n",
    "    .tolist()\n",
    ")\n",
    "top_5_list"
   ]
  },
  {
   "cell_type": "markdown",
   "metadata": {},
   "source": [
    "Получили список платформ с самой большой выручкой с 1996 по 2016 года (топ 15 компаний). Посмотрим, как изменялись их продажи по годам). "
   ]
  },
  {
   "cell_type": "code",
   "execution_count": 34,
   "metadata": {},
   "outputs": [
    {
     "data": {
      "image/png": "[encoded data removed]",
      "text/plain": [
       "<Figure size 1440x720 with 1 Axes>"
      ]
     },
     "metadata": {
      "needs_background": "light"
     },
     "output_type": "display_data"
    }
   ],
   "source": [
    "(\n",
    "    games_split[games_split['platform'].isin(top_5_list)]\n",
    "    .pivot_table(index=['year_of_release'],columns='platform', values =['revenue'], aggfunc = ['sum'])\n",
    "    .plot(figsize=(20,10))\n",
    ")\n",
    "plt.show()"
   ]
  },
  {
   "cell_type": "markdown",
   "metadata": {},
   "source": [
    "#### Посчитаем жизненные циклы приставок"
   ]
  },
  {
   "cell_type": "code",
   "execution_count": 35,
   "metadata": {},
   "outputs": [
    {
     "data": {
      "text/html": [
       "<div>\n",
       "<style scoped>\n",
       "    .dataframe tbody tr th:only-of-type {\n",
       "        vertical-align: middle;\n",
       "    }\n",
       "\n",
       "    .dataframe tbody tr th {\n",
       "        vertical-align: top;\n",
       "    }\n",
       "\n",
       "    .dataframe thead th {\n",
       "        text-align: right;\n",
       "    }\n",
       "</style>\n",
       "<table border=\"1\" class=\"dataframe\">\n",
       "  <thead>\n",
       "    <tr style=\"text-align: right;\">\n",
       "      <th></th>\n",
       "      <th>name</th>\n",
       "      <th>platform</th>\n",
       "      <th>year_of_release</th>\n",
       "      <th>genre</th>\n",
       "      <th>na_sales</th>\n",
       "      <th>eu_sales</th>\n",
       "      <th>jp_sales</th>\n",
       "      <th>other_sales</th>\n",
       "      <th>critic_score</th>\n",
       "      <th>user_score</th>\n",
       "      <th>rating</th>\n",
       "      <th>revenue</th>\n",
       "    </tr>\n",
       "  </thead>\n",
       "  <tbody>\n",
       "    <tr>\n",
       "      <th>0</th>\n",
       "      <td>Wii Sports</td>\n",
       "      <td>Wii</td>\n",
       "      <td>2006</td>\n",
       "      <td>Sports</td>\n",
       "      <td>41.36</td>\n",
       "      <td>28.96</td>\n",
       "      <td>3.77</td>\n",
       "      <td>8.45</td>\n",
       "      <td>76.0</td>\n",
       "      <td>8.0</td>\n",
       "      <td>E</td>\n",
       "      <td>82.54</td>\n",
       "    </tr>\n",
       "    <tr>\n",
       "      <th>1</th>\n",
       "      <td>Super Mario Bros.</td>\n",
       "      <td>NES</td>\n",
       "      <td>1985</td>\n",
       "      <td>Platform</td>\n",
       "      <td>29.08</td>\n",
       "      <td>3.58</td>\n",
       "      <td>6.81</td>\n",
       "      <td>0.77</td>\n",
       "      <td>NaN</td>\n",
       "      <td>NaN</td>\n",
       "      <td>undefined</td>\n",
       "      <td>40.24</td>\n",
       "    </tr>\n",
       "    <tr>\n",
       "      <th>2</th>\n",
       "      <td>Mario Kart Wii</td>\n",
       "      <td>Wii</td>\n",
       "      <td>2008</td>\n",
       "      <td>Racing</td>\n",
       "      <td>15.68</td>\n",
       "      <td>12.76</td>\n",
       "      <td>3.79</td>\n",
       "      <td>3.29</td>\n",
       "      <td>82.0</td>\n",
       "      <td>8.3</td>\n",
       "      <td>E</td>\n",
       "      <td>35.52</td>\n",
       "    </tr>\n",
       "    <tr>\n",
       "      <th>3</th>\n",
       "      <td>Wii Sports Resort</td>\n",
       "      <td>Wii</td>\n",
       "      <td>2009</td>\n",
       "      <td>Sports</td>\n",
       "      <td>15.61</td>\n",
       "      <td>10.93</td>\n",
       "      <td>3.28</td>\n",
       "      <td>2.95</td>\n",
       "      <td>80.0</td>\n",
       "      <td>8.0</td>\n",
       "      <td>E</td>\n",
       "      <td>32.77</td>\n",
       "    </tr>\n",
       "    <tr>\n",
       "      <th>4</th>\n",
       "      <td>Pokemon Red/Pokemon Blue</td>\n",
       "      <td>GB</td>\n",
       "      <td>1996</td>\n",
       "      <td>Role-Playing</td>\n",
       "      <td>11.27</td>\n",
       "      <td>8.89</td>\n",
       "      <td>10.22</td>\n",
       "      <td>1.00</td>\n",
       "      <td>NaN</td>\n",
       "      <td>NaN</td>\n",
       "      <td>undefined</td>\n",
       "      <td>31.38</td>\n",
       "    </tr>\n",
       "    <tr>\n",
       "      <th>...</th>\n",
       "      <td>...</td>\n",
       "      <td>...</td>\n",
       "      <td>...</td>\n",
       "      <td>...</td>\n",
       "      <td>...</td>\n",
       "      <td>...</td>\n",
       "      <td>...</td>\n",
       "      <td>...</td>\n",
       "      <td>...</td>\n",
       "      <td>...</td>\n",
       "      <td>...</td>\n",
       "      <td>...</td>\n",
       "    </tr>\n",
       "    <tr>\n",
       "      <th>16710</th>\n",
       "      <td>Samurai Warriors: Sanada Maru</td>\n",
       "      <td>PS3</td>\n",
       "      <td>2016</td>\n",
       "      <td>Action</td>\n",
       "      <td>0.00</td>\n",
       "      <td>0.00</td>\n",
       "      <td>0.01</td>\n",
       "      <td>0.00</td>\n",
       "      <td>NaN</td>\n",
       "      <td>NaN</td>\n",
       "      <td>undefined</td>\n",
       "      <td>0.01</td>\n",
       "    </tr>\n",
       "    <tr>\n",
       "      <th>16711</th>\n",
       "      <td>LMA Manager 2007</td>\n",
       "      <td>X360</td>\n",
       "      <td>2006</td>\n",
       "      <td>Sports</td>\n",
       "      <td>0.00</td>\n",
       "      <td>0.01</td>\n",
       "      <td>0.00</td>\n",
       "      <td>0.00</td>\n",
       "      <td>NaN</td>\n",
       "      <td>NaN</td>\n",
       "      <td>undefined</td>\n",
       "      <td>0.01</td>\n",
       "    </tr>\n",
       "    <tr>\n",
       "      <th>16712</th>\n",
       "      <td>Haitaka no Psychedelica</td>\n",
       "      <td>PSV</td>\n",
       "      <td>2016</td>\n",
       "      <td>Adventure</td>\n",
       "      <td>0.00</td>\n",
       "      <td>0.00</td>\n",
       "      <td>0.01</td>\n",
       "      <td>0.00</td>\n",
       "      <td>NaN</td>\n",
       "      <td>NaN</td>\n",
       "      <td>undefined</td>\n",
       "      <td>0.01</td>\n",
       "    </tr>\n",
       "    <tr>\n",
       "      <th>16713</th>\n",
       "      <td>Spirits &amp; Spells</td>\n",
       "      <td>GBA</td>\n",
       "      <td>2003</td>\n",
       "      <td>Platform</td>\n",
       "      <td>0.01</td>\n",
       "      <td>0.00</td>\n",
       "      <td>0.00</td>\n",
       "      <td>0.00</td>\n",
       "      <td>NaN</td>\n",
       "      <td>NaN</td>\n",
       "      <td>undefined</td>\n",
       "      <td>0.01</td>\n",
       "    </tr>\n",
       "    <tr>\n",
       "      <th>16714</th>\n",
       "      <td>Winning Post 8 2016</td>\n",
       "      <td>PSV</td>\n",
       "      <td>2016</td>\n",
       "      <td>Simulation</td>\n",
       "      <td>0.00</td>\n",
       "      <td>0.00</td>\n",
       "      <td>0.01</td>\n",
       "      <td>0.00</td>\n",
       "      <td>NaN</td>\n",
       "      <td>NaN</td>\n",
       "      <td>undefined</td>\n",
       "      <td>0.01</td>\n",
       "    </tr>\n",
       "  </tbody>\n",
       "</table>\n",
       "<p>16443 rows × 12 columns</p>\n",
       "</div>"
      ],
      "text/plain": [
       "                                name platform  year_of_release         genre  \\\n",
       "0                         Wii Sports      Wii             2006        Sports   \n",
       "1                  Super Mario Bros.      NES             1985      Platform   \n",
       "2                     Mario Kart Wii      Wii             2008        Racing   \n",
       "3                  Wii Sports Resort      Wii             2009        Sports   \n",
       "4           Pokemon Red/Pokemon Blue       GB             1996  Role-Playing   \n",
       "...                              ...      ...              ...           ...   \n",
       "16710  Samurai Warriors: Sanada Maru      PS3             2016        Action   \n",
       "16711               LMA Manager 2007     X360             2006        Sports   \n",
       "16712        Haitaka no Psychedelica      PSV             2016     Adventure   \n",
       "16713               Spirits & Spells      GBA             2003      Platform   \n",
       "16714            Winning Post 8 2016      PSV             2016    Simulation   \n",
       "\n",
       "       na_sales  eu_sales  jp_sales  other_sales  critic_score  user_score  \\\n",
       "0         41.36     28.96      3.77         8.45          76.0         8.0   \n",
       "1         29.08      3.58      6.81         0.77           NaN         NaN   \n",
       "2         15.68     12.76      3.79         3.29          82.0         8.3   \n",
       "3         15.61     10.93      3.28         2.95          80.0         8.0   \n",
       "4         11.27      8.89     10.22         1.00           NaN         NaN   \n",
       "...         ...       ...       ...          ...           ...         ...   \n",
       "16710      0.00      0.00      0.01         0.00           NaN         NaN   \n",
       "16711      0.00      0.01      0.00         0.00           NaN         NaN   \n",
       "16712      0.00      0.00      0.01         0.00           NaN         NaN   \n",
       "16713      0.01      0.00      0.00         0.00           NaN         NaN   \n",
       "16714      0.00      0.00      0.01         0.00           NaN         NaN   \n",
       "\n",
       "          rating  revenue  \n",
       "0              E    82.54  \n",
       "1      undefined    40.24  \n",
       "2              E    35.52  \n",
       "3              E    32.77  \n",
       "4      undefined    31.38  \n",
       "...          ...      ...  \n",
       "16710  undefined     0.01  \n",
       "16711  undefined     0.01  \n",
       "16712  undefined     0.01  \n",
       "16713  undefined     0.01  \n",
       "16714  undefined     0.01  \n",
       "\n",
       "[16443 rows x 12 columns]"
      ]
     },
     "execution_count": 35,
     "metadata": {},
     "output_type": "execute_result"
    }
   ],
   "source": [
    "games"
   ]
  },
  {
   "cell_type": "code",
   "execution_count": 36,
   "metadata": {},
   "outputs": [
    {
     "data": {
      "text/html": [
       "<div>\n",
       "<style scoped>\n",
       "    .dataframe tbody tr th:only-of-type {\n",
       "        vertical-align: middle;\n",
       "    }\n",
       "\n",
       "    .dataframe tbody tr th {\n",
       "        vertical-align: top;\n",
       "    }\n",
       "\n",
       "    .dataframe thead th {\n",
       "        text-align: right;\n",
       "    }\n",
       "</style>\n",
       "<table border=\"1\" class=\"dataframe\">\n",
       "  <thead>\n",
       "    <tr style=\"text-align: right;\">\n",
       "      <th></th>\n",
       "      <th>max</th>\n",
       "      <th>min</th>\n",
       "      <th>amount</th>\n",
       "    </tr>\n",
       "    <tr>\n",
       "      <th>platform</th>\n",
       "      <th></th>\n",
       "      <th></th>\n",
       "      <th></th>\n",
       "    </tr>\n",
       "  </thead>\n",
       "  <tbody>\n",
       "    <tr>\n",
       "      <th>PC</th>\n",
       "      <td>2016</td>\n",
       "      <td>1985</td>\n",
       "      <td>31</td>\n",
       "    </tr>\n",
       "    <tr>\n",
       "      <th>DS</th>\n",
       "      <td>2013</td>\n",
       "      <td>1985</td>\n",
       "      <td>28</td>\n",
       "    </tr>\n",
       "    <tr>\n",
       "      <th>GB</th>\n",
       "      <td>2001</td>\n",
       "      <td>1988</td>\n",
       "      <td>13</td>\n",
       "    </tr>\n",
       "    <tr>\n",
       "      <th>X360</th>\n",
       "      <td>2016</td>\n",
       "      <td>2005</td>\n",
       "      <td>11</td>\n",
       "    </tr>\n",
       "    <tr>\n",
       "      <th>PSP</th>\n",
       "      <td>2015</td>\n",
       "      <td>2004</td>\n",
       "      <td>11</td>\n",
       "    </tr>\n",
       "    <tr>\n",
       "      <th>PS2</th>\n",
       "      <td>2011</td>\n",
       "      <td>2000</td>\n",
       "      <td>11</td>\n",
       "    </tr>\n",
       "    <tr>\n",
       "      <th>NES</th>\n",
       "      <td>1994</td>\n",
       "      <td>1983</td>\n",
       "      <td>11</td>\n",
       "    </tr>\n",
       "    <tr>\n",
       "      <th>DC</th>\n",
       "      <td>2008</td>\n",
       "      <td>1998</td>\n",
       "      <td>10</td>\n",
       "    </tr>\n",
       "    <tr>\n",
       "      <th>Wii</th>\n",
       "      <td>2016</td>\n",
       "      <td>2006</td>\n",
       "      <td>10</td>\n",
       "    </tr>\n",
       "    <tr>\n",
       "      <th>PS3</th>\n",
       "      <td>2016</td>\n",
       "      <td>2006</td>\n",
       "      <td>10</td>\n",
       "    </tr>\n",
       "  </tbody>\n",
       "</table>\n",
       "</div>"
      ],
      "text/plain": [
       "           max   min  amount\n",
       "platform                    \n",
       "PC        2016  1985      31\n",
       "DS        2013  1985      28\n",
       "GB        2001  1988      13\n",
       "X360      2016  2005      11\n",
       "PSP       2015  2004      11\n",
       "PS2       2011  2000      11\n",
       "NES       1994  1983      11\n",
       "DC        2008  1998      10\n",
       "Wii       2016  2006      10\n",
       "PS3       2016  2006      10"
      ]
     },
     "execution_count": 36,
     "metadata": {},
     "output_type": "execute_result"
    }
   ],
   "source": [
    "amount_years = (\n",
    "    games\n",
    "    .pivot_table(index=['platform'], values =['year_of_release'], aggfunc = ['max','min'])\n",
    "    #.plot(figsize=(20,10))\n",
    ")\n",
    "amount_years.columns = ['max','min']\n",
    "amount_years['amount']=amount_years['max']-amount_years['min']\n",
    "amount_years.sort_values('amount', ascending=False).head(10)"
   ]
  },
  {
   "cell_type": "code",
   "execution_count": 37,
   "metadata": {},
   "outputs": [
    {
     "data": {
      "text/plain": [
       "7.612903225806452"
      ]
     },
     "execution_count": 37,
     "metadata": {},
     "output_type": "execute_result"
    }
   ],
   "source": [
    "# КОД РЕВЬЮВЕРА\n",
    "\n",
    "amount_years.sort_values('amount', ascending=False)['amount'].mean()"
   ]
  },
  {
   "cell_type": "markdown",
   "metadata": {},
   "source": [
    "Можем отмеить, что по сравнению с первыми приставками, срок жизни новых увеличивается и достигает более 10 лет. \n",
    "\n",
    "Если смотреть на жизненный цикл приставок в рамках одного разработчика, то можно отметить, что с выходом новой приставки продажи старой не прекращаются. При этом срок выхода новых постепенно увеличивается(от 4 до 6 и 10 лет). Скорее всего это связано с усложнением технологий и подстройкой производителей игр под операционные системы. Чем сложнее новые технологии, тем больше производители игр должны потратить времени на их освоение и подготовку игр, которые смогут полностью раскрыть потенциал консолей. Но также можно отметить и то, что производители консолей улучшают характеристики продукта не только за счет изменения начинки приставки, но и за счёт оптимизации операционной системы, что увеличивает срок её использования. \n",
    "\n",
    "Особое место в этой структуре занимают персональные компьютеры. Несмотря на небольшие продажи от года в год в сравнении игровыми приставками, эта платформа удерживает и немного увеличивает свою долю на рынке каждый год. Это связанно с особенностью PC - пользователи могут сами влиять на его производительность, докупая более современное \"железо\" и обновляя операционную систему. "
   ]
  },
  {
   "cell_type": "markdown",
   "metadata": {},
   "source": [
    "<div class=\"alert alert-block alert-info\">\n",
    "    \n",
    "Исходя из анализа выше мы видим, что наши лидеры по суммарным продажам к 2015 году уже ушли с рынка и их постепенно заменяют новые версии от тех же производителей\n",
    "\n",
    "</div>"
   ]
  },
  {
   "cell_type": "markdown",
   "metadata": {},
   "source": [
    "#### Лидеры рынка на 2016 год"
   ]
  },
  {
   "cell_type": "markdown",
   "metadata": {},
   "source": [
    "Среди лидеров можно выделить PlayStation, Xbox, 3DS, PC.  \n",
    "\n",
    "При этом можно отметить снижение доли Nintendo 3DS. Скорее всего это связано с тем, что пользователям в меньшей степени становятся интересны портативные консоли из-за развития смартфонов, которые начинают поддерживать сложные видеоигры. Об этом свидетельствует и постпенный спад продаж psp. \n",
    "\n",
    "\n",
    "\n",
    "Таким образом, среди потенциально прибыльных платформ можно выделить 3DS, PC, Xbox One, PS4, с упором на 2 последние платформы. "
   ]
  },
  {
   "cell_type": "markdown",
   "metadata": {},
   "source": [
    "#### Ящик с усами"
   ]
  },
  {
   "cell_type": "code",
   "execution_count": 38,
   "metadata": {},
   "outputs": [
    {
     "data": {
      "image/png": "[encoded data removed]",
      "text/plain": [
       "<Figure size 432x288 with 1 Axes>"
      ]
     },
     "metadata": {
      "needs_background": "light"
     },
     "output_type": "display_data"
    },
    {
     "data": {
      "image/png": "[encoded data removed]",
      "text/plain": [
       "<Figure size 432x288 with 1 Axes>"
      ]
     },
     "metadata": {
      "needs_background": "light"
     },
     "output_type": "display_data"
    },
    {
     "data": {
      "image/png": "[encoded data removed]",
      "text/plain": [
       "<Figure size 432x288 with 1 Axes>"
      ]
     },
     "metadata": {
      "needs_background": "light"
     },
     "output_type": "display_data"
    }
   ],
   "source": [
    "top_3 = games_split[games_split['platform'].isin(['PS4','XOne'])]\n",
    "ps4 = games_split[games_split['platform'].isin(['PS4'])]\n",
    "xone = games_split[games_split['platform'].isin(['XOne'])]\n",
    "\n",
    "\n",
    "ax = sns.boxplot(data=top_3, x='platform', y='revenue')\n",
    "ps4.plot(kind='box',y='revenue', ylim= (0,3))\n",
    "plt.title('PS4')\n",
    "xone.plot(kind='box',y='revenue', ylim= (0,3))\n",
    "plt.title('XOne')\n",
    "plt.show()"
   ]
  },
  {
   "cell_type": "markdown",
   "metadata": {},
   "source": [
    "Видим, что среднее, 1 и 3 квантили обоих платформ располагаются примерно на одном уровне(от 0 до 3 млн.). Графики для обоих платформ похожи, однако у PS4 больше выбросов и они сильнее выражены. "
   ]
  },
  {
   "cell_type": "code",
   "execution_count": 39,
   "metadata": {},
   "outputs": [
    {
     "data": {
      "image/png": "[encoded data removed]",
      "text/plain": [
       "<Figure size 432x288 with 1 Axes>"
      ]
     },
     "metadata": {
      "needs_background": "light"
     },
     "output_type": "display_data"
    },
    {
     "data": {
      "image/png": "[encoded data removed]",
      "text/plain": [
       "<Figure size 432x288 with 1 Axes>"
      ]
     },
     "metadata": {
      "needs_background": "light"
     },
     "output_type": "display_data"
    },
    {
     "data": {
      "image/png": "[encoded data removed]",
      "text/plain": [
       "<Figure size 432x288 with 1 Axes>"
      ]
     },
     "metadata": {
      "needs_background": "light"
     },
     "output_type": "display_data"
    }
   ],
   "source": [
    "top_4 = games_split[games_split['platform'].isin(['PC','3DS'])]\n",
    "PC = games_split[games_split['platform'].isin(['PC'])]\n",
    "DS = games_split[games_split['platform'].isin(['3DS'])]\n",
    "\n",
    "\n",
    "ax2 = sns.boxplot(data=top_4, x='platform', y='revenue')\n",
    "PC.plot(kind='box',y='revenue', ylim= (0,0.7))\n",
    "plt.title('PC')\n",
    "DS.plot(kind='box',y='revenue', ylim= (0,0.7))\n",
    "plt.title('3DS')\n",
    "plt.show()"
   ]
  },
  {
   "cell_type": "markdown",
   "metadata": {},
   "source": [
    "<div class=\"alert alert-block alert-info\">\n",
    "Выручка по PC и 3DS находятся примерно на равном уровне. При этом обе платформы уступают PS4 и XOne.\n",
    "</div>"
   ]
  },
  {
   "cell_type": "markdown",
   "metadata": {},
   "source": [
    "#### Влияние отзывов на продажи"
   ]
  },
  {
   "cell_type": "markdown",
   "metadata": {},
   "source": [
    "Создадим функцию для построение диаграмм рассеивания. "
   ]
  },
  {
   "cell_type": "code",
   "execution_count": 40,
   "metadata": {},
   "outputs": [],
   "source": [
    "def corr_info(data):\n",
    "    data.plot(kind='scatter',y='revenue',x='critic_score', alpha=0.7)\n",
    "    plt.title('Корреляция продаж игр и отзывов критиков')\n",
    "    plt.show()\n",
    "    print('Влияние отзывов критиков:',data['revenue'].corr(data['critic_score']))\n",
    "    print()\n",
    "    print()\n",
    "\n",
    "    data.plot(kind='scatter',y='revenue',x='user_score', alpha=0.7)\n",
    "    plt.title('Корреляция продаж игр и отзывов пользователей')\n",
    "    plt.show()\n",
    "    print('Влияние отзывов пользователей:',data['revenue'].corr(data['user_score']))\n",
    "    print()\n",
    "    print()"
   ]
  },
  {
   "cell_type": "markdown",
   "metadata": {},
   "source": [
    "Построим диаграммы рассеивания для платформ XOne, PS4 и PC. С помощью корреляционного анализа проверим то, как отзывы покупателей и критиков влияют на продажи игр."
   ]
  },
  {
   "cell_type": "markdown",
   "metadata": {},
   "source": [
    "#### PS4"
   ]
  },
  {
   "cell_type": "code",
   "execution_count": 41,
   "metadata": {},
   "outputs": [
    {
     "data": {
      "image/png": "[encoded data removed]",
      "text/plain": [
       "<Figure size 432x288 with 1 Axes>"
      ]
     },
     "metadata": {
      "needs_background": "light"
     },
     "output_type": "display_data"
    },
    {
     "name": "stdout",
     "output_type": "stream",
     "text": [
      "Влияние отзывов критиков: 0.406567902061781\n",
      "\n",
      "\n"
     ]
    },
    {
     "data": {
      "image/png": "[encoded data removed]",
      "text/plain": [
       "<Figure size 432x288 with 1 Axes>"
      ]
     },
     "metadata": {
      "needs_background": "light"
     },
     "output_type": "display_data"
    },
    {
     "name": "stdout",
     "output_type": "stream",
     "text": [
      "Влияние отзывов пользователей: -0.031957110204556424\n",
      "\n",
      "\n"
     ]
    }
   ],
   "source": [
    "corr_info(ps4)"
   ]
  },
  {
   "cell_type": "markdown",
   "metadata": {},
   "source": [
    "#### XOne"
   ]
  },
  {
   "cell_type": "code",
   "execution_count": 42,
   "metadata": {},
   "outputs": [
    {
     "data": {
      "image/png": "[encoded data removed]",
      "text/plain": [
       "<Figure size 432x288 with 1 Axes>"
      ]
     },
     "metadata": {
      "needs_background": "light"
     },
     "output_type": "display_data"
    },
    {
     "name": "stdout",
     "output_type": "stream",
     "text": [
      "Влияние отзывов критиков: 0.41699832800840175\n",
      "\n",
      "\n"
     ]
    },
    {
     "data": {
      "image/png": "[encoded data removed]",
      "text/plain": [
       "<Figure size 432x288 with 1 Axes>"
      ]
     },
     "metadata": {
      "needs_background": "light"
     },
     "output_type": "display_data"
    },
    {
     "name": "stdout",
     "output_type": "stream",
     "text": [
      "Влияние отзывов пользователей: -0.06892505328279412\n",
      "\n",
      "\n"
     ]
    }
   ],
   "source": [
    "corr_info(xone)"
   ]
  },
  {
   "cell_type": "markdown",
   "metadata": {},
   "source": [
    "#### PC"
   ]
  },
  {
   "cell_type": "code",
   "execution_count": 43,
   "metadata": {},
   "outputs": [
    {
     "data": {
      "image/png": "[encoded data removed]",
      "text/plain": [
       "<Figure size 432x288 with 1 Axes>"
      ]
     },
     "metadata": {
      "needs_background": "light"
     },
     "output_type": "display_data"
    },
    {
     "name": "stdout",
     "output_type": "stream",
     "text": [
      "Влияние отзывов критиков: 0.19603028294369382\n",
      "\n",
      "\n"
     ]
    },
    {
     "data": {
      "image/png": "[encoded data removed]",
      "text/plain": [
       "<Figure size 432x288 with 1 Axes>"
      ]
     },
     "metadata": {
      "needs_background": "light"
     },
     "output_type": "display_data"
    },
    {
     "name": "stdout",
     "output_type": "stream",
     "text": [
      "Влияние отзывов пользователей: -0.09384186952476739\n",
      "\n",
      "\n"
     ]
    }
   ],
   "source": [
    "pc = games_split[games_split['platform'].isin(['PC'])]\n",
    "corr_info(pc)"
   ]
  },
  {
   "cell_type": "code",
   "execution_count": 44,
   "metadata": {},
   "outputs": [
    {
     "data": {
      "image/png": "[encoded data removed]",
      "text/plain": [
       "<Figure size 432x288 with 1 Axes>"
      ]
     },
     "metadata": {
      "needs_background": "light"
     },
     "output_type": "display_data"
    },
    {
     "name": "stdout",
     "output_type": "stream",
     "text": [
      "Влияние отзывов критиков: 0.35705661422881035\n",
      "\n",
      "\n"
     ]
    },
    {
     "data": {
      "image/png": "[encoded data removed]",
      "text/plain": [
       "<Figure size 432x288 with 1 Axes>"
      ]
     },
     "metadata": {
      "needs_background": "light"
     },
     "output_type": "display_data"
    },
    {
     "name": "stdout",
     "output_type": "stream",
     "text": [
      "Влияние отзывов пользователей: 0.24150411773563016\n",
      "\n",
      "\n"
     ]
    }
   ],
   "source": [
    "corr_info(games_split[games_split['platform'].isin(['3DS'])])"
   ]
  },
  {
   "cell_type": "markdown",
   "metadata": {},
   "source": [
    "\n",
    "<div class=\"alert alert-block alert-info\">\n",
    "     \n",
    "<b> Вывод </b><br>\n",
    "Связь слабая, однако можно отметить, что рейтинг критиков больше коррелирует с продажами, чем отзывы покупателей.\n",
    "\n",
    "</div>"
   ]
  },
  {
   "cell_type": "markdown",
   "metadata": {},
   "source": [
    "#### PS3"
   ]
  },
  {
   "cell_type": "code",
   "execution_count": 45,
   "metadata": {},
   "outputs": [
    {
     "data": {
      "image/png": "[encoded data removed]",
      "text/plain": [
       "<Figure size 432x288 with 1 Axes>"
      ]
     },
     "metadata": {
      "needs_background": "light"
     },
     "output_type": "display_data"
    },
    {
     "name": "stdout",
     "output_type": "stream",
     "text": [
      "Влияние отзывов критиков: 0.3342853393371919\n",
      "\n",
      "\n"
     ]
    },
    {
     "data": {
      "image/png": "[encoded data removed]",
      "text/plain": [
       "<Figure size 432x288 with 1 Axes>"
      ]
     },
     "metadata": {
      "needs_background": "light"
     },
     "output_type": "display_data"
    },
    {
     "name": "stdout",
     "output_type": "stream",
     "text": [
      "Влияние отзывов пользователей: 0.0023944027357566925\n",
      "\n",
      "\n"
     ]
    }
   ],
   "source": [
    "corr_info(games_split[games_split['platform'].isin(['PS3'])])"
   ]
  },
  {
   "cell_type": "markdown",
   "metadata": {},
   "source": [
    "#### X360"
   ]
  },
  {
   "cell_type": "code",
   "execution_count": 46,
   "metadata": {},
   "outputs": [
    {
     "data": {
      "image/png": "[encoded data removed]",
      "text/plain": [
       "<Figure size 432x288 with 1 Axes>"
      ]
     },
     "metadata": {
      "needs_background": "light"
     },
     "output_type": "display_data"
    },
    {
     "name": "stdout",
     "output_type": "stream",
     "text": [
      "Влияние отзывов критиков: 0.3503445460228664\n",
      "\n",
      "\n"
     ]
    },
    {
     "data": {
      "image/png": "[encoded data removed]",
      "text/plain": [
       "<Figure size 432x288 with 1 Axes>"
      ]
     },
     "metadata": {
      "needs_background": "light"
     },
     "output_type": "display_data"
    },
    {
     "name": "stdout",
     "output_type": "stream",
     "text": [
      "Влияние отзывов пользователей: -0.011742185147181342\n",
      "\n",
      "\n"
     ]
    }
   ],
   "source": [
    "corr_info(games_split[games_split['platform'].isin(['X360'])])"
   ]
  },
  {
   "cell_type": "markdown",
   "metadata": {},
   "source": [
    "Связь обнаружить не удалось. Возможно на продажи влияют сразу несколько факторов. "
   ]
  },
  {
   "cell_type": "markdown",
   "metadata": {},
   "source": [
    "\n",
    "<div class=\"alert alert-block alert-info\">\n",
    "     \n",
    "<b> Вывод </b><br>\n",
    "Связь слабая, однако можно отметить, что рейтинг критиков больше коррелирует с продажами, чем отзывы покупателей. Это наблюдается на всех платформах. \n",
    "\n",
    "</div>"
   ]
  },
  {
   "cell_type": "markdown",
   "metadata": {},
   "source": [
    "### Сравнение прибыльности жанорв видеоигр"
   ]
  },
  {
   "cell_type": "markdown",
   "metadata": {},
   "source": [
    "Создадим сводную таблицу по жанрам. "
   ]
  },
  {
   "cell_type": "code",
   "execution_count": 47,
   "metadata": {},
   "outputs": [
    {
     "data": {
      "text/html": [
       "<div>\n",
       "<style scoped>\n",
       "    .dataframe tbody tr th:only-of-type {\n",
       "        vertical-align: middle;\n",
       "    }\n",
       "\n",
       "    .dataframe tbody tr th {\n",
       "        vertical-align: top;\n",
       "    }\n",
       "\n",
       "    .dataframe thead th {\n",
       "        text-align: right;\n",
       "    }\n",
       "</style>\n",
       "<table border=\"1\" class=\"dataframe\">\n",
       "  <thead>\n",
       "    <tr style=\"text-align: right;\">\n",
       "      <th></th>\n",
       "      <th>revenue</th>\n",
       "      <th>count</th>\n",
       "      <th>mean</th>\n",
       "    </tr>\n",
       "    <tr>\n",
       "      <th>genre</th>\n",
       "      <th></th>\n",
       "      <th></th>\n",
       "      <th></th>\n",
       "    </tr>\n",
       "  </thead>\n",
       "  <tbody>\n",
       "    <tr>\n",
       "      <th>Shooter</th>\n",
       "      <td>232.98</td>\n",
       "      <td>187</td>\n",
       "      <td>1.245882</td>\n",
       "    </tr>\n",
       "    <tr>\n",
       "      <th>Sports</th>\n",
       "      <td>150.65</td>\n",
       "      <td>214</td>\n",
       "      <td>0.703972</td>\n",
       "    </tr>\n",
       "    <tr>\n",
       "      <th>Platform</th>\n",
       "      <td>42.63</td>\n",
       "      <td>74</td>\n",
       "      <td>0.576081</td>\n",
       "    </tr>\n",
       "    <tr>\n",
       "      <th>Role-Playing</th>\n",
       "      <td>145.89</td>\n",
       "      <td>292</td>\n",
       "      <td>0.499623</td>\n",
       "    </tr>\n",
       "    <tr>\n",
       "      <th>Racing</th>\n",
       "      <td>39.89</td>\n",
       "      <td>85</td>\n",
       "      <td>0.469294</td>\n",
       "    </tr>\n",
       "    <tr>\n",
       "      <th>Fighting</th>\n",
       "      <td>35.31</td>\n",
       "      <td>80</td>\n",
       "      <td>0.441375</td>\n",
       "    </tr>\n",
       "    <tr>\n",
       "      <th>Action</th>\n",
       "      <td>321.87</td>\n",
       "      <td>766</td>\n",
       "      <td>0.420196</td>\n",
       "    </tr>\n",
       "    <tr>\n",
       "      <th>Misc</th>\n",
       "      <td>62.82</td>\n",
       "      <td>155</td>\n",
       "      <td>0.405290</td>\n",
       "    </tr>\n",
       "    <tr>\n",
       "      <th>Simulation</th>\n",
       "      <td>21.76</td>\n",
       "      <td>62</td>\n",
       "      <td>0.350968</td>\n",
       "    </tr>\n",
       "    <tr>\n",
       "      <th>Puzzle</th>\n",
       "      <td>3.17</td>\n",
       "      <td>17</td>\n",
       "      <td>0.186471</td>\n",
       "    </tr>\n",
       "    <tr>\n",
       "      <th>Strategy</th>\n",
       "      <td>10.08</td>\n",
       "      <td>56</td>\n",
       "      <td>0.180000</td>\n",
       "    </tr>\n",
       "    <tr>\n",
       "      <th>Adventure</th>\n",
       "      <td>23.64</td>\n",
       "      <td>245</td>\n",
       "      <td>0.096490</td>\n",
       "    </tr>\n",
       "  </tbody>\n",
       "</table>\n",
       "</div>"
      ],
      "text/plain": [
       "              revenue  count      mean\n",
       "genre                                 \n",
       "Shooter        232.98    187  1.245882\n",
       "Sports         150.65    214  0.703972\n",
       "Platform        42.63     74  0.576081\n",
       "Role-Playing   145.89    292  0.499623\n",
       "Racing          39.89     85  0.469294\n",
       "Fighting        35.31     80  0.441375\n",
       "Action         321.87    766  0.420196\n",
       "Misc            62.82    155  0.405290\n",
       "Simulation      21.76     62  0.350968\n",
       "Puzzle           3.17     17  0.186471\n",
       "Strategy        10.08     56  0.180000\n",
       "Adventure       23.64    245  0.096490"
      ]
     },
     "execution_count": 47,
     "metadata": {},
     "output_type": "execute_result"
    }
   ],
   "source": [
    "ganres_rating = games_split.pivot_table(index='genre',values='revenue', aggfunc=['sum', 'count','mean'])\n",
    "ganres_rating.columns = ['revenue', 'count','mean']\n",
    "ganres_rating.sort_values('mean',ascending = False)"
   ]
  },
  {
   "cell_type": "markdown",
   "metadata": {},
   "source": [
    "Видим лидирующие жанры. Посмотрим, как распределяются жанры по площадкам. "
   ]
  },
  {
   "cell_type": "code",
   "execution_count": 48,
   "metadata": {},
   "outputs": [],
   "source": [
    "genres = (\n",
    "    games_split\n",
    "    .pivot_table(index='platform',values='revenue',columns='genre', aggfunc=('sum'))\n",
    "    #[['Action','Sports','Shooter','Role-Playing','Racing']]\n",
    "    .sort_values('Action',ascending=False)\n",
    ")\n",
    "genres.fillna(0, inplace = True)\n",
    "\n",
    "genres.rename(columns = {'Role-Playing':'Role'}, inplace = True)\n",
    "genres= genres.eval(\"sum = {}\".format(\"+\".join(genres.columns)))\n",
    "\n",
    "        "
   ]
  },
  {
   "cell_type": "code",
   "execution_count": 49,
   "metadata": {},
   "outputs": [
    {
     "data": {
      "text/html": [
       "<div>\n",
       "<style scoped>\n",
       "    .dataframe tbody tr th:only-of-type {\n",
       "        vertical-align: middle;\n",
       "    }\n",
       "\n",
       "    .dataframe tbody tr th {\n",
       "        vertical-align: top;\n",
       "    }\n",
       "\n",
       "    .dataframe thead th {\n",
       "        text-align: right;\n",
       "    }\n",
       "</style>\n",
       "<table border=\"1\" class=\"dataframe\">\n",
       "  <thead>\n",
       "    <tr style=\"text-align: right;\">\n",
       "      <th>genre</th>\n",
       "      <th>Action</th>\n",
       "      <th>Adventure</th>\n",
       "      <th>Fighting</th>\n",
       "      <th>Misc</th>\n",
       "      <th>Platform</th>\n",
       "      <th>Puzzle</th>\n",
       "      <th>Racing</th>\n",
       "      <th>Role</th>\n",
       "      <th>Shooter</th>\n",
       "      <th>Simulation</th>\n",
       "      <th>Sports</th>\n",
       "      <th>Strategy</th>\n",
       "      <th>sum</th>\n",
       "    </tr>\n",
       "    <tr>\n",
       "      <th>platform</th>\n",
       "      <th></th>\n",
       "      <th></th>\n",
       "      <th></th>\n",
       "      <th></th>\n",
       "      <th></th>\n",
       "      <th></th>\n",
       "      <th></th>\n",
       "      <th></th>\n",
       "      <th></th>\n",
       "      <th></th>\n",
       "      <th></th>\n",
       "      <th></th>\n",
       "      <th></th>\n",
       "    </tr>\n",
       "  </thead>\n",
       "  <tbody>\n",
       "    <tr>\n",
       "      <th>PS4</th>\n",
       "      <td>30</td>\n",
       "      <td>2</td>\n",
       "      <td>2</td>\n",
       "      <td>2</td>\n",
       "      <td>2</td>\n",
       "      <td>0</td>\n",
       "      <td>3</td>\n",
       "      <td>9</td>\n",
       "      <td>28</td>\n",
       "      <td>0</td>\n",
       "      <td>17</td>\n",
       "      <td>0</td>\n",
       "      <td>100</td>\n",
       "    </tr>\n",
       "    <tr>\n",
       "      <th>PS3</th>\n",
       "      <td>39</td>\n",
       "      <td>2</td>\n",
       "      <td>3</td>\n",
       "      <td>4</td>\n",
       "      <td>1</td>\n",
       "      <td>0</td>\n",
       "      <td>3</td>\n",
       "      <td>9</td>\n",
       "      <td>17</td>\n",
       "      <td>0</td>\n",
       "      <td>17</td>\n",
       "      <td>0</td>\n",
       "      <td>100</td>\n",
       "    </tr>\n",
       "    <tr>\n",
       "      <th>X360</th>\n",
       "      <td>34</td>\n",
       "      <td>1</td>\n",
       "      <td>1</td>\n",
       "      <td>9</td>\n",
       "      <td>1</td>\n",
       "      <td>0</td>\n",
       "      <td>2</td>\n",
       "      <td>3</td>\n",
       "      <td>25</td>\n",
       "      <td>0</td>\n",
       "      <td>18</td>\n",
       "      <td>0</td>\n",
       "      <td>100</td>\n",
       "    </tr>\n",
       "    <tr>\n",
       "      <th>XOne</th>\n",
       "      <td>23</td>\n",
       "      <td>1</td>\n",
       "      <td>1</td>\n",
       "      <td>4</td>\n",
       "      <td>0</td>\n",
       "      <td>0</td>\n",
       "      <td>6</td>\n",
       "      <td>6</td>\n",
       "      <td>37</td>\n",
       "      <td>0</td>\n",
       "      <td>16</td>\n",
       "      <td>0</td>\n",
       "      <td>100</td>\n",
       "    </tr>\n",
       "    <tr>\n",
       "      <th>3DS</th>\n",
       "      <td>23</td>\n",
       "      <td>2</td>\n",
       "      <td>5</td>\n",
       "      <td>4</td>\n",
       "      <td>6</td>\n",
       "      <td>1</td>\n",
       "      <td>0</td>\n",
       "      <td>47</td>\n",
       "      <td>0</td>\n",
       "      <td>6</td>\n",
       "      <td>1</td>\n",
       "      <td>0</td>\n",
       "      <td>100</td>\n",
       "    </tr>\n",
       "    <tr>\n",
       "      <th>WiiU</th>\n",
       "      <td>22</td>\n",
       "      <td>0</td>\n",
       "      <td>9</td>\n",
       "      <td>11</td>\n",
       "      <td>25</td>\n",
       "      <td>2</td>\n",
       "      <td>11</td>\n",
       "      <td>2</td>\n",
       "      <td>8</td>\n",
       "      <td>0</td>\n",
       "      <td>3</td>\n",
       "      <td>1</td>\n",
       "      <td>100</td>\n",
       "    </tr>\n",
       "    <tr>\n",
       "      <th>PSV</th>\n",
       "      <td>29</td>\n",
       "      <td>10</td>\n",
       "      <td>3</td>\n",
       "      <td>11</td>\n",
       "      <td>1</td>\n",
       "      <td>0</td>\n",
       "      <td>0</td>\n",
       "      <td>31</td>\n",
       "      <td>4</td>\n",
       "      <td>0</td>\n",
       "      <td>6</td>\n",
       "      <td>1</td>\n",
       "      <td>100</td>\n",
       "    </tr>\n",
       "    <tr>\n",
       "      <th>PC</th>\n",
       "      <td>18</td>\n",
       "      <td>1</td>\n",
       "      <td>0</td>\n",
       "      <td>1</td>\n",
       "      <td>0</td>\n",
       "      <td>0</td>\n",
       "      <td>2</td>\n",
       "      <td>12</td>\n",
       "      <td>24</td>\n",
       "      <td>20</td>\n",
       "      <td>4</td>\n",
       "      <td>12</td>\n",
       "      <td>100</td>\n",
       "    </tr>\n",
       "    <tr>\n",
       "      <th>Wii</th>\n",
       "      <td>20</td>\n",
       "      <td>1</td>\n",
       "      <td>0</td>\n",
       "      <td>51</td>\n",
       "      <td>16</td>\n",
       "      <td>0</td>\n",
       "      <td>0</td>\n",
       "      <td>0</td>\n",
       "      <td>0</td>\n",
       "      <td>1</td>\n",
       "      <td>6</td>\n",
       "      <td>1</td>\n",
       "      <td>100</td>\n",
       "    </tr>\n",
       "    <tr>\n",
       "      <th>PSP</th>\n",
       "      <td>24</td>\n",
       "      <td>20</td>\n",
       "      <td>0</td>\n",
       "      <td>4</td>\n",
       "      <td>0</td>\n",
       "      <td>0</td>\n",
       "      <td>0</td>\n",
       "      <td>29</td>\n",
       "      <td>0</td>\n",
       "      <td>0</td>\n",
       "      <td>19</td>\n",
       "      <td>0</td>\n",
       "      <td>100</td>\n",
       "    </tr>\n",
       "    <tr>\n",
       "      <th>DS</th>\n",
       "      <td>32</td>\n",
       "      <td>1</td>\n",
       "      <td>0</td>\n",
       "      <td>5</td>\n",
       "      <td>44</td>\n",
       "      <td>0</td>\n",
       "      <td>0</td>\n",
       "      <td>0</td>\n",
       "      <td>0</td>\n",
       "      <td>13</td>\n",
       "      <td>1</td>\n",
       "      <td>0</td>\n",
       "      <td>100</td>\n",
       "    </tr>\n",
       "  </tbody>\n",
       "</table>\n",
       "</div>"
      ],
      "text/plain": [
       "genre     Action  Adventure  Fighting  Misc  Platform  Puzzle  Racing  Role  \\\n",
       "platform                                                                      \n",
       "PS4           30          2         2     2         2       0       3     9   \n",
       "PS3           39          2         3     4         1       0       3     9   \n",
       "X360          34          1         1     9         1       0       2     3   \n",
       "XOne          23          1         1     4         0       0       6     6   \n",
       "3DS           23          2         5     4         6       1       0    47   \n",
       "WiiU          22          0         9    11        25       2      11     2   \n",
       "PSV           29         10         3    11         1       0       0    31   \n",
       "PC            18          1         0     1         0       0       2    12   \n",
       "Wii           20          1         0    51        16       0       0     0   \n",
       "PSP           24         20         0     4         0       0       0    29   \n",
       "DS            32          1         0     5        44       0       0     0   \n",
       "\n",
       "genre     Shooter  Simulation  Sports  Strategy  sum  \n",
       "platform                                              \n",
       "PS4            28           0      17         0  100  \n",
       "PS3            17           0      17         0  100  \n",
       "X360           25           0      18         0  100  \n",
       "XOne           37           0      16         0  100  \n",
       "3DS             0           6       1         0  100  \n",
       "WiiU            8           0       3         1  100  \n",
       "PSV             4           0       6         1  100  \n",
       "PC             24          20       4        12  100  \n",
       "Wii             0           1       6         1  100  \n",
       "PSP             0           0      19         0  100  \n",
       "DS              0          13       1         0  100  "
      ]
     },
     "execution_count": 49,
     "metadata": {},
     "output_type": "execute_result"
    }
   ],
   "source": [
    "for i in genres.columns: \n",
    "    genres[i] = (genres[i]/genres['sum']*100).astype(int)\n",
    "    \n",
    "genres"
   ]
  },
  {
   "cell_type": "code",
   "execution_count": null,
   "metadata": {},
   "outputs": [],
   "source": []
  },
  {
   "cell_type": "markdown",
   "metadata": {},
   "source": [
    "На основании полученных таблиц можем утверждать, что безоговорочным лидером среди жанров является Action. Этот жанр является одним из лидеров на большинстве площадок. На втором месте - Sports, третьем - Shooter. Role-Playing, несмотря на 4 место в общем рейтинге, проигрывает другим жанрам на лидирующих площадках. \n",
    "\n",
    "Можно выделить по 3 лидирующих жанра для каждой из лидирующих площадок. \n",
    "\n",
    "PS-4 - Action, Shooter, Sports<br>\n",
    "XOne - Shooter, Action, Sports<br>\n",
    "PC - Simulation, Role-Playing, Strategy (shooter - 4, action - 5)<br>\n",
    "\n",
    "Видим, что для PS-4 и XOne лидирующие жанры почти совпадают. Для персонального компьютера же лидируют совсем другие жанры. Стоит это учитывать при планировании рекламных кампаний. "
   ]
  },
  {
   "cell_type": "code",
   "execution_count": 50,
   "metadata": {},
   "outputs": [
    {
     "name": "stdout",
     "output_type": "stream",
     "text": [
      "26.727272727272727  - среднее для жанра  Action\n",
      "3.727272727272727  - среднее для жанра  Adventure\n",
      "2.1818181818181817  - среднее для жанра  Fighting\n",
      "9.636363636363637  - среднее для жанра  Misc\n",
      "8.727272727272727  - среднее для жанра  Platform\n",
      "0.2727272727272727  - среднее для жанра  Puzzle\n",
      "2.4545454545454546  - среднее для жанра  Racing\n",
      "13.454545454545455  - среднее для жанра  Role\n",
      "13.0  - среднее для жанра  Shooter\n",
      "3.6363636363636362  - среднее для жанра  Simulation\n",
      "9.818181818181818  - среднее для жанра  Sports\n",
      "1.3636363636363635  - среднее для жанра  Strategy\n",
      "100.0  - среднее для жанра  sum\n"
     ]
    }
   ],
   "source": [
    "for genre in genres.columns: \n",
    "    print(genres[genre].mean(),' - среднее для жанра ', genre)"
   ]
  },
  {
   "cell_type": "markdown",
   "metadata": {},
   "source": [
    "Среди аутсайдеров можно выделить жанры Puzzle, Adventure, Strategy, Simulation. Однако мы видим, что Strategy и Simulation являются лидирующими жанрами для PC. Всё таки при отборе жанров лучше смотреть на конкретную платформу."
   ]
  },
  {
   "cell_type": "markdown",
   "metadata": {},
   "source": [
    "<div class=\"alert alert-block alert-info\">\n",
    "\n",
    "Несмотря на то, что в жанре Action больше всего игр, средняя выручка по нему далеко не самая высокая. По средней выручке лидируют Shooter, Sports, Platform, Role-Playing, Racing.Жанр Action находится только на 7 месте. \n",
    "\n",
    "</div>"
   ]
  },
  {
   "cell_type": "markdown",
   "metadata": {},
   "source": [
    "# Портреты пользователей по регионам"
   ]
  },
  {
   "cell_type": "markdown",
   "metadata": {},
   "source": [
    "### Популярные платформы"
   ]
  },
  {
   "cell_type": "code",
   "execution_count": 51,
   "metadata": {},
   "outputs": [],
   "source": [
    "def portrait(kind, country):\n",
    "    portrait =    (\n",
    "        games_split\n",
    "        .pivot_table(index=[kind], values=[country], aggfunc='sum')\n",
    "        .sort_values(country, ascending=False)\n",
    "        .head(5)\n",
    "        ) \n",
    "    return portrait"
   ]
  },
  {
   "cell_type": "markdown",
   "metadata": {},
   "source": [
    "<b> Северна Америка </b>"
   ]
  },
  {
   "cell_type": "code",
   "execution_count": 52,
   "metadata": {},
   "outputs": [
    {
     "data": {
      "text/html": [
       "<div>\n",
       "<style scoped>\n",
       "    .dataframe tbody tr th:only-of-type {\n",
       "        vertical-align: middle;\n",
       "    }\n",
       "\n",
       "    .dataframe tbody tr th {\n",
       "        vertical-align: top;\n",
       "    }\n",
       "\n",
       "    .dataframe thead th {\n",
       "        text-align: right;\n",
       "    }\n",
       "</style>\n",
       "<table border=\"1\" class=\"dataframe\">\n",
       "  <thead>\n",
       "    <tr style=\"text-align: right;\">\n",
       "      <th></th>\n",
       "      <th>na_sales</th>\n",
       "    </tr>\n",
       "    <tr>\n",
       "      <th>platform</th>\n",
       "      <th></th>\n",
       "    </tr>\n",
       "  </thead>\n",
       "  <tbody>\n",
       "    <tr>\n",
       "      <th>PS4</th>\n",
       "      <td>108.74</td>\n",
       "    </tr>\n",
       "    <tr>\n",
       "      <th>XOne</th>\n",
       "      <td>93.12</td>\n",
       "    </tr>\n",
       "    <tr>\n",
       "      <th>X360</th>\n",
       "      <td>81.66</td>\n",
       "    </tr>\n",
       "    <tr>\n",
       "      <th>PS3</th>\n",
       "      <td>63.50</td>\n",
       "    </tr>\n",
       "    <tr>\n",
       "      <th>3DS</th>\n",
       "      <td>38.20</td>\n",
       "    </tr>\n",
       "  </tbody>\n",
       "</table>\n",
       "</div>"
      ],
      "text/plain": [
       "          na_sales\n",
       "platform          \n",
       "PS4         108.74\n",
       "XOne         93.12\n",
       "X360         81.66\n",
       "PS3          63.50\n",
       "3DS          38.20"
      ]
     },
     "execution_count": 52,
     "metadata": {},
     "output_type": "execute_result"
    }
   ],
   "source": [
    "portrait('platform','na_sales')"
   ]
  },
  {
   "cell_type": "markdown",
   "metadata": {},
   "source": [
    "#### Европа"
   ]
  },
  {
   "cell_type": "code",
   "execution_count": 53,
   "metadata": {},
   "outputs": [
    {
     "data": {
      "text/html": [
       "<div>\n",
       "<style scoped>\n",
       "    .dataframe tbody tr th:only-of-type {\n",
       "        vertical-align: middle;\n",
       "    }\n",
       "\n",
       "    .dataframe tbody tr th {\n",
       "        vertical-align: top;\n",
       "    }\n",
       "\n",
       "    .dataframe thead th {\n",
       "        text-align: right;\n",
       "    }\n",
       "</style>\n",
       "<table border=\"1\" class=\"dataframe\">\n",
       "  <thead>\n",
       "    <tr style=\"text-align: right;\">\n",
       "      <th></th>\n",
       "      <th>eu_sales</th>\n",
       "    </tr>\n",
       "    <tr>\n",
       "      <th>platform</th>\n",
       "      <th></th>\n",
       "    </tr>\n",
       "  </thead>\n",
       "  <tbody>\n",
       "    <tr>\n",
       "      <th>PS4</th>\n",
       "      <td>141.09</td>\n",
       "    </tr>\n",
       "    <tr>\n",
       "      <th>PS3</th>\n",
       "      <td>67.81</td>\n",
       "    </tr>\n",
       "    <tr>\n",
       "      <th>XOne</th>\n",
       "      <td>51.59</td>\n",
       "    </tr>\n",
       "    <tr>\n",
       "      <th>X360</th>\n",
       "      <td>42.52</td>\n",
       "    </tr>\n",
       "    <tr>\n",
       "      <th>3DS</th>\n",
       "      <td>30.96</td>\n",
       "    </tr>\n",
       "  </tbody>\n",
       "</table>\n",
       "</div>"
      ],
      "text/plain": [
       "          eu_sales\n",
       "platform          \n",
       "PS4         141.09\n",
       "PS3          67.81\n",
       "XOne         51.59\n",
       "X360         42.52\n",
       "3DS          30.96"
      ]
     },
     "execution_count": 53,
     "metadata": {},
     "output_type": "execute_result"
    }
   ],
   "source": [
    "portrait('platform','eu_sales')"
   ]
  },
  {
   "cell_type": "markdown",
   "metadata": {},
   "source": [
    "#### Япония"
   ]
  },
  {
   "cell_type": "code",
   "execution_count": 54,
   "metadata": {},
   "outputs": [
    {
     "data": {
      "text/html": [
       "<div>\n",
       "<style scoped>\n",
       "    .dataframe tbody tr th:only-of-type {\n",
       "        vertical-align: middle;\n",
       "    }\n",
       "\n",
       "    .dataframe tbody tr th {\n",
       "        vertical-align: top;\n",
       "    }\n",
       "\n",
       "    .dataframe thead th {\n",
       "        text-align: right;\n",
       "    }\n",
       "</style>\n",
       "<table border=\"1\" class=\"dataframe\">\n",
       "  <thead>\n",
       "    <tr style=\"text-align: right;\">\n",
       "      <th></th>\n",
       "      <th>jp_sales</th>\n",
       "    </tr>\n",
       "    <tr>\n",
       "      <th>platform</th>\n",
       "      <th></th>\n",
       "    </tr>\n",
       "  </thead>\n",
       "  <tbody>\n",
       "    <tr>\n",
       "      <th>3DS</th>\n",
       "      <td>67.81</td>\n",
       "    </tr>\n",
       "    <tr>\n",
       "      <th>PS3</th>\n",
       "      <td>23.35</td>\n",
       "    </tr>\n",
       "    <tr>\n",
       "      <th>PSV</th>\n",
       "      <td>18.59</td>\n",
       "    </tr>\n",
       "    <tr>\n",
       "      <th>PS4</th>\n",
       "      <td>15.96</td>\n",
       "    </tr>\n",
       "    <tr>\n",
       "      <th>WiiU</th>\n",
       "      <td>10.88</td>\n",
       "    </tr>\n",
       "  </tbody>\n",
       "</table>\n",
       "</div>"
      ],
      "text/plain": [
       "          jp_sales\n",
       "platform          \n",
       "3DS          67.81\n",
       "PS3          23.35\n",
       "PSV          18.59\n",
       "PS4          15.96\n",
       "WiiU         10.88"
      ]
     },
     "execution_count": 54,
     "metadata": {},
     "output_type": "execute_result"
    }
   ],
   "source": [
    "portrait('platform','jp_sales')"
   ]
  },
  {
   "cell_type": "markdown",
   "metadata": {},
   "source": [
    "#### Остальной мир"
   ]
  },
  {
   "cell_type": "code",
   "execution_count": 55,
   "metadata": {},
   "outputs": [
    {
     "data": {
      "text/html": [
       "<div>\n",
       "<style scoped>\n",
       "    .dataframe tbody tr th:only-of-type {\n",
       "        vertical-align: middle;\n",
       "    }\n",
       "\n",
       "    .dataframe tbody tr th {\n",
       "        vertical-align: top;\n",
       "    }\n",
       "\n",
       "    .dataframe thead th {\n",
       "        text-align: right;\n",
       "    }\n",
       "</style>\n",
       "<table border=\"1\" class=\"dataframe\">\n",
       "  <thead>\n",
       "    <tr style=\"text-align: right;\">\n",
       "      <th></th>\n",
       "      <th>other_sales</th>\n",
       "    </tr>\n",
       "    <tr>\n",
       "      <th>platform</th>\n",
       "      <th></th>\n",
       "    </tr>\n",
       "  </thead>\n",
       "  <tbody>\n",
       "    <tr>\n",
       "      <th>PS4</th>\n",
       "      <td>48.35</td>\n",
       "    </tr>\n",
       "    <tr>\n",
       "      <th>PS3</th>\n",
       "      <td>26.77</td>\n",
       "    </tr>\n",
       "    <tr>\n",
       "      <th>XOne</th>\n",
       "      <td>14.27</td>\n",
       "    </tr>\n",
       "    <tr>\n",
       "      <th>X360</th>\n",
       "      <td>12.11</td>\n",
       "    </tr>\n",
       "    <tr>\n",
       "      <th>3DS</th>\n",
       "      <td>6.28</td>\n",
       "    </tr>\n",
       "  </tbody>\n",
       "</table>\n",
       "</div>"
      ],
      "text/plain": [
       "          other_sales\n",
       "platform             \n",
       "PS4             48.35\n",
       "PS3             26.77\n",
       "XOne            14.27\n",
       "X360            12.11\n",
       "3DS              6.28"
      ]
     },
     "execution_count": 55,
     "metadata": {},
     "output_type": "execute_result"
    }
   ],
   "source": [
    "portrait('platform','other_sales')"
   ]
  },
  {
   "cell_type": "markdown",
   "metadata": {},
   "source": [
    "Xbox 360 лидирует только в Северной Америке. Объяснимо это тем, что США - родина приставки. Здесь играют либо патриотические нотки, либо Xbox больше вкладывается в рекламу в этом регионе. \n",
    "\n",
    "В Европе можно отметить безогворочное лидерство Sony. У японцев первые приставки появились раньше, возможно поэтому они смогли раньше занять рынок и укрепиться на нем. \n",
    "\n",
    "В остальном мире лидеры такие же как в Европе, за исключением 5 места. Здесь 4 и 5 места занимают портативные приставки Nintendo. \n",
    "\n",
    "Япония же сильно отличается от всех остальных стран. Здесь первое место занимает портативная приставка Nintendo. Ещё одна их приставка расположилась на 4. Остальные места занимают Sony. Не удивительно, что Xbox в Японии не занимает лидерских мест, однако любовь к портативным приставкам можно назвать их национальной особенностью.  "
   ]
  },
  {
   "cell_type": "markdown",
   "metadata": {},
   "source": [
    "<div class=\"alert alert-block alert-info\">\n",
    "    \n",
    "    \n",
    "Четверка лидеров в США, Америке и остальном мире одинакова. Только в Америке позиции Xbox 360 и Xbox One на одну позицию выше - они уступают только PS4. \n",
    "    \n",
    "Уникальная ситуация только в Японии, где лидируют портативные приставки. \n",
    "\n",
    "</div>"
   ]
  },
  {
   "cell_type": "markdown",
   "metadata": {},
   "source": [
    "### Популярные жанры"
   ]
  },
  {
   "cell_type": "markdown",
   "metadata": {},
   "source": [
    "#### Северная Америка"
   ]
  },
  {
   "cell_type": "code",
   "execution_count": 56,
   "metadata": {},
   "outputs": [
    {
     "data": {
      "text/html": [
       "<div>\n",
       "<style scoped>\n",
       "    .dataframe tbody tr th:only-of-type {\n",
       "        vertical-align: middle;\n",
       "    }\n",
       "\n",
       "    .dataframe tbody tr th {\n",
       "        vertical-align: top;\n",
       "    }\n",
       "\n",
       "    .dataframe thead th {\n",
       "        text-align: right;\n",
       "    }\n",
       "</style>\n",
       "<table border=\"1\" class=\"dataframe\">\n",
       "  <thead>\n",
       "    <tr style=\"text-align: right;\">\n",
       "      <th></th>\n",
       "      <th>na_sales</th>\n",
       "    </tr>\n",
       "    <tr>\n",
       "      <th>genre</th>\n",
       "      <th></th>\n",
       "    </tr>\n",
       "  </thead>\n",
       "  <tbody>\n",
       "    <tr>\n",
       "      <th>Action</th>\n",
       "      <td>126.05</td>\n",
       "    </tr>\n",
       "    <tr>\n",
       "      <th>Shooter</th>\n",
       "      <td>109.74</td>\n",
       "    </tr>\n",
       "    <tr>\n",
       "      <th>Sports</th>\n",
       "      <td>65.27</td>\n",
       "    </tr>\n",
       "    <tr>\n",
       "      <th>Role-Playing</th>\n",
       "      <td>46.40</td>\n",
       "    </tr>\n",
       "    <tr>\n",
       "      <th>Misc</th>\n",
       "      <td>27.49</td>\n",
       "    </tr>\n",
       "  </tbody>\n",
       "</table>\n",
       "</div>"
      ],
      "text/plain": [
       "              na_sales\n",
       "genre                 \n",
       "Action          126.05\n",
       "Shooter         109.74\n",
       "Sports           65.27\n",
       "Role-Playing     46.40\n",
       "Misc             27.49"
      ]
     },
     "execution_count": 56,
     "metadata": {},
     "output_type": "execute_result"
    }
   ],
   "source": [
    "portrait('genre','na_sales')"
   ]
  },
  {
   "cell_type": "markdown",
   "metadata": {},
   "source": [
    "#### Европа"
   ]
  },
  {
   "cell_type": "code",
   "execution_count": 57,
   "metadata": {},
   "outputs": [
    {
     "data": {
      "text/html": [
       "<div>\n",
       "<style scoped>\n",
       "    .dataframe tbody tr th:only-of-type {\n",
       "        vertical-align: middle;\n",
       "    }\n",
       "\n",
       "    .dataframe tbody tr th {\n",
       "        vertical-align: top;\n",
       "    }\n",
       "\n",
       "    .dataframe thead th {\n",
       "        text-align: right;\n",
       "    }\n",
       "</style>\n",
       "<table border=\"1\" class=\"dataframe\">\n",
       "  <thead>\n",
       "    <tr style=\"text-align: right;\">\n",
       "      <th></th>\n",
       "      <th>eu_sales</th>\n",
       "    </tr>\n",
       "    <tr>\n",
       "      <th>genre</th>\n",
       "      <th></th>\n",
       "    </tr>\n",
       "  </thead>\n",
       "  <tbody>\n",
       "    <tr>\n",
       "      <th>Action</th>\n",
       "      <td>118.13</td>\n",
       "    </tr>\n",
       "    <tr>\n",
       "      <th>Shooter</th>\n",
       "      <td>87.86</td>\n",
       "    </tr>\n",
       "    <tr>\n",
       "      <th>Sports</th>\n",
       "      <td>60.52</td>\n",
       "    </tr>\n",
       "    <tr>\n",
       "      <th>Role-Playing</th>\n",
       "      <td>36.97</td>\n",
       "    </tr>\n",
       "    <tr>\n",
       "      <th>Racing</th>\n",
       "      <td>20.19</td>\n",
       "    </tr>\n",
       "  </tbody>\n",
       "</table>\n",
       "</div>"
      ],
      "text/plain": [
       "              eu_sales\n",
       "genre                 \n",
       "Action          118.13\n",
       "Shooter          87.86\n",
       "Sports           60.52\n",
       "Role-Playing     36.97\n",
       "Racing           20.19"
      ]
     },
     "execution_count": 57,
     "metadata": {},
     "output_type": "execute_result"
    }
   ],
   "source": [
    "portrait('genre','eu_sales')"
   ]
  },
  {
   "cell_type": "markdown",
   "metadata": {},
   "source": [
    "#### Япония"
   ]
  },
  {
   "cell_type": "code",
   "execution_count": 58,
   "metadata": {},
   "outputs": [
    {
     "data": {
      "text/html": [
       "<div>\n",
       "<style scoped>\n",
       "    .dataframe tbody tr th:only-of-type {\n",
       "        vertical-align: middle;\n",
       "    }\n",
       "\n",
       "    .dataframe tbody tr th {\n",
       "        vertical-align: top;\n",
       "    }\n",
       "\n",
       "    .dataframe thead th {\n",
       "        text-align: right;\n",
       "    }\n",
       "</style>\n",
       "<table border=\"1\" class=\"dataframe\">\n",
       "  <thead>\n",
       "    <tr style=\"text-align: right;\">\n",
       "      <th></th>\n",
       "      <th>jp_sales</th>\n",
       "    </tr>\n",
       "    <tr>\n",
       "      <th>genre</th>\n",
       "      <th></th>\n",
       "    </tr>\n",
       "  </thead>\n",
       "  <tbody>\n",
       "    <tr>\n",
       "      <th>Role-Playing</th>\n",
       "      <td>51.04</td>\n",
       "    </tr>\n",
       "    <tr>\n",
       "      <th>Action</th>\n",
       "      <td>40.49</td>\n",
       "    </tr>\n",
       "    <tr>\n",
       "      <th>Misc</th>\n",
       "      <td>9.20</td>\n",
       "    </tr>\n",
       "    <tr>\n",
       "      <th>Fighting</th>\n",
       "      <td>7.65</td>\n",
       "    </tr>\n",
       "    <tr>\n",
       "      <th>Shooter</th>\n",
       "      <td>6.61</td>\n",
       "    </tr>\n",
       "  </tbody>\n",
       "</table>\n",
       "</div>"
      ],
      "text/plain": [
       "              jp_sales\n",
       "genre                 \n",
       "Role-Playing     51.04\n",
       "Action           40.49\n",
       "Misc              9.20\n",
       "Fighting          7.65\n",
       "Shooter           6.61"
      ]
     },
     "execution_count": 58,
     "metadata": {},
     "output_type": "execute_result"
    }
   ],
   "source": [
    "portrait('genre','jp_sales')"
   ]
  },
  {
   "cell_type": "markdown",
   "metadata": {},
   "source": [
    "#### Другие страны"
   ]
  },
  {
   "cell_type": "code",
   "execution_count": 59,
   "metadata": {},
   "outputs": [
    {
     "data": {
      "text/html": [
       "<div>\n",
       "<style scoped>\n",
       "    .dataframe tbody tr th:only-of-type {\n",
       "        vertical-align: middle;\n",
       "    }\n",
       "\n",
       "    .dataframe tbody tr th {\n",
       "        vertical-align: top;\n",
       "    }\n",
       "\n",
       "    .dataframe thead th {\n",
       "        text-align: right;\n",
       "    }\n",
       "</style>\n",
       "<table border=\"1\" class=\"dataframe\">\n",
       "  <thead>\n",
       "    <tr style=\"text-align: right;\">\n",
       "      <th></th>\n",
       "      <th>other_sales</th>\n",
       "    </tr>\n",
       "    <tr>\n",
       "      <th>genre</th>\n",
       "      <th></th>\n",
       "    </tr>\n",
       "  </thead>\n",
       "  <tbody>\n",
       "    <tr>\n",
       "      <th>Action</th>\n",
       "      <td>37.20</td>\n",
       "    </tr>\n",
       "    <tr>\n",
       "      <th>Shooter</th>\n",
       "      <td>28.77</td>\n",
       "    </tr>\n",
       "    <tr>\n",
       "      <th>Sports</th>\n",
       "      <td>19.45</td>\n",
       "    </tr>\n",
       "    <tr>\n",
       "      <th>Role-Playing</th>\n",
       "      <td>11.48</td>\n",
       "    </tr>\n",
       "    <tr>\n",
       "      <th>Misc</th>\n",
       "      <td>6.09</td>\n",
       "    </tr>\n",
       "  </tbody>\n",
       "</table>\n",
       "</div>"
      ],
      "text/plain": [
       "              other_sales\n",
       "genre                    \n",
       "Action              37.20\n",
       "Shooter             28.77\n",
       "Sports              19.45\n",
       "Role-Playing        11.48\n",
       "Misc                 6.09"
      ]
     },
     "execution_count": 59,
     "metadata": {},
     "output_type": "execute_result"
    }
   ],
   "source": [
    "portrait('genre','other_sales')"
   ]
  },
  {
   "cell_type": "markdown",
   "metadata": {},
   "source": [
    "Популярные жанры во всех странах похожи - Action, Sports, Shooter, Racing, Misc. Отличается только япония, где лидирует Role-Playing и на 5 место пролез Platform. Скорее всего это связано с популярностью портативных приставок в Японии. "
   ]
  },
  {
   "cell_type": "markdown",
   "metadata": {},
   "source": [
    "<div class=\"alert alert-block alert-info\">\n",
    "\n",
    "Role-Playing везде входит в 5 лидеров на 4 месте, а Racing входит в 5 только в Европе. \n",
    "\n",
    "В Японии в топ 5 входит уникальный жанр Fighting. \n",
    "\n",
    "</div>"
   ]
  },
  {
   "cell_type": "markdown",
   "metadata": {},
   "source": [
    "### Влияние ESRB на продажи по регионам"
   ]
  },
  {
   "cell_type": "markdown",
   "metadata": {},
   "source": [
    "#### Северная Америка"
   ]
  },
  {
   "cell_type": "code",
   "execution_count": 60,
   "metadata": {},
   "outputs": [
    {
     "data": {
      "text/html": [
       "<div>\n",
       "<style scoped>\n",
       "    .dataframe tbody tr th:only-of-type {\n",
       "        vertical-align: middle;\n",
       "    }\n",
       "\n",
       "    .dataframe tbody tr th {\n",
       "        vertical-align: top;\n",
       "    }\n",
       "\n",
       "    .dataframe thead th {\n",
       "        text-align: right;\n",
       "    }\n",
       "</style>\n",
       "<table border=\"1\" class=\"dataframe\">\n",
       "  <thead>\n",
       "    <tr style=\"text-align: right;\">\n",
       "      <th></th>\n",
       "      <th>na_sales</th>\n",
       "    </tr>\n",
       "    <tr>\n",
       "      <th>rating</th>\n",
       "      <th></th>\n",
       "    </tr>\n",
       "  </thead>\n",
       "  <tbody>\n",
       "    <tr>\n",
       "      <th>M</th>\n",
       "      <td>165.21</td>\n",
       "    </tr>\n",
       "    <tr>\n",
       "      <th>undefined</th>\n",
       "      <td>89.42</td>\n",
       "    </tr>\n",
       "    <tr>\n",
       "      <th>E</th>\n",
       "      <td>79.05</td>\n",
       "    </tr>\n",
       "    <tr>\n",
       "      <th>E10+</th>\n",
       "      <td>54.24</td>\n",
       "    </tr>\n",
       "    <tr>\n",
       "      <th>T</th>\n",
       "      <td>49.79</td>\n",
       "    </tr>\n",
       "  </tbody>\n",
       "</table>\n",
       "</div>"
      ],
      "text/plain": [
       "           na_sales\n",
       "rating             \n",
       "M            165.21\n",
       "undefined     89.42\n",
       "E             79.05\n",
       "E10+          54.24\n",
       "T             49.79"
      ]
     },
     "execution_count": 60,
     "metadata": {},
     "output_type": "execute_result"
    }
   ],
   "source": [
    "portrait('rating','na_sales')"
   ]
  },
  {
   "cell_type": "markdown",
   "metadata": {},
   "source": [
    "#### Европа"
   ]
  },
  {
   "cell_type": "code",
   "execution_count": 61,
   "metadata": {},
   "outputs": [
    {
     "data": {
      "text/html": [
       "<div>\n",
       "<style scoped>\n",
       "    .dataframe tbody tr th:only-of-type {\n",
       "        vertical-align: middle;\n",
       "    }\n",
       "\n",
       "    .dataframe tbody tr th {\n",
       "        vertical-align: top;\n",
       "    }\n",
       "\n",
       "    .dataframe thead th {\n",
       "        text-align: right;\n",
       "    }\n",
       "</style>\n",
       "<table border=\"1\" class=\"dataframe\">\n",
       "  <thead>\n",
       "    <tr style=\"text-align: right;\">\n",
       "      <th></th>\n",
       "      <th>eu_sales</th>\n",
       "    </tr>\n",
       "    <tr>\n",
       "      <th>rating</th>\n",
       "      <th></th>\n",
       "    </tr>\n",
       "  </thead>\n",
       "  <tbody>\n",
       "    <tr>\n",
       "      <th>M</th>\n",
       "      <td>145.32</td>\n",
       "    </tr>\n",
       "    <tr>\n",
       "      <th>E</th>\n",
       "      <td>83.36</td>\n",
       "    </tr>\n",
       "    <tr>\n",
       "      <th>undefined</th>\n",
       "      <td>78.91</td>\n",
       "    </tr>\n",
       "    <tr>\n",
       "      <th>E10+</th>\n",
       "      <td>42.69</td>\n",
       "    </tr>\n",
       "    <tr>\n",
       "      <th>T</th>\n",
       "      <td>41.95</td>\n",
       "    </tr>\n",
       "  </tbody>\n",
       "</table>\n",
       "</div>"
      ],
      "text/plain": [
       "           eu_sales\n",
       "rating             \n",
       "M            145.32\n",
       "E             83.36\n",
       "undefined     78.91\n",
       "E10+          42.69\n",
       "T             41.95"
      ]
     },
     "execution_count": 61,
     "metadata": {},
     "output_type": "execute_result"
    }
   ],
   "source": [
    "portrait('rating','eu_sales')"
   ]
  },
  {
   "cell_type": "markdown",
   "metadata": {},
   "source": [
    "#### Япония"
   ]
  },
  {
   "cell_type": "code",
   "execution_count": 62,
   "metadata": {},
   "outputs": [
    {
     "data": {
      "text/html": [
       "<div>\n",
       "<style scoped>\n",
       "    .dataframe tbody tr th:only-of-type {\n",
       "        vertical-align: middle;\n",
       "    }\n",
       "\n",
       "    .dataframe tbody tr th {\n",
       "        vertical-align: top;\n",
       "    }\n",
       "\n",
       "    .dataframe thead th {\n",
       "        text-align: right;\n",
       "    }\n",
       "</style>\n",
       "<table border=\"1\" class=\"dataframe\">\n",
       "  <thead>\n",
       "    <tr style=\"text-align: right;\">\n",
       "      <th></th>\n",
       "      <th>jp_sales</th>\n",
       "    </tr>\n",
       "    <tr>\n",
       "      <th>rating</th>\n",
       "      <th></th>\n",
       "    </tr>\n",
       "  </thead>\n",
       "  <tbody>\n",
       "    <tr>\n",
       "      <th>undefined</th>\n",
       "      <td>85.05</td>\n",
       "    </tr>\n",
       "    <tr>\n",
       "      <th>T</th>\n",
       "      <td>20.59</td>\n",
       "    </tr>\n",
       "    <tr>\n",
       "      <th>E</th>\n",
       "      <td>15.14</td>\n",
       "    </tr>\n",
       "    <tr>\n",
       "      <th>M</th>\n",
       "      <td>14.11</td>\n",
       "    </tr>\n",
       "    <tr>\n",
       "      <th>E10+</th>\n",
       "      <td>5.89</td>\n",
       "    </tr>\n",
       "  </tbody>\n",
       "</table>\n",
       "</div>"
      ],
      "text/plain": [
       "           jp_sales\n",
       "rating             \n",
       "undefined     85.05\n",
       "T             20.59\n",
       "E             15.14\n",
       "M             14.11\n",
       "E10+           5.89"
      ]
     },
     "execution_count": 62,
     "metadata": {},
     "output_type": "execute_result"
    }
   ],
   "source": [
    "portrait('rating','jp_sales')"
   ]
  },
  {
   "cell_type": "markdown",
   "metadata": {},
   "source": [
    "#### Остальной мир"
   ]
  },
  {
   "cell_type": "code",
   "execution_count": 63,
   "metadata": {},
   "outputs": [
    {
     "data": {
      "text/html": [
       "<div>\n",
       "<style scoped>\n",
       "    .dataframe tbody tr th:only-of-type {\n",
       "        vertical-align: middle;\n",
       "    }\n",
       "\n",
       "    .dataframe tbody tr th {\n",
       "        vertical-align: top;\n",
       "    }\n",
       "\n",
       "    .dataframe thead th {\n",
       "        text-align: right;\n",
       "    }\n",
       "</style>\n",
       "<table border=\"1\" class=\"dataframe\">\n",
       "  <thead>\n",
       "    <tr style=\"text-align: right;\">\n",
       "      <th></th>\n",
       "      <th>other_sales</th>\n",
       "    </tr>\n",
       "    <tr>\n",
       "      <th>rating</th>\n",
       "      <th></th>\n",
       "    </tr>\n",
       "  </thead>\n",
       "  <tbody>\n",
       "    <tr>\n",
       "      <th>M</th>\n",
       "      <td>47.04</td>\n",
       "    </tr>\n",
       "    <tr>\n",
       "      <th>undefined</th>\n",
       "      <td>23.46</td>\n",
       "    </tr>\n",
       "    <tr>\n",
       "      <th>E</th>\n",
       "      <td>22.61</td>\n",
       "    </tr>\n",
       "    <tr>\n",
       "      <th>T</th>\n",
       "      <td>14.29</td>\n",
       "    </tr>\n",
       "    <tr>\n",
       "      <th>E10+</th>\n",
       "      <td>12.57</td>\n",
       "    </tr>\n",
       "  </tbody>\n",
       "</table>\n",
       "</div>"
      ],
      "text/plain": [
       "           other_sales\n",
       "rating                \n",
       "M                47.04\n",
       "undefined        23.46\n",
       "E                22.61\n",
       "T                14.29\n",
       "E10+             12.57"
      ]
     },
     "execution_count": 63,
     "metadata": {},
     "output_type": "execute_result"
    }
   ],
   "source": [
    "portrait('rating','other_sales')"
   ]
  },
  {
   "cell_type": "markdown",
   "metadata": {},
   "source": [
    "В целом возрастные рейтинги распределились похожим образом во всех регионах. Здесь можно выделить Европу, где игры для людей зрелого возраста пользуются чуть большей популярностью. В целом особое внимание нужно уделять играм с маркировкой E, T и M. "
   ]
  },
  {
   "cell_type": "markdown",
   "metadata": {},
   "source": [
    "<div class=\"alert alert-block alert-info\">\n",
    "\n",
    "Данные сильно изменились. Во всем мире, кроме Японии, лидируют игры для взрослых. Далее располгаются игры для всех, игры для всех от 10 лет и игры для подростков (в остальном ире сначала для подростков, потом 10+). \n",
    "    \n",
    "В Японии же на первом месте стоят игры с неопределенным рейтингом, а далее игры для подростков. Игры для взрослых занимают только 4 место. \n",
    "\n",
    "Также стоит отметить, что игры с неопределенным возрастным рейтингом везде входят в первую тройку, что означает, что отсутсвие рейтинга слабо влияет на принятие решения о покупке видеоигр. \n",
    "\n",
    "</div>"
   ]
  },
  {
   "cell_type": "markdown",
   "metadata": {},
   "source": [
    "# Проверка гипотез"
   ]
  },
  {
   "cell_type": "markdown",
   "metadata": {},
   "source": [
    "Удалим пропуски в столбиках рейтингов, т.к. они мешают произвести t-тест. Если заменять на нули или маркеры, то сильно влияет на средние значения и медиану."
   ]
  },
  {
   "cell_type": "code",
   "execution_count": 64,
   "metadata": {},
   "outputs": [],
   "source": [
    "games_split.dropna(subset=['user_score'],inplace=True)"
   ]
  },
  {
   "cell_type": "code",
   "execution_count": 65,
   "metadata": {},
   "outputs": [],
   "source": [
    "def indicators(column1,name1, column2, name2):\n",
    "    column1.hist(bins=50, range = (1,11), alpha = 0.7, figsize=(10,7))\n",
    "    column2.hist(bins=50, range = (1,11), alpha = 0.7, figsize=(10,7)).legend([name1, name2])\n",
    "    a = 'Распределение столбика ' + column1.name\n",
    "    plt.title(a)\n",
    "    plt.show()\n",
    "    sns.distplot(column1)\n",
    "    plt.title('Распределение для пользовательского рейтинга {}'.format(name1))\n",
    "    plt.show()\n",
    "    sns.distplot(column2)\n",
    "    plt.title('Распределение для пользовательского рейтинга {}'.format(name2))\n",
    "    plt.show()\n",
    "    \n",
    "    \n",
    "    data = []\n",
    "    columns=['platform','mean','median','var','std']\n",
    "    \n",
    "    list1=[name1]\n",
    "    mean1 = round(column1.mean(),2)\n",
    "    list1.append (mean1)\n",
    "    median1 = round(column1.median(),2)\n",
    "    list1.append (median1)\n",
    "    var1 = round(np.var(column1, ddof=1),2)\n",
    "    list1.append (var1)\n",
    "    std1 = round(np.std(column1, ddof=1), 2)\n",
    "    list1.append (std1)\n",
    "    data.append(list1)\n",
    "    \n",
    "\n",
    "    \n",
    "    list2=[name2]\n",
    "    mean2 = round(column2.mean(),2)\n",
    "    list2.append (mean2)\n",
    "    median2 = round(column2.median(),2)\n",
    "    list2.append (median2)\n",
    "    var2 = round(np.var(column2, ddof=1),2)\n",
    "    list2.append (var2)\n",
    "    std2 = round(np.std(column2, ddof=1), 2)\n",
    "    list2.append (std2)\n",
    "    data.append(list2)\n",
    "    \n",
    "    \n",
    "    alpha2 = 0.05\n",
    "    results = st.ttest_ind(column1, column2)\n",
    "    print()\n",
    "    print('p-значение:', results.pvalue)\n",
    "    \n",
    "    if results.pvalue < alpha2:\n",
    "        print('Отвергаем нулевую гипотезу')\n",
    "    else:\n",
    "        print('Не получилось отвергнуть нулевую гипотезу')\n",
    "    \n",
    "    df = pd.DataFrame(data = data, columns = columns)\n",
    "    return df"
   ]
  },
  {
   "cell_type": "markdown",
   "metadata": {},
   "source": [
    "#### Гипотеза о равенсте средних пользовательских оцено XOne и PC"
   ]
  },
  {
   "cell_type": "code",
   "execution_count": 66,
   "metadata": {},
   "outputs": [
    {
     "data": {
      "image/png": "[encoded data removed]",
      "text/plain": [
       "<Figure size 720x504 with 1 Axes>"
      ]
     },
     "metadata": {
      "needs_background": "light"
     },
     "output_type": "display_data"
    },
    {
     "data": {
      "image/png": "[encoded data removed]",
      "text/plain": [
       "<Figure size 432x288 with 1 Axes>"
      ]
     },
     "metadata": {
      "needs_background": "light"
     },
     "output_type": "display_data"
    },
    {
     "data": {
      "image/png": "[encoded data removed]",
      "text/plain": [
       "<Figure size 432x288 with 1 Axes>"
      ]
     },
     "metadata": {
      "needs_background": "light"
     },
     "output_type": "display_data"
    },
    {
     "name": "stdout",
     "output_type": "stream",
     "text": [
      "\n",
      "p-значение: 0.14012658403611647\n",
      "Не получилось отвергнуть нулевую гипотезу\n"
     ]
    },
    {
     "data": {
      "text/html": [
       "<div>\n",
       "<style scoped>\n",
       "    .dataframe tbody tr th:only-of-type {\n",
       "        vertical-align: middle;\n",
       "    }\n",
       "\n",
       "    .dataframe tbody tr th {\n",
       "        vertical-align: top;\n",
       "    }\n",
       "\n",
       "    .dataframe thead th {\n",
       "        text-align: right;\n",
       "    }\n",
       "</style>\n",
       "<table border=\"1\" class=\"dataframe\">\n",
       "  <thead>\n",
       "    <tr style=\"text-align: right;\">\n",
       "      <th></th>\n",
       "      <th>platform</th>\n",
       "      <th>mean</th>\n",
       "      <th>median</th>\n",
       "      <th>var</th>\n",
       "      <th>std</th>\n",
       "    </tr>\n",
       "  </thead>\n",
       "  <tbody>\n",
       "    <tr>\n",
       "      <th>0</th>\n",
       "      <td>PC</td>\n",
       "      <td>6.27</td>\n",
       "      <td>6.8</td>\n",
       "      <td>3.04</td>\n",
       "      <td>1.74</td>\n",
       "    </tr>\n",
       "    <tr>\n",
       "      <th>1</th>\n",
       "      <td>XOne</td>\n",
       "      <td>6.52</td>\n",
       "      <td>6.8</td>\n",
       "      <td>1.91</td>\n",
       "      <td>1.38</td>\n",
       "    </tr>\n",
       "  </tbody>\n",
       "</table>\n",
       "</div>"
      ],
      "text/plain": [
       "  platform  mean  median   var   std\n",
       "0       PC  6.27     6.8  3.04  1.74\n",
       "1     XOne  6.52     6.8  1.91  1.38"
      ]
     },
     "execution_count": 66,
     "metadata": {},
     "output_type": "execute_result"
    }
   ],
   "source": [
    "PC =games_split.loc[games_split['platform']=='PC', 'user_score']\n",
    "XOne = games_split.loc[games_split['platform']=='XOne', 'user_score']\n",
    "\n",
    "x='PC'\n",
    "x\n",
    "indicators (PC, 'PC', XOne, 'XOne')"
   ]
  },
  {
   "cell_type": "markdown",
   "metadata": {},
   "source": [
    "Гипотеза о равенсте средних пользовательских оценок для XBox One и PC не подтвердилась. "
   ]
  },
  {
   "cell_type": "markdown",
   "metadata": {},
   "source": [
    "<div class=\"alert alert-block alert-info\">\n",
    "\n",
    "Данные не противоречат нулевой гипотезе о равенстве средних пользовательских рейтингов PC и XBox. Есть вероятность, что обе выборки принадлежат одной генеральной совокупности. \n",
    "\n",
    "</div>"
   ]
  },
  {
   "cell_type": "markdown",
   "metadata": {},
   "source": [
    "#### Гипотеза о равенстве средних пользовательских оценок для жанров Action и Sports "
   ]
  },
  {
   "cell_type": "code",
   "execution_count": 67,
   "metadata": {},
   "outputs": [
    {
     "data": {
      "image/png": "[encoded data removed]",
      "text/plain": [
       "<Figure size 720x504 with 1 Axes>"
      ]
     },
     "metadata": {
      "needs_background": "light"
     },
     "output_type": "display_data"
    },
    {
     "data": {
      "image/png": "[encoded data removed]",
      "text/plain": [
       "<Figure size 432x288 with 1 Axes>"
      ]
     },
     "metadata": {
      "needs_background": "light"
     },
     "output_type": "display_data"
    },
    {
     "data": {
      "image/png": "[encoded data removed]",
      "text/plain": [
       "<Figure size 432x288 with 1 Axes>"
      ]
     },
     "metadata": {
      "needs_background": "light"
     },
     "output_type": "display_data"
    },
    {
     "name": "stdout",
     "output_type": "stream",
     "text": [
      "\n",
      "p-значение: 1.0517832389140023e-27\n",
      "Отвергаем нулевую гипотезу\n"
     ]
    },
    {
     "data": {
      "text/html": [
       "<div>\n",
       "<style scoped>\n",
       "    .dataframe tbody tr th:only-of-type {\n",
       "        vertical-align: middle;\n",
       "    }\n",
       "\n",
       "    .dataframe tbody tr th {\n",
       "        vertical-align: top;\n",
       "    }\n",
       "\n",
       "    .dataframe thead th {\n",
       "        text-align: right;\n",
       "    }\n",
       "</style>\n",
       "<table border=\"1\" class=\"dataframe\">\n",
       "  <thead>\n",
       "    <tr style=\"text-align: right;\">\n",
       "      <th></th>\n",
       "      <th>platform</th>\n",
       "      <th>mean</th>\n",
       "      <th>median</th>\n",
       "      <th>var</th>\n",
       "      <th>std</th>\n",
       "    </tr>\n",
       "  </thead>\n",
       "  <tbody>\n",
       "    <tr>\n",
       "      <th>0</th>\n",
       "      <td>action</td>\n",
       "      <td>6.84</td>\n",
       "      <td>7.1</td>\n",
       "      <td>1.77</td>\n",
       "      <td>1.33</td>\n",
       "    </tr>\n",
       "    <tr>\n",
       "      <th>1</th>\n",
       "      <td>sports</td>\n",
       "      <td>5.24</td>\n",
       "      <td>5.5</td>\n",
       "      <td>3.18</td>\n",
       "      <td>1.78</td>\n",
       "    </tr>\n",
       "  </tbody>\n",
       "</table>\n",
       "</div>"
      ],
      "text/plain": [
       "  platform  mean  median   var   std\n",
       "0   action  6.84     7.1  1.77  1.33\n",
       "1   sports  5.24     5.5  3.18  1.78"
      ]
     },
     "execution_count": 67,
     "metadata": {},
     "output_type": "execute_result"
    }
   ],
   "source": [
    "action = games_split.loc[games_split['genre']=='Action', 'user_score']\n",
    "sports = games_split.loc[games_split['genre']=='Sports', 'user_score']\n",
    "\n",
    "indicators (action, 'action', sports, 'sports')"
   ]
  },
  {
   "cell_type": "markdown",
   "metadata": {},
   "source": [
    "Средние значения слишком близки. Отвергнуть нулевую гипотезу не удалось. "
   ]
  },
  {
   "cell_type": "markdown",
   "metadata": {},
   "source": [
    "Результаты противоречат нулевой гипотезе. Маловероятно, что любители игр action и sports принадлежат одной генеральной совокупности. "
   ]
  },
  {
   "cell_type": "markdown",
   "metadata": {},
   "source": [
    "# Общий вывод"
   ]
  },
  {
   "cell_type": "markdown",
   "metadata": {},
   "source": [
    "На основании проведенного анализа мы готовы сформулировать выводы и предложить рекомендации по продвижению видеоигр для интернет-магазина \"Стримчик\". \n",
    "\n",
    "На конец 2016 года лидирующими приставками являются PS4 и Xbox One, продажи игр на эти платформы растут и достигнут пика примерно к 2018-2019 годам (судя по опыту предыдущих приставок пик наступает через 5 лет после их выхода). Жизненный цикл приставок составляет примерно 10-11 лет, что означает, производство этих приставок завершится к 2023 году. Возможен сдвиг сроков на 1-2 года вперед, т.к. наблюдается тенденция к увеличению срока жизни приставок. \n",
    "\n",
    "Особой популярностью на этих приставках пользуются игры жанра Action, Sports, Shooter. При этом следует обращать внимание на возрастную маркировку игр - по этому показателю лидируют игры с рейтингами M, E, T. \n",
    "\n",
    "Связь между пользовательскими рейтингами, рейтингами критиков с популярностью игр не подтвердилась. \n",
    "\n",
    "Следует обратить внимание, что при анализе данных был выявлен сильный региональный фактор. Из всех рассмотренных стран особое место занимает Япония, в которой особой популярностью пользуются портативные приставки Nintendo, а вот Xbox здесь не пользуется спросом. По причине популярности портативных приставок лидирующую позицию здесь занимает жанр Role-Playing (Action - 2 и Sports-3). Здесь следует делать упор на него. Однако в целом по миру замечена тенденция к снижению популярности портативных приставок. Следует обратить внимание на рынок мобильных игр, которые могут заменить портативные приставки в скором времени. \n",
    "\n",
    "Также необходимо отметить, что приставки Xbox в Японии совсем не пользуются популярность.\n",
    "\n",
    "Также нужно обратить внимание на платформу - PC. Несмотря на то, что персональные компьютеры значительно проигрывают Xbox и PS, PC обладают более стабильными продажами, которые не зависят от смены поколения \"железа\". Популярные жанры для этой платформы - Simulation, Role-Playing, Strategy. \n",
    "\n",
    "Исходя из этих выводов можно дать следующие рекомендации:<br>\n",
    "<b> В Северной америке, Европе, Остальном мире:</b>\n",
    "- Продвигать игры для XOne и PS4. Планировать рост рекламных бюджетов на их продвижение до 2019 года, после этого их можно планомерно сокращать с учётом, что к 2023 году эти приставки выйдут из производства.\n",
    "- Основную долю реклмного бюджета тратить на игры жанров Action, Shooter, Sports с возрастным рейтингом E, T, M. \n",
    "<br>\n",
    "<br>\n",
    "<b> В Японии:</b>\n",
    "- Продвигать игры для PS4 и Nintendo WiiU\n",
    "- Делать ставку на жанры Role-Playing, Action, Sports с возрастным рейтингом E, T, M. \n",
    "<br>\n",
    "<br>\n",
    "<b> Для игра на PC</b>\n",
    "- Продвигать игры жанра Simulation, Role-Playing, Strategy с возрастным рейтингом E, T, M."
   ]
  },
  {
   "cell_type": "markdown",
   "metadata": {},
   "source": [
    "<div class=\"alert alert-block alert-info\">\n",
    "\n",
    "<b> Дополнительные выводы </b><br>\n",
    "- Не получилось отвергнуть нулевую гипотезу о равенстве пользовательских рейтингов для PC и XOne. \n",
    "- Отвергли нулевую гипотезу о равенстве пользовательских рейтингов для жанров Action И Sports. \n",
    "- Заметили слабую корреляцию между рейтингами критиков и продажами игр. \n",
    "- DS3 входит в топ 5 популярных приставок в каждом из регионов. При продвижении стоит уделить бюджет и этой платформе. \n",
    "- В Японии популярны портативные приставки с лидерством DS3. Основной бюджет стоит направить на продвижение игр для DS3. На втором месте стоит поставить PS4, как приставку нового поколения. Остальное распределить между PS3, PSV, WiiU. \n",
    "- Во всем мире, кроме японии, стоит делать акцент на игрых с возрастным рейтингом M. Уже далее, E, T, E10+. В Японии лучше делать акцент на играх для подростков и для всех.  \n",
    "- Игры без возрастной маркировки так же пользуются популярностью, их стоит продвигать наравне со всеми. \n",
    "- Лидирующие жанры во всех странах Action, Shooter, Sports, Role-Playing. Несмотря на то, что Action лидирует по валовым продажам, другие жанры в среднем приносят больше прибыли на одну игру. Сконцентрировать рекламные бюджеты стоит на жанре Shooter - он на 2 месте по валовым продажам и на 1 по средним. Для Японии сконцентрироваться лучше на играх жанра Role-Playing.\n",
    "\n",
    "</div>"
   ]
  },
  {
   "cell_type": "code",
   "execution_count": null,
   "metadata": {},
   "outputs": [],
   "source": []
  }
 ],
 "metadata": {
  "ExecuteTimeLog": [
   {
    "duration": 1356,
    "start_time": "2021-08-09T17:51:19.150Z"
   },
   {
    "duration": 228,
    "start_time": "2021-08-09T17:51:20.509Z"
   },
   {
    "duration": 24,
    "start_time": "2021-08-09T17:51:20.740Z"
   },
   {
    "duration": 4,
    "start_time": "2021-08-09T17:52:30.648Z"
   },
   {
    "duration": 322,
    "start_time": "2021-08-09T17:52:30.655Z"
   },
   {
    "duration": 20,
    "start_time": "2021-08-09T17:52:30.979Z"
   },
   {
    "duration": 30,
    "start_time": "2021-08-09T17:52:31.002Z"
   },
   {
    "duration": 37,
    "start_time": "2021-08-09T17:52:31.034Z"
   },
   {
    "duration": 22,
    "start_time": "2021-08-09T17:52:31.073Z"
   },
   {
    "duration": 5,
    "start_time": "2021-08-09T17:52:31.098Z"
   },
   {
    "duration": 13,
    "start_time": "2021-08-09T17:52:31.106Z"
   },
   {
    "duration": 15,
    "start_time": "2021-08-09T17:52:31.121Z"
   },
   {
    "duration": 41,
    "start_time": "2021-08-09T17:52:31.138Z"
   },
   {
    "duration": 4,
    "start_time": "2021-08-09T18:16:18.314Z"
   },
   {
    "duration": 212,
    "start_time": "2021-08-09T18:16:18.321Z"
   },
   {
    "duration": 19,
    "start_time": "2021-08-09T18:16:18.536Z"
   },
   {
    "duration": 23,
    "start_time": "2021-08-09T18:16:18.558Z"
   },
   {
    "duration": 19,
    "start_time": "2021-08-09T18:16:18.584Z"
   },
   {
    "duration": 18,
    "start_time": "2021-08-09T18:16:18.606Z"
   },
   {
    "duration": 5,
    "start_time": "2021-08-09T18:16:18.658Z"
   },
   {
    "duration": 5,
    "start_time": "2021-08-09T18:16:18.667Z"
   },
   {
    "duration": 7,
    "start_time": "2021-08-09T18:16:18.674Z"
   },
   {
    "duration": 30,
    "start_time": "2021-08-09T18:16:18.684Z"
   },
   {
    "duration": 50,
    "start_time": "2021-08-09T18:16:18.717Z"
   },
   {
    "duration": 13,
    "start_time": "2021-08-09T18:16:18.769Z"
   },
   {
    "duration": 3,
    "start_time": "2021-08-09T18:16:18.784Z"
   },
   {
    "duration": 23,
    "start_time": "2021-08-09T18:16:18.789Z"
   },
   {
    "duration": 9,
    "start_time": "2021-08-09T18:16:18.815Z"
   },
   {
    "duration": 11,
    "start_time": "2021-08-09T18:16:18.857Z"
   },
   {
    "duration": 6,
    "start_time": "2021-08-09T18:16:18.870Z"
   },
   {
    "duration": 8,
    "start_time": "2021-08-09T18:16:18.878Z"
   },
   {
    "duration": 8,
    "start_time": "2021-08-09T18:16:18.890Z"
   },
   {
    "duration": 89,
    "start_time": "2021-08-09T18:16:18.900Z"
   },
   {
    "duration": 36,
    "start_time": "2021-08-09T18:16:18.992Z"
   },
   {
    "duration": 40,
    "start_time": "2021-08-09T18:16:19.030Z"
   },
   {
    "duration": 24,
    "start_time": "2021-08-09T18:16:19.072Z"
   },
   {
    "duration": 10,
    "start_time": "2021-08-09T18:16:19.099Z"
   },
   {
    "duration": 13,
    "start_time": "2021-08-09T18:16:19.111Z"
   },
   {
    "duration": 56,
    "start_time": "2021-08-09T18:16:19.127Z"
   },
   {
    "duration": 13,
    "start_time": "2021-08-09T18:16:19.185Z"
   },
   {
    "duration": 13,
    "start_time": "2021-08-09T18:16:19.201Z"
   },
   {
    "duration": 40,
    "start_time": "2021-08-09T18:16:19.217Z"
   },
   {
    "duration": 4,
    "start_time": "2021-08-09T18:17:41.112Z"
   },
   {
    "duration": 242,
    "start_time": "2021-08-09T18:17:41.119Z"
   },
   {
    "duration": 20,
    "start_time": "2021-08-09T18:17:41.364Z"
   },
   {
    "duration": 23,
    "start_time": "2021-08-09T18:17:41.386Z"
   },
   {
    "duration": 49,
    "start_time": "2021-08-09T18:17:41.411Z"
   },
   {
    "duration": 16,
    "start_time": "2021-08-09T18:17:41.462Z"
   },
   {
    "duration": 6,
    "start_time": "2021-08-09T18:17:41.480Z"
   },
   {
    "duration": 11,
    "start_time": "2021-08-09T18:17:41.490Z"
   },
   {
    "duration": 7,
    "start_time": "2021-08-09T18:17:41.505Z"
   },
   {
    "duration": 61,
    "start_time": "2021-08-09T18:17:41.514Z"
   },
   {
    "duration": 21,
    "start_time": "2021-08-09T18:17:41.578Z"
   },
   {
    "duration": 20,
    "start_time": "2021-08-09T18:17:41.601Z"
   },
   {
    "duration": 31,
    "start_time": "2021-08-09T18:17:41.624Z"
   },
   {
    "duration": 19,
    "start_time": "2021-08-09T18:17:41.658Z"
   },
   {
    "duration": 11,
    "start_time": "2021-08-09T18:17:41.679Z"
   },
   {
    "duration": 7,
    "start_time": "2021-08-09T18:17:41.693Z"
   },
   {
    "duration": 10,
    "start_time": "2021-08-09T18:17:41.702Z"
   },
   {
    "duration": 49,
    "start_time": "2021-08-09T18:17:41.714Z"
   },
   {
    "duration": 10,
    "start_time": "2021-08-09T18:17:41.766Z"
   },
   {
    "duration": 85,
    "start_time": "2021-08-09T18:17:41.779Z"
   },
   {
    "duration": 39,
    "start_time": "2021-08-09T18:17:41.867Z"
   },
   {
    "duration": 50,
    "start_time": "2021-08-09T18:17:41.909Z"
   },
   {
    "duration": 30,
    "start_time": "2021-08-09T18:17:41.965Z"
   },
   {
    "duration": 10,
    "start_time": "2021-08-09T18:17:41.999Z"
   },
   {
    "duration": 10,
    "start_time": "2021-08-09T18:17:42.012Z"
   },
   {
    "duration": 27,
    "start_time": "2021-08-09T18:17:42.058Z"
   },
   {
    "duration": 15,
    "start_time": "2021-08-09T18:17:42.088Z"
   },
   {
    "duration": 10,
    "start_time": "2021-08-09T18:17:42.105Z"
   },
   {
    "duration": 21,
    "start_time": "2021-08-09T18:17:42.155Z"
   },
   {
    "duration": 90,
    "start_time": "2021-08-09T18:17:42.178Z"
   },
   {
    "duration": 17,
    "start_time": "2021-08-09T18:17:42.270Z"
   },
   {
    "duration": 892,
    "start_time": "2021-08-09T18:17:42.289Z"
   },
   {
    "duration": 42,
    "start_time": "2021-08-09T18:17:43.184Z"
   },
   {
    "duration": 8,
    "start_time": "2021-08-09T18:17:58.751Z"
   },
   {
    "duration": 1463,
    "start_time": "2021-08-20T10:55:23.409Z"
   },
   {
    "duration": 249,
    "start_time": "2021-08-20T10:55:24.875Z"
   },
   {
    "duration": 29,
    "start_time": "2021-08-20T10:55:25.128Z"
   },
   {
    "duration": 24,
    "start_time": "2021-08-20T10:55:25.160Z"
   },
   {
    "duration": 21,
    "start_time": "2021-08-20T10:55:25.201Z"
   },
   {
    "duration": 16,
    "start_time": "2021-08-20T10:55:25.224Z"
   },
   {
    "duration": 6,
    "start_time": "2021-08-20T10:55:25.242Z"
   },
   {
    "duration": 4,
    "start_time": "2021-08-20T10:55:25.250Z"
   },
   {
    "duration": 42,
    "start_time": "2021-08-20T10:55:25.258Z"
   },
   {
    "duration": 27,
    "start_time": "2021-08-20T10:55:25.303Z"
   },
   {
    "duration": 20,
    "start_time": "2021-08-20T10:55:25.332Z"
   },
   {
    "duration": 53,
    "start_time": "2021-08-20T10:55:25.355Z"
   },
   {
    "duration": 6,
    "start_time": "2021-08-20T10:55:25.411Z"
   },
   {
    "duration": 19,
    "start_time": "2021-08-20T10:55:25.420Z"
   },
   {
    "duration": 122,
    "start_time": "2021-08-20T10:55:30.169Z"
   },
   {
    "duration": 492,
    "start_time": "2021-08-20T10:55:36.313Z"
   },
   {
    "duration": 8,
    "start_time": "2021-08-20T10:55:46.926Z"
   },
   {
    "duration": 379,
    "start_time": "2021-08-20T10:56:47.268Z"
   },
   {
    "duration": 9,
    "start_time": "2021-08-20T10:56:56.090Z"
   },
   {
    "duration": 6,
    "start_time": "2021-08-20T10:57:39.350Z"
   },
   {
    "duration": 10,
    "start_time": "2021-08-20T10:57:46.370Z"
   },
   {
    "duration": 29,
    "start_time": "2021-08-20T10:57:51.928Z"
   },
   {
    "duration": 6,
    "start_time": "2021-08-20T10:57:59.974Z"
   },
   {
    "duration": 129,
    "start_time": "2021-08-20T10:58:26.706Z"
   },
   {
    "duration": 117,
    "start_time": "2021-08-20T10:58:36.050Z"
   },
   {
    "duration": 155,
    "start_time": "2021-08-20T11:04:06.830Z"
   },
   {
    "duration": 122,
    "start_time": "2021-08-20T11:04:20.536Z"
   },
   {
    "duration": 367,
    "start_time": "2021-08-20T11:05:30.331Z"
   },
   {
    "duration": 4,
    "start_time": "2021-08-20T11:06:09.635Z"
   },
   {
    "duration": 193,
    "start_time": "2021-08-20T11:06:09.642Z"
   },
   {
    "duration": 21,
    "start_time": "2021-08-20T11:06:09.838Z"
   },
   {
    "duration": 40,
    "start_time": "2021-08-20T11:06:09.861Z"
   },
   {
    "duration": 20,
    "start_time": "2021-08-20T11:06:09.903Z"
   },
   {
    "duration": 15,
    "start_time": "2021-08-20T11:06:09.925Z"
   },
   {
    "duration": 14,
    "start_time": "2021-08-20T11:06:09.945Z"
   },
   {
    "duration": 12,
    "start_time": "2021-08-20T11:06:09.963Z"
   },
   {
    "duration": 25,
    "start_time": "2021-08-20T11:06:09.978Z"
   },
   {
    "duration": 38,
    "start_time": "2021-08-20T11:06:10.006Z"
   },
   {
    "duration": 21,
    "start_time": "2021-08-20T11:06:10.047Z"
   },
   {
    "duration": 40,
    "start_time": "2021-08-20T11:06:10.071Z"
   },
   {
    "duration": 13,
    "start_time": "2021-08-20T11:06:10.113Z"
   },
   {
    "duration": 24,
    "start_time": "2021-08-20T11:06:10.128Z"
   },
   {
    "duration": 15,
    "start_time": "2021-08-20T11:06:10.154Z"
   },
   {
    "duration": 27,
    "start_time": "2021-08-20T11:06:10.172Z"
   },
   {
    "duration": 17,
    "start_time": "2021-08-20T11:06:10.201Z"
   },
   {
    "duration": 15,
    "start_time": "2021-08-20T11:06:10.220Z"
   },
   {
    "duration": 6,
    "start_time": "2021-08-20T11:06:10.239Z"
   },
   {
    "duration": 12,
    "start_time": "2021-08-20T11:06:10.248Z"
   },
   {
    "duration": 70,
    "start_time": "2021-08-20T11:06:10.263Z"
   },
   {
    "duration": 38,
    "start_time": "2021-08-20T11:06:10.336Z"
   },
   {
    "duration": 28,
    "start_time": "2021-08-20T11:06:10.400Z"
   },
   {
    "duration": 25,
    "start_time": "2021-08-20T11:06:10.431Z"
   },
   {
    "duration": 9,
    "start_time": "2021-08-20T11:06:10.459Z"
   },
   {
    "duration": 13,
    "start_time": "2021-08-20T11:06:10.501Z"
   },
   {
    "duration": 26,
    "start_time": "2021-08-20T11:06:10.517Z"
   },
   {
    "duration": 54,
    "start_time": "2021-08-20T11:06:10.546Z"
   },
   {
    "duration": 3,
    "start_time": "2021-08-20T11:06:43.773Z"
   },
   {
    "duration": 5,
    "start_time": "2021-08-20T11:06:51.905Z"
   },
   {
    "duration": 412,
    "start_time": "2021-08-20T11:07:07.842Z"
   },
   {
    "duration": 451,
    "start_time": "2021-08-20T11:07:23.621Z"
   },
   {
    "duration": 5,
    "start_time": "2021-08-20T11:08:13.099Z"
   },
   {
    "duration": 6,
    "start_time": "2021-08-20T11:09:59.793Z"
   },
   {
    "duration": 124,
    "start_time": "2021-08-20T11:11:03.634Z"
   },
   {
    "duration": 4,
    "start_time": "2021-08-20T11:11:08.312Z"
   },
   {
    "duration": 5,
    "start_time": "2021-08-20T11:11:13.166Z"
   },
   {
    "duration": 8,
    "start_time": "2021-08-20T11:12:06.478Z"
   },
   {
    "duration": 36,
    "start_time": "2021-08-20T11:12:10.830Z"
   },
   {
    "duration": 12,
    "start_time": "2021-08-20T11:12:17.874Z"
   },
   {
    "duration": 8,
    "start_time": "2021-08-20T11:12:43.564Z"
   },
   {
    "duration": 409,
    "start_time": "2021-08-20T11:14:06.171Z"
   },
   {
    "duration": 25,
    "start_time": "2021-08-20T11:14:26.394Z"
   },
   {
    "duration": 329,
    "start_time": "2021-08-20T11:15:13.205Z"
   },
   {
    "duration": 1210,
    "start_time": "2021-08-20T11:15:28.601Z"
   },
   {
    "duration": 186,
    "start_time": "2021-08-20T11:15:34.922Z"
   },
   {
    "duration": 604,
    "start_time": "2021-08-20T11:15:40.619Z"
   },
   {
    "duration": 604,
    "start_time": "2021-08-20T11:16:02.744Z"
   },
   {
    "duration": 933,
    "start_time": "2021-08-20T11:16:19.985Z"
   },
   {
    "duration": 707,
    "start_time": "2021-08-20T11:16:41.836Z"
   },
   {
    "duration": 10848,
    "start_time": "2021-08-20T11:17:58.445Z"
   },
   {
    "duration": 9102,
    "start_time": "2021-08-20T11:18:09.860Z"
   },
   {
    "duration": 9247,
    "start_time": "2021-08-20T11:18:21.881Z"
   },
   {
    "duration": 10297,
    "start_time": "2021-08-20T11:18:45.309Z"
   },
   {
    "duration": 27,
    "start_time": "2021-08-20T11:19:07.899Z"
   },
   {
    "duration": 11098,
    "start_time": "2021-08-20T11:19:16.870Z"
   },
   {
    "duration": -10236,
    "start_time": "2021-08-20T11:20:03.971Z"
   },
   {
    "duration": 5,
    "start_time": "2021-08-20T11:20:03.399Z"
   },
   {
    "duration": 174,
    "start_time": "2021-08-20T11:20:03.409Z"
   },
   {
    "duration": 26,
    "start_time": "2021-08-20T11:20:03.586Z"
   },
   {
    "duration": 31,
    "start_time": "2021-08-20T11:20:03.617Z"
   },
   {
    "duration": 32,
    "start_time": "2021-08-20T11:20:03.650Z"
   },
   {
    "duration": 24,
    "start_time": "2021-08-20T11:20:03.702Z"
   },
   {
    "duration": 17,
    "start_time": "2021-08-20T11:20:03.731Z"
   },
   {
    "duration": 9,
    "start_time": "2021-08-20T11:20:03.751Z"
   },
   {
    "duration": 16,
    "start_time": "2021-08-20T11:20:03.762Z"
   },
   {
    "duration": 73,
    "start_time": "2021-08-20T11:20:03.780Z"
   },
   {
    "duration": 30,
    "start_time": "2021-08-20T11:20:03.855Z"
   },
   {
    "duration": 23,
    "start_time": "2021-08-20T11:20:03.889Z"
   },
   {
    "duration": 9,
    "start_time": "2021-08-20T11:20:03.915Z"
   },
   {
    "duration": 26,
    "start_time": "2021-08-20T11:20:03.927Z"
   },
   {
    "duration": 5,
    "start_time": "2021-08-20T11:20:03.956Z"
   },
   {
    "duration": 27,
    "start_time": "2021-08-20T11:20:03.964Z"
   },
   {
    "duration": 7,
    "start_time": "2021-08-20T11:20:03.994Z"
   },
   {
    "duration": 27,
    "start_time": "2021-08-20T11:20:04.004Z"
   },
   {
    "duration": 14,
    "start_time": "2021-08-20T11:20:04.036Z"
   },
   {
    "duration": 13,
    "start_time": "2021-08-20T11:20:04.053Z"
   },
   {
    "duration": 64,
    "start_time": "2021-08-20T11:20:04.068Z"
   },
   {
    "duration": 37,
    "start_time": "2021-08-20T11:20:04.135Z"
   },
   {
    "duration": 44,
    "start_time": "2021-08-20T11:20:04.174Z"
   },
   {
    "duration": 26,
    "start_time": "2021-08-20T11:20:04.221Z"
   },
   {
    "duration": 24,
    "start_time": "2021-08-20T11:20:04.249Z"
   },
   {
    "duration": 30,
    "start_time": "2021-08-20T11:20:04.276Z"
   },
   {
    "duration": 33,
    "start_time": "2021-08-20T11:20:04.309Z"
   },
   {
    "duration": 15,
    "start_time": "2021-08-20T11:20:04.344Z"
   },
   {
    "duration": 347,
    "start_time": "2021-08-20T11:20:07.525Z"
   },
   {
    "duration": 697,
    "start_time": "2021-08-20T11:20:32.773Z"
   },
   {
    "duration": 855,
    "start_time": "2021-08-20T11:20:51.882Z"
   },
   {
    "duration": 692,
    "start_time": "2021-08-20T11:21:39.640Z"
   },
   {
    "duration": 8,
    "start_time": "2021-08-20T11:23:26.113Z"
   },
   {
    "duration": 5,
    "start_time": "2021-08-20T11:23:32.753Z"
   },
   {
    "duration": 358,
    "start_time": "2021-08-20T11:23:32.761Z"
   },
   {
    "duration": 22,
    "start_time": "2021-08-20T11:23:33.122Z"
   },
   {
    "duration": 29,
    "start_time": "2021-08-20T11:23:33.146Z"
   },
   {
    "duration": 33,
    "start_time": "2021-08-20T11:23:33.178Z"
   },
   {
    "duration": 15,
    "start_time": "2021-08-20T11:23:33.213Z"
   },
   {
    "duration": 7,
    "start_time": "2021-08-20T11:23:33.231Z"
   },
   {
    "duration": 16,
    "start_time": "2021-08-20T11:23:33.241Z"
   },
   {
    "duration": 14,
    "start_time": "2021-08-20T11:23:33.260Z"
   },
   {
    "duration": 61,
    "start_time": "2021-08-20T11:23:33.277Z"
   },
   {
    "duration": 20,
    "start_time": "2021-08-20T11:23:33.340Z"
   },
   {
    "duration": 25,
    "start_time": "2021-08-20T11:23:33.362Z"
   },
   {
    "duration": 12,
    "start_time": "2021-08-20T11:23:33.390Z"
   },
   {
    "duration": 33,
    "start_time": "2021-08-20T11:23:33.405Z"
   },
   {
    "duration": 19,
    "start_time": "2021-08-20T11:23:33.440Z"
   },
   {
    "duration": 16,
    "start_time": "2021-08-20T11:23:33.461Z"
   },
   {
    "duration": 12,
    "start_time": "2021-08-20T11:23:33.479Z"
   },
   {
    "duration": 38,
    "start_time": "2021-08-20T11:23:33.493Z"
   },
   {
    "duration": 14,
    "start_time": "2021-08-20T11:23:33.536Z"
   },
   {
    "duration": 13,
    "start_time": "2021-08-20T11:23:33.553Z"
   },
   {
    "duration": 60,
    "start_time": "2021-08-20T11:23:33.568Z"
   },
   {
    "duration": 37,
    "start_time": "2021-08-20T11:23:33.631Z"
   },
   {
    "duration": 42,
    "start_time": "2021-08-20T11:23:33.670Z"
   },
   {
    "duration": 27,
    "start_time": "2021-08-20T11:23:33.718Z"
   },
   {
    "duration": 22,
    "start_time": "2021-08-20T11:23:33.747Z"
   },
   {
    "duration": 29,
    "start_time": "2021-08-20T11:23:33.771Z"
   },
   {
    "duration": 31,
    "start_time": "2021-08-20T11:23:33.803Z"
   },
   {
    "duration": 15,
    "start_time": "2021-08-20T11:23:33.836Z"
   },
   {
    "duration": 672,
    "start_time": "2021-08-20T11:23:33.854Z"
   },
   {
    "duration": 8,
    "start_time": "2021-08-20T11:23:34.528Z"
   },
   {
    "duration": 14,
    "start_time": "2021-08-20T11:23:35.714Z"
   },
   {
    "duration": 123,
    "start_time": "2021-08-20T11:24:14.839Z"
   },
   {
    "duration": 42,
    "start_time": "2021-08-20T11:24:28.521Z"
   },
   {
    "duration": 17,
    "start_time": "2021-08-20T11:25:13.915Z"
   },
   {
    "duration": 21,
    "start_time": "2021-08-20T11:25:23.306Z"
   },
   {
    "duration": 766,
    "start_time": "2021-08-20T11:26:35.498Z"
   },
   {
    "duration": 19,
    "start_time": "2021-08-20T11:27:18.736Z"
   },
   {
    "duration": 19,
    "start_time": "2021-08-20T11:27:25.972Z"
   },
   {
    "duration": 651,
    "start_time": "2021-08-20T11:27:40.233Z"
   },
   {
    "duration": 645,
    "start_time": "2021-08-20T11:30:25.555Z"
   },
   {
    "duration": 21,
    "start_time": "2021-08-20T11:32:27.521Z"
   },
   {
    "duration": 816,
    "start_time": "2021-08-20T11:32:32.358Z"
   },
   {
    "duration": 38,
    "start_time": "2021-08-20T11:33:12.762Z"
   },
   {
    "duration": 499,
    "start_time": "2021-08-20T11:33:53.282Z"
   },
   {
    "duration": 5,
    "start_time": "2021-08-20T11:34:32.529Z"
   },
   {
    "duration": 172,
    "start_time": "2021-08-20T11:34:32.536Z"
   },
   {
    "duration": 22,
    "start_time": "2021-08-20T11:34:32.712Z"
   },
   {
    "duration": 28,
    "start_time": "2021-08-20T11:34:32.738Z"
   },
   {
    "duration": 50,
    "start_time": "2021-08-20T11:34:32.769Z"
   },
   {
    "duration": 23,
    "start_time": "2021-08-20T11:34:32.823Z"
   },
   {
    "duration": 11,
    "start_time": "2021-08-20T11:34:32.849Z"
   },
   {
    "duration": 10,
    "start_time": "2021-08-20T11:34:32.862Z"
   },
   {
    "duration": 11,
    "start_time": "2021-08-20T11:34:32.876Z"
   },
   {
    "duration": 43,
    "start_time": "2021-08-20T11:34:32.889Z"
   },
   {
    "duration": 20,
    "start_time": "2021-08-20T11:34:32.935Z"
   },
   {
    "duration": 12,
    "start_time": "2021-08-20T11:34:32.957Z"
   },
   {
    "duration": 11,
    "start_time": "2021-08-20T11:34:32.971Z"
   },
   {
    "duration": 21,
    "start_time": "2021-08-20T11:34:33.001Z"
   },
   {
    "duration": 5,
    "start_time": "2021-08-20T11:34:33.024Z"
   },
   {
    "duration": 14,
    "start_time": "2021-08-20T11:34:33.032Z"
   },
   {
    "duration": 6,
    "start_time": "2021-08-20T11:34:33.048Z"
   },
   {
    "duration": 8,
    "start_time": "2021-08-20T11:34:33.056Z"
   },
   {
    "duration": 36,
    "start_time": "2021-08-20T11:34:33.066Z"
   },
   {
    "duration": 13,
    "start_time": "2021-08-20T11:34:33.104Z"
   },
   {
    "duration": 50,
    "start_time": "2021-08-20T11:34:33.119Z"
   },
   {
    "duration": 63,
    "start_time": "2021-08-20T11:34:33.172Z"
   },
   {
    "duration": 26,
    "start_time": "2021-08-20T11:34:33.237Z"
   },
   {
    "duration": 53,
    "start_time": "2021-08-20T11:34:33.265Z"
   },
   {
    "duration": 7,
    "start_time": "2021-08-20T11:34:33.320Z"
   },
   {
    "duration": 18,
    "start_time": "2021-08-20T11:34:33.330Z"
   },
   {
    "duration": 48,
    "start_time": "2021-08-20T11:34:33.352Z"
   },
   {
    "duration": 15,
    "start_time": "2021-08-20T11:34:33.402Z"
   },
   {
    "duration": 752,
    "start_time": "2021-08-20T11:34:33.420Z"
   },
   {
    "duration": 26,
    "start_time": "2021-08-20T11:34:34.175Z"
   },
   {
    "duration": 22,
    "start_time": "2021-08-20T11:34:34.204Z"
   },
   {
    "duration": 79,
    "start_time": "2021-08-20T11:34:34.229Z"
   },
   {
    "duration": 32,
    "start_time": "2021-08-20T11:34:34.312Z"
   },
   {
    "duration": 803,
    "start_time": "2021-08-20T11:34:34.346Z"
   },
   {
    "duration": 386,
    "start_time": "2021-08-20T11:34:46.796Z"
   },
   {
    "duration": 32,
    "start_time": "2021-08-20T11:35:51.903Z"
   },
   {
    "duration": 40,
    "start_time": "2021-08-20T11:36:15.812Z"
   },
   {
    "duration": 1056,
    "start_time": "2021-08-20T11:36:31.226Z"
   },
   {
    "duration": 42,
    "start_time": "2021-08-20T11:36:47.434Z"
   },
   {
    "duration": 44,
    "start_time": "2021-08-20T11:37:06.971Z"
   },
   {
    "duration": 42,
    "start_time": "2021-08-20T11:37:20.100Z"
   },
   {
    "duration": 58,
    "start_time": "2021-08-20T11:37:31.237Z"
   },
   {
    "duration": 7,
    "start_time": "2021-08-20T11:37:34.932Z"
   },
   {
    "duration": 118,
    "start_time": "2021-08-20T11:38:19.402Z"
   },
   {
    "duration": 687,
    "start_time": "2021-08-20T11:47:59.838Z"
   },
   {
    "duration": 118,
    "start_time": "2021-08-20T11:51:17.940Z"
   },
   {
    "duration": 131,
    "start_time": "2021-08-20T11:51:36.256Z"
   },
   {
    "duration": 673,
    "start_time": "2021-08-20T11:51:51.605Z"
   },
   {
    "duration": 660,
    "start_time": "2021-08-20T11:52:12.725Z"
   },
   {
    "duration": 821,
    "start_time": "2021-08-20T11:52:42.844Z"
   },
   {
    "duration": 6,
    "start_time": "2021-08-20T12:02:32.499Z"
   },
   {
    "duration": 905,
    "start_time": "2021-08-20T12:02:35.948Z"
   },
   {
    "duration": 775,
    "start_time": "2021-08-20T12:03:52.640Z"
   },
   {
    "duration": 406,
    "start_time": "2021-08-20T12:11:02.468Z"
   },
   {
    "duration": 31,
    "start_time": "2021-08-20T12:11:21.025Z"
   },
   {
    "duration": 405,
    "start_time": "2021-08-20T12:11:41.489Z"
   },
   {
    "duration": 31,
    "start_time": "2021-08-20T12:12:35.634Z"
   },
   {
    "duration": 37,
    "start_time": "2021-08-20T12:12:56.209Z"
   },
   {
    "duration": 41,
    "start_time": "2021-08-20T12:14:09.748Z"
   },
   {
    "duration": 44,
    "start_time": "2021-08-20T12:14:23.874Z"
   },
   {
    "duration": 4,
    "start_time": "2021-08-20T12:15:47.632Z"
   },
   {
    "duration": 243,
    "start_time": "2021-08-20T12:15:47.639Z"
   },
   {
    "duration": 22,
    "start_time": "2021-08-20T12:15:47.885Z"
   },
   {
    "duration": 25,
    "start_time": "2021-08-20T12:15:47.910Z"
   },
   {
    "duration": 25,
    "start_time": "2021-08-20T12:15:47.937Z"
   },
   {
    "duration": 45,
    "start_time": "2021-08-20T12:15:47.964Z"
   },
   {
    "duration": 5,
    "start_time": "2021-08-20T12:15:48.012Z"
   },
   {
    "duration": 4,
    "start_time": "2021-08-20T12:15:48.020Z"
   },
   {
    "duration": 5,
    "start_time": "2021-08-20T12:15:48.027Z"
   },
   {
    "duration": 29,
    "start_time": "2021-08-20T12:15:48.035Z"
   },
   {
    "duration": 52,
    "start_time": "2021-08-20T12:15:48.067Z"
   },
   {
    "duration": 14,
    "start_time": "2021-08-20T12:15:48.121Z"
   },
   {
    "duration": 3,
    "start_time": "2021-08-20T12:15:48.138Z"
   },
   {
    "duration": 17,
    "start_time": "2021-08-20T12:15:48.143Z"
   },
   {
    "duration": 38,
    "start_time": "2021-08-20T12:15:48.163Z"
   },
   {
    "duration": 18,
    "start_time": "2021-08-20T12:15:48.203Z"
   },
   {
    "duration": 9,
    "start_time": "2021-08-20T12:15:48.223Z"
   },
   {
    "duration": 10,
    "start_time": "2021-08-20T12:15:48.235Z"
   },
   {
    "duration": 7,
    "start_time": "2021-08-20T12:15:48.247Z"
   },
   {
    "duration": 43,
    "start_time": "2021-08-20T12:15:48.256Z"
   },
   {
    "duration": 48,
    "start_time": "2021-08-20T12:15:48.302Z"
   },
   {
    "duration": 59,
    "start_time": "2021-08-20T12:15:48.353Z"
   },
   {
    "duration": 27,
    "start_time": "2021-08-20T12:15:48.420Z"
   },
   {
    "duration": 52,
    "start_time": "2021-08-20T12:15:48.450Z"
   },
   {
    "duration": 7,
    "start_time": "2021-08-20T12:15:48.504Z"
   },
   {
    "duration": 10,
    "start_time": "2021-08-20T12:15:48.513Z"
   },
   {
    "duration": 28,
    "start_time": "2021-08-20T12:15:48.525Z"
   },
   {
    "duration": 46,
    "start_time": "2021-08-20T12:15:48.555Z"
   },
   {
    "duration": 669,
    "start_time": "2021-08-20T12:15:48.604Z"
   },
   {
    "duration": 8,
    "start_time": "2021-08-20T12:15:49.275Z"
   },
   {
    "duration": 12,
    "start_time": "2021-08-20T12:15:49.300Z"
   },
   {
    "duration": 46,
    "start_time": "2021-08-20T12:15:49.314Z"
   },
   {
    "duration": 45,
    "start_time": "2021-08-20T12:15:49.363Z"
   },
   {
    "duration": 757,
    "start_time": "2021-08-20T12:15:49.411Z"
   },
   {
    "duration": 45,
    "start_time": "2021-08-20T12:15:50.171Z"
   },
   {
    "duration": 48,
    "start_time": "2021-08-20T12:15:50.218Z"
   },
   {
    "duration": 7,
    "start_time": "2021-08-20T12:15:50.269Z"
   },
   {
    "duration": 742,
    "start_time": "2021-08-20T12:15:50.278Z"
   },
   {
    "duration": 902,
    "start_time": "2021-08-20T12:15:51.024Z"
   },
   {
    "duration": 6,
    "start_time": "2021-08-20T12:15:51.929Z"
   },
   {
    "duration": 899,
    "start_time": "2021-08-20T12:15:51.937Z"
   },
   {
    "duration": 909,
    "start_time": "2021-08-20T12:15:52.838Z"
   },
   {
    "duration": 908,
    "start_time": "2021-08-20T12:15:53.750Z"
   },
   {
    "duration": 839,
    "start_time": "2021-08-20T12:15:54.661Z"
   },
   {
    "duration": 790,
    "start_time": "2021-08-20T12:15:55.502Z"
   },
   {
    "duration": 851,
    "start_time": "2021-08-20T12:15:56.301Z"
   },
   {
    "duration": 62,
    "start_time": "2021-08-20T12:15:57.155Z"
   },
   {
    "duration": 32,
    "start_time": "2021-08-20T12:15:57.220Z"
   },
   {
    "duration": 54,
    "start_time": "2021-08-20T12:15:57.255Z"
   },
   {
    "duration": 21,
    "start_time": "2021-08-20T12:15:57.312Z"
   },
   {
    "duration": 5,
    "start_time": "2021-08-20T12:24:17.506Z"
   },
   {
    "duration": 21,
    "start_time": "2021-08-20T12:24:21.277Z"
   },
   {
    "duration": 21,
    "start_time": "2021-08-20T12:24:31.828Z"
   },
   {
    "duration": 20,
    "start_time": "2021-08-20T12:25:14.669Z"
   },
   {
    "duration": 19,
    "start_time": "2021-08-20T12:25:43.067Z"
   },
   {
    "duration": 19,
    "start_time": "2021-08-20T12:26:00.932Z"
   },
   {
    "duration": 20,
    "start_time": "2021-08-20T12:31:44.153Z"
   },
   {
    "duration": 19,
    "start_time": "2021-08-20T12:32:08.456Z"
   },
   {
    "duration": 20,
    "start_time": "2021-08-20T12:32:20.180Z"
   },
   {
    "duration": 19,
    "start_time": "2021-08-20T12:32:43.424Z"
   },
   {
    "duration": 124,
    "start_time": "2021-08-20T12:36:27.706Z"
   },
   {
    "duration": 19,
    "start_time": "2021-08-20T12:36:40.259Z"
   },
   {
    "duration": 22,
    "start_time": "2021-08-20T12:36:57.894Z"
   },
   {
    "duration": 20,
    "start_time": "2021-08-20T12:37:04.578Z"
   },
   {
    "duration": 24,
    "start_time": "2021-08-20T12:37:16.287Z"
   },
   {
    "duration": 13,
    "start_time": "2021-08-20T13:32:06.226Z"
   },
   {
    "duration": 1731,
    "start_time": "2021-08-20T13:32:10.450Z"
   },
   {
    "duration": 4,
    "start_time": "2021-08-20T13:32:37.990Z"
   },
   {
    "duration": 224,
    "start_time": "2021-08-20T13:32:37.997Z"
   },
   {
    "duration": 21,
    "start_time": "2021-08-20T13:32:38.224Z"
   },
   {
    "duration": 23,
    "start_time": "2021-08-20T13:32:38.248Z"
   },
   {
    "duration": 23,
    "start_time": "2021-08-20T13:32:38.302Z"
   },
   {
    "duration": 19,
    "start_time": "2021-08-20T13:32:38.328Z"
   },
   {
    "duration": 5,
    "start_time": "2021-08-20T13:32:38.349Z"
   },
   {
    "duration": 5,
    "start_time": "2021-08-20T13:32:38.357Z"
   },
   {
    "duration": 47,
    "start_time": "2021-08-20T13:32:38.365Z"
   },
   {
    "duration": 153,
    "start_time": "2021-08-20T13:32:38.414Z"
   },
   {
    "duration": 36,
    "start_time": "2021-08-20T13:32:38.569Z"
   },
   {
    "duration": 13,
    "start_time": "2021-08-20T13:32:38.608Z"
   },
   {
    "duration": 9,
    "start_time": "2021-08-20T13:32:38.623Z"
   },
   {
    "duration": 22,
    "start_time": "2021-08-20T13:32:38.634Z"
   },
   {
    "duration": 5,
    "start_time": "2021-08-20T13:32:38.659Z"
   },
   {
    "duration": 39,
    "start_time": "2021-08-20T13:32:38.666Z"
   },
   {
    "duration": 12,
    "start_time": "2021-08-20T13:32:38.707Z"
   },
   {
    "duration": 9,
    "start_time": "2021-08-20T13:32:38.721Z"
   },
   {
    "duration": 7,
    "start_time": "2021-08-20T13:32:38.732Z"
   },
   {
    "duration": 10,
    "start_time": "2021-08-20T13:32:38.741Z"
   },
   {
    "duration": 87,
    "start_time": "2021-08-20T13:32:38.753Z"
   },
   {
    "duration": 36,
    "start_time": "2021-08-20T13:32:38.843Z"
   },
   {
    "duration": 33,
    "start_time": "2021-08-20T13:32:38.901Z"
   },
   {
    "duration": 33,
    "start_time": "2021-08-20T13:32:38.938Z"
   },
   {
    "duration": 34,
    "start_time": "2021-08-20T13:32:38.974Z"
   },
   {
    "duration": 12,
    "start_time": "2021-08-20T13:32:39.010Z"
   },
   {
    "duration": 37,
    "start_time": "2021-08-20T13:32:39.025Z"
   },
   {
    "duration": 12,
    "start_time": "2021-08-20T13:32:39.065Z"
   },
   {
    "duration": 696,
    "start_time": "2021-08-20T13:32:39.080Z"
   },
   {
    "duration": 7,
    "start_time": "2021-08-20T13:32:39.778Z"
   },
   {
    "duration": 27,
    "start_time": "2021-08-20T13:32:39.803Z"
   },
   {
    "duration": 52,
    "start_time": "2021-08-20T13:32:39.832Z"
   },
   {
    "duration": 34,
    "start_time": "2021-08-20T13:32:39.887Z"
   },
   {
    "duration": 784,
    "start_time": "2021-08-20T13:32:39.924Z"
   },
   {
    "duration": 33,
    "start_time": "2021-08-20T13:32:40.710Z"
   },
   {
    "duration": 70,
    "start_time": "2021-08-20T13:32:40.745Z"
   },
   {
    "duration": 7,
    "start_time": "2021-08-20T13:32:40.817Z"
   },
   {
    "duration": 736,
    "start_time": "2021-08-20T13:32:40.826Z"
   },
   {
    "duration": 778,
    "start_time": "2021-08-20T13:32:41.566Z"
   },
   {
    "duration": 9,
    "start_time": "2021-08-20T13:32:42.347Z"
   },
   {
    "duration": 875,
    "start_time": "2021-08-20T13:32:42.358Z"
   },
   {
    "duration": 882,
    "start_time": "2021-08-20T13:32:43.235Z"
   },
   {
    "duration": 831,
    "start_time": "2021-08-20T13:32:44.119Z"
   },
   {
    "duration": 986,
    "start_time": "2021-08-20T13:32:44.953Z"
   },
   {
    "duration": 841,
    "start_time": "2021-08-20T13:32:45.941Z"
   },
   {
    "duration": 899,
    "start_time": "2021-08-20T13:32:46.785Z"
   },
   {
    "duration": 57,
    "start_time": "2021-08-20T13:32:47.686Z"
   },
   {
    "duration": 38,
    "start_time": "2021-08-20T13:32:47.746Z"
   },
   {
    "duration": 53,
    "start_time": "2021-08-20T13:32:47.787Z"
   },
   {
    "duration": 29,
    "start_time": "2021-08-20T13:32:47.842Z"
   },
   {
    "duration": 8,
    "start_time": "2021-08-20T13:32:47.873Z"
   },
   {
    "duration": 38,
    "start_time": "2021-08-20T13:32:47.883Z"
   },
   {
    "duration": 18,
    "start_time": "2021-08-20T13:32:47.924Z"
   },
   {
    "duration": 26,
    "start_time": "2021-08-20T13:32:47.944Z"
   },
   {
    "duration": 45,
    "start_time": "2021-08-20T13:32:47.972Z"
   },
   {
    "duration": 21,
    "start_time": "2021-08-20T13:32:48.020Z"
   },
   {
    "duration": 20,
    "start_time": "2021-08-20T13:32:48.044Z"
   },
   {
    "duration": 54,
    "start_time": "2021-08-20T13:32:48.067Z"
   },
   {
    "duration": 20,
    "start_time": "2021-08-20T13:32:48.123Z"
   },
   {
    "duration": 26,
    "start_time": "2021-08-20T13:32:48.146Z"
   },
   {
    "duration": 50,
    "start_time": "2021-08-20T13:32:48.174Z"
   },
   {
    "duration": 37,
    "start_time": "2021-08-20T13:32:48.226Z"
   },
   {
    "duration": 36,
    "start_time": "2021-08-20T13:32:48.266Z"
   },
   {
    "duration": 10,
    "start_time": "2021-08-20T13:32:48.308Z"
   },
   {
    "duration": 14,
    "start_time": "2021-08-20T13:32:48.321Z"
   },
   {
    "duration": 1677,
    "start_time": "2021-08-20T13:32:48.342Z"
   },
   {
    "duration": 13,
    "start_time": "2021-08-20T13:34:11.383Z"
   },
   {
    "duration": 1806,
    "start_time": "2021-08-20T13:34:13.473Z"
   },
   {
    "duration": 2186,
    "start_time": "2021-08-20T13:35:59.787Z"
   },
   {
    "duration": 1983,
    "start_time": "2021-08-20T13:36:18.686Z"
   },
   {
    "duration": 1834,
    "start_time": "2021-08-20T13:36:48.704Z"
   },
   {
    "duration": 12,
    "start_time": "2021-08-20T13:38:23.387Z"
   },
   {
    "duration": 1497,
    "start_time": "2021-08-20T13:38:27.144Z"
   },
   {
    "duration": 150,
    "start_time": "2021-08-20T13:44:35.531Z"
   },
   {
    "duration": 2734,
    "start_time": "2021-08-20T13:44:37.906Z"
   },
   {
    "duration": 9,
    "start_time": "2021-08-20T13:47:05.697Z"
   },
   {
    "duration": 9,
    "start_time": "2021-08-20T13:47:09.941Z"
   },
   {
    "duration": 10,
    "start_time": "2021-08-20T13:47:50.339Z"
   },
   {
    "duration": 371,
    "start_time": "2021-08-20T13:57:59.260Z"
   },
   {
    "duration": 13,
    "start_time": "2021-08-20T13:58:06.373Z"
   },
   {
    "duration": 1790,
    "start_time": "2021-08-20T13:58:08.239Z"
   },
   {
    "duration": 1814,
    "start_time": "2021-08-20T13:59:28.816Z"
   },
   {
    "duration": 13,
    "start_time": "2021-08-20T14:00:52.520Z"
   },
   {
    "duration": 1624,
    "start_time": "2021-08-20T14:00:54.447Z"
   },
   {
    "duration": 1453,
    "start_time": "2021-08-20T14:01:23.743Z"
   },
   {
    "duration": 13,
    "start_time": "2021-08-20T14:01:33.980Z"
   },
   {
    "duration": 1505,
    "start_time": "2021-08-20T14:01:35.703Z"
   },
   {
    "duration": 1687,
    "start_time": "2021-08-20T14:07:30.039Z"
   },
   {
    "duration": 129,
    "start_time": "2021-08-20T14:14:28.822Z"
   }
  ],
  "kernelspec": {
   "display_name": "Python 3 (ipykernel)",
   "language": "python",
   "name": "python3"
  },
  "language_info": {
   "codemirror_mode": {
    "name": "ipython",
    "version": 3
   },
   "file_extension": ".py",
   "mimetype": "text/x-python",
   "name": "python",
   "nbconvert_exporter": "python",
   "pygments_lexer": "ipython3",
   "version": "3.8.11"
  },
  "toc": {
   "base_numbering": 1,
   "nav_menu": {},
   "number_sections": true,
   "sideBar": true,
   "skip_h1_title": true,
   "title_cell": "Table of Contents",
   "title_sidebar": "Contents",
   "toc_cell": false,
   "toc_position": {},
   "toc_section_display": true,
   "toc_window_display": true
  }
 },
 "nbformat": 4,
 "nbformat_minor": 4
}
