{
 "cells": [
  {
   "cell_type": "markdown",
   "metadata": {},
   "source": [
    "<h1> Исследование популярных направлений авиаперелётов </h1>"
   ]
  },
  {
   "cell_type": "markdown",
   "metadata": {},
   "source": [
    "### Введение\n",
    "\n",
    "Цель работы - выявить факторы, которые влияют на выбор направлений авиапелетов пользователями. Для этого мы возьмем данные об авиаперелетах в России за 2018 год и сопоставим их с данными о крупнейших фестивалях, проходящих в разных городах. \n",
    "\n",
    "В наших руках данные об авиаперелетах в России за 2018 год, которые разбиты между несколькими  таблицами: airports, aircrafts, tickets, flights, ticket_flights. Данные о фестивалях мы возьмем с сайта https://######index.html. Для этого напишем парсер для сбора данных. \n",
    "\n",
    "Далее с помощью СУБД проведем исследовательский анализ данных, объединим таблицы и посчитаем: количество рейсов на каждую модель самолета, количество рейсов на модели самолетов - Boing, Airbus и другие, среднее количество прибывающих рейсов по каждому из городов. Визуализируем эти данные с помощью Python. Сравним, как менялся спрос на билеты в города, когда в них проходили фестивали. \n",
    "\n",
    "\n"
   ]
  },
  {
   "cell_type": "code",
   "execution_count": 1,
   "metadata": {},
   "outputs": [],
   "source": [
    "import pandas as pd\n",
    "from matplotlib import pyplot as plt\n",
    "import numpy as np"
   ]
  },
  {
   "cell_type": "code",
   "execution_count": 2,
   "metadata": {},
   "outputs": [],
   "source": [
    "models = pd.read_csv('https://####.csv')"
   ]
  },
  {
   "cell_type": "code",
   "execution_count": 3,
   "metadata": {},
   "outputs": [],
   "source": [
    "cities = pd.read_csv('https://####.csv')"
   ]
  },
  {
   "cell_type": "markdown",
   "metadata": {},
   "source": [
    "### Проверка данных"
   ]
  },
  {
   "cell_type": "code",
   "execution_count": 4,
   "metadata": {},
   "outputs": [
    {
     "name": "stdout",
     "output_type": "stream",
     "text": [
      "<class 'pandas.core.frame.DataFrame'>\n",
      "RangeIndex: 101 entries, 0 to 100\n",
      "Data columns (total 2 columns):\n",
      "city               101 non-null object\n",
      "average_flights    101 non-null float64\n",
      "dtypes: float64(1), object(1)\n",
      "memory usage: 1.7+ KB\n"
     ]
    }
   ],
   "source": [
    "cities.info()"
   ]
  },
  {
   "cell_type": "code",
   "execution_count": 5,
   "metadata": {},
   "outputs": [
    {
     "name": "stdout",
     "output_type": "stream",
     "text": [
      "<class 'pandas.core.frame.DataFrame'>\n",
      "RangeIndex: 8 entries, 0 to 7\n",
      "Data columns (total 2 columns):\n",
      "model             8 non-null object\n",
      "flights_amount    8 non-null int64\n",
      "dtypes: int64(1), object(1)\n",
      "memory usage: 256.0+ bytes\n"
     ]
    }
   ],
   "source": [
    "models.info()"
   ]
  },
  {
   "cell_type": "code",
   "execution_count": 6,
   "metadata": {},
   "outputs": [
    {
     "data": {
      "text/html": [
       "<div>\n",
       "<style scoped>\n",
       "    .dataframe tbody tr th:only-of-type {\n",
       "        vertical-align: middle;\n",
       "    }\n",
       "\n",
       "    .dataframe tbody tr th {\n",
       "        vertical-align: top;\n",
       "    }\n",
       "\n",
       "    .dataframe thead th {\n",
       "        text-align: right;\n",
       "    }\n",
       "</style>\n",
       "<table border=\"1\" class=\"dataframe\">\n",
       "  <thead>\n",
       "    <tr style=\"text-align: right;\">\n",
       "      <th></th>\n",
       "      <th>flights_amount</th>\n",
       "    </tr>\n",
       "  </thead>\n",
       "  <tbody>\n",
       "    <tr>\n",
       "      <td>count</td>\n",
       "      <td>8.000000</td>\n",
       "    </tr>\n",
       "    <tr>\n",
       "      <td>mean</td>\n",
       "      <td>2035.625000</td>\n",
       "    </tr>\n",
       "    <tr>\n",
       "      <td>std</td>\n",
       "      <td>1965.203947</td>\n",
       "    </tr>\n",
       "    <tr>\n",
       "      <td>min</td>\n",
       "      <td>300.000000</td>\n",
       "    </tr>\n",
       "    <tr>\n",
       "      <td>25%</td>\n",
       "      <td>605.250000</td>\n",
       "    </tr>\n",
       "    <tr>\n",
       "      <td>50%</td>\n",
       "      <td>795.000000</td>\n",
       "    </tr>\n",
       "    <tr>\n",
       "      <td>75%</td>\n",
       "      <td>4250.250000</td>\n",
       "    </tr>\n",
       "    <tr>\n",
       "      <td>max</td>\n",
       "      <td>4557.000000</td>\n",
       "    </tr>\n",
       "  </tbody>\n",
       "</table>\n",
       "</div>"
      ],
      "text/plain": [
       "       flights_amount\n",
       "count        8.000000\n",
       "mean      2035.625000\n",
       "std       1965.203947\n",
       "min        300.000000\n",
       "25%        605.250000\n",
       "50%        795.000000\n",
       "75%       4250.250000\n",
       "max       4557.000000"
      ]
     },
     "execution_count": 6,
     "metadata": {},
     "output_type": "execute_result"
    }
   ],
   "source": [
    "models.describe()"
   ]
  },
  {
   "cell_type": "markdown",
   "metadata": {},
   "source": [
    "Ошибок и пропусков в данных нет. "
   ]
  },
  {
   "cell_type": "code",
   "execution_count": 7,
   "metadata": {},
   "outputs": [],
   "source": [
    "cities.average_flights = cities.average_flights.astype(np.float16)"
   ]
  },
  {
   "cell_type": "markdown",
   "metadata": {},
   "source": [
    "### Топ 10 городов по количеству рейсов "
   ]
  },
  {
   "cell_type": "code",
   "execution_count": 8,
   "metadata": {},
   "outputs": [
    {
     "data": {
      "text/html": [
       "<div>\n",
       "<style scoped>\n",
       "    .dataframe tbody tr th:only-of-type {\n",
       "        vertical-align: middle;\n",
       "    }\n",
       "\n",
       "    .dataframe tbody tr th {\n",
       "        vertical-align: top;\n",
       "    }\n",
       "\n",
       "    .dataframe thead th {\n",
       "        text-align: right;\n",
       "    }\n",
       "</style>\n",
       "<table border=\"1\" class=\"dataframe\">\n",
       "  <thead>\n",
       "    <tr style=\"text-align: right;\">\n",
       "      <th></th>\n",
       "      <th>city</th>\n",
       "      <th>average_flights</th>\n",
       "    </tr>\n",
       "  </thead>\n",
       "  <tbody>\n",
       "    <tr>\n",
       "      <td>43</td>\n",
       "      <td>Москва</td>\n",
       "      <td>129.750000</td>\n",
       "    </tr>\n",
       "    <tr>\n",
       "      <td>70</td>\n",
       "      <td>Санкт-Петербург</td>\n",
       "      <td>31.156250</td>\n",
       "    </tr>\n",
       "    <tr>\n",
       "      <td>54</td>\n",
       "      <td>Новосибирск</td>\n",
       "      <td>17.328125</td>\n",
       "    </tr>\n",
       "    <tr>\n",
       "      <td>33</td>\n",
       "      <td>Красноярск</td>\n",
       "      <td>11.578125</td>\n",
       "    </tr>\n",
       "    <tr>\n",
       "      <td>20</td>\n",
       "      <td>Екатеринбург</td>\n",
       "      <td>11.320312</td>\n",
       "    </tr>\n",
       "    <tr>\n",
       "      <td>67</td>\n",
       "      <td>Ростов-на-Дону</td>\n",
       "      <td>10.195312</td>\n",
       "    </tr>\n",
       "    <tr>\n",
       "      <td>63</td>\n",
       "      <td>Пермь</td>\n",
       "      <td>10.132812</td>\n",
       "    </tr>\n",
       "    <tr>\n",
       "      <td>10</td>\n",
       "      <td>Брянск</td>\n",
       "      <td>10.000000</td>\n",
       "    </tr>\n",
       "    <tr>\n",
       "      <td>74</td>\n",
       "      <td>Сочи</td>\n",
       "      <td>9.609375</td>\n",
       "    </tr>\n",
       "    <tr>\n",
       "      <td>84</td>\n",
       "      <td>Ульяновск</td>\n",
       "      <td>9.578125</td>\n",
       "    </tr>\n",
       "  </tbody>\n",
       "</table>\n",
       "</div>"
      ],
      "text/plain": [
       "               city  average_flights\n",
       "43           Москва       129.750000\n",
       "70  Санкт-Петербург        31.156250\n",
       "54      Новосибирск        17.328125\n",
       "33       Красноярск        11.578125\n",
       "20     Екатеринбург        11.320312\n",
       "67   Ростов-на-Дону        10.195312\n",
       "63            Пермь        10.132812\n",
       "10           Брянск        10.000000\n",
       "74             Сочи         9.609375\n",
       "84        Ульяновск         9.578125"
      ]
     },
     "execution_count": 8,
     "metadata": {},
     "output_type": "execute_result"
    }
   ],
   "source": [
    "cities.sort_values('average_flights',ascending=False).head(10)"
   ]
  },
  {
   "cell_type": "markdown",
   "metadata": {},
   "source": [
    "### Графики"
   ]
  },
  {
   "cell_type": "code",
   "execution_count": 9,
   "metadata": {},
   "outputs": [
    {
     "data": {
      "image/png": "[encoded data removed]",
      "text/plain": [
       "<Figure size 720x504 with 1 Axes>"
      ]
     },
     "metadata": {
      "needs_background": "light"
     },
     "output_type": "display_data"
    }
   ],
   "source": [
    "models.plot(x='model',kind='barh', figsize = (10,7))\n",
    "plt.show()"
   ]
  },
  {
   "cell_type": "markdown",
   "metadata": {},
   "source": [
    "Airbus и Boing значительно проигрывают другим маркам самолётов (Bombardier, Cessna, Sukhoi). "
   ]
  },
  {
   "cell_type": "code",
   "execution_count": 10,
   "metadata": {},
   "outputs": [
    {
     "data": {
      "image/png": "[encoded data removed]",
      "text/plain": [
       "<Figure size 504x1440 with 1 Axes>"
      ]
     },
     "metadata": {
      "needs_background": "light"
     },
     "output_type": "display_data"
    }
   ],
   "source": [
    "cities.sort_values('average_flights',).plot(x='city',kind='barh', figsize = (7,20))\n",
    "plt.show()"
   ]
  },
  {
   "cell_type": "markdown",
   "metadata": {},
   "source": [
    "Москва является абсолютным лидером по среднему количеству рейсов, прибывающих в город за день в августе 2018 года."
   ]
  },
  {
   "cell_type": "code",
   "execution_count": 11,
   "metadata": {},
   "outputs": [
    {
     "data": {
      "image/png": "[encoded data removed]",
      "text/plain": [
       "<Figure size 504x720 with 1 Axes>"
      ]
     },
     "metadata": {
      "needs_background": "light"
     },
     "output_type": "display_data"
    }
   ],
   "source": [
    "cities.sort_values('average_flights',ascending=False).head(10).plot(x='city',kind='barh', figsize = (7,10))\n",
    "plt.show()"
   ]
  },
  {
   "cell_type": "markdown",
   "metadata": {},
   "source": [
    "После Москвы идут Санкт-Петербург и Новосибирск - северная столица и столица сибири. В остальных городах (из топ 10) количество прибывших рейсов практически не различается."
   ]
  },
  {
   "cell_type": "markdown",
   "metadata": {},
   "source": [
    "<div class=\"alert alert-info\">\n",
    "Показатель количества рейсов в день связан с населением городов, где аэропорты находятся. Так, первая тройка в рейтинге аэропортов совпадает с первыми тремя городами России по численности населения. <br>\n",
    "    <br>\n",
    "Однако если Москва и Санкт-Петербург сильно отличаются от других городов по численности населения, то Новосибирск ненамного обгоняет своих ближайших преследователей, при этом заметно обгоняет их по числу рейсов. Это связано с тем, что Новосибирск является крупным транзитным узлом между Юго-Восточной Азией и Европой и принимает большое количество международных рейсов.<br>\n",
    "    <br>\n",
    "Удивляет попадание Брянска в ТОП10. Возможно это связано с тем, что он находится на пути Юго-Восточного направления рейсов из Москвы и получает часть транзитного трафика. <br>\n",
    "    <br>\n",
    "Попадание Сочи в десятку объяснимо его туристической популярностью. \n",
    "</div>"
   ]
  },
  {
   "cell_type": "markdown",
   "metadata": {},
   "source": [
    "### Вывод\n",
    "\n",
    "В ходе работы мы проверили гипотезу о том, что проведение крупных фестивалей в городах влияет на количество рейсов в эти города. Для этого мы сопоставили данные о количестве рейсов в обычные недели и данные о колчестве рейсов в недели фестивалей на примере Москвы. В результате мы отвергли гипотезу о том, что проведение фестивалей влияет на выбор рейсов, т.к. количество пребывающих самолетов оставалось примерно на одном уровне. \n",
    "\n",
    "При анализе статистики входящих рейсов по всем городам, у нас получилось выявить связь количества рейсов с численностью населения городов. Однако дополнительно мы выявили влияние на количество рейсов расположение городов на пути крупных транзитных авиа потоков. \n",
    "\n",
    "Также в ходе анализа нам удалось выявить, что ближнемагистральные марки самолетов совершают значительно большее рейсов, чем средне и крупномагистральные. \n",
    "\n"
   ]
  }
 ],
 "metadata": {
  "ExecuteTimeLog": [
   {
    "duration": 733,
    "start_time": "2021-08-31T07:49:33.808Z"
   },
   {
    "duration": 117,
    "start_time": "2021-08-31T07:50:59.933Z"
   },
   {
    "duration": 26,
    "start_time": "2021-08-31T07:51:06.751Z"
   },
   {
    "duration": 127,
    "start_time": "2021-08-31T07:51:55.121Z"
   },
   {
    "duration": 20,
    "start_time": "2021-08-31T07:51:58.285Z"
   },
   {
    "duration": 463,
    "start_time": "2021-08-31T07:56:32.768Z"
   },
   {
    "duration": 10,
    "start_time": "2021-08-31T07:56:39.198Z"
   },
   {
    "duration": 360,
    "start_time": "2021-08-31T07:57:05.834Z"
   },
   {
    "duration": 389,
    "start_time": "2021-08-31T07:57:32.478Z"
   },
   {
    "duration": 68,
    "start_time": "2021-08-31T07:57:38.776Z"
   },
   {
    "duration": 12,
    "start_time": "2021-08-31T07:57:48.272Z"
   },
   {
    "duration": 64,
    "start_time": "2021-08-31T07:57:52.146Z"
   },
   {
    "duration": 9,
    "start_time": "2021-08-31T07:58:07.037Z"
   },
   {
    "duration": 9,
    "start_time": "2021-08-31T07:58:26.531Z"
   },
   {
    "duration": 8,
    "start_time": "2021-08-31T08:56:37.617Z"
   },
   {
    "duration": 11,
    "start_time": "2021-08-31T09:02:57.502Z"
   },
   {
    "duration": 429,
    "start_time": "2021-08-31T09:10:20.602Z"
   },
   {
    "duration": 274,
    "start_time": "2021-08-31T09:10:57.687Z"
   },
   {
    "duration": 127,
    "start_time": "2021-08-31T09:11:20.300Z"
   },
   {
    "duration": 309,
    "start_time": "2021-08-31T09:11:31.193Z"
   },
   {
    "duration": 682,
    "start_time": "2021-08-31T09:12:38.527Z"
   },
   {
    "duration": 3,
    "start_time": "2021-08-31T09:14:14.922Z"
   },
   {
    "duration": 285,
    "start_time": "2021-08-31T09:14:18.513Z"
   },
   {
    "duration": 17,
    "start_time": "2021-08-31T09:14:39.400Z"
   },
   {
    "duration": 132,
    "start_time": "2021-08-31T09:24:09.601Z"
   },
   {
    "duration": 603,
    "start_time": "2021-08-31T09:24:17.420Z"
   },
   {
    "duration": 590,
    "start_time": "2021-08-31T09:24:49.973Z"
   },
   {
    "duration": 575,
    "start_time": "2021-08-31T09:25:08.300Z"
   },
   {
    "duration": 524,
    "start_time": "2021-08-31T09:25:17.132Z"
   },
   {
    "duration": 411,
    "start_time": "2021-08-31T09:25:26.617Z"
   },
   {
    "duration": 9282,
    "start_time": "2021-08-31T09:28:43.100Z"
   },
   {
    "duration": 2203,
    "start_time": "2021-08-31T09:28:56.003Z"
   },
   {
    "duration": 2472,
    "start_time": "2021-08-31T09:29:25.859Z"
   },
   {
    "duration": 2328,
    "start_time": "2021-08-31T09:29:55.253Z"
   },
   {
    "duration": 2391,
    "start_time": "2021-08-31T09:30:09.106Z"
   },
   {
    "duration": 639,
    "start_time": "2021-08-31T09:36:14.006Z"
   },
   {
    "duration": 510,
    "start_time": "2021-08-31T09:36:25.232Z"
   },
   {
    "duration": 513,
    "start_time": "2021-08-31T09:36:38.296Z"
   },
   {
    "duration": 472,
    "start_time": "2021-08-31T09:36:45.550Z"
   },
   {
    "duration": 118,
    "start_time": "2021-08-31T09:42:35.774Z"
   },
   {
    "duration": 2505,
    "start_time": "2021-08-31T11:20:40.584Z"
   },
   {
    "duration": 2463,
    "start_time": "2021-08-31T11:20:49.947Z"
   },
   {
    "duration": 14,
    "start_time": "2021-08-31T11:23:47.655Z"
   },
   {
    "duration": 343,
    "start_time": "2021-08-31T11:24:40.952Z"
   },
   {
    "duration": 351,
    "start_time": "2021-08-31T11:24:49.667Z"
   },
   {
    "duration": 4,
    "start_time": "2021-08-31T11:25:03.411Z"
   },
   {
    "duration": 4,
    "start_time": "2021-08-31T11:25:06.841Z"
   },
   {
    "duration": 10,
    "start_time": "2021-08-31T11:25:23.627Z"
   },
   {
    "duration": 8,
    "start_time": "2021-08-31T11:25:27.124Z"
   },
   {
    "duration": 4,
    "start_time": "2021-08-31T11:25:43.540Z"
   },
   {
    "duration": 4,
    "start_time": "2021-08-31T11:25:52.370Z"
   },
   {
    "duration": 81,
    "start_time": "2021-08-31T11:25:52.377Z"
   },
   {
    "duration": 60,
    "start_time": "2021-08-31T11:25:52.461Z"
   },
   {
    "duration": 8,
    "start_time": "2021-08-31T11:25:52.524Z"
   },
   {
    "duration": 18,
    "start_time": "2021-08-31T11:25:52.534Z"
   },
   {
    "duration": 25,
    "start_time": "2021-08-31T11:25:52.554Z"
   },
   {
    "duration": 13,
    "start_time": "2021-08-31T11:25:52.581Z"
   },
   {
    "duration": 22,
    "start_time": "2021-08-31T11:25:52.596Z"
   },
   {
    "duration": 361,
    "start_time": "2021-08-31T11:25:52.621Z"
   },
   {
    "duration": 2320,
    "start_time": "2021-08-31T11:25:52.984Z"
   },
   {
    "duration": 521,
    "start_time": "2021-08-31T11:25:55.306Z"
   },
   {
    "duration": 5,
    "start_time": "2021-08-31T11:26:17.123Z"
   },
   {
    "duration": 129,
    "start_time": "2021-08-31T11:54:52.688Z"
   },
   {
    "duration": 4,
    "start_time": "2021-08-31T13:10:23.661Z"
   },
   {
    "duration": 3,
    "start_time": "2021-08-31T13:11:19.442Z"
   },
   {
    "duration": 380,
    "start_time": "2021-08-31T13:11:58.849Z"
   },
   {
    "duration": 397,
    "start_time": "2021-08-31T13:12:05.789Z"
   },
   {
    "duration": 400,
    "start_time": "2021-08-31T13:12:10.963Z"
   },
   {
    "duration": 360,
    "start_time": "2021-08-31T13:12:43.461Z"
   },
   {
    "duration": 737,
    "start_time": "2021-09-01T05:42:14.879Z"
   },
   {
    "duration": 84,
    "start_time": "2021-09-01T05:42:15.618Z"
   },
   {
    "duration": 139,
    "start_time": "2021-09-01T05:42:15.704Z"
   },
   {
    "duration": 8,
    "start_time": "2021-09-01T05:42:15.845Z"
   },
   {
    "duration": 16,
    "start_time": "2021-09-01T05:42:15.856Z"
   },
   {
    "duration": 27,
    "start_time": "2021-09-01T05:42:15.875Z"
   },
   {
    "duration": 6,
    "start_time": "2021-09-01T05:42:15.904Z"
   },
   {
    "duration": 18,
    "start_time": "2021-09-01T05:42:15.912Z"
   },
   {
    "duration": 259,
    "start_time": "2021-09-01T05:42:15.934Z"
   },
   {
    "duration": 1594,
    "start_time": "2021-09-01T05:42:16.196Z"
   },
   {
    "duration": 348,
    "start_time": "2021-09-01T05:42:17.793Z"
   }
  ],
  "kernelspec": {
   "display_name": "Python 3 (ipykernel)",
   "language": "python",
   "name": "python3"
  },
  "language_info": {
   "codemirror_mode": {
    "name": "ipython",
    "version": 3
   },
   "file_extension": ".py",
   "mimetype": "text/x-python",
   "name": "python",
   "nbconvert_exporter": "python",
   "pygments_lexer": "ipython3",
   "version": "3.8.11"
  },
  "toc": {
   "base_numbering": 1,
   "nav_menu": {},
   "number_sections": true,
   "sideBar": true,
   "skip_h1_title": true,
   "title_cell": "Table of Contents",
   "title_sidebar": "Contents",
   "toc_cell": false,
   "toc_position": {},
   "toc_section_display": true,
   "toc_window_display": false
  }
 },
 "nbformat": 4,
 "nbformat_minor": 2
}
