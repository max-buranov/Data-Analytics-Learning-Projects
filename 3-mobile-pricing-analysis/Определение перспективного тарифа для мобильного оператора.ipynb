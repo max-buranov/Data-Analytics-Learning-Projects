{
 "cells": [
  {
   "cell_type": "markdown",
   "metadata": {},
   "source": [
    "## Буранов М.М. Исследование тарифов \"Мегалайн\""
   ]
  },
  {
   "cell_type": "markdown",
   "metadata": {},
   "source": [
    "<h1>Содержание<span class=\"tocSkip\"></span></h1>\n",
    "<br>\n",
    "<div class=\"toc\">\n",
    "     <li>\n",
    "            <span>\n",
    "                <a href=\"#Введение\" data-toc-modified-id=\"Введение\">\n",
    "                    <span class=\"toc-item-num\">&nbsp;&nbsp;\n",
    "                    </span>Введение\n",
    "                </a>\n",
    "            </span>\n",
    "        </li>\n",
    "    <ul class=\"toc-item\">\n",
    "        <li>\n",
    "            <span>\n",
    "                <a href=\"#Изучение-данных-из-файла\" data-toc-modified-id=\"Изучение-данных-из-файла-1\">\n",
    "                    <span class=\"toc-item-num\">1&nbsp;&nbsp;\n",
    "                    </span>Изучение данных из файла\n",
    "                </a>\n",
    "            </span>\n",
    "    <ul class=\"toc-item\">\n",
    "        <li>\n",
    "            <span>\n",
    "                <a href=\"#Вывод\" data-toc-modified-id=\"Вывод-1.1\">\n",
    "                    <span class=\"toc-item-num\">1.1&nbsp;&nbsp;\n",
    "                    </span>Вывод</a></span>\n",
    "        </li>\n",
    "    </ul>\n",
    "        </li>\n",
    "        <li>\n",
    "            <span>\n",
    "                <a href=\"#Предобработка-данных\" data-toc-modified-id=\"Предобработка-данных-2\">\n",
    "                    <span class=\"toc-item-num\">2&nbsp;&nbsp;\n",
    "                    </span>Предобработка данных\n",
    "                </a>\n",
    "            </span>\n",
    "        </li>\n",
    "        <li>\n",
    "            <span>\n",
    "                <a href=\"#Дополнительные-расчеты\" data-toc-modified-id=\"Дополнительные-расчеты-3\">\n",
    "                    <span class=\"toc-item-num\">3&nbsp;&nbsp;\n",
    "                    </span>Дополнительные расчеты\n",
    "                </a>\n",
    "            </span>\n",
    "        </li>\n",
    "        <li>\n",
    "            <span>\n",
    "                <a href=\"#Анализ-данных\" data-toc-modified-id=\"Анализ-данных-4\">\n",
    "                    <span class=\"toc-item-num\">4&nbsp;&nbsp;\n",
    "                    </span>Анализ данных\n",
    "                </a>\n",
    "            </span>\n",
    "        </li>\n",
    "        <li>\n",
    "            <span>\n",
    "                <a href=\"#Общий-вывод\" data-toc-modified-id=\"Общий-вывод-5\">\n",
    "                    <span class=\"toc-item-num\">5&nbsp;&nbsp;\n",
    "                    </span>Общий вывод\n",
    "                </a>\n",
    "            </span>\n",
    "        </li>\n",
    "</div>"
   ]
  },
  {
   "cell_type": "markdown",
   "metadata": {},
   "source": [
    "## Введение\n",
    "\n",
    "Мы имеем данные о двух тарифах \"Смарт\" и \"Ультра\" федерального оператора сотовой связи \"Мегалайн\". Данные содержат информацию о 500 пользователях \"Мегалайна\" - количество совершенных звонков, СМС и использованный интернет.\n",
    "\n",
    "Необходимо выяснить, какой из тарифов приносит компании больше выручки. Для этого сформулируем две гипотезы. Нулевая - выручки тарифов \"Смарт\" и \"Ультра\" равны. Альтернативная - выручки двух тарифов отличаются. \n",
    "\n",
    "Также необходимо проверить, есть ли различия между выручкой по всем тарифам в Москве и в регионах. Нулевая гипотеза - выручки в Москве и регионах равны. Альтернативная - выручки в двух группах отличаются. "
   ]
  },
  {
   "cell_type": "markdown",
   "metadata": {},
   "source": [
    "## Изучение данных из файла"
   ]
  },
  {
   "cell_type": "code",
   "execution_count": 1,
   "metadata": {},
   "outputs": [],
   "source": [
    "import pandas as pd\n",
    "import math\n",
    "import warnings\n",
    "\n",
    "from matplotlib import pyplot as plt\n",
    "import numpy as np\n",
    "import scipy.stats as stats\n",
    "from scipy import stats as st\n",
    "import seaborn as sns\n",
    "\n",
    "warnings.simplefilter('ignore')\n"
   ]
  },
  {
   "cell_type": "code",
   "execution_count": 2,
   "metadata": {},
   "outputs": [],
   "source": [
    "calls = pd.read_csv('https:/####.csv')\n",
    "internet = pd.read_csv('https://####.csv')\n",
    "messages = pd.read_csv('https://####s.csv')\n",
    "tariffs = pd.read_csv('https://####s.csv')\n",
    "users = pd.read_csv('https://####.csv')"
   ]
  },
  {
   "cell_type": "markdown",
   "metadata": {},
   "source": [
    "### Описание таблицы \"calls\""
   ]
  },
  {
   "cell_type": "code",
   "execution_count": 3,
   "metadata": {},
   "outputs": [
    {
     "data": {
      "text/html": [
       "<div>\n",
       "<style scoped>\n",
       "    .dataframe tbody tr th:only-of-type {\n",
       "        vertical-align: middle;\n",
       "    }\n",
       "\n",
       "    .dataframe tbody tr th {\n",
       "        vertical-align: top;\n",
       "    }\n",
       "\n",
       "    .dataframe thead th {\n",
       "        text-align: right;\n",
       "    }\n",
       "</style>\n",
       "<table border=\"1\" class=\"dataframe\">\n",
       "  <thead>\n",
       "    <tr style=\"text-align: right;\">\n",
       "      <th></th>\n",
       "      <th>id</th>\n",
       "      <th>call_date</th>\n",
       "      <th>duration</th>\n",
       "      <th>user_id</th>\n",
       "    </tr>\n",
       "  </thead>\n",
       "  <tbody>\n",
       "    <tr>\n",
       "      <th>0</th>\n",
       "      <td>1000_0</td>\n",
       "      <td>2018-07-25</td>\n",
       "      <td>0.00</td>\n",
       "      <td>1000</td>\n",
       "    </tr>\n",
       "    <tr>\n",
       "      <th>1</th>\n",
       "      <td>1000_1</td>\n",
       "      <td>2018-08-17</td>\n",
       "      <td>0.00</td>\n",
       "      <td>1000</td>\n",
       "    </tr>\n",
       "    <tr>\n",
       "      <th>2</th>\n",
       "      <td>1000_2</td>\n",
       "      <td>2018-06-11</td>\n",
       "      <td>2.85</td>\n",
       "      <td>1000</td>\n",
       "    </tr>\n",
       "    <tr>\n",
       "      <th>3</th>\n",
       "      <td>1000_3</td>\n",
       "      <td>2018-09-21</td>\n",
       "      <td>13.80</td>\n",
       "      <td>1000</td>\n",
       "    </tr>\n",
       "    <tr>\n",
       "      <th>4</th>\n",
       "      <td>1000_4</td>\n",
       "      <td>2018-12-15</td>\n",
       "      <td>5.18</td>\n",
       "      <td>1000</td>\n",
       "    </tr>\n",
       "  </tbody>\n",
       "</table>\n",
       "</div>"
      ],
      "text/plain": [
       "       id   call_date  duration  user_id\n",
       "0  1000_0  2018-07-25      0.00     1000\n",
       "1  1000_1  2018-08-17      0.00     1000\n",
       "2  1000_2  2018-06-11      2.85     1000\n",
       "3  1000_3  2018-09-21     13.80     1000\n",
       "4  1000_4  2018-12-15      5.18     1000"
      ]
     },
     "execution_count": 3,
     "metadata": {},
     "output_type": "execute_result"
    }
   ],
   "source": [
    "calls.head()"
   ]
  },
  {
   "cell_type": "code",
   "execution_count": 4,
   "metadata": {},
   "outputs": [
    {
     "name": "stdout",
     "output_type": "stream",
     "text": [
      "<class 'pandas.core.frame.DataFrame'>\n",
      "RangeIndex: 202607 entries, 0 to 202606\n",
      "Data columns (total 4 columns):\n",
      " #   Column     Non-Null Count   Dtype  \n",
      "---  ------     --------------   -----  \n",
      " 0   id         202607 non-null  object \n",
      " 1   call_date  202607 non-null  object \n",
      " 2   duration   202607 non-null  float64\n",
      " 3   user_id    202607 non-null  int64  \n",
      "dtypes: float64(1), int64(1), object(2)\n",
      "memory usage: 6.2+ MB\n"
     ]
    }
   ],
   "source": [
    "calls.info()"
   ]
  },
  {
   "cell_type": "markdown",
   "metadata": {},
   "source": [
    "За весь 2018 год все клиенты совершили 202 607 звонков. Пропусков в таблице нет. Имеется информация о каждом звонке, его дате, продолжительности и пользователе, который его совершил.  \n",
    "\n",
    "В таблице  необходимо изменить тип данных у даты. \n",
    "\n",
    "Информацию о длительности звонка нужно округлить до минут (в большую сторону)."
   ]
  },
  {
   "cell_type": "markdown",
   "metadata": {},
   "source": [
    "### Описание таблицы \"internet\""
   ]
  },
  {
   "cell_type": "code",
   "execution_count": 5,
   "metadata": {},
   "outputs": [
    {
     "data": {
      "text/html": [
       "<div>\n",
       "<style scoped>\n",
       "    .dataframe tbody tr th:only-of-type {\n",
       "        vertical-align: middle;\n",
       "    }\n",
       "\n",
       "    .dataframe tbody tr th {\n",
       "        vertical-align: top;\n",
       "    }\n",
       "\n",
       "    .dataframe thead th {\n",
       "        text-align: right;\n",
       "    }\n",
       "</style>\n",
       "<table border=\"1\" class=\"dataframe\">\n",
       "  <thead>\n",
       "    <tr style=\"text-align: right;\">\n",
       "      <th></th>\n",
       "      <th>Unnamed: 0</th>\n",
       "      <th>id</th>\n",
       "      <th>mb_used</th>\n",
       "      <th>session_date</th>\n",
       "      <th>user_id</th>\n",
       "    </tr>\n",
       "  </thead>\n",
       "  <tbody>\n",
       "    <tr>\n",
       "      <th>0</th>\n",
       "      <td>0</td>\n",
       "      <td>1000_0</td>\n",
       "      <td>112.95</td>\n",
       "      <td>2018-11-25</td>\n",
       "      <td>1000</td>\n",
       "    </tr>\n",
       "    <tr>\n",
       "      <th>1</th>\n",
       "      <td>1</td>\n",
       "      <td>1000_1</td>\n",
       "      <td>1052.81</td>\n",
       "      <td>2018-09-07</td>\n",
       "      <td>1000</td>\n",
       "    </tr>\n",
       "    <tr>\n",
       "      <th>2</th>\n",
       "      <td>2</td>\n",
       "      <td>1000_2</td>\n",
       "      <td>1197.26</td>\n",
       "      <td>2018-06-25</td>\n",
       "      <td>1000</td>\n",
       "    </tr>\n",
       "    <tr>\n",
       "      <th>3</th>\n",
       "      <td>3</td>\n",
       "      <td>1000_3</td>\n",
       "      <td>550.27</td>\n",
       "      <td>2018-08-22</td>\n",
       "      <td>1000</td>\n",
       "    </tr>\n",
       "    <tr>\n",
       "      <th>4</th>\n",
       "      <td>4</td>\n",
       "      <td>1000_4</td>\n",
       "      <td>302.56</td>\n",
       "      <td>2018-09-24</td>\n",
       "      <td>1000</td>\n",
       "    </tr>\n",
       "  </tbody>\n",
       "</table>\n",
       "</div>"
      ],
      "text/plain": [
       "   Unnamed: 0      id  mb_used session_date  user_id\n",
       "0           0  1000_0   112.95   2018-11-25     1000\n",
       "1           1  1000_1  1052.81   2018-09-07     1000\n",
       "2           2  1000_2  1197.26   2018-06-25     1000\n",
       "3           3  1000_3   550.27   2018-08-22     1000\n",
       "4           4  1000_4   302.56   2018-09-24     1000"
      ]
     },
     "execution_count": 5,
     "metadata": {},
     "output_type": "execute_result"
    }
   ],
   "source": [
    "internet.head()"
   ]
  },
  {
   "cell_type": "code",
   "execution_count": 6,
   "metadata": {},
   "outputs": [
    {
     "name": "stdout",
     "output_type": "stream",
     "text": [
      "<class 'pandas.core.frame.DataFrame'>\n",
      "RangeIndex: 149396 entries, 0 to 149395\n",
      "Data columns (total 5 columns):\n",
      " #   Column        Non-Null Count   Dtype  \n",
      "---  ------        --------------   -----  \n",
      " 0   Unnamed: 0    149396 non-null  int64  \n",
      " 1   id            149396 non-null  object \n",
      " 2   mb_used       149396 non-null  float64\n",
      " 3   session_date  149396 non-null  object \n",
      " 4   user_id       149396 non-null  int64  \n",
      "dtypes: float64(1), int64(2), object(2)\n",
      "memory usage: 5.7+ MB\n"
     ]
    }
   ],
   "source": [
    "internet.info()"
   ]
  },
  {
   "cell_type": "code",
   "execution_count": null,
   "metadata": {},
   "outputs": [],
   "source": []
  },
  {
   "cell_type": "markdown",
   "metadata": {},
   "source": [
    "Всего за 2018 год было совершено 149 396 интернет сессий. Пропусков в таблице нет. \n",
    "\n",
    "В таблице  необходимо изменить тип данных у даты. \n"
   ]
  },
  {
   "cell_type": "markdown",
   "metadata": {},
   "source": [
    "### Описание таблицы \"messages\""
   ]
  },
  {
   "cell_type": "code",
   "execution_count": 7,
   "metadata": {},
   "outputs": [
    {
     "data": {
      "text/html": [
       "<div>\n",
       "<style scoped>\n",
       "    .dataframe tbody tr th:only-of-type {\n",
       "        vertical-align: middle;\n",
       "    }\n",
       "\n",
       "    .dataframe tbody tr th {\n",
       "        vertical-align: top;\n",
       "    }\n",
       "\n",
       "    .dataframe thead th {\n",
       "        text-align: right;\n",
       "    }\n",
       "</style>\n",
       "<table border=\"1\" class=\"dataframe\">\n",
       "  <thead>\n",
       "    <tr style=\"text-align: right;\">\n",
       "      <th></th>\n",
       "      <th>id</th>\n",
       "      <th>message_date</th>\n",
       "      <th>user_id</th>\n",
       "    </tr>\n",
       "  </thead>\n",
       "  <tbody>\n",
       "    <tr>\n",
       "      <th>0</th>\n",
       "      <td>1000_0</td>\n",
       "      <td>2018-06-27</td>\n",
       "      <td>1000</td>\n",
       "    </tr>\n",
       "    <tr>\n",
       "      <th>1</th>\n",
       "      <td>1000_1</td>\n",
       "      <td>2018-10-08</td>\n",
       "      <td>1000</td>\n",
       "    </tr>\n",
       "    <tr>\n",
       "      <th>2</th>\n",
       "      <td>1000_2</td>\n",
       "      <td>2018-08-04</td>\n",
       "      <td>1000</td>\n",
       "    </tr>\n",
       "    <tr>\n",
       "      <th>3</th>\n",
       "      <td>1000_3</td>\n",
       "      <td>2018-06-16</td>\n",
       "      <td>1000</td>\n",
       "    </tr>\n",
       "    <tr>\n",
       "      <th>4</th>\n",
       "      <td>1000_4</td>\n",
       "      <td>2018-12-05</td>\n",
       "      <td>1000</td>\n",
       "    </tr>\n",
       "  </tbody>\n",
       "</table>\n",
       "</div>"
      ],
      "text/plain": [
       "       id message_date  user_id\n",
       "0  1000_0   2018-06-27     1000\n",
       "1  1000_1   2018-10-08     1000\n",
       "2  1000_2   2018-08-04     1000\n",
       "3  1000_3   2018-06-16     1000\n",
       "4  1000_4   2018-12-05     1000"
      ]
     },
     "execution_count": 7,
     "metadata": {},
     "output_type": "execute_result"
    }
   ],
   "source": [
    "messages.head()"
   ]
  },
  {
   "cell_type": "code",
   "execution_count": 8,
   "metadata": {},
   "outputs": [
    {
     "name": "stdout",
     "output_type": "stream",
     "text": [
      "<class 'pandas.core.frame.DataFrame'>\n",
      "RangeIndex: 123036 entries, 0 to 123035\n",
      "Data columns (total 3 columns):\n",
      " #   Column        Non-Null Count   Dtype \n",
      "---  ------        --------------   ----- \n",
      " 0   id            123036 non-null  object\n",
      " 1   message_date  123036 non-null  object\n",
      " 2   user_id       123036 non-null  int64 \n",
      "dtypes: int64(1), object(2)\n",
      "memory usage: 2.8+ MB\n"
     ]
    }
   ],
   "source": [
    "messages.info()"
   ]
  },
  {
   "cell_type": "markdown",
   "metadata": {},
   "source": [
    "Всего за 2018 год было 123 036 сообщений. Пропусков в таблице нет. \n",
    "\n",
    "В таблице  необходимо изменить тип данных у даты."
   ]
  },
  {
   "cell_type": "markdown",
   "metadata": {},
   "source": [
    "### Описание таблицы \"tariffs\""
   ]
  },
  {
   "cell_type": "code",
   "execution_count": 9,
   "metadata": {},
   "outputs": [
    {
     "data": {
      "text/html": [
       "<div>\n",
       "<style scoped>\n",
       "    .dataframe tbody tr th:only-of-type {\n",
       "        vertical-align: middle;\n",
       "    }\n",
       "\n",
       "    .dataframe tbody tr th {\n",
       "        vertical-align: top;\n",
       "    }\n",
       "\n",
       "    .dataframe thead th {\n",
       "        text-align: right;\n",
       "    }\n",
       "</style>\n",
       "<table border=\"1\" class=\"dataframe\">\n",
       "  <thead>\n",
       "    <tr style=\"text-align: right;\">\n",
       "      <th></th>\n",
       "      <th>messages_included</th>\n",
       "      <th>mb_per_month_included</th>\n",
       "      <th>minutes_included</th>\n",
       "      <th>rub_monthly_fee</th>\n",
       "      <th>rub_per_gb</th>\n",
       "      <th>rub_per_message</th>\n",
       "      <th>rub_per_minute</th>\n",
       "      <th>tariff_name</th>\n",
       "    </tr>\n",
       "  </thead>\n",
       "  <tbody>\n",
       "    <tr>\n",
       "      <th>0</th>\n",
       "      <td>50</td>\n",
       "      <td>15360</td>\n",
       "      <td>500</td>\n",
       "      <td>550</td>\n",
       "      <td>200</td>\n",
       "      <td>3</td>\n",
       "      <td>3</td>\n",
       "      <td>smart</td>\n",
       "    </tr>\n",
       "    <tr>\n",
       "      <th>1</th>\n",
       "      <td>1000</td>\n",
       "      <td>30720</td>\n",
       "      <td>3000</td>\n",
       "      <td>1950</td>\n",
       "      <td>150</td>\n",
       "      <td>1</td>\n",
       "      <td>1</td>\n",
       "      <td>ultra</td>\n",
       "    </tr>\n",
       "  </tbody>\n",
       "</table>\n",
       "</div>"
      ],
      "text/plain": [
       "   messages_included  mb_per_month_included  minutes_included  \\\n",
       "0                 50                  15360               500   \n",
       "1               1000                  30720              3000   \n",
       "\n",
       "   rub_monthly_fee  rub_per_gb  rub_per_message  rub_per_minute tariff_name  \n",
       "0              550         200                3               3       smart  \n",
       "1             1950         150                1               1       ultra  "
      ]
     },
     "execution_count": 9,
     "metadata": {},
     "output_type": "execute_result"
    }
   ],
   "source": [
    "tariffs.head()\n"
   ]
  },
  {
   "cell_type": "code",
   "execution_count": null,
   "metadata": {},
   "outputs": [],
   "source": []
  },
  {
   "cell_type": "markdown",
   "metadata": {},
   "source": [
    "Таблица содержит полную информацию о тарифах. Менять данные не нужно. "
   ]
  },
  {
   "cell_type": "markdown",
   "metadata": {},
   "source": [
    "### Описание таблицы \"users\""
   ]
  },
  {
   "cell_type": "code",
   "execution_count": 10,
   "metadata": {},
   "outputs": [
    {
     "data": {
      "text/html": [
       "<div>\n",
       "<style scoped>\n",
       "    .dataframe tbody tr th:only-of-type {\n",
       "        vertical-align: middle;\n",
       "    }\n",
       "\n",
       "    .dataframe tbody tr th {\n",
       "        vertical-align: top;\n",
       "    }\n",
       "\n",
       "    .dataframe thead th {\n",
       "        text-align: right;\n",
       "    }\n",
       "</style>\n",
       "<table border=\"1\" class=\"dataframe\">\n",
       "  <thead>\n",
       "    <tr style=\"text-align: right;\">\n",
       "      <th></th>\n",
       "      <th>user_id</th>\n",
       "      <th>age</th>\n",
       "      <th>churn_date</th>\n",
       "      <th>city</th>\n",
       "      <th>first_name</th>\n",
       "      <th>last_name</th>\n",
       "      <th>reg_date</th>\n",
       "      <th>tariff</th>\n",
       "    </tr>\n",
       "  </thead>\n",
       "  <tbody>\n",
       "    <tr>\n",
       "      <th>0</th>\n",
       "      <td>1000</td>\n",
       "      <td>52</td>\n",
       "      <td>NaN</td>\n",
       "      <td>Краснодар</td>\n",
       "      <td>Рафаил</td>\n",
       "      <td>Верещагин</td>\n",
       "      <td>2018-05-25</td>\n",
       "      <td>ultra</td>\n",
       "    </tr>\n",
       "    <tr>\n",
       "      <th>1</th>\n",
       "      <td>1001</td>\n",
       "      <td>41</td>\n",
       "      <td>NaN</td>\n",
       "      <td>Москва</td>\n",
       "      <td>Иван</td>\n",
       "      <td>Ежов</td>\n",
       "      <td>2018-11-01</td>\n",
       "      <td>smart</td>\n",
       "    </tr>\n",
       "    <tr>\n",
       "      <th>2</th>\n",
       "      <td>1002</td>\n",
       "      <td>59</td>\n",
       "      <td>NaN</td>\n",
       "      <td>Стерлитамак</td>\n",
       "      <td>Евгений</td>\n",
       "      <td>Абрамович</td>\n",
       "      <td>2018-06-17</td>\n",
       "      <td>smart</td>\n",
       "    </tr>\n",
       "    <tr>\n",
       "      <th>3</th>\n",
       "      <td>1003</td>\n",
       "      <td>23</td>\n",
       "      <td>NaN</td>\n",
       "      <td>Москва</td>\n",
       "      <td>Белла</td>\n",
       "      <td>Белякова</td>\n",
       "      <td>2018-08-17</td>\n",
       "      <td>ultra</td>\n",
       "    </tr>\n",
       "    <tr>\n",
       "      <th>4</th>\n",
       "      <td>1004</td>\n",
       "      <td>68</td>\n",
       "      <td>NaN</td>\n",
       "      <td>Новокузнецк</td>\n",
       "      <td>Татьяна</td>\n",
       "      <td>Авдеенко</td>\n",
       "      <td>2018-05-14</td>\n",
       "      <td>ultra</td>\n",
       "    </tr>\n",
       "  </tbody>\n",
       "</table>\n",
       "</div>"
      ],
      "text/plain": [
       "   user_id  age churn_date         city first_name  last_name    reg_date  \\\n",
       "0     1000   52        NaN    Краснодар     Рафаил  Верещагин  2018-05-25   \n",
       "1     1001   41        NaN       Москва       Иван       Ежов  2018-11-01   \n",
       "2     1002   59        NaN  Стерлитамак    Евгений  Абрамович  2018-06-17   \n",
       "3     1003   23        NaN       Москва      Белла   Белякова  2018-08-17   \n",
       "4     1004   68        NaN  Новокузнецк    Татьяна   Авдеенко  2018-05-14   \n",
       "\n",
       "  tariff  \n",
       "0  ultra  \n",
       "1  smart  \n",
       "2  smart  \n",
       "3  ultra  \n",
       "4  ultra  "
      ]
     },
     "execution_count": 10,
     "metadata": {},
     "output_type": "execute_result"
    }
   ],
   "source": [
    "users.head()"
   ]
  },
  {
   "cell_type": "code",
   "execution_count": 11,
   "metadata": {},
   "outputs": [
    {
     "data": {
      "text/plain": [
       "500"
      ]
     },
     "execution_count": 11,
     "metadata": {},
     "output_type": "execute_result"
    }
   ],
   "source": [
    "users.user_id.nunique()"
   ]
  },
  {
   "cell_type": "markdown",
   "metadata": {},
   "source": [
    "Таблица содержит полную информацию о 500 пользователях. Можно изменить тип данных колонок churn_date и reg_date, однако для исследования она не нужна. "
   ]
  },
  {
   "cell_type": "markdown",
   "metadata": {},
   "source": [
    "### Какими средствами связи пользуются клиенты"
   ]
  },
  {
   "cell_type": "code",
   "execution_count": 12,
   "metadata": {},
   "outputs": [
    {
     "data": {
      "text/plain": [
       "492"
      ]
     },
     "execution_count": 12,
     "metadata": {},
     "output_type": "execute_result"
    }
   ],
   "source": [
    "calls.user_id.nunique()"
   ]
  },
  {
   "cell_type": "code",
   "execution_count": 13,
   "metadata": {},
   "outputs": [
    {
     "data": {
      "text/plain": [
       "497"
      ]
     },
     "execution_count": 13,
     "metadata": {},
     "output_type": "execute_result"
    }
   ],
   "source": [
    "internet.user_id.nunique()"
   ]
  },
  {
   "cell_type": "code",
   "execution_count": 14,
   "metadata": {},
   "outputs": [
    {
     "data": {
      "text/plain": [
       "426"
      ]
     },
     "execution_count": 14,
     "metadata": {},
     "output_type": "execute_result"
    }
   ],
   "source": [
    "messages.user_id.nunique()"
   ]
  },
  {
   "cell_type": "markdown",
   "metadata": {},
   "source": [
    "Среди всех клиентов есть те, кто не пользуется каким-либо видом связи. В некоторых строках появятся нули при объединении таблиц. "
   ]
  },
  {
   "cell_type": "markdown",
   "metadata": {},
   "source": [
    "### Уникальные user_id"
   ]
  },
  {
   "cell_type": "code",
   "execution_count": 15,
   "metadata": {},
   "outputs": [
    {
     "data": {
      "text/plain": [
       "user_id    500\n",
       "dtype: int64"
      ]
     },
     "execution_count": 15,
     "metadata": {},
     "output_type": "execute_result"
    }
   ],
   "source": [
    "id_list=messages['user_id'].tolist()+internet['user_id'].tolist()+calls['user_id'].tolist()+users['user_id'].tolist()\n",
    "data = pd.DataFrame(columns =['user_id'], data = id_list)\n",
    "data.nunique()"
   ]
  },
  {
   "cell_type": "markdown",
   "metadata": {},
   "source": [
    "Все таблицы содержат всю необходимую для анализа информацию. Пропусков в таблице нет. Необходимо изменить тип данных в столбиках дат и округлить данные о звонках. "
   ]
  },
  {
   "cell_type": "markdown",
   "metadata": {},
   "source": [
    "## Предобработка данных"
   ]
  },
  {
   "cell_type": "markdown",
   "metadata": {},
   "source": [
    "### Изменение типов в столбиках дат"
   ]
  },
  {
   "cell_type": "code",
   "execution_count": 16,
   "metadata": {},
   "outputs": [],
   "source": [
    "calls['call_date'] = pd.to_datetime(calls['call_date'], format='%Y.%m.%d')\n",
    "internet['session_date'] = pd.to_datetime(internet['session_date'], format='%Y.%m.%d')\n",
    "messages['message_date'] = pd.to_datetime(messages['message_date'], format='%Y.%m.%d')"
   ]
  },
  {
   "cell_type": "markdown",
   "metadata": {},
   "source": [
    "### Округление данных"
   ]
  },
  {
   "cell_type": "code",
   "execution_count": 17,
   "metadata": {},
   "outputs": [],
   "source": [
    "calls['duration']=calls['duration'].apply(math.ceil)\n",
    "internet['gb_used']=internet['mb_used']/1000"
   ]
  },
  {
   "cell_type": "markdown",
   "metadata": {},
   "source": [
    "Звонки округлили, т.к. до минуты округляется каждый звонок. \n",
    "\n",
    "Интернет пока не округлили, т.к. округляется превышение лимита за месяц. "
   ]
  },
  {
   "cell_type": "markdown",
   "metadata": {},
   "source": [
    "### Добавление столбика \"месяц\""
   ]
  },
  {
   "cell_type": "code",
   "execution_count": 18,
   "metadata": {},
   "outputs": [],
   "source": [
    "calls['month']=calls['call_date'].dt.month\n",
    "internet['month']=internet['session_date'].dt.month\n",
    "messages['month']=messages['message_date'].dt.month"
   ]
  },
  {
   "cell_type": "markdown",
   "metadata": {},
   "source": [
    "### Сводные таблицы по месяцам"
   ]
  },
  {
   "cell_type": "markdown",
   "metadata": {},
   "source": [
    "#### Звонки"
   ]
  },
  {
   "cell_type": "code",
   "execution_count": 19,
   "metadata": {},
   "outputs": [],
   "source": [
    "calls_pivot = calls.pivot_table(index =['user_id','month'], values ='duration',aggfunc=['count','sum'])\n",
    "calls_pivot.columns = ['count_calls','sum_calls']\n",
    "calls_pivot = calls_pivot.reset_index(level='month')"
   ]
  },
  {
   "cell_type": "markdown",
   "metadata": {},
   "source": [
    "#### Сообщения"
   ]
  },
  {
   "cell_type": "code",
   "execution_count": 20,
   "metadata": {},
   "outputs": [],
   "source": [
    "messages_pivot = messages.pivot_table(index =['user_id','month'], values ='id',aggfunc=['count'])\n",
    "messages_pivot.columns = ['count_messages']"
   ]
  },
  {
   "cell_type": "markdown",
   "metadata": {},
   "source": [
    "#### Интернет"
   ]
  },
  {
   "cell_type": "code",
   "execution_count": 21,
   "metadata": {},
   "outputs": [],
   "source": [
    "internet_pivot = internet.pivot_table(index =['user_id','month'], values ='gb_used',aggfunc=['sum'])\n",
    "internet_pivot.columns = ['gb_used']"
   ]
  },
  {
   "cell_type": "markdown",
   "metadata": {},
   "source": [
    "### Выручка по месяцам"
   ]
  },
  {
   "cell_type": "markdown",
   "metadata": {},
   "source": [
    "#### Объединим все таблицы."
   ]
  },
  {
   "cell_type": "code",
   "execution_count": 22,
   "metadata": {},
   "outputs": [
    {
     "name": "stdout",
     "output_type": "stream",
     "text": [
      "<class 'pandas.core.frame.DataFrame'>\n",
      "Int64Index: 3216 entries, 0 to 3215\n",
      "Data columns (total 8 columns):\n",
      " #   Column           Non-Null Count  Dtype  \n",
      "---  ------           --------------  -----  \n",
      " 0   user_id          3216 non-null   int64  \n",
      " 1   month            3214 non-null   float64\n",
      " 2   gb_used          3203 non-null   float64\n",
      " 3   sum_calls        3174 non-null   float64\n",
      " 4   count_messages   2717 non-null   float64\n",
      " 5   city             3216 non-null   object \n",
      " 6   tariff           3216 non-null   object \n",
      " 7   rub_monthly_fee  3216 non-null   int64  \n",
      "dtypes: float64(4), int64(2), object(2)\n",
      "memory usage: 226.1+ KB\n"
     ]
    }
   ],
   "source": [
    "data_unit = (internet_pivot\n",
    "    .merge(calls_pivot, how='outer', on=['user_id','month'])\n",
    "    .merge(messages_pivot, how='outer', on=['user_id','month'])\n",
    ")\n",
    "data_unit_with_users = users.merge(data_unit, how = 'left', on = 'user_id')\n",
    "\n",
    "tariffs.rename({'tariff_name':'tariff'}, axis=1, inplace = True)\n",
    "#Переименуем столбец с названиями тарифов в таблице tariffs.\n",
    "\n",
    "general_pivot = data_unit_with_users.merge(tariffs, how ='left', on='tariff')\n",
    "\n",
    "\n",
    "general_pivot_split = (\n",
    "    general_pivot[\n",
    "        ['user_id','month','gb_used','sum_calls','count_messages','city','tariff','rub_monthly_fee'\n",
    "         ]]\n",
    ")\n",
    "general_pivot_split.info()\n"
   ]
  },
  {
   "cell_type": "code",
   "execution_count": 23,
   "metadata": {},
   "outputs": [
    {
     "data": {
      "text/html": [
       "<div>\n",
       "<style scoped>\n",
       "    .dataframe tbody tr th:only-of-type {\n",
       "        vertical-align: middle;\n",
       "    }\n",
       "\n",
       "    .dataframe tbody tr th {\n",
       "        vertical-align: top;\n",
       "    }\n",
       "\n",
       "    .dataframe thead th {\n",
       "        text-align: right;\n",
       "    }\n",
       "</style>\n",
       "<table border=\"1\" class=\"dataframe\">\n",
       "  <thead>\n",
       "    <tr style=\"text-align: right;\">\n",
       "      <th></th>\n",
       "      <th>user_id</th>\n",
       "      <th>month</th>\n",
       "      <th>gb_used</th>\n",
       "      <th>sum_calls</th>\n",
       "      <th>count_messages</th>\n",
       "      <th>city</th>\n",
       "      <th>tariff</th>\n",
       "      <th>rub_monthly_fee</th>\n",
       "    </tr>\n",
       "  </thead>\n",
       "  <tbody>\n",
       "    <tr>\n",
       "      <th>827</th>\n",
       "      <td>1128</td>\n",
       "      <td>NaN</td>\n",
       "      <td>NaN</td>\n",
       "      <td>NaN</td>\n",
       "      <td>NaN</td>\n",
       "      <td>Волжский</td>\n",
       "      <td>ultra</td>\n",
       "      <td>1950</td>\n",
       "    </tr>\n",
       "    <tr>\n",
       "      <th>2335</th>\n",
       "      <td>1371</td>\n",
       "      <td>NaN</td>\n",
       "      <td>NaN</td>\n",
       "      <td>NaN</td>\n",
       "      <td>NaN</td>\n",
       "      <td>Омск</td>\n",
       "      <td>smart</td>\n",
       "      <td>550</td>\n",
       "    </tr>\n",
       "  </tbody>\n",
       "</table>\n",
       "</div>"
      ],
      "text/plain": [
       "      user_id  month  gb_used  sum_calls  count_messages      city tariff  \\\n",
       "827      1128    NaN      NaN        NaN             NaN  Волжский  ultra   \n",
       "2335     1371    NaN      NaN        NaN             NaN      Омск  smart   \n",
       "\n",
       "      rub_monthly_fee  \n",
       "827              1950  \n",
       "2335              550  "
      ]
     },
     "execution_count": 23,
     "metadata": {},
     "output_type": "execute_result"
    }
   ],
   "source": [
    "general_pivot_split[general_pivot_split['month'].isna()]"
   ]
  },
  {
   "cell_type": "markdown",
   "metadata": {},
   "source": [
    "По 2 пользователям нет никаких данных - эти строчки удалим."
   ]
  },
  {
   "cell_type": "code",
   "execution_count": 24,
   "metadata": {},
   "outputs": [],
   "source": [
    "general_pivot_split = general_pivot_split.drop(general_pivot_split[general_pivot_split['month'].isna()].index)"
   ]
  },
  {
   "cell_type": "markdown",
   "metadata": {},
   "source": [
    "Ещё у нас появились ячейки с пустыми значениями. Заменим их на нули. "
   ]
  },
  {
   "cell_type": "code",
   "execution_count": 25,
   "metadata": {},
   "outputs": [],
   "source": [
    "general_pivot_split.fillna(0, inplace=True)"
   ]
  },
  {
   "cell_type": "markdown",
   "metadata": {},
   "source": [
    "## Дополнительные расчеты"
   ]
  },
  {
   "cell_type": "markdown",
   "metadata": {},
   "source": [
    "#### Разделим таблицу на две по тарифам"
   ]
  },
  {
   "cell_type": "code",
   "execution_count": 26,
   "metadata": {},
   "outputs": [],
   "source": [
    "smart_table = general_pivot_split.query('tariff==\"smart\"')\n",
    "ultra_table = general_pivot_split.query('tariff==\"ultra\"')"
   ]
  },
  {
   "cell_type": "markdown",
   "metadata": {},
   "source": [
    "#### Создадим функцию, которая считает сумму переплаты по виду связи"
   ]
  },
  {
   "cell_type": "code",
   "execution_count": 27,
   "metadata": {},
   "outputs": [],
   "source": [
    "def upper_cost (column, limit, cost_per_one): \n",
    "    expenses_list = column.tolist()\n",
    "    overpayments_list = [math.ceil(i-limit)*cost_per_one if i>limit else 0 for i in expenses_list]\n",
    "#    for i in expenses_list: \n",
    "#        if i>limit: \n",
    "#            overpayment = math.ceil(i-limit)*cost_per_one\n",
    "#        else: \n",
    "#            overpayment = 0\n",
    "#        overpayments_list.append(overpayment)\n",
    "    return overpayments_list"
   ]
  },
  {
   "cell_type": "markdown",
   "metadata": {},
   "source": [
    "#### Посчитаем переплаты по тарифу Smart"
   ]
  },
  {
   "cell_type": "markdown",
   "metadata": {},
   "source": [
    "Создадим списки с суммами перплат по видам связи."
   ]
  },
  {
   "cell_type": "code",
   "execution_count": 28,
   "metadata": {},
   "outputs": [
    {
     "data": {
      "text/html": [
       "<div>\n",
       "<style scoped>\n",
       "    .dataframe tbody tr th:only-of-type {\n",
       "        vertical-align: middle;\n",
       "    }\n",
       "\n",
       "    .dataframe tbody tr th {\n",
       "        vertical-align: top;\n",
       "    }\n",
       "\n",
       "    .dataframe thead th {\n",
       "        text-align: right;\n",
       "    }\n",
       "</style>\n",
       "<table border=\"1\" class=\"dataframe\">\n",
       "  <thead>\n",
       "    <tr style=\"text-align: right;\">\n",
       "      <th></th>\n",
       "      <th>user_id</th>\n",
       "      <th>month</th>\n",
       "      <th>gb_used</th>\n",
       "      <th>sum_calls</th>\n",
       "      <th>count_messages</th>\n",
       "      <th>city</th>\n",
       "      <th>tariff</th>\n",
       "      <th>rub_monthly_fee</th>\n",
       "    </tr>\n",
       "  </thead>\n",
       "  <tbody>\n",
       "    <tr>\n",
       "      <th>8</th>\n",
       "      <td>1001</td>\n",
       "      <td>11.0</td>\n",
       "      <td>18.42934</td>\n",
       "      <td>430.0</td>\n",
       "      <td>0.0</td>\n",
       "      <td>Москва</td>\n",
       "      <td>smart</td>\n",
       "      <td>550</td>\n",
       "    </tr>\n",
       "    <tr>\n",
       "      <th>9</th>\n",
       "      <td>1001</td>\n",
       "      <td>12.0</td>\n",
       "      <td>14.03666</td>\n",
       "      <td>414.0</td>\n",
       "      <td>0.0</td>\n",
       "      <td>Москва</td>\n",
       "      <td>smart</td>\n",
       "      <td>550</td>\n",
       "    </tr>\n",
       "    <tr>\n",
       "      <th>10</th>\n",
       "      <td>1002</td>\n",
       "      <td>6.0</td>\n",
       "      <td>10.85682</td>\n",
       "      <td>117.0</td>\n",
       "      <td>4.0</td>\n",
       "      <td>Стерлитамак</td>\n",
       "      <td>smart</td>\n",
       "      <td>550</td>\n",
       "    </tr>\n",
       "    <tr>\n",
       "      <th>11</th>\n",
       "      <td>1002</td>\n",
       "      <td>7.0</td>\n",
       "      <td>17.58010</td>\n",
       "      <td>214.0</td>\n",
       "      <td>11.0</td>\n",
       "      <td>Стерлитамак</td>\n",
       "      <td>smart</td>\n",
       "      <td>550</td>\n",
       "    </tr>\n",
       "    <tr>\n",
       "      <th>12</th>\n",
       "      <td>1002</td>\n",
       "      <td>8.0</td>\n",
       "      <td>20.31926</td>\n",
       "      <td>289.0</td>\n",
       "      <td>13.0</td>\n",
       "      <td>Стерлитамак</td>\n",
       "      <td>smart</td>\n",
       "      <td>550</td>\n",
       "    </tr>\n",
       "    <tr>\n",
       "      <th>...</th>\n",
       "      <td>...</td>\n",
       "      <td>...</td>\n",
       "      <td>...</td>\n",
       "      <td>...</td>\n",
       "      <td>...</td>\n",
       "      <td>...</td>\n",
       "      <td>...</td>\n",
       "      <td>...</td>\n",
       "    </tr>\n",
       "    <tr>\n",
       "      <th>3211</th>\n",
       "      <td>1498</td>\n",
       "      <td>10.0</td>\n",
       "      <td>20.57936</td>\n",
       "      <td>247.0</td>\n",
       "      <td>42.0</td>\n",
       "      <td>Владикавказ</td>\n",
       "      <td>smart</td>\n",
       "      <td>550</td>\n",
       "    </tr>\n",
       "    <tr>\n",
       "      <th>3212</th>\n",
       "      <td>1499</td>\n",
       "      <td>9.0</td>\n",
       "      <td>1.84575</td>\n",
       "      <td>70.0</td>\n",
       "      <td>11.0</td>\n",
       "      <td>Пермь</td>\n",
       "      <td>smart</td>\n",
       "      <td>550</td>\n",
       "    </tr>\n",
       "    <tr>\n",
       "      <th>3213</th>\n",
       "      <td>1499</td>\n",
       "      <td>10.0</td>\n",
       "      <td>17.78851</td>\n",
       "      <td>449.0</td>\n",
       "      <td>48.0</td>\n",
       "      <td>Пермь</td>\n",
       "      <td>smart</td>\n",
       "      <td>550</td>\n",
       "    </tr>\n",
       "    <tr>\n",
       "      <th>3214</th>\n",
       "      <td>1499</td>\n",
       "      <td>11.0</td>\n",
       "      <td>17.96331</td>\n",
       "      <td>612.0</td>\n",
       "      <td>59.0</td>\n",
       "      <td>Пермь</td>\n",
       "      <td>smart</td>\n",
       "      <td>550</td>\n",
       "    </tr>\n",
       "    <tr>\n",
       "      <th>3215</th>\n",
       "      <td>1499</td>\n",
       "      <td>12.0</td>\n",
       "      <td>13.05558</td>\n",
       "      <td>492.0</td>\n",
       "      <td>66.0</td>\n",
       "      <td>Пермь</td>\n",
       "      <td>smart</td>\n",
       "      <td>550</td>\n",
       "    </tr>\n",
       "  </tbody>\n",
       "</table>\n",
       "<p>2229 rows × 8 columns</p>\n",
       "</div>"
      ],
      "text/plain": [
       "      user_id  month   gb_used  sum_calls  count_messages         city tariff  \\\n",
       "8        1001   11.0  18.42934      430.0             0.0       Москва  smart   \n",
       "9        1001   12.0  14.03666      414.0             0.0       Москва  smart   \n",
       "10       1002    6.0  10.85682      117.0             4.0  Стерлитамак  smart   \n",
       "11       1002    7.0  17.58010      214.0            11.0  Стерлитамак  smart   \n",
       "12       1002    8.0  20.31926      289.0            13.0  Стерлитамак  smart   \n",
       "...       ...    ...       ...        ...             ...          ...    ...   \n",
       "3211     1498   10.0  20.57936      247.0            42.0  Владикавказ  smart   \n",
       "3212     1499    9.0   1.84575       70.0            11.0        Пермь  smart   \n",
       "3213     1499   10.0  17.78851      449.0            48.0        Пермь  smart   \n",
       "3214     1499   11.0  17.96331      612.0            59.0        Пермь  smart   \n",
       "3215     1499   12.0  13.05558      492.0            66.0        Пермь  smart   \n",
       "\n",
       "      rub_monthly_fee  \n",
       "8                 550  \n",
       "9                 550  \n",
       "10                550  \n",
       "11                550  \n",
       "12                550  \n",
       "...               ...  \n",
       "3211              550  \n",
       "3212              550  \n",
       "3213              550  \n",
       "3214              550  \n",
       "3215              550  \n",
       "\n",
       "[2229 rows x 8 columns]"
      ]
     },
     "execution_count": 28,
     "metadata": {},
     "output_type": "execute_result"
    }
   ],
   "source": [
    "smart_table"
   ]
  },
  {
   "cell_type": "code",
   "execution_count": 29,
   "metadata": {},
   "outputs": [
    {
     "data": {
      "text/html": [
       "<div>\n",
       "<style scoped>\n",
       "    .dataframe tbody tr th:only-of-type {\n",
       "        vertical-align: middle;\n",
       "    }\n",
       "\n",
       "    .dataframe tbody tr th {\n",
       "        vertical-align: top;\n",
       "    }\n",
       "\n",
       "    .dataframe thead th {\n",
       "        text-align: right;\n",
       "    }\n",
       "</style>\n",
       "<table border=\"1\" class=\"dataframe\">\n",
       "  <thead>\n",
       "    <tr style=\"text-align: right;\">\n",
       "      <th></th>\n",
       "      <th>messages_included</th>\n",
       "      <th>mb_per_month_included</th>\n",
       "      <th>minutes_included</th>\n",
       "      <th>rub_monthly_fee</th>\n",
       "      <th>rub_per_gb</th>\n",
       "      <th>rub_per_message</th>\n",
       "      <th>rub_per_minute</th>\n",
       "      <th>tariff</th>\n",
       "    </tr>\n",
       "  </thead>\n",
       "  <tbody>\n",
       "    <tr>\n",
       "      <th>0</th>\n",
       "      <td>50</td>\n",
       "      <td>15360</td>\n",
       "      <td>500</td>\n",
       "      <td>550</td>\n",
       "      <td>200</td>\n",
       "      <td>3</td>\n",
       "      <td>3</td>\n",
       "      <td>smart</td>\n",
       "    </tr>\n",
       "    <tr>\n",
       "      <th>1</th>\n",
       "      <td>1000</td>\n",
       "      <td>30720</td>\n",
       "      <td>3000</td>\n",
       "      <td>1950</td>\n",
       "      <td>150</td>\n",
       "      <td>1</td>\n",
       "      <td>1</td>\n",
       "      <td>ultra</td>\n",
       "    </tr>\n",
       "  </tbody>\n",
       "</table>\n",
       "</div>"
      ],
      "text/plain": [
       "   messages_included  mb_per_month_included  minutes_included  \\\n",
       "0                 50                  15360               500   \n",
       "1               1000                  30720              3000   \n",
       "\n",
       "   rub_monthly_fee  rub_per_gb  rub_per_message  rub_per_minute tariff  \n",
       "0              550         200                3               3  smart  \n",
       "1             1950         150                1               1  ultra  "
      ]
     },
     "execution_count": 29,
     "metadata": {},
     "output_type": "execute_result"
    }
   ],
   "source": [
    "tariffs"
   ]
  },
  {
   "cell_type": "code",
   "execution_count": 30,
   "metadata": {},
   "outputs": [],
   "source": [
    "smart_messages_uper_cost = upper_cost(smart_table['count_messages'], tariffs.loc[0,'messages_included'], tariffs.loc[0,'rub_per_message'] )\n",
    "smart_calls_uper_cost = upper_cost(smart_table['sum_calls'], tariffs.loc[0,'minutes_included'], tariffs.loc[0,'rub_per_minute'] )\n",
    "smart_internet_uper_cost = upper_cost(smart_table['gb_used'],tariffs.loc[0,'mb_per_month_included']/1000, tariffs.loc[0,'rub_per_gb'] )"
   ]
  },
  {
   "cell_type": "markdown",
   "metadata": {},
   "source": [
    "Добавим эти списки в таблицу."
   ]
  },
  {
   "cell_type": "code",
   "execution_count": 31,
   "metadata": {},
   "outputs": [],
   "source": [
    "smart_table['smart_messages_uper_cost']=smart_messages_uper_cost\n",
    "smart_table['smart_calls_uper_cost']=smart_calls_uper_cost\n",
    "smart_table['smart_internet_uper_cost']=smart_internet_uper_cost"
   ]
  },
  {
   "cell_type": "markdown",
   "metadata": {},
   "source": [
    "Посчитаем общие затраты пользователей за каждый месяц. "
   ]
  },
  {
   "cell_type": "code",
   "execution_count": 32,
   "metadata": {},
   "outputs": [
    {
     "data": {
      "text/plain": [
       "2229"
      ]
     },
     "execution_count": 32,
     "metadata": {},
     "output_type": "execute_result"
    }
   ],
   "source": [
    "smart_table['general_cost'] = (\n",
    "    smart_table['smart_messages_uper_cost']\n",
    "    +smart_table['smart_calls_uper_cost']\n",
    "    +smart_table['smart_internet_uper_cost']\n",
    "    +smart_table['rub_monthly_fee']\n",
    ")\n",
    "len(smart_table)"
   ]
  },
  {
   "cell_type": "markdown",
   "metadata": {},
   "source": [
    "#### Повторим всё для тарифа Ultra"
   ]
  },
  {
   "cell_type": "markdown",
   "metadata": {},
   "source": [
    "Списки переплат. "
   ]
  },
  {
   "cell_type": "code",
   "execution_count": 33,
   "metadata": {},
   "outputs": [],
   "source": [
    "ultra_messages_uper_cost = upper_cost(ultra_table['count_messages'], tariffs.loc[1,'messages_included'], tariffs.loc[1,'rub_per_message'] )\n",
    "ultra_calls_uper_cost = upper_cost(ultra_table['sum_calls'], tariffs.loc[1,'minutes_included'], tariffs.loc[1,'rub_per_minute'])\n",
    "ultra_internet_uper_cost = upper_cost(ultra_table['gb_used'], tariffs.loc[1,'mb_per_month_included']/1000, tariffs.loc[1,'rub_per_gb'])"
   ]
  },
  {
   "cell_type": "markdown",
   "metadata": {},
   "source": [
    "Добавим списки в таблицу. "
   ]
  },
  {
   "cell_type": "code",
   "execution_count": 34,
   "metadata": {},
   "outputs": [],
   "source": [
    "ultra_table['ultra_messages_uper_cost']=ultra_messages_uper_cost\n",
    "ultra_table['ultra_calls_uper_cost']=ultra_calls_uper_cost\n",
    "ultra_table['ultra_internet_uper_cost']=ultra_internet_uper_cost"
   ]
  },
  {
   "cell_type": "code",
   "execution_count": 35,
   "metadata": {},
   "outputs": [
    {
     "data": {
      "text/plain": [
       "985"
      ]
     },
     "execution_count": 35,
     "metadata": {},
     "output_type": "execute_result"
    }
   ],
   "source": [
    "ultra_table['general_cost'] = (\n",
    "    ultra_table['ultra_messages_uper_cost']\n",
    "    +ultra_table['ultra_calls_uper_cost']\n",
    "    +ultra_table['ultra_internet_uper_cost']\n",
    "    +ultra_table['rub_monthly_fee']\n",
    ")\n",
    "len(ultra_table)"
   ]
  },
  {
   "cell_type": "markdown",
   "metadata": {},
   "source": [
    "#### Итог\n",
    "\n",
    "Получили два датасета по каждому тарифу с общей выручкой с разбивкой по месяцам. "
   ]
  },
  {
   "cell_type": "markdown",
   "metadata": {},
   "source": [
    "#### Создание двух отдельных датасетов для Москвы и регионов"
   ]
  },
  {
   "cell_type": "code",
   "execution_count": 36,
   "metadata": {},
   "outputs": [],
   "source": [
    "join_table = pd.concat([smart_table, ultra_table], ignore_index=True)\n",
    "moscow_table = join_table.query('city==\"Москва\"')\n",
    "region_table = join_table.query('city!=\"Москва\"')"
   ]
  },
  {
   "cell_type": "markdown",
   "metadata": {},
   "source": [
    "Объединили данные по тарифам и разделили по городам, для проверки гипотезы о равенстве выручки в Москве и регионах. \n",
    "\n",
    "Можно приступать к анализу данных. "
   ]
  },
  {
   "cell_type": "markdown",
   "metadata": {},
   "source": [
    "## Анализ данных"
   ]
  },
  {
   "cell_type": "markdown",
   "metadata": {},
   "source": [
    "Создадим функцию для подсчета всех нужнных показателей (среднее, дисперсия, стандартное отклонение) и визуализации графиков. "
   ]
  },
  {
   "cell_type": "code",
   "execution_count": 37,
   "metadata": {},
   "outputs": [],
   "source": [
    "def indicators (column1,column2, limit1, limit2):\n",
    "    column1.hist(bins=100, alpha = 0.7, figsize=(10,7))\n",
    "    column2.hist(bins=100, alpha = 0.7, figsize=(10,7)).legend(['Smart','Ultra'])\n",
    "    a = 'Распределение столбика ' + column1.name\n",
    "    plt.title(a)\n",
    "    plt.show()\n",
    "    sns.distplot(column1, kde=True)\n",
    "    plt.title('Распределение для тарифа Smart')\n",
    "    plt.show()\n",
    "    sns.distplot(column2, kde=True)\n",
    "    plt.title('Распределение для тарифа Ultra')\n",
    "    plt.show()\n",
    "    \n",
    "    \n",
    "    data = []\n",
    "    columns=['tariff','mean','median','var','std']\n",
    "    \n",
    "    list1=['Smart']\n",
    "    mean1 = round(column1.mean(),2)\n",
    "    list1.append (mean1)\n",
    "    median1 = round(column1.median(),2)\n",
    "    list1.append (median1)\n",
    "    var1 = round(np.var(column1, ddof=1),2)\n",
    "    list1.append (var1)\n",
    "    std1 = round(np.std(column1, ddof=1), 2)\n",
    "    list1.append (std1)\n",
    "    data.append(list1)\n",
    "    \n",
    "    c = 'S_' + column1.name\n",
    "    c = st.norm(mean1, std1)\n",
    "    limit_up1 = 1-(c.cdf(limit1))\n",
    "    print ('Превысили лимит в тарифе Smart:  {:.0%}'.format(limit_up1))\n",
    "    # при первом запуске выдает нормальные значения, потом выводит странные значения. \n",
    "    #Возможная причина - рассчёт функции происходит раньше, чем рассчитываются новые переменные. \n",
    "    #Начал менять названия переменных, чтобы функция автоматически не брала старые значения. \n",
    "    \n",
    "    list2=['Ultra']\n",
    "    mean2 = round(column2.mean(),2)\n",
    "    list2.append (mean2)\n",
    "    median2 = round(column2.median(),2)\n",
    "    list2.append (median2)\n",
    "    var2 = round(np.var(column2, ddof=1),2)\n",
    "    list2.append (var2)\n",
    "    std2 = round(np.std(column2, ddof=1), 2)\n",
    "    list2.append (std2)\n",
    "    data.append(list2)\n",
    "    \n",
    "    b = 'U_' + column2.name\n",
    "    b = st.norm(mean2, std2)\n",
    "    limit_up2 = 1-(b.cdf(limit2))\n",
    "    print ('Превысили лимит в тарифе Ultra: {:.0%}'.format(limit_up2))  \n",
    "    \n",
    "    alpha2 = 0.05\n",
    "    results = st.ttest_ind(column1, column2)\n",
    "    print()\n",
    "    print('p-значение:', results.pvalue)\n",
    "    \n",
    "    if results.pvalue < alpha2:\n",
    "        print('Отвергаем нулевую гипотезу')\n",
    "    else:\n",
    "        print('Не получилось отвергнуть нулевую гипотезу')\n",
    "    \n",
    "    df = pd.DataFrame(data = data, columns = columns)\n",
    "    return df\n",
    "\n",
    "    \n",
    "    \n",
    "    \n",
    "    \n",
    "    \n",
    "    "
   ]
  },
  {
   "cell_type": "markdown",
   "metadata": {},
   "source": [
    "Для получения данных также можно использовать метод describe(), только он не передает данные о дисперсии."
   ]
  },
  {
   "cell_type": "markdown",
   "metadata": {},
   "source": [
    "### Описание использования интернета"
   ]
  },
  {
   "cell_type": "code",
   "execution_count": 38,
   "metadata": {},
   "outputs": [
    {
     "data": {
      "image/png": "[encoded data removed]",
      "text/plain": [
       "<Figure size 720x504 with 1 Axes>"
      ]
     },
     "metadata": {
      "needs_background": "light"
     },
     "output_type": "display_data"
    },
    {
     "data": {
      "image/png": "[encoded data removed]",
      "text/plain": [
       "<Figure size 432x288 with 1 Axes>"
      ]
     },
     "metadata": {
      "needs_background": "light"
     },
     "output_type": "display_data"
    },
    {
     "data": {
      "image/png": "[encoded data removed]",
      "text/plain": [
       "<Figure size 432x288 with 1 Axes>"
      ]
     },
     "metadata": {
      "needs_background": "light"
     },
     "output_type": "display_data"
    },
    {
     "name": "stdout",
     "output_type": "stream",
     "text": [
      "Превысили лимит в тарифе Smart:  58%\n",
      "Превысили лимит в тарифе Ultra: 15%\n",
      "\n",
      "p-значение: 6.144134032592304e-30\n",
      "Отвергаем нулевую гипотезу\n"
     ]
    },
    {
     "data": {
      "text/html": [
       "<div>\n",
       "<style scoped>\n",
       "    .dataframe tbody tr th:only-of-type {\n",
       "        vertical-align: middle;\n",
       "    }\n",
       "\n",
       "    .dataframe tbody tr th {\n",
       "        vertical-align: top;\n",
       "    }\n",
       "\n",
       "    .dataframe thead th {\n",
       "        text-align: right;\n",
       "    }\n",
       "</style>\n",
       "<table border=\"1\" class=\"dataframe\">\n",
       "  <thead>\n",
       "    <tr style=\"text-align: right;\">\n",
       "      <th></th>\n",
       "      <th>tariff</th>\n",
       "      <th>mean</th>\n",
       "      <th>median</th>\n",
       "      <th>var</th>\n",
       "      <th>std</th>\n",
       "    </tr>\n",
       "  </thead>\n",
       "  <tbody>\n",
       "    <tr>\n",
       "      <th>0</th>\n",
       "      <td>Smart</td>\n",
       "      <td>16.21</td>\n",
       "      <td>16.51</td>\n",
       "      <td>34.46</td>\n",
       "      <td>5.87</td>\n",
       "    </tr>\n",
       "    <tr>\n",
       "      <th>1</th>\n",
       "      <td>Ultra</td>\n",
       "      <td>19.47</td>\n",
       "      <td>19.31</td>\n",
       "      <td>101.75</td>\n",
       "      <td>10.09</td>\n",
       "    </tr>\n",
       "  </tbody>\n",
       "</table>\n",
       "</div>"
      ],
      "text/plain": [
       "  tariff   mean  median     var    std\n",
       "0  Smart  16.21   16.51   34.46   5.87\n",
       "1  Ultra  19.47   19.31  101.75  10.09"
      ]
     },
     "execution_count": 38,
     "metadata": {},
     "output_type": "execute_result"
    }
   ],
   "source": [
    "indicators(smart_table['gb_used'], ultra_table['gb_used'],15,30)"
   ]
  },
  {
   "cell_type": "markdown",
   "metadata": {},
   "source": [
    "В обоих случаях медианные значения почти равны средним. Распределения приближены к нормальным. В тарифе Smart немного скошено влево, в тарифе Ultra - вправо. \n",
    "\n",
    "В среднем пользователи тарифа Smart расходуют в месяц 16,21 гб. трафика - это выше установленного лимита в 15 гб. Его превысили в 58% наблюдений. Это означает, что более чем в половине наблюдений пользователи доплачивали за тариф как минимум 200 рублей. \n",
    "\n",
    "В тарифе Ultra лимит превышают реже. Превышение было зафиксировано только в 15% наблюдений, при этом доплата за превышение трафика меньше - только 150 рублей. "
   ]
  },
  {
   "cell_type": "markdown",
   "metadata": {},
   "source": [
    "### Описание использования мобильной связи"
   ]
  },
  {
   "cell_type": "code",
   "execution_count": 39,
   "metadata": {},
   "outputs": [
    {
     "data": {
      "image/png": "[encoded data removed]",
      "text/plain": [
       "<Figure size 720x504 with 1 Axes>"
      ]
     },
     "metadata": {
      "needs_background": "light"
     },
     "output_type": "display_data"
    },
    {
     "data": {
      "image/png": "[encoded data removed]",
      "text/plain": [
       "<Figure size 432x288 with 1 Axes>"
      ]
     },
     "metadata": {
      "needs_background": "light"
     },
     "output_type": "display_data"
    },
    {
     "data": {
      "image/png": "[encoded data removed]",
      "text/plain": [
       "<Figure size 432x288 with 1 Axes>"
      ]
     },
     "metadata": {
      "needs_background": "light"
     },
     "output_type": "display_data"
    },
    {
     "name": "stdout",
     "output_type": "stream",
     "text": [
      "Превысили лимит в тарифе Smart:  33%\n",
      "Превысили лимит в тарифе Ultra: 0%\n",
      "\n",
      "p-значение: 1.7096649033405836e-32\n",
      "Отвергаем нулевую гипотезу\n"
     ]
    },
    {
     "data": {
      "text/html": [
       "<div>\n",
       "<style scoped>\n",
       "    .dataframe tbody tr th:only-of-type {\n",
       "        vertical-align: middle;\n",
       "    }\n",
       "\n",
       "    .dataframe tbody tr th {\n",
       "        vertical-align: top;\n",
       "    }\n",
       "\n",
       "    .dataframe thead th {\n",
       "        text-align: right;\n",
       "    }\n",
       "</style>\n",
       "<table border=\"1\" class=\"dataframe\">\n",
       "  <thead>\n",
       "    <tr style=\"text-align: right;\">\n",
       "      <th></th>\n",
       "      <th>tariff</th>\n",
       "      <th>mean</th>\n",
       "      <th>median</th>\n",
       "      <th>var</th>\n",
       "      <th>std</th>\n",
       "    </tr>\n",
       "  </thead>\n",
       "  <tbody>\n",
       "    <tr>\n",
       "      <th>0</th>\n",
       "      <td>Smart</td>\n",
       "      <td>417.93</td>\n",
       "      <td>422.0</td>\n",
       "      <td>36219.32</td>\n",
       "      <td>190.31</td>\n",
       "    </tr>\n",
       "    <tr>\n",
       "      <th>1</th>\n",
       "      <td>Ultra</td>\n",
       "      <td>526.62</td>\n",
       "      <td>518.0</td>\n",
       "      <td>100873.63</td>\n",
       "      <td>317.61</td>\n",
       "    </tr>\n",
       "  </tbody>\n",
       "</table>\n",
       "</div>"
      ],
      "text/plain": [
       "  tariff    mean  median        var     std\n",
       "0  Smart  417.93   422.0   36219.32  190.31\n",
       "1  Ultra  526.62   518.0  100873.63  317.61"
      ]
     },
     "execution_count": 39,
     "metadata": {},
     "output_type": "execute_result"
    }
   ],
   "source": [
    "indicators(smart_table['sum_calls'], ultra_table['sum_calls'],500, 3000)"
   ]
  },
  {
   "cell_type": "code",
   "execution_count": null,
   "metadata": {},
   "outputs": [],
   "source": []
  },
  {
   "cell_type": "markdown",
   "metadata": {},
   "source": [
    "В тарифе Smart распределение звонков скошено влево (медиана больше среднего). В тарифе Ultra распределение звонков скошено вправо (медиана меньше среднего).\n",
    "\n",
    "Средние двух тарифов располагаются близко друг к другу, несмотря на то, что лимит тарифа Ultras выше тарифа Smart в 6 раз. \n",
    "\n",
    "В тарифе Smart среднее распологается близко к пороговому значению лимита. 33% пользователей превышают его. \n",
    "\n",
    "В тарифе ultra максимальное наблюдение не превышает 2000 мин., что как минимум на 1000 мин. меньше порогового значения. "
   ]
  },
  {
   "cell_type": "markdown",
   "metadata": {},
   "source": [
    "### Описание использования СМС"
   ]
  },
  {
   "cell_type": "code",
   "execution_count": 40,
   "metadata": {},
   "outputs": [
    {
     "data": {
      "image/png": "[encoded data removed]",
      "text/plain": [
       "<Figure size 720x504 with 1 Axes>"
      ]
     },
     "metadata": {
      "needs_background": "light"
     },
     "output_type": "display_data"
    },
    {
     "data": {
      "image/png": "[encoded data removed]",
      "text/plain": [
       "<Figure size 432x288 with 1 Axes>"
      ]
     },
     "metadata": {
      "needs_background": "light"
     },
     "output_type": "display_data"
    },
    {
     "data": {
      "image/png": "[encoded data removed]",
      "text/plain": [
       "<Figure size 432x288 with 1 Axes>"
      ]
     },
     "metadata": {
      "needs_background": "light"
     },
     "output_type": "display_data"
    },
    {
     "name": "stdout",
     "output_type": "stream",
     "text": [
      "Превысили лимит в тарифе Smart:  28%\n",
      "Превысили лимит в тарифе Ultra: 0%\n",
      "\n",
      "p-значение: 1.7346624732133354e-31\n",
      "Отвергаем нулевую гипотезу\n"
     ]
    },
    {
     "data": {
      "text/html": [
       "<div>\n",
       "<style scoped>\n",
       "    .dataframe tbody tr th:only-of-type {\n",
       "        vertical-align: middle;\n",
       "    }\n",
       "\n",
       "    .dataframe tbody tr th {\n",
       "        vertical-align: top;\n",
       "    }\n",
       "\n",
       "    .dataframe thead th {\n",
       "        text-align: right;\n",
       "    }\n",
       "</style>\n",
       "<table border=\"1\" class=\"dataframe\">\n",
       "  <thead>\n",
       "    <tr style=\"text-align: right;\">\n",
       "      <th></th>\n",
       "      <th>tariff</th>\n",
       "      <th>mean</th>\n",
       "      <th>median</th>\n",
       "      <th>var</th>\n",
       "      <th>std</th>\n",
       "    </tr>\n",
       "  </thead>\n",
       "  <tbody>\n",
       "    <tr>\n",
       "      <th>0</th>\n",
       "      <td>Smart</td>\n",
       "      <td>33.38</td>\n",
       "      <td>28.0</td>\n",
       "      <td>796.81</td>\n",
       "      <td>28.23</td>\n",
       "    </tr>\n",
       "    <tr>\n",
       "      <th>1</th>\n",
       "      <td>Ultra</td>\n",
       "      <td>49.36</td>\n",
       "      <td>38.0</td>\n",
       "      <td>2285.27</td>\n",
       "      <td>47.80</td>\n",
       "    </tr>\n",
       "  </tbody>\n",
       "</table>\n",
       "</div>"
      ],
      "text/plain": [
       "  tariff   mean  median      var    std\n",
       "0  Smart  33.38    28.0   796.81  28.23\n",
       "1  Ultra  49.36    38.0  2285.27  47.80"
      ]
     },
     "execution_count": 40,
     "metadata": {},
     "output_type": "execute_result"
    }
   ],
   "source": [
    "indicators(smart_table['count_messages'], ultra_table['count_messages'], 50, 1000 )"
   ]
  },
  {
   "cell_type": "markdown",
   "metadata": {},
   "source": [
    "Видим большой выброс на 0 СМС. Ошибки в данных нет, но выброс мешает посмотреть на остальное распределение. Посмотрим на график в разбросе от 1 до 200. "
   ]
  },
  {
   "cell_type": "code",
   "execution_count": 41,
   "metadata": {},
   "outputs": [
    {
     "data": {
      "image/png": "[encoded data removed]",
      "text/plain": [
       "<Figure size 720x504 with 1 Axes>"
      ]
     },
     "metadata": {
      "needs_background": "light"
     },
     "output_type": "display_data"
    }
   ],
   "source": [
    "smart_table['count_messages'].hist(bins=100, alpha = 0.7, figsize=(10,7), range =(1,200))\n",
    "ultra_table['count_messages'].hist(bins=100, alpha = 0.7, figsize=(10,7), range =(1,200))\n",
    "plt.title('Распределение использования СМС на промежутке от 1 до 200')\n",
    "plt.show()"
   ]
  },
  {
   "cell_type": "markdown",
   "metadata": {},
   "source": [
    "Медиана меньше среднего в обоих датасетах - датасеты скошены вправо.\n",
    "\n",
    "Снова наблюдаем похожую картину, где в тарифе Smart пользователи превышают установленный лимит и доплачивают  - 28% наблюдений. А на тарифе Ultras максимальное количество использованных SMS в месяц меньше порогового в 5 раз. "
   ]
  },
  {
   "cell_type": "markdown",
   "metadata": {},
   "source": [
    "Исходя из рассмотренных выше графиков по всем видам связи можно сказать, что поведение пользователей двух тарифов похоже. Несмотря на то, что лимиты по тарифу ultra значительно выше Smart, их средние располагаются близко друг к другу. Однако парный t-тест показал, что нет оснований утверждать что наблюдения по двум выборкам относятся к одной генеральной совокупности. \n",
    "\n",
    "Основное отличие, которое можно проследить между двумя тарифами, это разница в стандартных отклоениях. В тарифе Smart оно значительно меньше. Это связано с тем, что для этого тарифа лимиты установлены близко к средним значениям. Приближаясь к порогу, пользователи стараются снизить использование средств связи, чтобы не переплачивать лишние деньги. \n",
    "\n",
    "Пользователи тарифа Ultra ведут себя по-другому - расходуют столько связи, сколько потребуется, не  задумываясь о лимитах. "
   ]
  },
  {
   "cell_type": "markdown",
   "metadata": {},
   "source": [
    "### Сравнение средних выручки по разным тарифам"
   ]
  },
  {
   "cell_type": "code",
   "execution_count": 42,
   "metadata": {},
   "outputs": [
    {
     "data": {
      "image/png": "[encoded data removed]",
      "text/plain": [
       "<Figure size 720x504 with 1 Axes>"
      ]
     },
     "metadata": {
      "needs_background": "light"
     },
     "output_type": "display_data"
    },
    {
     "data": {
      "image/png": "[encoded data removed]",
      "text/plain": [
       "<Figure size 432x288 with 1 Axes>"
      ]
     },
     "metadata": {
      "needs_background": "light"
     },
     "output_type": "display_data"
    },
    {
     "data": {
      "image/png": "[encoded data removed]",
      "text/plain": [
       "<Figure size 432x288 with 1 Axes>"
      ]
     },
     "metadata": {
      "needs_background": "light"
     },
     "output_type": "display_data"
    },
    {
     "name": "stdout",
     "output_type": "stream",
     "text": [
      "Превысили лимит в тарифе Smart:  0%\n",
      "Превысили лимит в тарифе Ultra: 0%\n",
      "\n",
      "p-значение: 1.553031575858775e-151\n",
      "Отвергаем нулевую гипотезу\n"
     ]
    },
    {
     "data": {
      "text/html": [
       "<div>\n",
       "<style scoped>\n",
       "    .dataframe tbody tr th:only-of-type {\n",
       "        vertical-align: middle;\n",
       "    }\n",
       "\n",
       "    .dataframe tbody tr th {\n",
       "        vertical-align: top;\n",
       "    }\n",
       "\n",
       "    .dataframe thead th {\n",
       "        text-align: right;\n",
       "    }\n",
       "</style>\n",
       "<table border=\"1\" class=\"dataframe\">\n",
       "  <thead>\n",
       "    <tr style=\"text-align: right;\">\n",
       "      <th></th>\n",
       "      <th>tariff</th>\n",
       "      <th>mean</th>\n",
       "      <th>median</th>\n",
       "      <th>var</th>\n",
       "      <th>std</th>\n",
       "    </tr>\n",
       "  </thead>\n",
       "  <tbody>\n",
       "    <tr>\n",
       "      <th>0</th>\n",
       "      <td>Smart</td>\n",
       "      <td>1303.25</td>\n",
       "      <td>1040.0</td>\n",
       "      <td>694546.61</td>\n",
       "      <td>833.39</td>\n",
       "    </tr>\n",
       "    <tr>\n",
       "      <th>1</th>\n",
       "      <td>Ultra</td>\n",
       "      <td>2072.44</td>\n",
       "      <td>1950.0</td>\n",
       "      <td>147981.86</td>\n",
       "      <td>384.68</td>\n",
       "    </tr>\n",
       "  </tbody>\n",
       "</table>\n",
       "</div>"
      ],
      "text/plain": [
       "  tariff     mean  median        var     std\n",
       "0  Smart  1303.25  1040.0  694546.61  833.39\n",
       "1  Ultra  2072.44  1950.0  147981.86  384.68"
      ]
     },
     "execution_count": 42,
     "metadata": {},
     "output_type": "execute_result"
    }
   ],
   "source": [
    "indicators(smart_table['general_cost'], ultra_table['general_cost'],5000,5000)"
   ]
  },
  {
   "cell_type": "markdown",
   "metadata": {},
   "source": [
    "Проведя парный t-тест между выборками пользователей тарифов Smart и ultra,  у нас получилось отклонить нулевую гипотезу о равенстве их генеральных совокупностей. \n",
    "\n",
    "Средняя выручка двух тарифов различается. Основное число пользователей по обоим тарифам умещаются в лимиты и вносят в месяц только абонентскую плату. Разница же этих абонентских плат значительна.\n",
    "\n",
    "При этом пользователи тарифа Smart часто превышают установленные тарифом лимиты и доплачивают за перерасход. В итоге среднее и медианное значение превышает стоимость тарифа более чем в 2 раза."
   ]
  },
  {
   "cell_type": "markdown",
   "metadata": {},
   "source": [
    "#### Сравнение средних выручки по Москве и регионам"
   ]
  },
  {
   "cell_type": "code",
   "execution_count": 43,
   "metadata": {},
   "outputs": [
    {
     "data": {
      "image/png": "[encoded data removed]",
      "text/plain": [
       "<Figure size 720x504 with 1 Axes>"
      ]
     },
     "metadata": {
      "needs_background": "light"
     },
     "output_type": "display_data"
    },
    {
     "data": {
      "image/png": "[encoded data removed]",
      "text/plain": [
       "<Figure size 432x288 with 1 Axes>"
      ]
     },
     "metadata": {
      "needs_background": "light"
     },
     "output_type": "display_data"
    },
    {
     "data": {
      "image/png": "[encoded data removed]",
      "text/plain": [
       "<Figure size 432x288 with 1 Axes>"
      ]
     },
     "metadata": {
      "needs_background": "light"
     },
     "output_type": "display_data"
    },
    {
     "name": "stdout",
     "output_type": "stream",
     "text": [
      "Превысили лимит в тарифе Smart:  97%\n",
      "Превысили лимит в тарифе Ultra: 98%\n",
      "\n",
      "p-значение: 0.5924817760011163\n",
      "Не получилось отвергнуть нулевую гипотезу\n"
     ]
    },
    {
     "data": {
      "text/html": [
       "<div>\n",
       "<style scoped>\n",
       "    .dataframe tbody tr th:only-of-type {\n",
       "        vertical-align: middle;\n",
       "    }\n",
       "\n",
       "    .dataframe tbody tr th {\n",
       "        vertical-align: top;\n",
       "    }\n",
       "\n",
       "    .dataframe thead th {\n",
       "        text-align: right;\n",
       "    }\n",
       "</style>\n",
       "<table border=\"1\" class=\"dataframe\">\n",
       "  <thead>\n",
       "    <tr style=\"text-align: right;\">\n",
       "      <th></th>\n",
       "      <th>tariff</th>\n",
       "      <th>mean</th>\n",
       "      <th>median</th>\n",
       "      <th>var</th>\n",
       "      <th>std</th>\n",
       "    </tr>\n",
       "  </thead>\n",
       "  <tbody>\n",
       "    <tr>\n",
       "      <th>0</th>\n",
       "      <td>Smart</td>\n",
       "      <td>1535.29</td>\n",
       "      <td>1622.0</td>\n",
       "      <td>671916.8</td>\n",
       "      <td>819.71</td>\n",
       "    </tr>\n",
       "    <tr>\n",
       "      <th>1</th>\n",
       "      <td>Ultra</td>\n",
       "      <td>1554.73</td>\n",
       "      <td>1807.0</td>\n",
       "      <td>571665.5</td>\n",
       "      <td>756.09</td>\n",
       "    </tr>\n",
       "  </tbody>\n",
       "</table>\n",
       "</div>"
      ],
      "text/plain": [
       "  tariff     mean  median       var     std\n",
       "0  Smart  1535.29  1622.0  671916.8  819.71\n",
       "1  Ultra  1554.73  1807.0  571665.5  756.09"
      ]
     },
     "execution_count": 43,
     "metadata": {},
     "output_type": "execute_result"
    }
   ],
   "source": [
    "indicators(region_table['general_cost'], moscow_table['general_cost'], 1, 1)"
   ]
  },
  {
   "cell_type": "markdown",
   "metadata": {},
   "source": [
    "Для этой таблицы - Smart это Regions, Ultra - Moscow."
   ]
  },
  {
   "cell_type": "markdown",
   "metadata": {},
   "source": [
    "При сравнении Москвы и регионов нулевую гипотезу отвергнуть не удалось. Региональный фактор не влияет на распределение тарифов, а следовательно и на то, сколько в среднем выручки \"Мегалайн\" получает из региона. "
   ]
  },
  {
   "cell_type": "markdown",
   "metadata": {},
   "source": [
    "## Общий вывод"
   ]
  },
  {
   "cell_type": "markdown",
   "metadata": {},
   "source": [
    "В ходе исследования пользователей федерального мобильно оператора \"Мегалайн\" удалось проверить гипотезу о равенстве приносимой вырочки пользователями двух тарифов - Smart И Ultra, и проверить гипотезу о равенстве приносимой выручки между пользователями Москвы и регионов. \n",
    "\n",
    "При сравнения двух тарифов удалось выяснить, что пороговые значения лимитов по каждому виду связи слабо влияют на средние значения их использования. Зато пороговые значения влияют на стандартные отклонения  распределений - чем ближе порог к среднему, тем меньше стандартное отклонение. \n",
    "\n",
    "Сравнение выручек между двумя тарифами привело к отклонению нулевой гипотезы. Есть основания говорить, что средние выручки по двум тарифам различаются.\n",
    "\n",
    "При сравненис выручек по Москве и регионам нам не удалось отвергнуть нулевую гипотезу - у нас нет оснований говорить, что выручки по регионам различаются. "
   ]
  },
  {
   "cell_type": "code",
   "execution_count": null,
   "metadata": {},
   "outputs": [],
   "source": []
  }
 ],
 "metadata": {
  "ExecuteTimeLog": [
   {
    "duration": 1447,
    "start_time": "2021-08-04T18:39:38.373Z"
   },
   {
    "duration": 994,
    "start_time": "2021-08-04T18:39:39.823Z"
   },
   {
    "duration": 16,
    "start_time": "2021-08-04T18:39:40.820Z"
   },
   {
    "duration": 38,
    "start_time": "2021-08-04T18:39:40.840Z"
   },
   {
    "duration": 14,
    "start_time": "2021-08-04T18:39:40.881Z"
   },
   {
    "duration": 24,
    "start_time": "2021-08-04T18:39:40.897Z"
   },
   {
    "duration": 11,
    "start_time": "2021-08-04T18:39:40.924Z"
   },
   {
    "duration": 52,
    "start_time": "2021-08-04T18:39:40.941Z"
   },
   {
    "duration": 12,
    "start_time": "2021-08-04T18:39:40.996Z"
   },
   {
    "duration": 17,
    "start_time": "2021-08-04T18:39:41.010Z"
   },
   {
    "duration": 6,
    "start_time": "2021-08-04T18:39:41.030Z"
   },
   {
    "duration": 54,
    "start_time": "2021-08-04T18:39:41.038Z"
   },
   {
    "duration": 8,
    "start_time": "2021-08-04T18:39:41.095Z"
   },
   {
    "duration": 9,
    "start_time": "2021-08-04T18:39:41.105Z"
   },
   {
    "duration": 230,
    "start_time": "2021-08-04T18:39:41.117Z"
   },
   {
    "duration": 92,
    "start_time": "2021-08-04T18:39:41.350Z"
   },
   {
    "duration": 110,
    "start_time": "2021-08-04T18:39:41.445Z"
   },
   {
    "duration": 70,
    "start_time": "2021-08-04T18:39:41.557Z"
   },
   {
    "duration": 68,
    "start_time": "2021-08-04T18:39:41.629Z"
   },
   {
    "duration": 32,
    "start_time": "2021-08-04T18:39:41.699Z"
   },
   {
    "duration": 49,
    "start_time": "2021-08-04T18:39:41.733Z"
   },
   {
    "duration": 36,
    "start_time": "2021-08-04T18:39:41.785Z"
   },
   {
    "duration": 15,
    "start_time": "2021-08-04T18:39:41.825Z"
   },
   {
    "duration": 6,
    "start_time": "2021-08-04T18:39:41.843Z"
   },
   {
    "duration": 35,
    "start_time": "2021-08-04T18:39:41.851Z"
   },
   {
    "duration": 10,
    "start_time": "2021-08-04T18:39:41.889Z"
   },
   {
    "duration": 6,
    "start_time": "2021-08-04T18:39:41.901Z"
   },
   {
    "duration": 8,
    "start_time": "2021-08-04T18:39:41.909Z"
   },
   {
    "duration": 10,
    "start_time": "2021-08-04T18:39:41.920Z"
   },
   {
    "duration": 52,
    "start_time": "2021-08-04T18:39:41.932Z"
   },
   {
    "duration": 4,
    "start_time": "2021-08-04T18:39:41.987Z"
   },
   {
    "duration": 9,
    "start_time": "2021-08-04T18:39:41.994Z"
   },
   {
    "duration": 10,
    "start_time": "2021-08-04T18:39:42.005Z"
   },
   {
    "duration": 23,
    "start_time": "2021-08-04T18:39:42.017Z"
   },
   {
    "duration": 46,
    "start_time": "2021-08-04T18:39:42.043Z"
   },
   {
    "duration": 1699,
    "start_time": "2021-08-04T18:39:42.092Z"
   },
   {
    "duration": 1741,
    "start_time": "2021-08-04T18:39:43.793Z"
   },
   {
    "duration": 1795,
    "start_time": "2021-08-04T18:39:45.536Z"
   },
   {
    "duration": 1086,
    "start_time": "2021-08-04T18:39:47.334Z"
   },
   {
    "duration": 1836,
    "start_time": "2021-08-04T18:39:48.422Z"
   },
   {
    "duration": 1738,
    "start_time": "2021-08-04T18:39:50.260Z"
   },
   {
    "duration": 9,
    "start_time": "2021-08-04T18:42:14.599Z"
   },
   {
    "duration": 7,
    "start_time": "2021-08-04T18:42:48.171Z"
   },
   {
    "duration": 20,
    "start_time": "2021-08-04T18:43:02.074Z"
   },
   {
    "duration": 14,
    "start_time": "2021-08-04T18:43:16.638Z"
   },
   {
    "duration": 18,
    "start_time": "2021-08-04T18:43:22.389Z"
   },
   {
    "duration": 25,
    "start_time": "2021-08-04T18:51:40.805Z"
   },
   {
    "duration": 75,
    "start_time": "2021-08-04T19:02:29.145Z"
   },
   {
    "duration": 83,
    "start_time": "2021-08-04T19:08:32.544Z"
   },
   {
    "duration": 80,
    "start_time": "2021-08-04T19:17:40.208Z"
   },
   {
    "duration": 1116,
    "start_time": "2021-08-04T19:18:48.613Z"
   },
   {
    "duration": 1026,
    "start_time": "2021-08-04T19:18:49.731Z"
   },
   {
    "duration": 10,
    "start_time": "2021-08-04T19:18:50.759Z"
   },
   {
    "duration": 18,
    "start_time": "2021-08-04T19:18:50.771Z"
   },
   {
    "duration": 7,
    "start_time": "2021-08-04T19:18:50.791Z"
   },
   {
    "duration": 16,
    "start_time": "2021-08-04T19:18:50.799Z"
   },
   {
    "duration": 6,
    "start_time": "2021-08-04T19:18:50.817Z"
   },
   {
    "duration": 14,
    "start_time": "2021-08-04T19:18:50.825Z"
   },
   {
    "duration": 7,
    "start_time": "2021-08-04T19:18:50.841Z"
   },
   {
    "duration": 12,
    "start_time": "2021-08-04T19:18:50.850Z"
   },
   {
    "duration": 4,
    "start_time": "2021-08-04T19:18:50.892Z"
   },
   {
    "duration": 9,
    "start_time": "2021-08-04T19:18:50.898Z"
   },
   {
    "duration": 4,
    "start_time": "2021-08-04T19:18:50.909Z"
   },
   {
    "duration": 4,
    "start_time": "2021-08-04T19:18:50.915Z"
   },
   {
    "duration": 135,
    "start_time": "2021-08-04T19:18:50.920Z"
   },
   {
    "duration": 65,
    "start_time": "2021-08-04T19:18:51.057Z"
   },
   {
    "duration": 69,
    "start_time": "2021-08-04T19:18:51.124Z"
   },
   {
    "duration": 45,
    "start_time": "2021-08-04T19:18:51.195Z"
   },
   {
    "duration": 52,
    "start_time": "2021-08-04T19:18:51.242Z"
   },
   {
    "duration": 21,
    "start_time": "2021-08-04T19:18:51.296Z"
   },
   {
    "duration": 19,
    "start_time": "2021-08-04T19:18:51.319Z"
   },
   {
    "duration": 23,
    "start_time": "2021-08-04T19:18:51.339Z"
   },
   {
    "duration": 29,
    "start_time": "2021-08-04T19:18:51.364Z"
   },
   {
    "duration": 7,
    "start_time": "2021-08-04T19:18:51.395Z"
   },
   {
    "duration": 5,
    "start_time": "2021-08-04T19:18:51.404Z"
   },
   {
    "duration": 7,
    "start_time": "2021-08-04T19:18:51.411Z"
   },
   {
    "duration": 4,
    "start_time": "2021-08-04T19:18:51.420Z"
   },
   {
    "duration": 14,
    "start_time": "2021-08-04T19:18:52.619Z"
   },
   {
    "duration": 19,
    "start_time": "2021-08-04T19:19:29.022Z"
   },
   {
    "duration": 7,
    "start_time": "2021-08-04T19:20:00.791Z"
   },
   {
    "duration": 7,
    "start_time": "2021-08-04T19:21:19.582Z"
   },
   {
    "duration": 9,
    "start_time": "2021-08-04T19:23:31.417Z"
   },
   {
    "duration": 13,
    "start_time": "2021-08-04T19:25:32.529Z"
   },
   {
    "duration": 6,
    "start_time": "2021-08-04T19:27:24.384Z"
   },
   {
    "duration": 75,
    "start_time": "2021-08-04T19:28:51.880Z"
   },
   {
    "duration": 4,
    "start_time": "2021-08-04T19:29:36.649Z"
   },
   {
    "duration": 822,
    "start_time": "2021-08-04T19:29:36.654Z"
   },
   {
    "duration": 8,
    "start_time": "2021-08-04T19:29:37.478Z"
   },
   {
    "duration": 24,
    "start_time": "2021-08-04T19:29:37.494Z"
   },
   {
    "duration": 7,
    "start_time": "2021-08-04T19:29:37.520Z"
   },
   {
    "duration": 16,
    "start_time": "2021-08-04T19:29:37.528Z"
   },
   {
    "duration": 6,
    "start_time": "2021-08-04T19:29:37.545Z"
   },
   {
    "duration": 14,
    "start_time": "2021-08-04T19:29:37.553Z"
   },
   {
    "duration": 31,
    "start_time": "2021-08-04T19:29:37.568Z"
   },
   {
    "duration": 11,
    "start_time": "2021-08-04T19:29:37.601Z"
   },
   {
    "duration": 6,
    "start_time": "2021-08-04T19:29:37.613Z"
   },
   {
    "duration": 7,
    "start_time": "2021-08-04T19:29:37.620Z"
   },
   {
    "duration": 8,
    "start_time": "2021-08-04T19:29:37.628Z"
   },
   {
    "duration": 7,
    "start_time": "2021-08-04T19:29:37.637Z"
   },
   {
    "duration": 145,
    "start_time": "2021-08-04T19:29:37.645Z"
   },
   {
    "duration": 59,
    "start_time": "2021-08-04T19:29:37.793Z"
   },
   {
    "duration": 79,
    "start_time": "2021-08-04T19:29:37.854Z"
   },
   {
    "duration": 45,
    "start_time": "2021-08-04T19:29:37.935Z"
   },
   {
    "duration": 52,
    "start_time": "2021-08-04T19:29:37.983Z"
   },
   {
    "duration": 22,
    "start_time": "2021-08-04T19:29:38.037Z"
   },
   {
    "duration": 37,
    "start_time": "2021-08-04T19:29:38.061Z"
   },
   {
    "duration": 26,
    "start_time": "2021-08-04T19:29:38.100Z"
   },
   {
    "duration": 10,
    "start_time": "2021-08-04T19:29:38.127Z"
   },
   {
    "duration": 7,
    "start_time": "2021-08-04T19:29:38.138Z"
   },
   {
    "duration": 8,
    "start_time": "2021-08-04T19:29:38.146Z"
   },
   {
    "duration": 8,
    "start_time": "2021-08-04T19:29:38.156Z"
   },
   {
    "duration": 27,
    "start_time": "2021-08-04T19:29:38.165Z"
   },
   {
    "duration": 21,
    "start_time": "2021-08-04T19:29:38.194Z"
   },
   {
    "duration": 8,
    "start_time": "2021-08-04T19:29:38.217Z"
   },
   {
    "duration": 15,
    "start_time": "2021-08-04T19:29:38.226Z"
   },
   {
    "duration": 10,
    "start_time": "2021-08-04T19:29:38.243Z"
   },
   {
    "duration": 9,
    "start_time": "2021-08-04T19:29:38.254Z"
   },
   {
    "duration": 10,
    "start_time": "2021-08-04T19:29:38.265Z"
   },
   {
    "duration": 22,
    "start_time": "2021-08-04T19:29:38.276Z"
   },
   {
    "duration": 12,
    "start_time": "2021-08-04T19:29:38.301Z"
   },
   {
    "duration": 16,
    "start_time": "2021-08-04T19:29:38.314Z"
   },
   {
    "duration": 8,
    "start_time": "2021-08-04T19:29:38.332Z"
   },
   {
    "duration": 1036,
    "start_time": "2021-08-04T19:29:38.341Z"
   },
   {
    "duration": 1093,
    "start_time": "2021-08-04T19:29:39.378Z"
   },
   {
    "duration": 997,
    "start_time": "2021-08-04T19:29:40.472Z"
   },
   {
    "duration": 711,
    "start_time": "2021-08-04T19:29:41.471Z"
   },
   {
    "duration": 1031,
    "start_time": "2021-08-04T19:29:42.184Z"
   },
   {
    "duration": 1010,
    "start_time": "2021-08-04T19:29:43.216Z"
   }
  ],
  "kernelspec": {
   "display_name": "Python 3 (ipykernel)",
   "language": "python",
   "name": "python3"
  },
  "language_info": {
   "codemirror_mode": {
    "name": "ipython",
    "version": 3
   },
   "file_extension": ".py",
   "mimetype": "text/x-python",
   "name": "python",
   "nbconvert_exporter": "python",
   "pygments_lexer": "ipython3",
   "version": "3.8.11"
  },
  "toc": {
   "base_numbering": 1,
   "nav_menu": {},
   "number_sections": true,
   "sideBar": true,
   "skip_h1_title": true,
   "title_cell": "Table of Contents",
   "title_sidebar": "Contents",
   "toc_cell": false,
   "toc_position": {},
   "toc_section_display": true,
   "toc_window_display": false
  }
 },
 "nbformat": 4,
 "nbformat_minor": 4
}
