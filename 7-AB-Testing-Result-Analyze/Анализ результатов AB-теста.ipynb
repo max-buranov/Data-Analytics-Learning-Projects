{
 "cells": [
  {
   "cell_type": "markdown",
   "id": "8fb2f1a6",
   "metadata": {},
   "source": [
    "---"
   ]
  },
  {
   "cell_type": "markdown",
   "id": "e47e3505",
   "metadata": {},
   "source": [
    "# Буранов М.М. "
   ]
  },
  {
   "cell_type": "markdown",
   "id": "121e140f",
   "metadata": {},
   "source": [
    "# Приоретизация гипотез и анализ результатов A/B-теста"
   ]
  },
  {
   "cell_type": "markdown",
   "id": "9bb901dd",
   "metadata": {},
   "source": [
    "## Введение \n",
    "\n",
    "Вместе с отделом маркетинга нам предстоить сформулировать гипотезы по улучшению каналов привлечения новых клиентов. Необходимо подготовить список гипотез, приоретизировать их с помощью двух фреймворков ICE и RICE и отоборат наиболее актуальные. \n",
    "\n",
    "После выбора гипотез мы будем должны провести A/B-тест. По результатам A/B-теста мы подсчитаем кумулятивные метрики, избавимся от выбросов, пересчитаем кумулятивные метрики, сравним данные. По результатам анализа мы должны подтвердить или отвергнуть гипотезу о равенстве генеральных совокупностей. "
   ]
  },
  {
   "cell_type": "code",
   "execution_count": 1,
   "id": "14c32aa3",
   "metadata": {},
   "outputs": [],
   "source": [
    "import pandas as pd\n",
    "import matplotlib.pyplot as plt\n",
    "import seaborn as sns\n",
    "import numpy as np\n",
    "import warnings\n",
    "import datetime as dt\n",
    "from scipy import stats as st\n",
    "warnings.simplefilter('ignore')\n",
    "pd.set_option('max_colwidth', 400)"
   ]
  },
  {
   "cell_type": "markdown",
   "id": "de805d7b",
   "metadata": {},
   "source": [
    "## Приоритизация гипотез"
   ]
  },
  {
   "cell_type": "markdown",
   "id": "58093f10",
   "metadata": {},
   "source": [
    "Прочитаем файл с гипотезами. "
   ]
  },
  {
   "cell_type": "code",
   "execution_count": 2,
   "id": "e52faaa7",
   "metadata": {},
   "outputs": [],
   "source": [
    "hypothesis = pd.read_csv('https://###.csv')"
   ]
  },
  {
   "cell_type": "code",
   "execution_count": 3,
   "id": "9858a810",
   "metadata": {},
   "outputs": [
    {
     "data": {
      "text/html": [
       "<div>\n",
       "<style scoped>\n",
       "    .dataframe tbody tr th:only-of-type {\n",
       "        vertical-align: middle;\n",
       "    }\n",
       "\n",
       "    .dataframe tbody tr th {\n",
       "        vertical-align: top;\n",
       "    }\n",
       "\n",
       "    .dataframe thead th {\n",
       "        text-align: right;\n",
       "    }\n",
       "</style>\n",
       "<table border=\"1\" class=\"dataframe\">\n",
       "  <thead>\n",
       "    <tr style=\"text-align: right;\">\n",
       "      <th></th>\n",
       "      <th>Hypothesis</th>\n",
       "      <th>Reach</th>\n",
       "      <th>Impact</th>\n",
       "      <th>Confidence</th>\n",
       "      <th>Efforts</th>\n",
       "    </tr>\n",
       "  </thead>\n",
       "  <tbody>\n",
       "    <tr>\n",
       "      <td>0</td>\n",
       "      <td>Добавить два новых канала привлечения трафика, что позволит привлекать на 30% больше пользователей</td>\n",
       "      <td>3</td>\n",
       "      <td>10</td>\n",
       "      <td>8</td>\n",
       "      <td>6</td>\n",
       "    </tr>\n",
       "    <tr>\n",
       "      <td>1</td>\n",
       "      <td>Запустить собственную службу доставки, что сократит срок доставки заказов</td>\n",
       "      <td>2</td>\n",
       "      <td>5</td>\n",
       "      <td>4</td>\n",
       "      <td>10</td>\n",
       "    </tr>\n",
       "    <tr>\n",
       "      <td>2</td>\n",
       "      <td>Добавить блоки рекомендаций товаров на сайт интернет магазина, чтобы повысить конверсию и средний чек заказа</td>\n",
       "      <td>8</td>\n",
       "      <td>3</td>\n",
       "      <td>7</td>\n",
       "      <td>3</td>\n",
       "    </tr>\n",
       "    <tr>\n",
       "      <td>3</td>\n",
       "      <td>Изменить структура категорий, что увеличит конверсию, т.к. пользователи быстрее найдут нужный товар</td>\n",
       "      <td>8</td>\n",
       "      <td>3</td>\n",
       "      <td>3</td>\n",
       "      <td>8</td>\n",
       "    </tr>\n",
       "    <tr>\n",
       "      <td>4</td>\n",
       "      <td>Изменить цвет фона главной страницы, чтобы увеличить вовлеченность пользователей</td>\n",
       "      <td>3</td>\n",
       "      <td>1</td>\n",
       "      <td>1</td>\n",
       "      <td>1</td>\n",
       "    </tr>\n",
       "    <tr>\n",
       "      <td>5</td>\n",
       "      <td>Добавить страницу отзывов клиентов о магазине, что позволит увеличить количество заказов</td>\n",
       "      <td>3</td>\n",
       "      <td>2</td>\n",
       "      <td>2</td>\n",
       "      <td>3</td>\n",
       "    </tr>\n",
       "    <tr>\n",
       "      <td>6</td>\n",
       "      <td>Показать на главной странице баннеры с актуальными акциями и распродажами, чтобы увеличить конверсию</td>\n",
       "      <td>5</td>\n",
       "      <td>3</td>\n",
       "      <td>8</td>\n",
       "      <td>3</td>\n",
       "    </tr>\n",
       "    <tr>\n",
       "      <td>7</td>\n",
       "      <td>Добавить форму подписки на все основные страницы, чтобы собрать базу клиентов для email-рассылок</td>\n",
       "      <td>10</td>\n",
       "      <td>7</td>\n",
       "      <td>8</td>\n",
       "      <td>5</td>\n",
       "    </tr>\n",
       "    <tr>\n",
       "      <td>8</td>\n",
       "      <td>Запустить акцию, дающую скидку на товар в день рождения</td>\n",
       "      <td>1</td>\n",
       "      <td>9</td>\n",
       "      <td>9</td>\n",
       "      <td>5</td>\n",
       "    </tr>\n",
       "  </tbody>\n",
       "</table>\n",
       "</div>"
      ],
      "text/plain": [
       "                                                                                                     Hypothesis  \\\n",
       "0            Добавить два новых канала привлечения трафика, что позволит привлекать на 30% больше пользователей   \n",
       "1                                     Запустить собственную службу доставки, что сократит срок доставки заказов   \n",
       "2  Добавить блоки рекомендаций товаров на сайт интернет магазина, чтобы повысить конверсию и средний чек заказа   \n",
       "3           Изменить структура категорий, что увеличит конверсию, т.к. пользователи быстрее найдут нужный товар   \n",
       "4                              Изменить цвет фона главной страницы, чтобы увеличить вовлеченность пользователей   \n",
       "5                      Добавить страницу отзывов клиентов о магазине, что позволит увеличить количество заказов   \n",
       "6          Показать на главной странице баннеры с актуальными акциями и распродажами, чтобы увеличить конверсию   \n",
       "7              Добавить форму подписки на все основные страницы, чтобы собрать базу клиентов для email-рассылок   \n",
       "8                                                       Запустить акцию, дающую скидку на товар в день рождения   \n",
       "\n",
       "   Reach  Impact  Confidence  Efforts  \n",
       "0      3      10           8        6  \n",
       "1      2       5           4       10  \n",
       "2      8       3           7        3  \n",
       "3      8       3           3        8  \n",
       "4      3       1           1        1  \n",
       "5      3       2           2        3  \n",
       "6      5       3           8        3  \n",
       "7     10       7           8        5  \n",
       "8      1       9           9        5  "
      ]
     },
     "execution_count": 3,
     "metadata": {},
     "output_type": "execute_result"
    }
   ],
   "source": [
    "hypothesis.head(20)"
   ]
  },
  {
   "cell_type": "markdown",
   "id": "d9b80da2",
   "metadata": {},
   "source": [
    "Все параметры оценены по 10 бальной шкале. Подсчитаем RICE и ICE. "
   ]
  },
  {
   "cell_type": "code",
   "execution_count": 4,
   "id": "a67ec363",
   "metadata": {},
   "outputs": [
    {
     "data": {
      "text/html": [
       "<div>\n",
       "<style scoped>\n",
       "    .dataframe tbody tr th:only-of-type {\n",
       "        vertical-align: middle;\n",
       "    }\n",
       "\n",
       "    .dataframe tbody tr th {\n",
       "        vertical-align: top;\n",
       "    }\n",
       "\n",
       "    .dataframe thead th {\n",
       "        text-align: right;\n",
       "    }\n",
       "</style>\n",
       "<table border=\"1\" class=\"dataframe\">\n",
       "  <thead>\n",
       "    <tr style=\"text-align: right;\">\n",
       "      <th></th>\n",
       "      <th>Hypothesis</th>\n",
       "      <th>Reach</th>\n",
       "      <th>Impact</th>\n",
       "      <th>Confidence</th>\n",
       "      <th>Efforts</th>\n",
       "      <th>RICE</th>\n",
       "    </tr>\n",
       "  </thead>\n",
       "  <tbody>\n",
       "    <tr>\n",
       "      <td>7</td>\n",
       "      <td>Добавить форму подписки на все основные страницы, чтобы собрать базу клиентов для email-рассылок</td>\n",
       "      <td>10</td>\n",
       "      <td>7</td>\n",
       "      <td>8</td>\n",
       "      <td>5</td>\n",
       "      <td>112.0</td>\n",
       "    </tr>\n",
       "    <tr>\n",
       "      <td>2</td>\n",
       "      <td>Добавить блоки рекомендаций товаров на сайт интернет магазина, чтобы повысить конверсию и средний чек заказа</td>\n",
       "      <td>8</td>\n",
       "      <td>3</td>\n",
       "      <td>7</td>\n",
       "      <td>3</td>\n",
       "      <td>56.0</td>\n",
       "    </tr>\n",
       "    <tr>\n",
       "      <td>0</td>\n",
       "      <td>Добавить два новых канала привлечения трафика, что позволит привлекать на 30% больше пользователей</td>\n",
       "      <td>3</td>\n",
       "      <td>10</td>\n",
       "      <td>8</td>\n",
       "      <td>6</td>\n",
       "      <td>40.0</td>\n",
       "    </tr>\n",
       "    <tr>\n",
       "      <td>6</td>\n",
       "      <td>Показать на главной странице баннеры с актуальными акциями и распродажами, чтобы увеличить конверсию</td>\n",
       "      <td>5</td>\n",
       "      <td>3</td>\n",
       "      <td>8</td>\n",
       "      <td>3</td>\n",
       "      <td>40.0</td>\n",
       "    </tr>\n",
       "    <tr>\n",
       "      <td>8</td>\n",
       "      <td>Запустить акцию, дающую скидку на товар в день рождения</td>\n",
       "      <td>1</td>\n",
       "      <td>9</td>\n",
       "      <td>9</td>\n",
       "      <td>5</td>\n",
       "      <td>16.2</td>\n",
       "    </tr>\n",
       "    <tr>\n",
       "      <td>3</td>\n",
       "      <td>Изменить структура категорий, что увеличит конверсию, т.к. пользователи быстрее найдут нужный товар</td>\n",
       "      <td>8</td>\n",
       "      <td>3</td>\n",
       "      <td>3</td>\n",
       "      <td>8</td>\n",
       "      <td>9.0</td>\n",
       "    </tr>\n",
       "    <tr>\n",
       "      <td>1</td>\n",
       "      <td>Запустить собственную службу доставки, что сократит срок доставки заказов</td>\n",
       "      <td>2</td>\n",
       "      <td>5</td>\n",
       "      <td>4</td>\n",
       "      <td>10</td>\n",
       "      <td>4.0</td>\n",
       "    </tr>\n",
       "    <tr>\n",
       "      <td>5</td>\n",
       "      <td>Добавить страницу отзывов клиентов о магазине, что позволит увеличить количество заказов</td>\n",
       "      <td>3</td>\n",
       "      <td>2</td>\n",
       "      <td>2</td>\n",
       "      <td>3</td>\n",
       "      <td>4.0</td>\n",
       "    </tr>\n",
       "    <tr>\n",
       "      <td>4</td>\n",
       "      <td>Изменить цвет фона главной страницы, чтобы увеличить вовлеченность пользователей</td>\n",
       "      <td>3</td>\n",
       "      <td>1</td>\n",
       "      <td>1</td>\n",
       "      <td>1</td>\n",
       "      <td>3.0</td>\n",
       "    </tr>\n",
       "  </tbody>\n",
       "</table>\n",
       "</div>"
      ],
      "text/plain": [
       "                                                                                                     Hypothesis  \\\n",
       "7              Добавить форму подписки на все основные страницы, чтобы собрать базу клиентов для email-рассылок   \n",
       "2  Добавить блоки рекомендаций товаров на сайт интернет магазина, чтобы повысить конверсию и средний чек заказа   \n",
       "0            Добавить два новых канала привлечения трафика, что позволит привлекать на 30% больше пользователей   \n",
       "6          Показать на главной странице баннеры с актуальными акциями и распродажами, чтобы увеличить конверсию   \n",
       "8                                                       Запустить акцию, дающую скидку на товар в день рождения   \n",
       "3           Изменить структура категорий, что увеличит конверсию, т.к. пользователи быстрее найдут нужный товар   \n",
       "1                                     Запустить собственную службу доставки, что сократит срок доставки заказов   \n",
       "5                      Добавить страницу отзывов клиентов о магазине, что позволит увеличить количество заказов   \n",
       "4                              Изменить цвет фона главной страницы, чтобы увеличить вовлеченность пользователей   \n",
       "\n",
       "   Reach  Impact  Confidence  Efforts   RICE  \n",
       "7     10       7           8        5  112.0  \n",
       "2      8       3           7        3   56.0  \n",
       "0      3      10           8        6   40.0  \n",
       "6      5       3           8        3   40.0  \n",
       "8      1       9           9        5   16.2  \n",
       "3      8       3           3        8    9.0  \n",
       "1      2       5           4       10    4.0  \n",
       "5      3       2           2        3    4.0  \n",
       "4      3       1           1        1    3.0  "
      ]
     },
     "execution_count": 4,
     "metadata": {},
     "output_type": "execute_result"
    }
   ],
   "source": [
    "hypothesis['RICE'] = (hypothesis['Reach']*hypothesis['Impact']*hypothesis['Confidence'])/hypothesis['Efforts']\n",
    "hypothesis.sort_values(by = ['RICE'], ascending = False)"
   ]
  },
  {
   "cell_type": "code",
   "execution_count": 5,
   "id": "1e48aebb",
   "metadata": {},
   "outputs": [
    {
     "data": {
      "text/html": [
       "<div>\n",
       "<style scoped>\n",
       "    .dataframe tbody tr th:only-of-type {\n",
       "        vertical-align: middle;\n",
       "    }\n",
       "\n",
       "    .dataframe tbody tr th {\n",
       "        vertical-align: top;\n",
       "    }\n",
       "\n",
       "    .dataframe thead th {\n",
       "        text-align: right;\n",
       "    }\n",
       "</style>\n",
       "<table border=\"1\" class=\"dataframe\">\n",
       "  <thead>\n",
       "    <tr style=\"text-align: right;\">\n",
       "      <th></th>\n",
       "      <th>Hypothesis</th>\n",
       "      <th>Reach</th>\n",
       "      <th>Impact</th>\n",
       "      <th>Confidence</th>\n",
       "      <th>Efforts</th>\n",
       "      <th>ICE</th>\n",
       "    </tr>\n",
       "  </thead>\n",
       "  <tbody>\n",
       "    <tr>\n",
       "      <td>8</td>\n",
       "      <td>Запустить акцию, дающую скидку на товар в день рождения</td>\n",
       "      <td>1</td>\n",
       "      <td>9</td>\n",
       "      <td>9</td>\n",
       "      <td>5</td>\n",
       "      <td>16.200000</td>\n",
       "    </tr>\n",
       "    <tr>\n",
       "      <td>0</td>\n",
       "      <td>Добавить два новых канала привлечения трафика, что позволит привлекать на 30% больше пользователей</td>\n",
       "      <td>3</td>\n",
       "      <td>10</td>\n",
       "      <td>8</td>\n",
       "      <td>6</td>\n",
       "      <td>13.333333</td>\n",
       "    </tr>\n",
       "    <tr>\n",
       "      <td>7</td>\n",
       "      <td>Добавить форму подписки на все основные страницы, чтобы собрать базу клиентов для email-рассылок</td>\n",
       "      <td>10</td>\n",
       "      <td>7</td>\n",
       "      <td>8</td>\n",
       "      <td>5</td>\n",
       "      <td>11.200000</td>\n",
       "    </tr>\n",
       "    <tr>\n",
       "      <td>6</td>\n",
       "      <td>Показать на главной странице баннеры с актуальными акциями и распродажами, чтобы увеличить конверсию</td>\n",
       "      <td>5</td>\n",
       "      <td>3</td>\n",
       "      <td>8</td>\n",
       "      <td>3</td>\n",
       "      <td>8.000000</td>\n",
       "    </tr>\n",
       "    <tr>\n",
       "      <td>2</td>\n",
       "      <td>Добавить блоки рекомендаций товаров на сайт интернет магазина, чтобы повысить конверсию и средний чек заказа</td>\n",
       "      <td>8</td>\n",
       "      <td>3</td>\n",
       "      <td>7</td>\n",
       "      <td>3</td>\n",
       "      <td>7.000000</td>\n",
       "    </tr>\n",
       "    <tr>\n",
       "      <td>1</td>\n",
       "      <td>Запустить собственную службу доставки, что сократит срок доставки заказов</td>\n",
       "      <td>2</td>\n",
       "      <td>5</td>\n",
       "      <td>4</td>\n",
       "      <td>10</td>\n",
       "      <td>2.000000</td>\n",
       "    </tr>\n",
       "    <tr>\n",
       "      <td>5</td>\n",
       "      <td>Добавить страницу отзывов клиентов о магазине, что позволит увеличить количество заказов</td>\n",
       "      <td>3</td>\n",
       "      <td>2</td>\n",
       "      <td>2</td>\n",
       "      <td>3</td>\n",
       "      <td>1.333333</td>\n",
       "    </tr>\n",
       "    <tr>\n",
       "      <td>3</td>\n",
       "      <td>Изменить структура категорий, что увеличит конверсию, т.к. пользователи быстрее найдут нужный товар</td>\n",
       "      <td>8</td>\n",
       "      <td>3</td>\n",
       "      <td>3</td>\n",
       "      <td>8</td>\n",
       "      <td>1.125000</td>\n",
       "    </tr>\n",
       "    <tr>\n",
       "      <td>4</td>\n",
       "      <td>Изменить цвет фона главной страницы, чтобы увеличить вовлеченность пользователей</td>\n",
       "      <td>3</td>\n",
       "      <td>1</td>\n",
       "      <td>1</td>\n",
       "      <td>1</td>\n",
       "      <td>1.000000</td>\n",
       "    </tr>\n",
       "  </tbody>\n",
       "</table>\n",
       "</div>"
      ],
      "text/plain": [
       "                                                                                                     Hypothesis  \\\n",
       "8                                                       Запустить акцию, дающую скидку на товар в день рождения   \n",
       "0            Добавить два новых канала привлечения трафика, что позволит привлекать на 30% больше пользователей   \n",
       "7              Добавить форму подписки на все основные страницы, чтобы собрать базу клиентов для email-рассылок   \n",
       "6          Показать на главной странице баннеры с актуальными акциями и распродажами, чтобы увеличить конверсию   \n",
       "2  Добавить блоки рекомендаций товаров на сайт интернет магазина, чтобы повысить конверсию и средний чек заказа   \n",
       "1                                     Запустить собственную службу доставки, что сократит срок доставки заказов   \n",
       "5                      Добавить страницу отзывов клиентов о магазине, что позволит увеличить количество заказов   \n",
       "3           Изменить структура категорий, что увеличит конверсию, т.к. пользователи быстрее найдут нужный товар   \n",
       "4                              Изменить цвет фона главной страницы, чтобы увеличить вовлеченность пользователей   \n",
       "\n",
       "   Reach  Impact  Confidence  Efforts        ICE  \n",
       "8      1       9           9        5  16.200000  \n",
       "0      3      10           8        6  13.333333  \n",
       "7     10       7           8        5  11.200000  \n",
       "6      5       3           8        3   8.000000  \n",
       "2      8       3           7        3   7.000000  \n",
       "1      2       5           4       10   2.000000  \n",
       "5      3       2           2        3   1.333333  \n",
       "3      8       3           3        8   1.125000  \n",
       "4      3       1           1        1   1.000000  "
      ]
     },
     "execution_count": 5,
     "metadata": {},
     "output_type": "execute_result"
    }
   ],
   "source": [
    "hypothesis['ICE'] = (hypothesis['Impact']*hypothesis['Confidence'])/hypothesis['Efforts']\n",
    "hypothesis.sort_values(by = ['ICE'], ascending = False).drop(columns=['RICE'])"
   ]
  },
  {
   "cell_type": "markdown",
   "id": "66e333a8",
   "metadata": {},
   "source": [
    "Наиболее перспективные гипотезы по методу RICE - 7, 2, 0, 6. \n",
    "\n",
    "По методу ICE - 8, 0, 7, 6.\n",
    "\n",
    "3 гипотезы попадают и в первый и второй список лидеров(7, 0, 6). Отличаются 2 гипотезой в RICE и 8 для ICE. 8 гипотеза воздействует на маленькое количество аудитории, поэтому имеет минимальный параметр Reach, при этом уровень воздействия и уверенности по 9. 2 гипотеза наборот воздействует на большую аудиторию, однако имеет меньшее воздействие(3). \n",
    "\n",
    "Также стоит проверить то, правильно ли сформулированы гипотезы. Необходимым критериям не соответсвуют гипотезы: 7, 8.\n",
    "\n",
    "В приоритете остаются только гипотезы 2, 0, 6. Выберем гипотезу №2 , т.к. она обладает большей мощностью по RICE. \n",
    "\n",
    "Проведём А/B-тест, чтобы проверить гипотезу \"Добавить блоки рекомендаций товаров на сайт интернет магазина, чтобы повысить конверсию и средний чек заказа\". "
   ]
  },
  {
   "cell_type": "code",
   "execution_count": 6,
   "id": "0c91c3c0",
   "metadata": {},
   "outputs": [
    {
     "data": {
      "text/html": [
       "<div>\n",
       "<style scoped>\n",
       "    .dataframe tbody tr th:only-of-type {\n",
       "        vertical-align: middle;\n",
       "    }\n",
       "\n",
       "    .dataframe tbody tr th {\n",
       "        vertical-align: top;\n",
       "    }\n",
       "\n",
       "    .dataframe thead th {\n",
       "        text-align: right;\n",
       "    }\n",
       "</style>\n",
       "<table border=\"1\" class=\"dataframe\">\n",
       "  <thead>\n",
       "    <tr style=\"text-align: right;\">\n",
       "      <th></th>\n",
       "      <th>Hypothesis</th>\n",
       "      <th>Reach</th>\n",
       "      <th>Impact</th>\n",
       "      <th>Confidence</th>\n",
       "      <th>Efforts</th>\n",
       "      <th>RICE</th>\n",
       "      <th>ICE</th>\n",
       "    </tr>\n",
       "  </thead>\n",
       "  <tbody>\n",
       "    <tr>\n",
       "      <td>0</td>\n",
       "      <td>Добавить два новых канала привлечения трафика, что позволит привлекать на 30% больше пользователей</td>\n",
       "      <td>3</td>\n",
       "      <td>10</td>\n",
       "      <td>8</td>\n",
       "      <td>6</td>\n",
       "      <td>40.0</td>\n",
       "      <td>13.333333</td>\n",
       "    </tr>\n",
       "    <tr>\n",
       "      <td>1</td>\n",
       "      <td>Запустить собственную службу доставки, что сократит срок доставки заказов</td>\n",
       "      <td>2</td>\n",
       "      <td>5</td>\n",
       "      <td>4</td>\n",
       "      <td>10</td>\n",
       "      <td>4.0</td>\n",
       "      <td>2.000000</td>\n",
       "    </tr>\n",
       "    <tr>\n",
       "      <td>2</td>\n",
       "      <td>Добавить блоки рекомендаций товаров на сайт интернет магазина, чтобы повысить конверсию и средний чек заказа</td>\n",
       "      <td>8</td>\n",
       "      <td>3</td>\n",
       "      <td>7</td>\n",
       "      <td>3</td>\n",
       "      <td>56.0</td>\n",
       "      <td>7.000000</td>\n",
       "    </tr>\n",
       "    <tr>\n",
       "      <td>3</td>\n",
       "      <td>Изменить структура категорий, что увеличит конверсию, т.к. пользователи быстрее найдут нужный товар</td>\n",
       "      <td>8</td>\n",
       "      <td>3</td>\n",
       "      <td>3</td>\n",
       "      <td>8</td>\n",
       "      <td>9.0</td>\n",
       "      <td>1.125000</td>\n",
       "    </tr>\n",
       "    <tr>\n",
       "      <td>4</td>\n",
       "      <td>Изменить цвет фона главной страницы, чтобы увеличить вовлеченность пользователей</td>\n",
       "      <td>3</td>\n",
       "      <td>1</td>\n",
       "      <td>1</td>\n",
       "      <td>1</td>\n",
       "      <td>3.0</td>\n",
       "      <td>1.000000</td>\n",
       "    </tr>\n",
       "    <tr>\n",
       "      <td>5</td>\n",
       "      <td>Добавить страницу отзывов клиентов о магазине, что позволит увеличить количество заказов</td>\n",
       "      <td>3</td>\n",
       "      <td>2</td>\n",
       "      <td>2</td>\n",
       "      <td>3</td>\n",
       "      <td>4.0</td>\n",
       "      <td>1.333333</td>\n",
       "    </tr>\n",
       "    <tr>\n",
       "      <td>6</td>\n",
       "      <td>Показать на главной странице баннеры с актуальными акциями и распродажами, чтобы увеличить конверсию</td>\n",
       "      <td>5</td>\n",
       "      <td>3</td>\n",
       "      <td>8</td>\n",
       "      <td>3</td>\n",
       "      <td>40.0</td>\n",
       "      <td>8.000000</td>\n",
       "    </tr>\n",
       "    <tr>\n",
       "      <td>7</td>\n",
       "      <td>Добавить форму подписки на все основные страницы, чтобы собрать базу клиентов для email-рассылок</td>\n",
       "      <td>10</td>\n",
       "      <td>7</td>\n",
       "      <td>8</td>\n",
       "      <td>5</td>\n",
       "      <td>112.0</td>\n",
       "      <td>11.200000</td>\n",
       "    </tr>\n",
       "    <tr>\n",
       "      <td>8</td>\n",
       "      <td>Запустить акцию, дающую скидку на товар в день рождения</td>\n",
       "      <td>1</td>\n",
       "      <td>9</td>\n",
       "      <td>9</td>\n",
       "      <td>5</td>\n",
       "      <td>16.2</td>\n",
       "      <td>16.200000</td>\n",
       "    </tr>\n",
       "  </tbody>\n",
       "</table>\n",
       "</div>"
      ],
      "text/plain": [
       "                                                                                                     Hypothesis  \\\n",
       "0            Добавить два новых канала привлечения трафика, что позволит привлекать на 30% больше пользователей   \n",
       "1                                     Запустить собственную службу доставки, что сократит срок доставки заказов   \n",
       "2  Добавить блоки рекомендаций товаров на сайт интернет магазина, чтобы повысить конверсию и средний чек заказа   \n",
       "3           Изменить структура категорий, что увеличит конверсию, т.к. пользователи быстрее найдут нужный товар   \n",
       "4                              Изменить цвет фона главной страницы, чтобы увеличить вовлеченность пользователей   \n",
       "5                      Добавить страницу отзывов клиентов о магазине, что позволит увеличить количество заказов   \n",
       "6          Показать на главной странице баннеры с актуальными акциями и распродажами, чтобы увеличить конверсию   \n",
       "7              Добавить форму подписки на все основные страницы, чтобы собрать базу клиентов для email-рассылок   \n",
       "8                                                       Запустить акцию, дающую скидку на товар в день рождения   \n",
       "\n",
       "   Reach  Impact  Confidence  Efforts   RICE        ICE  \n",
       "0      3      10           8        6   40.0  13.333333  \n",
       "1      2       5           4       10    4.0   2.000000  \n",
       "2      8       3           7        3   56.0   7.000000  \n",
       "3      8       3           3        8    9.0   1.125000  \n",
       "4      3       1           1        1    3.0   1.000000  \n",
       "5      3       2           2        3    4.0   1.333333  \n",
       "6      5       3           8        3   40.0   8.000000  \n",
       "7     10       7           8        5  112.0  11.200000  \n",
       "8      1       9           9        5   16.2  16.200000  "
      ]
     },
     "execution_count": 6,
     "metadata": {},
     "output_type": "execute_result"
    }
   ],
   "source": [
    "hypothesis"
   ]
  },
  {
   "cell_type": "code",
   "execution_count": 7,
   "id": "43e71429",
   "metadata": {},
   "outputs": [
    {
     "data": {
      "image/png": "[encoded data removed]",
      "text/plain": [
       "<Figure size 432x288 with 1 Axes>"
      ]
     },
     "metadata": {
      "needs_background": "light"
     },
     "output_type": "display_data"
    }
   ],
   "source": [
    "y = hypothesis['RICE'].to_list()\n",
    "x = hypothesis['ICE'].to_list()\n",
    "n = hypothesis.reset_index()['index'].to_list()\n",
    "\n",
    "fig, ax = plt.subplots()\n",
    "ax.scatter(y, x)\n",
    "\n",
    "\n",
    "for i, txt in enumerate(n):\n",
    "    ax.annotate(txt, (y[i], x[i]))"
   ]
  },
  {
   "cell_type": "markdown",
   "id": "b7e20335",
   "metadata": {},
   "source": [
    "## Анализ A/B-теста"
   ]
  },
  {
   "cell_type": "markdown",
   "id": "755cf923",
   "metadata": {},
   "source": [
    "Мы провели A/B тест. Приступим к изучению данных. "
   ]
  },
  {
   "cell_type": "markdown",
   "id": "de353493",
   "metadata": {},
   "source": [
    "### Изучение данных из файла"
   ]
  },
  {
   "cell_type": "markdown",
   "id": "ee5d8313",
   "metadata": {},
   "source": [
    "Прочитаем результаты A/B теста из файлов. "
   ]
  },
  {
   "cell_type": "code",
   "execution_count": 8,
   "id": "d1787701",
   "metadata": {},
   "outputs": [],
   "source": [
    "orders = pd.read_csv('https://code.s3.yandex.net/datasets/orders.csv')"
   ]
  },
  {
   "cell_type": "code",
   "execution_count": 9,
   "id": "14bfca14",
   "metadata": {},
   "outputs": [],
   "source": [
    "visitors = pd.read_csv('https://code.s3.yandex.net/datasets/visitors.csv')"
   ]
  },
  {
   "cell_type": "code",
   "execution_count": 10,
   "id": "0e622fa2",
   "metadata": {},
   "outputs": [
    {
     "data": {
      "text/html": [
       "<div>\n",
       "<style scoped>\n",
       "    .dataframe tbody tr th:only-of-type {\n",
       "        vertical-align: middle;\n",
       "    }\n",
       "\n",
       "    .dataframe tbody tr th {\n",
       "        vertical-align: top;\n",
       "    }\n",
       "\n",
       "    .dataframe thead th {\n",
       "        text-align: right;\n",
       "    }\n",
       "</style>\n",
       "<table border=\"1\" class=\"dataframe\">\n",
       "  <thead>\n",
       "    <tr style=\"text-align: right;\">\n",
       "      <th></th>\n",
       "      <th>transactionId</th>\n",
       "      <th>visitorId</th>\n",
       "      <th>date</th>\n",
       "      <th>revenue</th>\n",
       "      <th>group</th>\n",
       "    </tr>\n",
       "  </thead>\n",
       "  <tbody>\n",
       "    <tr>\n",
       "      <td>0</td>\n",
       "      <td>3667963787</td>\n",
       "      <td>3312258926</td>\n",
       "      <td>2019-08-15</td>\n",
       "      <td>1650</td>\n",
       "      <td>B</td>\n",
       "    </tr>\n",
       "    <tr>\n",
       "      <td>1</td>\n",
       "      <td>2804400009</td>\n",
       "      <td>3642806036</td>\n",
       "      <td>2019-08-15</td>\n",
       "      <td>730</td>\n",
       "      <td>B</td>\n",
       "    </tr>\n",
       "    <tr>\n",
       "      <td>2</td>\n",
       "      <td>2961555356</td>\n",
       "      <td>4069496402</td>\n",
       "      <td>2019-08-15</td>\n",
       "      <td>400</td>\n",
       "      <td>A</td>\n",
       "    </tr>\n",
       "    <tr>\n",
       "      <td>3</td>\n",
       "      <td>3797467345</td>\n",
       "      <td>1196621759</td>\n",
       "      <td>2019-08-15</td>\n",
       "      <td>9759</td>\n",
       "      <td>B</td>\n",
       "    </tr>\n",
       "    <tr>\n",
       "      <td>4</td>\n",
       "      <td>2282983706</td>\n",
       "      <td>2322279887</td>\n",
       "      <td>2019-08-15</td>\n",
       "      <td>2308</td>\n",
       "      <td>B</td>\n",
       "    </tr>\n",
       "  </tbody>\n",
       "</table>\n",
       "</div>"
      ],
      "text/plain": [
       "   transactionId   visitorId        date  revenue group\n",
       "0     3667963787  3312258926  2019-08-15     1650     B\n",
       "1     2804400009  3642806036  2019-08-15      730     B\n",
       "2     2961555356  4069496402  2019-08-15      400     A\n",
       "3     3797467345  1196621759  2019-08-15     9759     B\n",
       "4     2282983706  2322279887  2019-08-15     2308     B"
      ]
     },
     "execution_count": 10,
     "metadata": {},
     "output_type": "execute_result"
    }
   ],
   "source": [
    "orders.head()"
   ]
  },
  {
   "cell_type": "code",
   "execution_count": 11,
   "id": "ce50d285",
   "metadata": {},
   "outputs": [
    {
     "name": "stdout",
     "output_type": "stream",
     "text": [
      "<class 'pandas.core.frame.DataFrame'>\n",
      "RangeIndex: 1197 entries, 0 to 1196\n",
      "Data columns (total 5 columns):\n",
      "transactionId    1197 non-null int64\n",
      "visitorId        1197 non-null int64\n",
      "date             1197 non-null object\n",
      "revenue          1197 non-null int64\n",
      "group            1197 non-null object\n",
      "dtypes: int64(3), object(2)\n",
      "memory usage: 46.9+ KB\n"
     ]
    }
   ],
   "source": [
    "orders.info()"
   ]
  },
  {
   "cell_type": "code",
   "execution_count": 12,
   "id": "6ed8d90e",
   "metadata": {},
   "outputs": [
    {
     "data": {
      "text/html": [
       "<div>\n",
       "<style scoped>\n",
       "    .dataframe tbody tr th:only-of-type {\n",
       "        vertical-align: middle;\n",
       "    }\n",
       "\n",
       "    .dataframe tbody tr th {\n",
       "        vertical-align: top;\n",
       "    }\n",
       "\n",
       "    .dataframe thead th {\n",
       "        text-align: right;\n",
       "    }\n",
       "</style>\n",
       "<table border=\"1\" class=\"dataframe\">\n",
       "  <thead>\n",
       "    <tr style=\"text-align: right;\">\n",
       "      <th></th>\n",
       "      <th>date</th>\n",
       "      <th>group</th>\n",
       "      <th>visitors</th>\n",
       "    </tr>\n",
       "  </thead>\n",
       "  <tbody>\n",
       "    <tr>\n",
       "      <td>0</td>\n",
       "      <td>2019-08-01</td>\n",
       "      <td>A</td>\n",
       "      <td>719</td>\n",
       "    </tr>\n",
       "    <tr>\n",
       "      <td>1</td>\n",
       "      <td>2019-08-02</td>\n",
       "      <td>A</td>\n",
       "      <td>619</td>\n",
       "    </tr>\n",
       "    <tr>\n",
       "      <td>2</td>\n",
       "      <td>2019-08-03</td>\n",
       "      <td>A</td>\n",
       "      <td>507</td>\n",
       "    </tr>\n",
       "    <tr>\n",
       "      <td>3</td>\n",
       "      <td>2019-08-04</td>\n",
       "      <td>A</td>\n",
       "      <td>717</td>\n",
       "    </tr>\n",
       "    <tr>\n",
       "      <td>4</td>\n",
       "      <td>2019-08-05</td>\n",
       "      <td>A</td>\n",
       "      <td>756</td>\n",
       "    </tr>\n",
       "  </tbody>\n",
       "</table>\n",
       "</div>"
      ],
      "text/plain": [
       "         date group  visitors\n",
       "0  2019-08-01     A       719\n",
       "1  2019-08-02     A       619\n",
       "2  2019-08-03     A       507\n",
       "3  2019-08-04     A       717\n",
       "4  2019-08-05     A       756"
      ]
     },
     "execution_count": 12,
     "metadata": {},
     "output_type": "execute_result"
    }
   ],
   "source": [
    "visitors.head()"
   ]
  },
  {
   "cell_type": "code",
   "execution_count": 13,
   "id": "0894fdb0",
   "metadata": {},
   "outputs": [
    {
     "name": "stdout",
     "output_type": "stream",
     "text": [
      "<class 'pandas.core.frame.DataFrame'>\n",
      "RangeIndex: 62 entries, 0 to 61\n",
      "Data columns (total 3 columns):\n",
      "date        62 non-null object\n",
      "group       62 non-null object\n",
      "visitors    62 non-null int64\n",
      "dtypes: int64(1), object(2)\n",
      "memory usage: 1.6+ KB\n"
     ]
    }
   ],
   "source": [
    "visitors.info()"
   ]
  },
  {
   "cell_type": "markdown",
   "id": "43e9e669",
   "metadata": {},
   "source": [
    "В обоих датафреймах нужно изменить тип данных в колонках дат. "
   ]
  },
  {
   "cell_type": "markdown",
   "id": "b15d31b8",
   "metadata": {},
   "source": [
    "### Изменение типов данных"
   ]
  },
  {
   "cell_type": "code",
   "execution_count": 14,
   "id": "a7b63198",
   "metadata": {},
   "outputs": [],
   "source": [
    "visitors['date'] = visitors['date'].map(lambda x: dt.datetime.strptime(x, '%Y-%m-%d'))"
   ]
  },
  {
   "cell_type": "code",
   "execution_count": 15,
   "id": "54cc9606",
   "metadata": {},
   "outputs": [],
   "source": [
    "orders['date']  = orders['date'].map(lambda x: dt.datetime.strptime(x, '%Y-%m-%d'))"
   ]
  },
  {
   "cell_type": "markdown",
   "id": "6e31d1ff",
   "metadata": {},
   "source": [
    "Тип данных изменили. "
   ]
  },
  {
   "cell_type": "markdown",
   "id": "bdaf506b",
   "metadata": {},
   "source": [
    "<b> Проверка на уникальность пользователей между группами"
   ]
  },
  {
   "cell_type": "code",
   "execution_count": 16,
   "id": "802e21bb",
   "metadata": {},
   "outputs": [
    {
     "data": {
      "text/plain": [
       "1089"
      ]
     },
     "execution_count": 16,
     "metadata": {},
     "output_type": "execute_result"
    }
   ],
   "source": [
    "a = orders[orders['group']=='A']\n",
    "b = orders[orders['group']=='B']\n",
    "\n",
    "users_a = a['visitorId'].drop_duplicates()\n",
    "users_b = b['visitorId'].drop_duplicates()\n",
    "\n",
    "users = pd.concat([users_a,users_b], axis=0)\n",
    "\n",
    "users.count()"
   ]
  },
  {
   "cell_type": "markdown",
   "id": "867cc3c8",
   "metadata": {},
   "source": [
    "1089 уникальных пользователей по каждой из групп. Проверим, пересекаются ли эти пользователи между группами. "
   ]
  },
  {
   "cell_type": "code",
   "execution_count": 17,
   "id": "8a49d51c",
   "metadata": {},
   "outputs": [
    {
     "data": {
      "text/plain": [
       "1031"
      ]
     },
     "execution_count": 17,
     "metadata": {},
     "output_type": "execute_result"
    }
   ],
   "source": [
    "users.nunique()"
   ]
  },
  {
   "cell_type": "markdown",
   "id": "63e59e62",
   "metadata": {},
   "source": [
    "58 пользователей встречаются в обеих группах тестирования. "
   ]
  },
  {
   "cell_type": "code",
   "execution_count": 18,
   "id": "14748865",
   "metadata": {},
   "outputs": [],
   "source": [
    "cross_users = users.reset_index().groupby('visitorId', as_index = False)['index'].count().sort_values('index', ascending = False)\n",
    "cross_users = cross_users[cross_users['index']>1]\n",
    "cross_users = cross_users['visitorId']"
   ]
  },
  {
   "cell_type": "markdown",
   "id": "5a045fd6",
   "metadata": {},
   "source": [
    "Определили Id пользователей, присутствующий в обеих группах. Удалим их из базы. "
   ]
  },
  {
   "cell_type": "code",
   "execution_count": 19,
   "id": "2ecabc4d",
   "metadata": {},
   "outputs": [
    {
     "data": {
      "text/plain": [
       "1031"
      ]
     },
     "execution_count": 19,
     "metadata": {},
     "output_type": "execute_result"
    }
   ],
   "source": [
    "orders['visitorId'].nunique()"
   ]
  },
  {
   "cell_type": "code",
   "execution_count": 20,
   "id": "ac317189",
   "metadata": {},
   "outputs": [
    {
     "data": {
      "text/plain": [
       "973"
      ]
     },
     "execution_count": 20,
     "metadata": {},
     "output_type": "execute_result"
    }
   ],
   "source": [
    "orders = orders[np.logical_not(orders['visitorId'].isin(cross_users))]\n",
    "orders['visitorId'].nunique()"
   ]
  },
  {
   "cell_type": "markdown",
   "id": "ba21b07b",
   "metadata": {},
   "source": [
    "### Кумулятивная выручка по группам"
   ]
  },
  {
   "cell_type": "code",
   "execution_count": 21,
   "id": "a1f4de3e",
   "metadata": {},
   "outputs": [
    {
     "data": {
      "text/plain": [
       "<matplotlib.legend.Legend at 0x7f4cd666f9d0>"
      ]
     },
     "execution_count": 21,
     "metadata": {},
     "output_type": "execute_result"
    },
    {
     "data": {
      "image/png": "[encoded data removed]",
      "text/plain": [
       "<Figure size 864x504 with 1 Axes>"
      ]
     },
     "metadata": {
      "needs_background": "light"
     },
     "output_type": "display_data"
    }
   ],
   "source": [
    "datesGroups = orders[[\"date\", \"group\"]].drop_duplicates()\n",
    "\n",
    "ordersAggregated = datesGroups.apply(\n",
    "    lambda x: orders[\n",
    "        np.logical_and(orders[\"date\"] <= x[\"date\"], orders[\"group\"] == x[\"group\"])\n",
    "    ].agg(\n",
    "        {\n",
    "            \"date\": \"max\",\n",
    "            \"group\": \"max\",\n",
    "            \"transactionId\": \"nunique\",\n",
    "            \"visitorId\": pd.Series.nunique,\n",
    "            \"revenue\": \"sum\",\n",
    "        }\n",
    "    ),\n",
    "    axis=1,\n",
    ").sort_values(by=[\"date\", \"group\"])\n",
    "\n",
    "visitorsAggregated = datesGroups.apply(\n",
    "    lambda x: visitors[\n",
    "        np.logical_and(visitors[\"date\"] <= x[\"date\"], visitors[\"group\"] == x[\"group\"])\n",
    "    ].agg({\"date\": \"max\", \"group\": \"max\", \"visitors\": \"sum\"}),\n",
    "    axis=1,\n",
    ").sort_values(by=[\"date\", \"group\"])\n",
    "\n",
    "cumulativeData = ordersAggregated.merge(visitorsAggregated, on=[\"date\", \"group\"])\n",
    "\n",
    "cumulativeData.columns = [\"date\", \"group\", \"orders\", \"buyers\", \"revenue\", \"visitors\"]\n",
    "\n",
    "cumulativeRevenueA = cumulativeData[cumulativeData[\"group\"] == \"A\"]\n",
    "cumulativeRevenueB = cumulativeData[cumulativeData[\"group\"] == \"B\"]\n",
    "\n",
    "\n",
    "fig, ax = plt.subplots(figsize=(12, 7))\n",
    "ax.set_title(\"Изменение кумулятивной выручки по дням и группам\")\n",
    "ax.plot(cumulativeRevenueA[\"date\"], cumulativeRevenueA[\"revenue\"], label=\"A\")\n",
    "ax.plot(cumulativeRevenueB[\"date\"], cumulativeRevenueB[\"revenue\"], label=\"B\")\n",
    "ax.set_xlabel('Дата наблюдения')\n",
    "ax.set_ylabel('Выручка')\n",
    "ax.legend()\n"
   ]
  },
  {
   "cell_type": "markdown",
   "id": "5c634ed5",
   "metadata": {},
   "source": [
    "---"
   ]
  },
  {
   "cell_type": "markdown",
   "id": "1a4fd7fe",
   "metadata": {},
   "source": [
    "Выручка по группе А стабильно ниже группы B. В группе \"А\" 20 августа был большой выброс, который повлиял на увеличение разрыва между группами. "
   ]
  },
  {
   "cell_type": "markdown",
   "id": "e61b2bf0",
   "metadata": {},
   "source": [
    "### Кумулятивный средний чек"
   ]
  },
  {
   "cell_type": "code",
   "execution_count": 22,
   "id": "2d0e021e",
   "metadata": {},
   "outputs": [
    {
     "data": {
      "text/plain": [
       "<matplotlib.legend.Legend at 0x7f4cd662b550>"
      ]
     },
     "execution_count": 22,
     "metadata": {},
     "output_type": "execute_result"
    },
    {
     "data": {
      "image/png": "[encoded data removed]",
      "text/plain": [
       "<Figure size 864x504 with 1 Axes>"
      ]
     },
     "metadata": {
      "needs_background": "light"
     },
     "output_type": "display_data"
    }
   ],
   "source": [
    "fig, ax = plt.subplots(figsize=(12, 7))\n",
    "ax.set_title('Изменение кумулятивного среднего чека по дням и группам')\n",
    "ax.plot(cumulativeRevenueA['date'], cumulativeRevenueA['revenue']/cumulativeRevenueA['orders'], label='A')\n",
    "ax.plot(cumulativeRevenueB['date'], cumulativeRevenueB['revenue']/cumulativeRevenueB['orders'], label='B')\n",
    "ax.set_xlabel('Дата наблюдения')\n",
    "ax.set_ylabel('Размер среднего чека')\n",
    "ax.legend()\n"
   ]
  },
  {
   "cell_type": "markdown",
   "id": "87bbf132",
   "metadata": {},
   "source": [
    "Видим, что средний чек по группе A отстает почти с самого начала. 13 августа в этой группе был аномально высокий чек, что позволило на 2 дня обогнать группу B. \n",
    "\n",
    "В группе B заметны волновые скачки - 2, 6, 20 августа. В эти дни кумулятивный средний чек резко растёт, а потом постепенно снижается, что говорит о аномально высоких чеках в эти дни. "
   ]
  },
  {
   "cell_type": "markdown",
   "id": "afc1f2dd",
   "metadata": {},
   "source": [
    "### Относительное изменение среднего чека"
   ]
  },
  {
   "cell_type": "code",
   "execution_count": 23,
   "id": "469bf086",
   "metadata": {},
   "outputs": [
    {
     "data": {
      "text/plain": [
       "Text(0, 0.5, 'Отношение среднего чека B к А')"
      ]
     },
     "execution_count": 23,
     "metadata": {},
     "output_type": "execute_result"
    },
    {
     "data": {
      "image/png": "[encoded data removed]",
      "text/plain": [
       "<Figure size 864x504 with 1 Axes>"
      ]
     },
     "metadata": {
      "needs_background": "light"
     },
     "output_type": "display_data"
    }
   ],
   "source": [
    "mergedCumulativeRevenue = cumulativeRevenueA.merge(cumulativeRevenueB, on = ['date'], how = 'left', suffixes = ['A','B'])\n",
    "\n",
    "fig, ax = plt.subplots(figsize=(12, 7))\n",
    "ax.set_title('Относительное изменение кумулятивного среднего чека')\n",
    "ax.plot(mergedCumulativeRevenue['date'], (mergedCumulativeRevenue['revenueB']/mergedCumulativeRevenue['ordersB'])/(mergedCumulativeRevenue['revenueA']/mergedCumulativeRevenue['ordersA'])-1)\n",
    "ax.axhline(y=0, color='black', linestyle='--')\n",
    "ax.set_xlabel('Дата наблюдения')\n",
    "ax.set_ylabel('Отношение среднего чека B к А')\n"
   ]
  },
  {
   "cell_type": "markdown",
   "id": "b8be1130",
   "metadata": {},
   "source": [
    "Группа B побеждает практически с самого начала, однако с 10 по 18 августа мы видим провал графика. В эти дни средний чек по группе A становился выше группы B. "
   ]
  },
  {
   "cell_type": "markdown",
   "id": "b94869a0",
   "metadata": {},
   "source": [
    "### Кумулятивная конверсия"
   ]
  },
  {
   "cell_type": "code",
   "execution_count": 24,
   "id": "8185bfeb",
   "metadata": {},
   "outputs": [
    {
     "data": {
      "text/plain": [
       "Text(0, 0.5, 'Конверсия')"
      ]
     },
     "execution_count": 24,
     "metadata": {},
     "output_type": "execute_result"
    },
    {
     "data": {
      "image/png": "[encoded data removed]",
      "text/plain": [
       "<Figure size 864x504 with 1 Axes>"
      ]
     },
     "metadata": {
      "needs_background": "light"
     },
     "output_type": "display_data"
    }
   ],
   "source": [
    "fig, ax = plt.subplots(figsize=(12, 7))\n",
    "ax.set_title('Изменение кумулятивной конверсии по дням и группам')\n",
    "ax.plot(cumulativeRevenueA['date'], cumulativeRevenueA['orders']/cumulativeRevenueA['visitors'], label='A')\n",
    "ax.plot(cumulativeRevenueB['date'], cumulativeRevenueB['orders']/cumulativeRevenueB['visitors'], label='B')\n",
    "ax.legend()\n",
    "ax.set_xlabel('Дата наблюдения')\n",
    "ax.set_ylabel('Конверсия')\n",
    "\n",
    "\n"
   ]
  },
  {
   "cell_type": "markdown",
   "id": "7e4d7089",
   "metadata": {},
   "source": [
    "Конверсия также выше в грeппе B, хотя группа А в первую неделю показывала лучшие результаты.  "
   ]
  },
  {
   "cell_type": "markdown",
   "id": "6b04ec76",
   "metadata": {},
   "source": [
    "### Относительное изменение кумулятивной конверсии"
   ]
  },
  {
   "cell_type": "code",
   "execution_count": 25,
   "id": "ac293dca",
   "metadata": {},
   "outputs": [
    {
     "data": {
      "text/plain": [
       "Text(0, 0.5, 'Отношение конверсии B к А')"
      ]
     },
     "execution_count": 25,
     "metadata": {},
     "output_type": "execute_result"
    },
    {
     "data": {
      "image/png": "[encoded data removed]",
      "text/plain": [
       "<Figure size 864x504 with 1 Axes>"
      ]
     },
     "metadata": {
      "needs_background": "light"
     },
     "output_type": "display_data"
    }
   ],
   "source": [
    "cumulativeData['conversion'] = cumulativeData['orders']/cumulativeData['visitors']\n",
    "\n",
    "cumulativeDataA = cumulativeData[cumulativeData['group']=='A']\n",
    "cumulativeDataB = cumulativeData[cumulativeData['group']=='B']\n",
    "\n",
    "cumulativeDataMerge = cumulativeDataA.merge(cumulativeDataB, on='date', how = 'left', suffixes=['A','B'])\n",
    "\n",
    "fig, ax = plt.subplots(figsize=(12, 7))\n",
    "ax.set_title('Относительное изменение кумулятивной конверсии')\n",
    "ax.plot(cumulativeDataMerge['date'], cumulativeDataMerge['conversionB']/cumulativeDataMerge['conversionA']-1)\n",
    "ax.axhline(y=0, color='black', linestyle='--')\n",
    "ax.set_xlabel('Дата наблюдения')\n",
    "ax.set_ylabel('Отношение конверсии B к А')\n"
   ]
  },
  {
   "cell_type": "markdown",
   "id": "ad52a15e",
   "metadata": {},
   "source": [
    "На графике видим, что группа B выигрывает по конверсии группу A."
   ]
  },
  {
   "cell_type": "markdown",
   "id": "85ff760d",
   "metadata": {},
   "source": [
    "### Количество заказов по пользователям"
   ]
  },
  {
   "cell_type": "code",
   "execution_count": 26,
   "id": "ad403c1b",
   "metadata": {},
   "outputs": [
    {
     "data": {
      "text/plain": [
       "Text(0, 0.5, 'Количество заказов')"
      ]
     },
     "execution_count": 26,
     "metadata": {},
     "output_type": "execute_result"
    },
    {
     "data": {
      "image/png": "[encoded data removed]",
      "text/plain": [
       "<Figure size 864x504 with 1 Axes>"
      ]
     },
     "metadata": {
      "needs_background": "light"
     },
     "output_type": "display_data"
    }
   ],
   "source": [
    "ordersByUsers = orders.groupby('visitorId', as_index = False).agg({'transactionId':'nunique', 'group':'max'})\n",
    "ordersByUsers.columns = ['visitorId', 'orders', 'group']\n",
    "\n",
    "\n",
    "\n",
    "\n",
    "ordersByUsersA = ordersByUsers[ordersByUsers['group']=='A']['orders']\n",
    "x_values_a = pd.Series(range(0,len(ordersByUsersA)))\n",
    "\n",
    "ordersByUsersB = ordersByUsers[ordersByUsers['group']=='B']['orders']\n",
    "x_values_b = pd.Series(range(0,len(ordersByUsersB)))\n",
    "\n",
    "fig, ax = plt.subplots(figsize=(12, 7))\n",
    "ax.set_title('Частота заказов пользователями')\n",
    "ax.scatter(x_values_a, ordersByUsersA, c='coral', alpha = 0.5)\n",
    "\n",
    "ax.scatter(x_values_b, ordersByUsersB, c='lightblue', alpha = 0.3)\n",
    "ax.set_xlabel('№ пользователя в группе')\n",
    "ax.set_ylabel('Количество заказов')\n"
   ]
  },
  {
   "cell_type": "markdown",
   "id": "95a24fd8",
   "metadata": {},
   "source": [
    "Обычно на одного пользователя приходится 1 заказ, реже 2-3. Больше 3 заказов делают совсем редко."
   ]
  },
  {
   "cell_type": "markdown",
   "id": "9a60c490",
   "metadata": {},
   "source": [
    "### 95-й и 99-й перцентили количества заказов"
   ]
  },
  {
   "cell_type": "code",
   "execution_count": 27,
   "id": "4dc9756c",
   "metadata": {},
   "outputs": [
    {
     "data": {
      "text/plain": [
       "array([1., 1., 2.])"
      ]
     },
     "execution_count": 27,
     "metadata": {},
     "output_type": "execute_result"
    }
   ],
   "source": [
    "np.percentile(ordersByUsers['orders'], [90,95,99])"
   ]
  },
  {
   "cell_type": "markdown",
   "id": "43b81a74",
   "metadata": {},
   "source": [
    "Не более 5% пользователей заказывали более 2 раз. Более 4 раз заказывал всего 1% пользователей. Границу для отсечения выбросов можно определить в 3 и более заказа. "
   ]
  },
  {
   "cell_type": "markdown",
   "id": "861965b5",
   "metadata": {},
   "source": [
    "### Стоимость заказов по пользователям "
   ]
  },
  {
   "cell_type": "code",
   "execution_count": 28,
   "id": "adc7de97",
   "metadata": {},
   "outputs": [
    {
     "data": {
      "text/plain": [
       "Text(0, 0.5, 'Стоимость заказа')"
      ]
     },
     "execution_count": 28,
     "metadata": {},
     "output_type": "execute_result"
    },
    {
     "data": {
      "image/png": "[encoded data removed]",
      "text/plain": [
       "<Figure size 864x504 with 1 Axes>"
      ]
     },
     "metadata": {
      "needs_background": "light"
     },
     "output_type": "display_data"
    }
   ],
   "source": [
    "x_values_a_2 = pd.Series(range(0,len(orders[(orders['revenue']<200000)&(orders['group']=='A')]['revenue'])))\n",
    "x_values_b_2 = pd.Series(range(0,len(orders[(orders['revenue']<200000)&(orders['group']=='B')]['revenue'])))\n",
    "\n",
    "fig, ax = plt.subplots(figsize=(12, 7))\n",
    "ax.set_title('Распределение стоимостей заказов')\n",
    "ax.scatter(x_values_a_2, (orders[(orders['revenue']<200000)&(orders['group']=='A')]['revenue']), c='coral', alpha = 0.5)\n",
    "\n",
    "ax.scatter(x_values_b_2, (orders[(orders['revenue']<200000)&(orders['group']=='B')]['revenue']), c='lightblue', alpha = 0.3)\n",
    "ax.set_xlabel('№ пользователя в группе')\n",
    "ax.set_ylabel('Стоимость заказа')"
   ]
  },
  {
   "cell_type": "markdown",
   "id": "83e83d5b",
   "metadata": {},
   "source": [
    "Без увеличения масштаба не видно, как меняется распределение частоты заказов. Сделали выборку с заказами до 200 000 у.е.\n",
    "\n",
    "Граница проходит где-то на 40 тысячах. "
   ]
  },
  {
   "cell_type": "markdown",
   "id": "8518f25f",
   "metadata": {},
   "source": [
    "### 95-й и 99-й перцентили стоимости заказов"
   ]
  },
  {
   "cell_type": "code",
   "execution_count": 29,
   "id": "c7253754",
   "metadata": {},
   "outputs": [
    {
     "data": {
      "text/plain": [
       "array([17990., 26785., 53904.])"
      ]
     },
     "execution_count": 29,
     "metadata": {},
     "output_type": "execute_result"
    }
   ],
   "source": [
    "np.percentile(orders['revenue'], [90,95,99])"
   ]
  },
  {
   "cell_type": "markdown",
   "id": "c196d1cf",
   "metadata": {},
   "source": [
    "Стоимость не более 10% заказов превышает 17 990 у.е., не более 5% превышает 26 785 у.е., не более 1% превышает 53 904 у.е. "
   ]
  },
  {
   "cell_type": "markdown",
   "id": "3bf5dafc",
   "metadata": {},
   "source": [
    "### Расчёт статистической значимости различий в конверсии по \"сырым\" данным"
   ]
  },
  {
   "cell_type": "markdown",
   "id": "998fb98a",
   "metadata": {},
   "source": [
    "<div class=\"alert alert-info\">\n",
    "Для дальнейшего анализа сформулируем нулевую и альтернативную гипотезу для каждого из тестов. <br>\n",
    "    <br>\n",
    "    Сравнение конверсии: <br>\n",
    "    h0 - уровень конверсии в группах А и В не  отличается. Группы принадлежат одной генеральной совокупности. <br>\n",
    "    h1 - уровень конверсии в группах различается. Группы принадлежат к разным генеральным совокупностям.  <br>\n",
    "     <br>\n",
    "    Сравнение средних чеков: <br>\n",
    "    h0 - средний чек в группах А и В не отличается. Группы принадлежат одной генеральной совокупности. <br>\n",
    "    h1 - средний чек в группах А и В различается. Группы принадлежат к разным генеральным совокупностям. <br>\n",
    "    <br>\n",
    "    Уровень статистической значимости для обоих тестов определен в alpha = 0.05.\n",
    "</div>"
   ]
  },
  {
   "cell_type": "code",
   "execution_count": 30,
   "id": "1751d304",
   "metadata": {},
   "outputs": [
    {
     "name": "stdout",
     "output_type": "stream",
     "text": [
      "Разница между среднми конверсий двух групп составляет: 17.51%\n",
      "\n",
      "P-value равняется 0.03 \n",
      "Отвергаем нулевую гипотезу: разница статистически значима\n"
     ]
    }
   ],
   "source": [
    "ordersByDateAndGroup = (\n",
    "    orders.groupby(['date','group'], as_index = False)\n",
    "    .agg({'transactionId':'nunique', 'visitorId':'nunique', 'revenue':'sum'})\n",
    ")\n",
    "\n",
    "ordersByDateAndGroup = ordersByDateAndGroup.rename(columns = {'transactionId':'orders', 'visitorId':'buyers'})\n",
    "\n",
    "ordersByDateAndGroup = ordersByDateAndGroup.merge(visitors, on = ['date','group'])\n",
    "ordersByDateAndGroup['conversion'] = ordersByDateAndGroup['orders']/ordersByDateAndGroup['visitors']\n",
    "\n",
    "conversionA = ordersByDateAndGroup[ordersByDateAndGroup['group']=='A']\n",
    "conversionB = ordersByDateAndGroup[ordersByDateAndGroup['group']=='B']\n",
    "\n",
    "alpha = 0.05\n",
    "\n",
    "p_value = st.mannwhitneyu(conversionA['conversion'], conversionB['conversion'])[1]\n",
    "print('Разница между среднми конверсий двух групп составляет: {0:.2%}'.format(conversionB['conversion'].mean()/conversionA['conversion'].mean()-1))\n",
    "print()\n",
    "print(\"P-value равняется {0:.2f} \".format(p_value))\n",
    "\n",
    "if p_value < 0.05:\n",
    "    print('Отвергаем нулевую гипотезу: разница статистически значима')\n",
    "else: \n",
    "     print(\n",
    "        'Не получилось отвергнуть нулевую гипотезу, вывод о различии сделать нельзя'\n",
    "    ) "
   ]
  },
  {
   "cell_type": "markdown",
   "id": "116c2dff",
   "metadata": {},
   "source": [
    "Относительный выигрыш группы B к группе А по конверсии составляет 17,51%. Удалось доказать статистическую значимость этих различий. Есть основания отвергнуть нулевую гипотезу. "
   ]
  },
  {
   "cell_type": "markdown",
   "id": "52d3b88f",
   "metadata": {},
   "source": [
    "### Расчёт статистической значимости различий в среднем чеке заказа между группами по \"сырым\" данным"
   ]
  },
  {
   "cell_type": "code",
   "execution_count": 31,
   "id": "7a165b3a",
   "metadata": {},
   "outputs": [
    {
     "name": "stdout",
     "output_type": "stream",
     "text": [
      "Разница между среднми чеками двух групп составляет: 20.33%\n",
      "\n",
      "P-value равняется 0.47754572 \n",
      "Не получилось отвергнуть нулевую гипотезу, вывод о различии сделать нельзя\n"
     ]
    }
   ],
   "source": [
    "recieaptsA = conversionA['revenue']/conversionA['orders']\n",
    "recieaptsB = conversionB['revenue']/conversionB['orders']\n",
    "\n",
    "alpha = 0.05\n",
    "\n",
    "p_value = st.mannwhitneyu(recieaptsA, recieaptsB)[1]\n",
    "print('Разница между среднми чеками двух групп составляет: {0:.2%}'.format(recieaptsB.mean()/recieaptsA.mean()-1))\n",
    "print()\n",
    "print(\"P-value равняется {0:.8f} \".format(p_value))\n",
    "\n",
    "if p_value < 0.05:\n",
    "    print('Отвергаем нулевую гипотезу: разница статистически значима')\n",
    "else: \n",
    "     print(\n",
    "        'Не получилось отвергнуть нулевую гипотезу, вывод о различии сделать нельзя'\n",
    "    ) "
   ]
  },
  {
   "cell_type": "markdown",
   "id": "e2f2665e",
   "metadata": {},
   "source": [
    "Группа B выигрывает группу А на 20.33 % по среднему чеку, однако нам не удалось обнаружить статистическую значимость. "
   ]
  },
  {
   "cell_type": "markdown",
   "id": "b129b56f",
   "metadata": {},
   "source": [
    "###  Расчёт статистической значимости различий в конверсии по \"очищенным\" данным"
   ]
  },
  {
   "cell_type": "code",
   "execution_count": 32,
   "id": "055cabec",
   "metadata": {},
   "outputs": [
    {
     "data": {
      "text/plain": [
       "86"
      ]
     },
     "execution_count": 32,
     "metadata": {},
     "output_type": "execute_result"
    }
   ],
   "source": [
    "usersWithManyOrders = ordersByUsers[ordersByUsers['orders'] > 1]['visitorId']\n",
    "usersWithExpensiveOrders = orders[orders['revenue'] >= 26785]['visitorId']\n",
    "\n",
    "abnormalUsers = (\n",
    "    pd.concat([usersWithManyOrders,usersWithExpensiveOrders], axis=0)\n",
    "    .drop_duplicates()\n",
    "    .sort_values()\n",
    ")\n",
    "\n",
    "abnormalUsers.count()"
   ]
  },
  {
   "cell_type": "markdown",
   "id": "74ce3614",
   "metadata": {},
   "source": [
    "Всего 86 пользователей, совершавшего аномальные заказы. Посчитаем нужные метрики без этих пользователей. "
   ]
  },
  {
   "cell_type": "code",
   "execution_count": 33,
   "id": "84c314fb",
   "metadata": {},
   "outputs": [],
   "source": [
    "orders_without_abnormal = orders[np.logical_not(orders['visitorId'].isin(abnormalUsers))]"
   ]
  },
  {
   "cell_type": "code",
   "execution_count": 34,
   "id": "b37643ca",
   "metadata": {},
   "outputs": [
    {
     "name": "stdout",
     "output_type": "stream",
     "text": [
      "Разница между средними конверсий двух групп составляет: 24.02%\n",
      "\n",
      "P-value равняется 0.01 \n",
      "Отвергаем нулевую гипотезу: разница статистически значима\n"
     ]
    }
   ],
   "source": [
    "groups_without_abnormal = (\n",
    "    orders_without_abnormal.groupby(['date','group'], as_index = False)\n",
    "    .agg({'transactionId':'nunique', 'visitorId':'nunique', 'revenue':'sum'})\n",
    ")\n",
    "\n",
    "groups_without_abnormal = groups_without_abnormal.rename(columns = {'transactionId':'orders', 'visitorId':'buyers'})\n",
    "\n",
    "# Рассчитаем количество визитов без пользователей, совершивших аномальные заказы\n",
    "orders_with_abnormal = orders[orders['visitorId'].isin(abnormalUsers)]\n",
    "group_abnormal = orders_with_abnormal.groupby(['date','group'], as_index = False).agg({'visitorId':'nunique'})\n",
    "group_abnormal = group_abnormal.rename(columns={'visitorId':'abnormal'})\n",
    "normal_visitors = visitors.merge(group_abnormal, on=['date','group'])\n",
    "normal_visitors['normal'] = normal_visitors['visitors']-normal_visitors['abnormal']\n",
    "normal_visitors = normal_visitors[['date','group','normal']]\n",
    "normal_visitors = normal_visitors.rename(columns={'normal':'visitors'})\n",
    "\n",
    "groups_without_abnormal = groups_without_abnormal.merge(normal_visitors, on = ['date','group'])\n",
    "groups_without_abnormal['conversion'] = groups_without_abnormal['orders']/groups_without_abnormal['visitors']\n",
    "\n",
    "sampleA = groups_without_abnormal[groups_without_abnormal['group']=='A']\n",
    "sampleB = groups_without_abnormal[groups_without_abnormal['group']=='B']\n",
    "\n",
    "alpha = 0.05\n",
    "\n",
    "p_value = st.mannwhitneyu(sampleA['conversion'], sampleB['conversion'])[1]\n",
    "print('Разница между средними конверсий двух групп составляет: {0:.2%}'.format(sampleB['conversion'].mean()/sampleA['conversion'].mean()-1))\n",
    "print()\n",
    "print(\"P-value равняется {0:.2f} \".format(p_value))\n",
    "\n",
    "if p_value < 0.05:\n",
    "    print('Отвергаем нулевую гипотезу: разница статистически значима')\n",
    "else: \n",
    "     print(\n",
    "        'Не получилось отвергнуть нулевую гипотезу, вывод о различии сделать нельзя'\n",
    "    ) "
   ]
  },
  {
   "cell_type": "markdown",
   "id": "eb927d86",
   "metadata": {},
   "source": [
    "Результаты в сравнении средних конверсий изменились - относительный выигрыш группы B увеличился, статистическая значимость разницы снова подтвердилась. "
   ]
  },
  {
   "cell_type": "markdown",
   "id": "23d497bc",
   "metadata": {},
   "source": [
    "### Расчёт статистической значимости различий в средних чеках по \"очищенным\" данным"
   ]
  },
  {
   "cell_type": "code",
   "execution_count": 35,
   "id": "6ccd2e43",
   "metadata": {},
   "outputs": [
    {
     "name": "stdout",
     "output_type": "stream",
     "text": [
      "Относительная разница между среднми чеками двух групп составляет: -4.26%\n",
      "\n",
      "P-value равняется 0.28 \n",
      "Не получилось отвергнуть нулевую гипотезу, вывод о различии сделать нельзя\n"
     ]
    }
   ],
   "source": [
    "mean_recieaptsA = sampleA['revenue']/sampleA['orders']\n",
    "mean_recieaptsB = sampleB['revenue']/sampleB['orders']\n",
    "\n",
    "alpha = 0.05\n",
    "\n",
    "p_value = st.mannwhitneyu(mean_recieaptsA, mean_recieaptsB)[1]\n",
    "print('Относительная разница между среднми чеками двух групп составляет: {0:.2%}'.format(mean_recieaptsB.mean()/mean_recieaptsA.mean()-1))\n",
    "print()\n",
    "print(\"P-value равняется {0:.2f} \".format(p_value))\n",
    "\n",
    "if p_value < 0.05:\n",
    "    print('Отвергаем нулевую гипотезу: разница статистически значима')\n",
    "else: \n",
    "     print(\n",
    "        'Не получилось отвергнуть нулевую гипотезу, вывод о различии сделать нельзя'\n",
    "    )"
   ]
  },
  {
   "cell_type": "markdown",
   "id": "8d421de4",
   "metadata": {},
   "source": [
    "Результаты сравнения средних чеков изменились в противоположную сторону. Теперь при относительном сравнении средних лидирует группа А на 4%, однако статистической значимости обнаружить не удалось. Оснований отклонить нулевую гипотезу нет. "
   ]
  },
  {
   "cell_type": "markdown",
   "id": "529fc45a",
   "metadata": {},
   "source": [
    "## Вывод"
   ]
  },
  {
   "cell_type": "markdown",
   "id": "b47e53d3",
   "metadata": {},
   "source": [
    "В данной работе мы провели приоретизацию гипотез методами ICE и RICE и отобрали лучшие, среди которых: \n",
    "- 'Добавить блоки рекомендаций товаров на сайт интернет магазина, чтобы повысить конверсию и средний чек заказа'\n",
    "- 'Добавить два новых канала привлечения трафика, что позволит привлекать на 30% больше пользователей'\n",
    "- 'Показать на главной странице баннеры с актуальными акциями и распродажами, чтобы увеличить конверсию'\n",
    "\n",
    "Для проведения теста мы отобрали первую в списке гипотезу о том, что блоки рекомендаций увеличат конверсию и средний чек.\n",
    "\n",
    "В ходе исследования результатов теста мы пришли к следующим выводам: \n",
    "- Группа B побеждает по всем кумулятивным показателям\n",
    "- График по кумулятивной выручке двух групп стабилизировался, группа B стабильно побеждает\n",
    "- График по кумулятивному среднему чеку нестабилен, в обоих группах сильное влияние выбросов. Группа B на конец периода побеждает, но имеет тенденции к падению. \n",
    "- Кумултивная конверсия двух групп стабилизировалась, группа B стабильно побеждает, несмотря на небольшое падение показателя. \n",
    "\n",
    "Тест Манна-Уитни по очищенным данным дал следующие результаты: \n",
    "- Нам удалось получить статистически значимую разницу между конверсией двух групп. Относительный выигрыш группы B составляет 24%. \n",
    "- Статистически значимую разницу при сравнении средних чеков обнаружить не удалось. Группа А выигрывает 3,73%, хотя до удаления выбросов выигрывала группа B на 24,44%. \n",
    "\n",
    "На основании полученных данных можно рекомендовать остановить тест. Группа B стабильно выигрывает по конверсии и здесь нам удалось получить статистическую разницу. По среднему чеку группа B проигрывает, явных тенденций к росту нет - вряд ли результаты смогут кардинально измениться в будущем. "
   ]
  },
  {
   "cell_type": "code",
   "execution_count": null,
   "id": "ebd38570",
   "metadata": {},
   "outputs": [],
   "source": []
  }
 ],
 "metadata": {
  "ExecuteTimeLog": [
   {
    "duration": 1220,
    "start_time": "2021-09-29T15:26:14.424Z"
   },
   {
    "duration": 82,
    "start_time": "2021-09-29T15:26:15.646Z"
   },
   {
    "duration": 11,
    "start_time": "2021-09-29T15:26:15.730Z"
   },
   {
    "duration": 24,
    "start_time": "2021-09-29T15:26:15.742Z"
   },
   {
    "duration": 13,
    "start_time": "2021-09-29T15:26:15.768Z"
   },
   {
    "duration": 6,
    "start_time": "2021-09-29T15:26:15.782Z"
   },
   {
    "duration": 76,
    "start_time": "2021-09-29T15:26:15.790Z"
   },
   {
    "duration": 89,
    "start_time": "2021-09-29T15:26:15.869Z"
   },
   {
    "duration": 8,
    "start_time": "2021-09-29T15:26:15.963Z"
   },
   {
    "duration": 17,
    "start_time": "2021-09-29T15:26:15.974Z"
   },
   {
    "duration": 8,
    "start_time": "2021-09-29T15:26:15.993Z"
   },
   {
    "duration": 10,
    "start_time": "2021-09-29T15:26:16.003Z"
   },
   {
    "duration": 12,
    "start_time": "2021-09-29T15:26:16.015Z"
   },
   {
    "duration": 25,
    "start_time": "2021-09-29T15:26:16.029Z"
   },
   {
    "duration": 660,
    "start_time": "2021-09-29T15:26:16.056Z"
   },
   {
    "duration": 300,
    "start_time": "2021-09-29T15:26:16.718Z"
   },
   {
    "duration": 406,
    "start_time": "2021-09-29T15:26:17.020Z"
   },
   {
    "duration": 292,
    "start_time": "2021-09-29T15:26:17.428Z"
   },
   {
    "duration": 402,
    "start_time": "2021-09-29T15:26:17.722Z"
   },
   {
    "duration": 3403,
    "start_time": "2021-09-29T15:26:18.126Z"
   },
   {
    "duration": -59,
    "start_time": "2021-09-29T15:26:21.590Z"
   },
   {
    "duration": -65,
    "start_time": "2021-09-29T15:26:21.598Z"
   },
   {
    "duration": -68,
    "start_time": "2021-09-29T15:26:21.602Z"
   },
   {
    "duration": -69,
    "start_time": "2021-09-29T15:26:21.604Z"
   },
   {
    "duration": -71,
    "start_time": "2021-09-29T15:26:21.607Z"
   },
   {
    "duration": -77,
    "start_time": "2021-09-29T15:26:21.614Z"
   },
   {
    "duration": -79,
    "start_time": "2021-09-29T15:26:21.617Z"
   },
   {
    "duration": -81,
    "start_time": "2021-09-29T15:26:21.620Z"
   },
   {
    "duration": -85,
    "start_time": "2021-09-29T15:26:21.625Z"
   },
   {
    "duration": -90,
    "start_time": "2021-09-29T15:26:21.631Z"
   },
   {
    "duration": 554,
    "start_time": "2021-09-30T06:26:51.750Z"
   },
   {
    "duration": 1575,
    "start_time": "2021-09-30T06:27:11.397Z"
   },
   {
    "duration": 91,
    "start_time": "2021-09-30T06:27:12.975Z"
   },
   {
    "duration": 17,
    "start_time": "2021-09-30T06:27:13.069Z"
   },
   {
    "duration": 17,
    "start_time": "2021-09-30T06:27:13.089Z"
   },
   {
    "duration": 17,
    "start_time": "2021-09-30T06:27:13.109Z"
   },
   {
    "duration": 6,
    "start_time": "2021-09-30T06:27:13.129Z"
   },
   {
    "duration": 127,
    "start_time": "2021-09-30T06:27:13.137Z"
   },
   {
    "duration": 121,
    "start_time": "2021-09-30T06:27:13.267Z"
   },
   {
    "duration": 11,
    "start_time": "2021-09-30T06:27:13.392Z"
   },
   {
    "duration": 12,
    "start_time": "2021-09-30T06:27:13.405Z"
   },
   {
    "duration": 19,
    "start_time": "2021-09-30T06:27:13.419Z"
   },
   {
    "duration": 12,
    "start_time": "2021-09-30T06:27:13.441Z"
   },
   {
    "duration": 15,
    "start_time": "2021-09-30T06:27:13.455Z"
   },
   {
    "duration": 22,
    "start_time": "2021-09-30T06:27:13.473Z"
   },
   {
    "duration": 987,
    "start_time": "2021-09-30T06:27:13.497Z"
   },
   {
    "duration": 416,
    "start_time": "2021-09-30T06:27:14.487Z"
   },
   {
    "duration": 525,
    "start_time": "2021-09-30T06:27:14.905Z"
   },
   {
    "duration": 535,
    "start_time": "2021-09-30T06:27:15.432Z"
   },
   {
    "duration": 552,
    "start_time": "2021-09-30T06:27:15.970Z"
   },
   {
    "duration": 7,
    "start_time": "2021-09-30T06:27:19.898Z"
   },
   {
    "duration": 4683,
    "start_time": "2021-09-30T06:27:24.644Z"
   },
   {
    "duration": 9,
    "start_time": "2021-09-30T06:27:48.284Z"
   },
   {
    "duration": 4546,
    "start_time": "2021-09-30T06:28:52.457Z"
   },
   {
    "duration": 10,
    "start_time": "2021-09-30T06:28:58.102Z"
   },
   {
    "duration": 429,
    "start_time": "2021-09-30T06:29:10.672Z"
   },
   {
    "duration": 9,
    "start_time": "2021-09-30T06:29:23.208Z"
   },
   {
    "duration": 9,
    "start_time": "2021-09-30T06:29:58.459Z"
   },
   {
    "duration": 556,
    "start_time": "2021-09-30T06:30:13.626Z"
   },
   {
    "duration": 1425,
    "start_time": "2021-09-30T06:30:32.657Z"
   },
   {
    "duration": 49,
    "start_time": "2021-09-30T06:30:34.085Z"
   },
   {
    "duration": 16,
    "start_time": "2021-09-30T06:30:34.137Z"
   },
   {
    "duration": 18,
    "start_time": "2021-09-30T06:30:34.156Z"
   },
   {
    "duration": 18,
    "start_time": "2021-09-30T06:30:34.177Z"
   },
   {
    "duration": 29,
    "start_time": "2021-09-30T06:30:34.197Z"
   },
   {
    "duration": 70,
    "start_time": "2021-09-30T06:30:34.228Z"
   },
   {
    "duration": 46,
    "start_time": "2021-09-30T06:30:34.302Z"
   },
   {
    "duration": 11,
    "start_time": "2021-09-30T06:30:34.351Z"
   },
   {
    "duration": 22,
    "start_time": "2021-09-30T06:30:34.364Z"
   },
   {
    "duration": 22,
    "start_time": "2021-09-30T06:30:34.389Z"
   },
   {
    "duration": 17,
    "start_time": "2021-09-30T06:30:34.413Z"
   },
   {
    "duration": 13,
    "start_time": "2021-09-30T06:30:34.432Z"
   },
   {
    "duration": 38,
    "start_time": "2021-09-30T06:30:34.448Z"
   },
   {
    "duration": 964,
    "start_time": "2021-09-30T06:30:34.489Z"
   },
   {
    "duration": 438,
    "start_time": "2021-09-30T06:30:35.456Z"
   },
   {
    "duration": 530,
    "start_time": "2021-09-30T06:30:35.897Z"
   },
   {
    "duration": 450,
    "start_time": "2021-09-30T06:30:36.430Z"
   },
   {
    "duration": 537,
    "start_time": "2021-09-30T06:30:36.883Z"
   },
   {
    "duration": 557,
    "start_time": "2021-09-30T06:30:37.423Z"
   },
   {
    "duration": 4642,
    "start_time": "2021-09-30T06:30:37.982Z"
   },
   {
    "duration": -9409,
    "start_time": "2021-09-30T06:30:52.036Z"
   },
   {
    "duration": -9415,
    "start_time": "2021-09-30T06:30:52.043Z"
   },
   {
    "duration": -9423,
    "start_time": "2021-09-30T06:30:52.052Z"
   },
   {
    "duration": -9428,
    "start_time": "2021-09-30T06:30:52.059Z"
   },
   {
    "duration": -9436,
    "start_time": "2021-09-30T06:30:52.068Z"
   },
   {
    "duration": -9441,
    "start_time": "2021-09-30T06:30:52.075Z"
   },
   {
    "duration": -9449,
    "start_time": "2021-09-30T06:30:52.084Z"
   },
   {
    "duration": -9452,
    "start_time": "2021-09-30T06:30:52.088Z"
   },
   {
    "duration": -9461,
    "start_time": "2021-09-30T06:30:52.098Z"
   },
   {
    "duration": 556,
    "start_time": "2021-09-30T06:32:38.311Z"
   },
   {
    "duration": 16,
    "start_time": "2021-09-30T06:32:53.979Z"
   },
   {
    "duration": 438,
    "start_time": "2021-09-30T06:33:14.757Z"
   },
   {
    "duration": 1478,
    "start_time": "2021-09-30T06:33:39.891Z"
   },
   {
    "duration": 216,
    "start_time": "2021-09-30T06:33:41.372Z"
   },
   {
    "duration": 18,
    "start_time": "2021-09-30T06:33:41.591Z"
   },
   {
    "duration": 35,
    "start_time": "2021-09-30T06:33:41.612Z"
   },
   {
    "duration": 24,
    "start_time": "2021-09-30T06:33:41.649Z"
   },
   {
    "duration": 21,
    "start_time": "2021-09-30T06:33:41.676Z"
   },
   {
    "duration": 53,
    "start_time": "2021-09-30T06:33:41.700Z"
   },
   {
    "duration": 42,
    "start_time": "2021-09-30T06:33:41.757Z"
   },
   {
    "duration": 10,
    "start_time": "2021-09-30T06:33:41.802Z"
   },
   {
    "duration": 25,
    "start_time": "2021-09-30T06:33:41.815Z"
   },
   {
    "duration": 19,
    "start_time": "2021-09-30T06:33:41.843Z"
   },
   {
    "duration": 13,
    "start_time": "2021-09-30T06:33:41.868Z"
   },
   {
    "duration": 15,
    "start_time": "2021-09-30T06:33:41.884Z"
   },
   {
    "duration": 30,
    "start_time": "2021-09-30T06:33:41.901Z"
   },
   {
    "duration": 968,
    "start_time": "2021-09-30T06:33:41.933Z"
   },
   {
    "duration": 405,
    "start_time": "2021-09-30T06:33:42.904Z"
   },
   {
    "duration": 507,
    "start_time": "2021-09-30T06:33:43.322Z"
   },
   {
    "duration": 437,
    "start_time": "2021-09-30T06:33:43.831Z"
   },
   {
    "duration": 532,
    "start_time": "2021-09-30T06:33:44.271Z"
   },
   {
    "duration": 495,
    "start_time": "2021-09-30T06:33:44.806Z"
   },
   {
    "duration": 6,
    "start_time": "2021-09-30T06:33:45.303Z"
   },
   {
    "duration": 574,
    "start_time": "2021-09-30T06:33:45.323Z"
   },
   {
    "duration": 6,
    "start_time": "2021-09-30T06:33:45.903Z"
   },
   {
    "duration": 504,
    "start_time": "2021-09-30T06:33:45.922Z"
   },
   {
    "duration": -9423,
    "start_time": "2021-09-30T06:33:55.852Z"
   },
   {
    "duration": -9427,
    "start_time": "2021-09-30T06:33:55.857Z"
   },
   {
    "duration": -9428,
    "start_time": "2021-09-30T06:33:55.860Z"
   },
   {
    "duration": -9430,
    "start_time": "2021-09-30T06:33:55.863Z"
   },
   {
    "duration": -9433,
    "start_time": "2021-09-30T06:33:55.868Z"
   },
   {
    "duration": -9435,
    "start_time": "2021-09-30T06:33:55.871Z"
   },
   {
    "duration": 1459,
    "start_time": "2021-09-30T06:34:26.221Z"
   },
   {
    "duration": 51,
    "start_time": "2021-09-30T06:34:27.683Z"
   },
   {
    "duration": 15,
    "start_time": "2021-09-30T06:34:27.737Z"
   },
   {
    "duration": 29,
    "start_time": "2021-09-30T06:34:27.755Z"
   },
   {
    "duration": 18,
    "start_time": "2021-09-30T06:34:27.786Z"
   },
   {
    "duration": 20,
    "start_time": "2021-09-30T06:34:27.806Z"
   },
   {
    "duration": 54,
    "start_time": "2021-09-30T06:34:27.829Z"
   },
   {
    "duration": 42,
    "start_time": "2021-09-30T06:34:27.888Z"
   },
   {
    "duration": 11,
    "start_time": "2021-09-30T06:34:27.934Z"
   },
   {
    "duration": 24,
    "start_time": "2021-09-30T06:34:27.948Z"
   },
   {
    "duration": 25,
    "start_time": "2021-09-30T06:34:27.974Z"
   },
   {
    "duration": 20,
    "start_time": "2021-09-30T06:34:28.002Z"
   },
   {
    "duration": 17,
    "start_time": "2021-09-30T06:34:28.025Z"
   },
   {
    "duration": 31,
    "start_time": "2021-09-30T06:34:28.044Z"
   },
   {
    "duration": 966,
    "start_time": "2021-09-30T06:34:28.077Z"
   },
   {
    "duration": 436,
    "start_time": "2021-09-30T06:34:29.045Z"
   },
   {
    "duration": 531,
    "start_time": "2021-09-30T06:34:29.484Z"
   },
   {
    "duration": 445,
    "start_time": "2021-09-30T06:34:30.018Z"
   },
   {
    "duration": 539,
    "start_time": "2021-09-30T06:34:30.465Z"
   },
   {
    "duration": 489,
    "start_time": "2021-09-30T06:34:31.006Z"
   },
   {
    "duration": 7,
    "start_time": "2021-09-30T06:34:31.498Z"
   },
   {
    "duration": 584,
    "start_time": "2021-09-30T06:34:31.523Z"
   },
   {
    "duration": 14,
    "start_time": "2021-09-30T06:34:32.112Z"
   },
   {
    "duration": 51,
    "start_time": "2021-09-30T06:34:32.129Z"
   },
   {
    "duration": 10,
    "start_time": "2021-09-30T06:34:32.182Z"
   },
   {
    "duration": 548,
    "start_time": "2021-09-30T06:34:32.195Z"
   },
   {
    "duration": -9409,
    "start_time": "2021-09-30T06:34:42.155Z"
   },
   {
    "duration": -9423,
    "start_time": "2021-09-30T06:34:42.170Z"
   },
   {
    "duration": -9427,
    "start_time": "2021-09-30T06:34:42.176Z"
   },
   {
    "duration": 12,
    "start_time": "2021-09-30T06:34:51.752Z"
   },
   {
    "duration": 6,
    "start_time": "2021-09-30T06:34:55.706Z"
   },
   {
    "duration": 48,
    "start_time": "2021-09-30T06:35:02.362Z"
   },
   {
    "duration": 10,
    "start_time": "2021-09-30T06:35:20.925Z"
   },
   {
    "duration": 29,
    "start_time": "2021-09-30T06:35:52.048Z"
   },
   {
    "duration": 1611,
    "start_time": "2021-09-30T06:36:24.590Z"
   },
   {
    "duration": 54,
    "start_time": "2021-09-30T06:36:26.203Z"
   },
   {
    "duration": 15,
    "start_time": "2021-09-30T06:36:26.260Z"
   },
   {
    "duration": 19,
    "start_time": "2021-09-30T06:36:26.278Z"
   },
   {
    "duration": 16,
    "start_time": "2021-09-30T06:36:26.299Z"
   },
   {
    "duration": 16,
    "start_time": "2021-09-30T06:36:26.318Z"
   },
   {
    "duration": 59,
    "start_time": "2021-09-30T06:36:26.336Z"
   },
   {
    "duration": 42,
    "start_time": "2021-09-30T06:36:26.397Z"
   },
   {
    "duration": 10,
    "start_time": "2021-09-30T06:36:26.443Z"
   },
   {
    "duration": 12,
    "start_time": "2021-09-30T06:36:26.456Z"
   },
   {
    "duration": 15,
    "start_time": "2021-09-30T06:36:26.471Z"
   },
   {
    "duration": 14,
    "start_time": "2021-09-30T06:36:26.488Z"
   },
   {
    "duration": 19,
    "start_time": "2021-09-30T06:36:26.504Z"
   },
   {
    "duration": 22,
    "start_time": "2021-09-30T06:36:26.525Z"
   },
   {
    "duration": 997,
    "start_time": "2021-09-30T06:36:26.549Z"
   },
   {
    "duration": 437,
    "start_time": "2021-09-30T06:36:27.549Z"
   },
   {
    "duration": 531,
    "start_time": "2021-09-30T06:36:27.989Z"
   },
   {
    "duration": 449,
    "start_time": "2021-09-30T06:36:28.523Z"
   },
   {
    "duration": 541,
    "start_time": "2021-09-30T06:36:28.974Z"
   },
   {
    "duration": 471,
    "start_time": "2021-09-30T06:36:29.522Z"
   },
   {
    "duration": 6,
    "start_time": "2021-09-30T06:36:29.996Z"
   },
   {
    "duration": 591,
    "start_time": "2021-09-30T06:36:30.004Z"
   },
   {
    "duration": 7,
    "start_time": "2021-09-30T06:36:30.597Z"
   },
   {
    "duration": 54,
    "start_time": "2021-09-30T06:36:30.606Z"
   },
   {
    "duration": 46,
    "start_time": "2021-09-30T06:36:30.663Z"
   },
   {
    "duration": 36,
    "start_time": "2021-09-30T06:36:30.712Z"
   },
   {
    "duration": 56,
    "start_time": "2021-09-30T06:36:30.753Z"
   },
   {
    "duration": 99,
    "start_time": "2021-09-30T06:36:30.811Z"
   },
   {
    "duration": 30,
    "start_time": "2021-09-30T06:36:30.912Z"
   },
   {
    "duration": 1410,
    "start_time": "2021-09-30T06:39:08.269Z"
   },
   {
    "duration": 43,
    "start_time": "2021-09-30T06:39:09.682Z"
   },
   {
    "duration": 16,
    "start_time": "2021-09-30T06:39:09.732Z"
   },
   {
    "duration": 22,
    "start_time": "2021-09-30T06:39:09.750Z"
   },
   {
    "duration": 18,
    "start_time": "2021-09-30T06:39:09.774Z"
   },
   {
    "duration": 6,
    "start_time": "2021-09-30T06:39:09.823Z"
   },
   {
    "duration": 55,
    "start_time": "2021-09-30T06:39:09.832Z"
   },
   {
    "duration": 45,
    "start_time": "2021-09-30T06:39:09.890Z"
   },
   {
    "duration": 10,
    "start_time": "2021-09-30T06:39:09.938Z"
   },
   {
    "duration": 16,
    "start_time": "2021-09-30T06:39:09.950Z"
   },
   {
    "duration": 28,
    "start_time": "2021-09-30T06:39:09.969Z"
   },
   {
    "duration": 24,
    "start_time": "2021-09-30T06:39:09.999Z"
   },
   {
    "duration": 29,
    "start_time": "2021-09-30T06:39:10.026Z"
   },
   {
    "duration": 43,
    "start_time": "2021-09-30T06:39:10.057Z"
   },
   {
    "duration": 984,
    "start_time": "2021-09-30T06:39:10.103Z"
   },
   {
    "duration": 428,
    "start_time": "2021-09-30T06:39:11.090Z"
   },
   {
    "duration": 520,
    "start_time": "2021-09-30T06:39:11.523Z"
   },
   {
    "duration": 442,
    "start_time": "2021-09-30T06:39:12.045Z"
   },
   {
    "duration": 556,
    "start_time": "2021-09-30T06:39:12.490Z"
   },
   {
    "duration": 472,
    "start_time": "2021-09-30T06:39:13.048Z"
   },
   {
    "duration": 7,
    "start_time": "2021-09-30T06:39:13.522Z"
   },
   {
    "duration": 595,
    "start_time": "2021-09-30T06:39:13.533Z"
   },
   {
    "duration": 7,
    "start_time": "2021-09-30T06:39:14.132Z"
   },
   {
    "duration": 36,
    "start_time": "2021-09-30T06:39:14.142Z"
   },
   {
    "duration": 10,
    "start_time": "2021-09-30T06:39:14.180Z"
   },
   {
    "duration": 42,
    "start_time": "2021-09-30T06:39:14.192Z"
   },
   {
    "duration": 11,
    "start_time": "2021-09-30T06:39:14.237Z"
   },
   {
    "duration": 72,
    "start_time": "2021-09-30T06:39:14.250Z"
   },
   {
    "duration": 10,
    "start_time": "2021-09-30T06:39:14.325Z"
   },
   {
    "duration": 989,
    "start_time": "2021-09-30T16:16:18.539Z"
   },
   {
    "duration": 126,
    "start_time": "2021-09-30T16:16:19.530Z"
   },
   {
    "duration": 10,
    "start_time": "2021-09-30T16:16:19.658Z"
   },
   {
    "duration": 12,
    "start_time": "2021-09-30T16:16:19.669Z"
   },
   {
    "duration": 10,
    "start_time": "2021-09-30T16:16:19.682Z"
   },
   {
    "duration": 5,
    "start_time": "2021-09-30T16:16:19.693Z"
   },
   {
    "duration": 67,
    "start_time": "2021-09-30T16:16:19.699Z"
   },
   {
    "duration": 111,
    "start_time": "2021-09-30T16:16:19.768Z"
   },
   {
    "duration": 7,
    "start_time": "2021-09-30T16:16:19.881Z"
   },
   {
    "duration": 14,
    "start_time": "2021-09-30T16:16:19.890Z"
   },
   {
    "duration": 10,
    "start_time": "2021-09-30T16:16:19.906Z"
   },
   {
    "duration": 10,
    "start_time": "2021-09-30T16:16:19.918Z"
   },
   {
    "duration": 16,
    "start_time": "2021-09-30T16:16:19.929Z"
   },
   {
    "duration": 20,
    "start_time": "2021-09-30T16:16:19.946Z"
   },
   {
    "duration": 610,
    "start_time": "2021-09-30T16:16:19.967Z"
   },
   {
    "duration": 271,
    "start_time": "2021-09-30T16:16:20.579Z"
   },
   {
    "duration": 338,
    "start_time": "2021-09-30T16:16:20.851Z"
   },
   {
    "duration": 275,
    "start_time": "2021-09-30T16:16:21.191Z"
   },
   {
    "duration": 403,
    "start_time": "2021-09-30T16:16:21.467Z"
   },
   {
    "duration": 364,
    "start_time": "2021-09-30T16:16:21.872Z"
   },
   {
    "duration": 5,
    "start_time": "2021-09-30T16:16:22.237Z"
   },
   {
    "duration": 426,
    "start_time": "2021-09-30T16:16:22.244Z"
   },
   {
    "duration": 5,
    "start_time": "2021-09-30T16:16:22.673Z"
   },
   {
    "duration": 35,
    "start_time": "2021-09-30T16:16:22.680Z"
   },
   {
    "duration": 6,
    "start_time": "2021-09-30T16:16:22.717Z"
   },
   {
    "duration": 20,
    "start_time": "2021-09-30T16:16:22.725Z"
   },
   {
    "duration": 5,
    "start_time": "2021-09-30T16:16:22.747Z"
   },
   {
    "duration": 51,
    "start_time": "2021-09-30T16:16:22.753Z"
   },
   {
    "duration": 7,
    "start_time": "2021-09-30T16:16:22.805Z"
   },
   {
    "duration": 4,
    "start_time": "2021-09-30T17:21:01.528Z"
   },
   {
    "duration": 113,
    "start_time": "2021-09-30T17:21:01.535Z"
   },
   {
    "duration": 11,
    "start_time": "2021-09-30T17:21:01.650Z"
   },
   {
    "duration": 21,
    "start_time": "2021-09-30T17:21:01.663Z"
   },
   {
    "duration": 21,
    "start_time": "2021-09-30T17:21:01.686Z"
   },
   {
    "duration": 14,
    "start_time": "2021-09-30T17:21:01.709Z"
   },
   {
    "duration": 136,
    "start_time": "2021-09-30T17:21:01.724Z"
   },
   {
    "duration": 128,
    "start_time": "2021-09-30T17:21:01.862Z"
   },
   {
    "duration": 8,
    "start_time": "2021-09-30T17:21:01.993Z"
   },
   {
    "duration": 22,
    "start_time": "2021-09-30T17:21:02.003Z"
   },
   {
    "duration": 26,
    "start_time": "2021-09-30T17:21:02.026Z"
   },
   {
    "duration": 33,
    "start_time": "2021-09-30T17:21:02.054Z"
   },
   {
    "duration": 32,
    "start_time": "2021-09-30T17:21:02.089Z"
   },
   {
    "duration": 25,
    "start_time": "2021-09-30T17:21:02.123Z"
   },
   {
    "duration": 614,
    "start_time": "2021-09-30T17:21:02.150Z"
   },
   {
    "duration": 273,
    "start_time": "2021-09-30T17:21:02.766Z"
   },
   {
    "duration": 351,
    "start_time": "2021-09-30T17:21:03.041Z"
   },
   {
    "duration": 287,
    "start_time": "2021-09-30T17:21:03.394Z"
   },
   {
    "duration": 394,
    "start_time": "2021-09-30T17:21:03.682Z"
   },
   {
    "duration": 380,
    "start_time": "2021-09-30T17:21:04.077Z"
   },
   {
    "duration": 4,
    "start_time": "2021-09-30T17:21:04.458Z"
   },
   {
    "duration": 438,
    "start_time": "2021-09-30T17:21:04.464Z"
   },
   {
    "duration": 5,
    "start_time": "2021-09-30T17:21:04.904Z"
   },
   {
    "duration": 28,
    "start_time": "2021-09-30T17:21:04.912Z"
   },
   {
    "duration": 8,
    "start_time": "2021-09-30T17:21:04.941Z"
   },
   {
    "duration": 27,
    "start_time": "2021-09-30T17:21:04.951Z"
   },
   {
    "duration": 11,
    "start_time": "2021-09-30T17:21:04.979Z"
   },
   {
    "duration": 44,
    "start_time": "2021-09-30T17:21:04.992Z"
   },
   {
    "duration": 7,
    "start_time": "2021-09-30T17:21:05.038Z"
   },
   {
    "duration": 4,
    "start_time": "2021-09-30T17:28:35.748Z"
   },
   {
    "duration": 60,
    "start_time": "2021-09-30T17:34:37.365Z"
   },
   {
    "duration": 1087,
    "start_time": "2021-10-01T07:18:36.568Z"
   },
   {
    "duration": 252,
    "start_time": "2021-10-01T07:18:40.467Z"
   },
   {
    "duration": 1177,
    "start_time": "2021-10-01T07:18:51.819Z"
   },
   {
    "duration": 82,
    "start_time": "2021-10-01T07:18:52.998Z"
   },
   {
    "duration": 12,
    "start_time": "2021-10-01T07:18:53.081Z"
   },
   {
    "duration": 14,
    "start_time": "2021-10-01T07:18:53.095Z"
   },
   {
    "duration": 13,
    "start_time": "2021-10-01T07:18:53.111Z"
   },
   {
    "duration": 5,
    "start_time": "2021-10-01T07:18:53.126Z"
   },
   {
    "duration": 81,
    "start_time": "2021-10-01T07:18:53.133Z"
   },
   {
    "duration": 109,
    "start_time": "2021-10-01T07:18:53.217Z"
   },
   {
    "duration": 8,
    "start_time": "2021-10-01T07:18:53.328Z"
   },
   {
    "duration": 7,
    "start_time": "2021-10-01T07:18:53.338Z"
   },
   {
    "duration": 9,
    "start_time": "2021-10-01T07:18:53.347Z"
   },
   {
    "duration": 6,
    "start_time": "2021-10-01T07:18:53.357Z"
   },
   {
    "duration": 10,
    "start_time": "2021-10-01T07:18:53.365Z"
   },
   {
    "duration": 15,
    "start_time": "2021-10-01T07:18:53.377Z"
   },
   {
    "duration": 613,
    "start_time": "2021-10-01T07:18:53.393Z"
   },
   {
    "duration": 277,
    "start_time": "2021-10-01T07:18:54.007Z"
   },
   {
    "duration": 409,
    "start_time": "2021-10-01T07:18:54.286Z"
   },
   {
    "duration": 291,
    "start_time": "2021-10-01T07:18:54.697Z"
   },
   {
    "duration": 391,
    "start_time": "2021-10-01T07:18:54.990Z"
   },
   {
    "duration": 365,
    "start_time": "2021-10-01T07:18:55.382Z"
   },
   {
    "duration": 4,
    "start_time": "2021-10-01T07:18:55.749Z"
   },
   {
    "duration": 416,
    "start_time": "2021-10-01T07:18:55.755Z"
   },
   {
    "duration": 5,
    "start_time": "2021-10-01T07:18:56.174Z"
   },
   {
    "duration": 34,
    "start_time": "2021-10-01T07:18:56.181Z"
   },
   {
    "duration": 7,
    "start_time": "2021-10-01T07:18:56.216Z"
   },
   {
    "duration": 13,
    "start_time": "2021-10-01T07:18:56.224Z"
   },
   {
    "duration": 6,
    "start_time": "2021-10-01T07:18:56.238Z"
   },
   {
    "duration": 34,
    "start_time": "2021-10-01T07:18:56.245Z"
   },
   {
    "duration": 23,
    "start_time": "2021-10-01T07:18:56.281Z"
   },
   {
    "duration": 11,
    "start_time": "2021-10-01T07:31:18.728Z"
   },
   {
    "duration": 11,
    "start_time": "2021-10-01T07:31:32.184Z"
   },
   {
    "duration": 6,
    "start_time": "2021-10-01T07:31:58.716Z"
   },
   {
    "duration": 4,
    "start_time": "2021-10-01T07:32:22.137Z"
   },
   {
    "duration": 6,
    "start_time": "2021-10-01T07:32:26.357Z"
   },
   {
    "duration": 10,
    "start_time": "2021-10-01T07:32:52.909Z"
   },
   {
    "duration": 5,
    "start_time": "2021-10-01T07:33:46.117Z"
   },
   {
    "duration": 6,
    "start_time": "2021-10-01T07:34:11.964Z"
   },
   {
    "duration": 59,
    "start_time": "2021-10-01T07:34:19.760Z"
   },
   {
    "duration": 5,
    "start_time": "2021-10-01T07:34:25.025Z"
   },
   {
    "duration": 143,
    "start_time": "2021-10-01T07:36:24.858Z"
   },
   {
    "duration": 416,
    "start_time": "2021-10-01T07:36:50.414Z"
   },
   {
    "duration": 248,
    "start_time": "2021-10-01T07:36:56.248Z"
   },
   {
    "duration": 253,
    "start_time": "2021-10-01T07:40:49.458Z"
   },
   {
    "duration": 316,
    "start_time": "2021-10-01T07:43:24.792Z"
   },
   {
    "duration": 293,
    "start_time": "2021-10-01T07:43:31.714Z"
   },
   {
    "duration": 1963,
    "start_time": "2021-10-01T07:43:52.823Z"
   },
   {
    "duration": 293,
    "start_time": "2021-10-01T07:44:01.218Z"
   },
   {
    "duration": 389,
    "start_time": "2021-10-01T07:44:26.414Z"
   },
   {
    "duration": 298,
    "start_time": "2021-10-01T07:44:33.505Z"
   },
   {
    "duration": 13,
    "start_time": "2021-10-01T07:54:17.711Z"
   },
   {
    "duration": 5,
    "start_time": "2021-10-01T07:55:18.406Z"
   },
   {
    "duration": 6,
    "start_time": "2021-10-01T07:55:32.731Z"
   },
   {
    "duration": 5409,
    "start_time": "2021-10-01T07:56:22.980Z"
   },
   {
    "duration": 1948,
    "start_time": "2021-10-01T07:56:32.324Z"
   },
   {
    "duration": 14,
    "start_time": "2021-10-01T07:56:42.344Z"
   },
   {
    "duration": 8,
    "start_time": "2021-10-01T07:56:51.866Z"
   },
   {
    "duration": 5,
    "start_time": "2021-10-01T07:57:28.373Z"
   },
   {
    "duration": 6,
    "start_time": "2021-10-01T07:57:51.893Z"
   },
   {
    "duration": 9,
    "start_time": "2021-10-01T07:58:16.745Z"
   },
   {
    "duration": 218,
    "start_time": "2021-10-01T07:58:26.840Z"
   },
   {
    "duration": 8,
    "start_time": "2021-10-01T07:58:32.811Z"
   },
   {
    "duration": 182,
    "start_time": "2021-10-01T07:58:49.786Z"
   },
   {
    "duration": 8,
    "start_time": "2021-10-01T07:58:57.750Z"
   },
   {
    "duration": 933,
    "start_time": "2021-10-01T07:59:16.827Z"
   },
   {
    "duration": 209,
    "start_time": "2021-10-01T07:59:19.729Z"
   },
   {
    "duration": 184,
    "start_time": "2021-10-01T07:59:26.078Z"
   },
   {
    "duration": 8,
    "start_time": "2021-10-01T07:59:36.007Z"
   },
   {
    "duration": 8,
    "start_time": "2021-10-01T07:59:48.245Z"
   },
   {
    "duration": 10,
    "start_time": "2021-10-01T08:00:10.076Z"
   },
   {
    "duration": 10,
    "start_time": "2021-10-01T08:00:17.882Z"
   },
   {
    "duration": 11,
    "start_time": "2021-10-01T08:00:58.098Z"
   },
   {
    "duration": 16,
    "start_time": "2021-10-01T08:01:03.346Z"
   },
   {
    "duration": 11,
    "start_time": "2021-10-01T08:01:12.119Z"
   },
   {
    "duration": 11,
    "start_time": "2021-10-01T08:01:22.173Z"
   },
   {
    "duration": 3,
    "start_time": "2021-10-01T08:03:12.236Z"
   },
   {
    "duration": 4,
    "start_time": "2021-10-01T08:04:07.549Z"
   },
   {
    "duration": 66,
    "start_time": "2021-10-01T08:04:52.941Z"
   },
   {
    "duration": 12,
    "start_time": "2021-10-01T08:12:34.642Z"
   },
   {
    "duration": 9,
    "start_time": "2021-10-01T08:13:08.801Z"
   },
   {
    "duration": 268,
    "start_time": "2021-10-01T08:13:30.537Z"
   },
   {
    "duration": 8,
    "start_time": "2021-10-01T08:13:37.387Z"
   },
   {
    "duration": 62,
    "start_time": "2021-10-01T08:13:51.158Z"
   },
   {
    "duration": 202,
    "start_time": "2021-10-01T08:13:58.187Z"
   },
   {
    "duration": 13,
    "start_time": "2021-10-01T08:14:15.326Z"
   },
   {
    "duration": 13,
    "start_time": "2021-10-01T08:14:30.071Z"
   },
   {
    "duration": 12,
    "start_time": "2021-10-01T08:14:39.458Z"
   },
   {
    "duration": 8,
    "start_time": "2021-10-01T08:15:52.488Z"
   },
   {
    "duration": 10,
    "start_time": "2021-10-01T08:16:21.593Z"
   },
   {
    "duration": 15,
    "start_time": "2021-10-01T08:16:30.660Z"
   },
   {
    "duration": 11,
    "start_time": "2021-10-01T08:17:04.892Z"
   },
   {
    "duration": 9,
    "start_time": "2021-10-01T08:18:40.384Z"
   },
   {
    "duration": 11,
    "start_time": "2021-10-01T08:18:48.088Z"
   },
   {
    "duration": 9,
    "start_time": "2021-10-01T08:18:59.540Z"
   },
   {
    "duration": 12,
    "start_time": "2021-10-01T08:19:54.392Z"
   },
   {
    "duration": 5,
    "start_time": "2021-10-01T08:21:45.440Z"
   },
   {
    "duration": 5,
    "start_time": "2021-10-01T08:22:11.671Z"
   },
   {
    "duration": 7,
    "start_time": "2021-10-01T08:22:30.956Z"
   },
   {
    "duration": 1103,
    "start_time": "2021-10-01T08:23:49.418Z"
   },
   {
    "duration": 189,
    "start_time": "2021-10-01T08:23:50.522Z"
   },
   {
    "duration": 11,
    "start_time": "2021-10-01T08:23:50.714Z"
   },
   {
    "duration": 17,
    "start_time": "2021-10-01T08:23:50.727Z"
   },
   {
    "duration": 11,
    "start_time": "2021-10-01T08:23:50.746Z"
   },
   {
    "duration": 12,
    "start_time": "2021-10-01T08:23:50.759Z"
   },
   {
    "duration": 335,
    "start_time": "2021-10-01T08:23:50.773Z"
   },
   {
    "duration": 85,
    "start_time": "2021-10-01T08:23:51.111Z"
   },
   {
    "duration": 99,
    "start_time": "2021-10-01T08:23:51.198Z"
   },
   {
    "duration": 7,
    "start_time": "2021-10-01T08:23:51.299Z"
   },
   {
    "duration": 10,
    "start_time": "2021-10-01T08:23:51.307Z"
   },
   {
    "duration": 10,
    "start_time": "2021-10-01T08:23:51.318Z"
   },
   {
    "duration": 8,
    "start_time": "2021-10-01T08:23:51.330Z"
   },
   {
    "duration": 7,
    "start_time": "2021-10-01T08:23:51.339Z"
   },
   {
    "duration": 14,
    "start_time": "2021-10-01T08:23:51.348Z"
   },
   {
    "duration": 37,
    "start_time": "2021-10-01T08:23:51.363Z"
   },
   {
    "duration": 4,
    "start_time": "2021-10-01T08:23:51.402Z"
   },
   {
    "duration": 10,
    "start_time": "2021-10-01T08:23:51.407Z"
   },
   {
    "duration": 4,
    "start_time": "2021-10-01T08:23:51.418Z"
   },
   {
    "duration": 7,
    "start_time": "2021-10-01T08:23:51.424Z"
   },
   {
    "duration": 620,
    "start_time": "2021-10-01T08:23:51.433Z"
   },
   {
    "duration": 286,
    "start_time": "2021-10-01T08:23:52.055Z"
   },
   {
    "duration": 358,
    "start_time": "2021-10-01T08:23:52.345Z"
   },
   {
    "duration": 296,
    "start_time": "2021-10-01T08:23:52.705Z"
   },
   {
    "duration": 385,
    "start_time": "2021-10-01T08:23:53.002Z"
   },
   {
    "duration": 428,
    "start_time": "2021-10-01T08:23:53.389Z"
   },
   {
    "duration": 4,
    "start_time": "2021-10-01T08:23:53.819Z"
   },
   {
    "duration": 367,
    "start_time": "2021-10-01T08:23:53.825Z"
   },
   {
    "duration": 8,
    "start_time": "2021-10-01T08:23:54.193Z"
   },
   {
    "duration": 22,
    "start_time": "2021-10-01T08:23:54.203Z"
   },
   {
    "duration": 7,
    "start_time": "2021-10-01T08:23:54.226Z"
   },
   {
    "duration": 10,
    "start_time": "2021-10-01T08:23:54.235Z"
   },
   {
    "duration": 5,
    "start_time": "2021-10-01T08:23:54.246Z"
   },
   {
    "duration": 68,
    "start_time": "2021-10-01T08:23:54.253Z"
   },
   {
    "duration": 7,
    "start_time": "2021-10-01T08:23:54.324Z"
   },
   {
    "duration": 66,
    "start_time": "2021-10-01T08:26:09.396Z"
   },
   {
    "duration": 575,
    "start_time": "2021-10-01T08:28:51.182Z"
   },
   {
    "duration": 515,
    "start_time": "2021-10-01T08:31:11.037Z"
   },
   {
    "duration": 260,
    "start_time": "2021-10-01T08:31:49.654Z"
   },
   {
    "duration": 436,
    "start_time": "2021-10-01T08:32:54.401Z"
   },
   {
    "duration": 671,
    "start_time": "2021-10-01T08:35:29.221Z"
   },
   {
    "duration": 656,
    "start_time": "2021-10-01T08:35:42.679Z"
   },
   {
    "duration": 737,
    "start_time": "2021-10-01T08:35:50.635Z"
   },
   {
    "duration": 522,
    "start_time": "2021-10-01T08:35:56.752Z"
   },
   {
    "duration": 525,
    "start_time": "2021-10-01T08:36:07.983Z"
   },
   {
    "duration": 649,
    "start_time": "2021-10-01T08:36:27.639Z"
   },
   {
    "duration": 716,
    "start_time": "2021-10-01T08:41:31.422Z"
   },
   {
    "duration": 574,
    "start_time": "2021-10-01T08:41:37.129Z"
   },
   {
    "duration": 682,
    "start_time": "2021-10-01T08:50:45.404Z"
   },
   {
    "duration": 680,
    "start_time": "2021-10-01T08:51:33.063Z"
   },
   {
    "duration": 612,
    "start_time": "2021-10-01T08:52:26.611Z"
   },
   {
    "duration": 781,
    "start_time": "2021-10-01T08:52:52.882Z"
   },
   {
    "duration": 628,
    "start_time": "2021-10-01T08:52:57.277Z"
   },
   {
    "duration": 661,
    "start_time": "2021-10-01T08:53:50.493Z"
   },
   {
    "duration": 629,
    "start_time": "2021-10-01T08:54:05.263Z"
   },
   {
    "duration": 647,
    "start_time": "2021-10-01T08:54:25.846Z"
   },
   {
    "duration": 696,
    "start_time": "2021-10-01T08:54:33.056Z"
   },
   {
    "duration": 632,
    "start_time": "2021-10-01T08:54:38.040Z"
   },
   {
    "duration": 277,
    "start_time": "2021-10-01T08:56:10.540Z"
   },
   {
    "duration": 270,
    "start_time": "2021-10-01T08:56:28.089Z"
   },
   {
    "duration": 264,
    "start_time": "2021-10-01T08:58:04.257Z"
   },
   {
    "duration": 367,
    "start_time": "2021-10-01T08:59:08.814Z"
   },
   {
    "duration": 336,
    "start_time": "2021-10-01T08:59:18.935Z"
   },
   {
    "duration": 381,
    "start_time": "2021-10-01T09:00:05.906Z"
   },
   {
    "duration": 339,
    "start_time": "2021-10-01T09:00:35.338Z"
   },
   {
    "duration": 605,
    "start_time": "2021-10-01T09:00:50.567Z"
   },
   {
    "duration": 279,
    "start_time": "2021-10-01T09:01:55.183Z"
   },
   {
    "duration": 327,
    "start_time": "2021-10-01T09:03:10.246Z"
   },
   {
    "duration": 818,
    "start_time": "2021-10-01T09:09:17.412Z"
   },
   {
    "duration": 6,
    "start_time": "2021-10-01T09:10:37.081Z"
   },
   {
    "duration": 4,
    "start_time": "2021-10-01T09:11:00.922Z"
   },
   {
    "duration": 49,
    "start_time": "2021-10-01T09:11:00.930Z"
   },
   {
    "duration": 8,
    "start_time": "2021-10-01T09:11:00.981Z"
   },
   {
    "duration": 25,
    "start_time": "2021-10-01T09:11:00.991Z"
   },
   {
    "duration": 23,
    "start_time": "2021-10-01T09:11:01.018Z"
   },
   {
    "duration": 30,
    "start_time": "2021-10-01T09:11:01.042Z"
   },
   {
    "duration": 372,
    "start_time": "2021-10-01T09:11:01.074Z"
   },
   {
    "duration": 50,
    "start_time": "2021-10-01T09:11:01.448Z"
   },
   {
    "duration": 44,
    "start_time": "2021-10-01T09:11:01.500Z"
   },
   {
    "duration": 7,
    "start_time": "2021-10-01T09:11:01.547Z"
   },
   {
    "duration": 23,
    "start_time": "2021-10-01T09:11:01.556Z"
   },
   {
    "duration": 13,
    "start_time": "2021-10-01T09:11:01.581Z"
   },
   {
    "duration": 14,
    "start_time": "2021-10-01T09:11:01.595Z"
   },
   {
    "duration": 12,
    "start_time": "2021-10-01T09:11:01.610Z"
   },
   {
    "duration": 18,
    "start_time": "2021-10-01T09:11:01.623Z"
   },
   {
    "duration": 22,
    "start_time": "2021-10-01T09:11:01.643Z"
   },
   {
    "duration": 6,
    "start_time": "2021-10-01T09:11:01.667Z"
   },
   {
    "duration": 17,
    "start_time": "2021-10-01T09:11:01.674Z"
   },
   {
    "duration": 7,
    "start_time": "2021-10-01T09:11:01.692Z"
   },
   {
    "duration": 11,
    "start_time": "2021-10-01T09:11:01.701Z"
   },
   {
    "duration": 622,
    "start_time": "2021-10-01T09:11:01.714Z"
   },
   {
    "duration": 298,
    "start_time": "2021-10-01T09:11:02.338Z"
   },
   {
    "duration": 353,
    "start_time": "2021-10-01T09:11:02.638Z"
   },
   {
    "duration": 286,
    "start_time": "2021-10-01T09:11:02.998Z"
   },
   {
    "duration": 391,
    "start_time": "2021-10-01T09:11:03.286Z"
   },
   {
    "duration": 382,
    "start_time": "2021-10-01T09:11:03.679Z"
   },
   {
    "duration": 5,
    "start_time": "2021-10-01T09:11:04.062Z"
   },
   {
    "duration": 387,
    "start_time": "2021-10-01T09:11:04.068Z"
   },
   {
    "duration": 5,
    "start_time": "2021-10-01T09:11:04.456Z"
   },
   {
    "duration": 32,
    "start_time": "2021-10-01T09:11:04.463Z"
   },
   {
    "duration": 7,
    "start_time": "2021-10-01T09:11:04.496Z"
   },
   {
    "duration": 21,
    "start_time": "2021-10-01T09:11:04.504Z"
   },
   {
    "duration": 10,
    "start_time": "2021-10-01T09:11:04.526Z"
   },
   {
    "duration": 43,
    "start_time": "2021-10-01T09:11:04.538Z"
   },
   {
    "duration": 7,
    "start_time": "2021-10-01T09:11:04.583Z"
   },
   {
    "duration": 69,
    "start_time": "2021-10-01T09:13:12.897Z"
   },
   {
    "duration": 384,
    "start_time": "2021-10-01T09:14:04.782Z"
   },
   {
    "duration": 355,
    "start_time": "2021-10-01T09:14:16.661Z"
   },
   {
    "duration": 375,
    "start_time": "2021-10-01T09:15:22.479Z"
   },
   {
    "duration": 200,
    "start_time": "2021-10-01T09:15:54.310Z"
   },
   {
    "duration": 229,
    "start_time": "2021-10-01T09:16:54.059Z"
   },
   {
    "duration": 363,
    "start_time": "2021-10-01T09:17:09.812Z"
   },
   {
    "duration": 320,
    "start_time": "2021-10-01T09:17:20.348Z"
   },
   {
    "duration": 380,
    "start_time": "2021-10-01T09:19:25.493Z"
   },
   {
    "duration": 389,
    "start_time": "2021-10-01T09:23:39.247Z"
   },
   {
    "duration": 530,
    "start_time": "2021-10-01T09:23:58.844Z"
   },
   {
    "duration": 327,
    "start_time": "2021-10-01T09:24:03.356Z"
   },
   {
    "duration": 5368,
    "start_time": "2021-10-01T09:25:01.726Z"
   },
   {
    "duration": 337,
    "start_time": "2021-10-01T09:25:18.631Z"
   },
   {
    "duration": 11,
    "start_time": "2021-10-01T09:26:29.425Z"
   },
   {
    "duration": 869,
    "start_time": "2021-10-01T09:27:17.585Z"
   },
   {
    "duration": 946,
    "start_time": "2021-10-01T09:27:27.626Z"
   },
   {
    "duration": 106,
    "start_time": "2021-10-01T09:27:40.716Z"
   },
   {
    "duration": 285,
    "start_time": "2021-10-01T09:29:03.115Z"
   },
   {
    "duration": 482,
    "start_time": "2021-10-01T09:29:22.392Z"
   },
   {
    "duration": 484,
    "start_time": "2021-10-01T09:29:53.821Z"
   },
   {
    "duration": 446,
    "start_time": "2021-10-01T09:30:33.116Z"
   },
   {
    "duration": 467,
    "start_time": "2021-10-01T09:30:49.594Z"
   },
   {
    "duration": 489,
    "start_time": "2021-10-01T09:31:36.219Z"
   },
   {
    "duration": 465,
    "start_time": "2021-10-01T09:32:03.038Z"
   },
   {
    "duration": 433,
    "start_time": "2021-10-01T09:32:07.264Z"
   },
   {
    "duration": 444,
    "start_time": "2021-10-01T09:32:13.144Z"
   },
   {
    "duration": 490,
    "start_time": "2021-10-01T09:32:20.600Z"
   },
   {
    "duration": 477,
    "start_time": "2021-10-01T09:32:27.824Z"
   },
   {
    "duration": 428,
    "start_time": "2021-10-01T09:32:34.554Z"
   },
   {
    "duration": 429,
    "start_time": "2021-10-01T09:32:44.370Z"
   },
   {
    "duration": 458,
    "start_time": "2021-10-01T09:32:59.310Z"
   },
   {
    "duration": 477,
    "start_time": "2021-10-01T09:33:04.906Z"
   },
   {
    "duration": 462,
    "start_time": "2021-10-01T09:34:36.435Z"
   },
   {
    "duration": 564,
    "start_time": "2021-10-01T09:36:12.628Z"
   },
   {
    "duration": 374,
    "start_time": "2021-10-01T09:39:21.769Z"
   },
   {
    "duration": 366,
    "start_time": "2021-10-01T09:39:56.863Z"
   },
   {
    "duration": 9,
    "start_time": "2021-10-01T09:41:57.472Z"
   },
   {
    "duration": 1139,
    "start_time": "2021-10-01T09:42:19.036Z"
   },
   {
    "duration": 107,
    "start_time": "2021-10-01T09:42:20.178Z"
   },
   {
    "duration": 11,
    "start_time": "2021-10-01T09:42:20.287Z"
   },
   {
    "duration": 12,
    "start_time": "2021-10-01T09:42:20.300Z"
   },
   {
    "duration": 11,
    "start_time": "2021-10-01T09:42:20.313Z"
   },
   {
    "duration": 8,
    "start_time": "2021-10-01T09:42:20.326Z"
   },
   {
    "duration": 306,
    "start_time": "2021-10-01T09:42:20.336Z"
   },
   {
    "duration": 73,
    "start_time": "2021-10-01T09:42:20.645Z"
   },
   {
    "duration": 98,
    "start_time": "2021-10-01T09:42:20.721Z"
   },
   {
    "duration": 8,
    "start_time": "2021-10-01T09:42:20.821Z"
   },
   {
    "duration": 12,
    "start_time": "2021-10-01T09:42:20.830Z"
   },
   {
    "duration": 10,
    "start_time": "2021-10-01T09:42:20.843Z"
   },
   {
    "duration": 8,
    "start_time": "2021-10-01T09:42:20.854Z"
   },
   {
    "duration": 16,
    "start_time": "2021-10-01T09:42:20.864Z"
   },
   {
    "duration": 16,
    "start_time": "2021-10-01T09:42:20.882Z"
   },
   {
    "duration": 18,
    "start_time": "2021-10-01T09:42:20.900Z"
   },
   {
    "duration": 3,
    "start_time": "2021-10-01T09:42:20.920Z"
   },
   {
    "duration": 10,
    "start_time": "2021-10-01T09:42:20.925Z"
   },
   {
    "duration": 4,
    "start_time": "2021-10-01T09:42:20.937Z"
   },
   {
    "duration": 9,
    "start_time": "2021-10-01T09:42:20.943Z"
   },
   {
    "duration": 645,
    "start_time": "2021-10-01T09:42:20.953Z"
   },
   {
    "duration": 295,
    "start_time": "2021-10-01T09:42:21.600Z"
   },
   {
    "duration": 387,
    "start_time": "2021-10-01T09:42:21.898Z"
   },
   {
    "duration": 317,
    "start_time": "2021-10-01T09:42:22.287Z"
   },
   {
    "duration": 386,
    "start_time": "2021-10-01T09:42:22.606Z"
   },
   {
    "duration": 543,
    "start_time": "2021-10-01T09:42:22.994Z"
   },
   {
    "duration": 5,
    "start_time": "2021-10-01T09:42:23.539Z"
   },
   {
    "duration": 423,
    "start_time": "2021-10-01T09:42:23.546Z"
   },
   {
    "duration": 6,
    "start_time": "2021-10-01T09:42:23.971Z"
   },
   {
    "duration": 37,
    "start_time": "2021-10-01T09:42:23.979Z"
   },
   {
    "duration": 7,
    "start_time": "2021-10-01T09:42:24.018Z"
   },
   {
    "duration": 15,
    "start_time": "2021-10-01T09:42:24.026Z"
   },
   {
    "duration": 11,
    "start_time": "2021-10-01T09:42:24.043Z"
   },
   {
    "duration": 47,
    "start_time": "2021-10-01T09:42:24.056Z"
   },
   {
    "duration": 7,
    "start_time": "2021-10-01T09:42:24.105Z"
   },
   {
    "duration": 21,
    "start_time": "2021-10-01T10:02:44.390Z"
   },
   {
    "duration": 1186,
    "start_time": "2021-10-01T10:04:59.365Z"
   },
   {
    "duration": 40,
    "start_time": "2021-10-01T10:05:00.553Z"
   },
   {
    "duration": 11,
    "start_time": "2021-10-01T10:05:00.595Z"
   },
   {
    "duration": 28,
    "start_time": "2021-10-01T10:05:00.608Z"
   },
   {
    "duration": 14,
    "start_time": "2021-10-01T10:05:00.637Z"
   },
   {
    "duration": 41,
    "start_time": "2021-10-01T10:05:00.653Z"
   },
   {
    "duration": 313,
    "start_time": "2021-10-01T10:05:00.696Z"
   },
   {
    "duration": 45,
    "start_time": "2021-10-01T10:05:01.012Z"
   },
   {
    "duration": 45,
    "start_time": "2021-10-01T10:05:01.059Z"
   },
   {
    "duration": 8,
    "start_time": "2021-10-01T10:05:01.106Z"
   },
   {
    "duration": 21,
    "start_time": "2021-10-01T10:05:01.116Z"
   },
   {
    "duration": 32,
    "start_time": "2021-10-01T10:05:01.139Z"
   },
   {
    "duration": 25,
    "start_time": "2021-10-01T10:05:01.173Z"
   },
   {
    "duration": 28,
    "start_time": "2021-10-01T10:05:01.199Z"
   },
   {
    "duration": 39,
    "start_time": "2021-10-01T10:05:01.229Z"
   },
   {
    "duration": 29,
    "start_time": "2021-10-01T10:05:01.270Z"
   },
   {
    "duration": 19,
    "start_time": "2021-10-01T10:05:01.301Z"
   },
   {
    "duration": 20,
    "start_time": "2021-10-01T10:05:01.322Z"
   },
   {
    "duration": 28,
    "start_time": "2021-10-01T10:05:01.344Z"
   },
   {
    "duration": 22,
    "start_time": "2021-10-01T10:05:01.374Z"
   },
   {
    "duration": 623,
    "start_time": "2021-10-01T10:05:01.399Z"
   },
   {
    "duration": 298,
    "start_time": "2021-10-01T10:05:02.024Z"
   },
   {
    "duration": 369,
    "start_time": "2021-10-01T10:05:02.325Z"
   },
   {
    "duration": 294,
    "start_time": "2021-10-01T10:05:02.696Z"
   },
   {
    "duration": 398,
    "start_time": "2021-10-01T10:05:02.992Z"
   },
   {
    "duration": 551,
    "start_time": "2021-10-01T10:05:03.392Z"
   },
   {
    "duration": 5,
    "start_time": "2021-10-01T10:05:03.945Z"
   },
   {
    "duration": 415,
    "start_time": "2021-10-01T10:05:03.951Z"
   },
   {
    "duration": 5,
    "start_time": "2021-10-01T10:05:04.368Z"
   },
   {
    "duration": 40,
    "start_time": "2021-10-01T10:05:04.374Z"
   },
   {
    "duration": 7,
    "start_time": "2021-10-01T10:05:04.415Z"
   },
   {
    "duration": 10,
    "start_time": "2021-10-01T10:05:04.424Z"
   },
   {
    "duration": 11,
    "start_time": "2021-10-01T10:05:04.436Z"
   },
   {
    "duration": 54,
    "start_time": "2021-10-01T10:05:04.448Z"
   },
   {
    "duration": 7,
    "start_time": "2021-10-01T10:05:04.504Z"
   },
   {
    "duration": 434,
    "start_time": "2021-12-02T07:38:36.804Z"
   },
   {
    "duration": 1139,
    "start_time": "2021-12-02T07:38:46.466Z"
   },
   {
    "duration": 101,
    "start_time": "2021-12-02T07:38:47.607Z"
   },
   {
    "duration": 12,
    "start_time": "2021-12-02T07:38:47.710Z"
   },
   {
    "duration": 12,
    "start_time": "2021-12-02T07:38:47.724Z"
   },
   {
    "duration": 11,
    "start_time": "2021-12-02T07:38:47.738Z"
   },
   {
    "duration": 11,
    "start_time": "2021-12-02T07:38:47.751Z"
   },
   {
    "duration": 288,
    "start_time": "2021-12-02T07:38:47.763Z"
   },
   {
    "duration": 115,
    "start_time": "2021-12-02T07:38:48.054Z"
   },
   {
    "duration": 108,
    "start_time": "2021-12-02T07:38:48.172Z"
   },
   {
    "duration": 7,
    "start_time": "2021-12-02T07:38:48.282Z"
   },
   {
    "duration": 17,
    "start_time": "2021-12-02T07:38:48.291Z"
   },
   {
    "duration": 14,
    "start_time": "2021-12-02T07:38:48.310Z"
   },
   {
    "duration": 14,
    "start_time": "2021-12-02T07:38:48.326Z"
   },
   {
    "duration": 15,
    "start_time": "2021-12-02T07:38:48.342Z"
   },
   {
    "duration": 25,
    "start_time": "2021-12-02T07:38:48.358Z"
   },
   {
    "duration": 17,
    "start_time": "2021-12-02T07:38:48.385Z"
   },
   {
    "duration": 10,
    "start_time": "2021-12-02T07:38:48.403Z"
   },
   {
    "duration": 16,
    "start_time": "2021-12-02T07:38:48.415Z"
   },
   {
    "duration": 6,
    "start_time": "2021-12-02T07:38:48.432Z"
   },
   {
    "duration": 7,
    "start_time": "2021-12-02T07:38:48.440Z"
   },
   {
    "duration": 596,
    "start_time": "2021-12-02T07:38:48.448Z"
   },
   {
    "duration": 274,
    "start_time": "2021-12-02T07:38:49.046Z"
   },
   {
    "duration": 409,
    "start_time": "2021-12-02T07:38:49.324Z"
   },
   {
    "duration": 267,
    "start_time": "2021-12-02T07:38:49.735Z"
   },
   {
    "duration": 417,
    "start_time": "2021-12-02T07:38:50.005Z"
   },
   {
    "duration": 509,
    "start_time": "2021-12-02T07:38:50.423Z"
   },
   {
    "duration": 5,
    "start_time": "2021-12-02T07:38:50.933Z"
   },
   {
    "duration": 393,
    "start_time": "2021-12-02T07:38:50.944Z"
   },
   {
    "duration": 8,
    "start_time": "2021-12-02T07:38:51.339Z"
   },
   {
    "duration": 21,
    "start_time": "2021-12-02T07:38:51.348Z"
   },
   {
    "duration": 7,
    "start_time": "2021-12-02T07:38:51.370Z"
   },
   {
    "duration": 17,
    "start_time": "2021-12-02T07:38:51.379Z"
   },
   {
    "duration": 8,
    "start_time": "2021-12-02T07:38:51.398Z"
   },
   {
    "duration": 55,
    "start_time": "2021-12-02T07:38:51.408Z"
   },
   {
    "duration": 7,
    "start_time": "2021-12-02T07:38:51.465Z"
   }
  ],
  "kernelspec": {
   "display_name": "Python 3 (ipykernel)",
   "language": "python",
   "name": "python3"
  },
  "language_info": {
   "codemirror_mode": {
    "name": "ipython",
    "version": 3
   },
   "file_extension": ".py",
   "mimetype": "text/x-python",
   "name": "python",
   "nbconvert_exporter": "python",
   "pygments_lexer": "ipython3",
   "version": "3.8.11"
  },
  "toc": {
   "base_numbering": 1,
   "nav_menu": {
    "height": "250px",
    "width": "330px"
   },
   "number_sections": true,
   "sideBar": true,
   "skip_h1_title": true,
   "title_cell": "Содержание",
   "title_sidebar": "Contents",
   "toc_cell": false,
   "toc_position": {},
   "toc_section_display": true,
   "toc_window_display": true
  }
 },
 "nbformat": 4,
 "nbformat_minor": 5
}
