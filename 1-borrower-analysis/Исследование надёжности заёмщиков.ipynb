{
 "cells": [
  {
   "cell_type": "markdown",
   "metadata": {},
   "source": [
    "# Введение. Исследование надёжности заёмщиков\n",
    "<div class=\"alert alert-block alert-info\">\n",
    "Заказчик — кредитный отдел банка. Нужно разобраться, влияет ли семейное положение, количество детей, уровень зароботка и цель оформления кредита клиента на факт погашения кредита в срок. \n",
    "\n",
    "Входные данные от банка — статистика о платёжеспособности клиентов. В датасете содержится информация о стаже, возрасте, детях, образовании, семейном положении, поле, должности, наличию долгов по возврату кредитов в срок, доход и цель оформления кредита по каждому из клиентов. Использовать мы будем только информацию о детях, семейном положении, уровне дохода, цели оформления кредита и наличию долгов.\n",
    "\n",
    "Будет разработан индекс, который позволит рассчитать уровень возвращаемости кредитов в срок. \n",
    "\n",
    "План работы: \n",
    "1. [Импорт библиотек и знакомство с файлом](#start)\n",
    "2. [Предобработка данных:](#processing)\n",
    "    * [Обработка пропусков](#processing1)\n",
    "    * [Замена типа данных](#processing2)\n",
    "    * [Обработка дубликатов](#processing3)\n",
    "    * [Лемматизация](#processing4)\n",
    "    * [Категоризация данных](#processing5)\n",
    "    <br>\n",
    "    <br>\n",
    "3. [Рассчёт индекса. Поиск зависимостей](#сoun_of_index)\n",
    "4. [Общий вывод](#conclusion)<br>\n",
    "\n",
    "<br>\n",
    "На основании исследования будут выделены группы, наиболее предпочтительные для выдачи кредита, и группы, кредит которым следует давать с осторожностью. <br>\n",
    "<br>\n",
    "Результаты исследования будут учтены при построении модели **кредитного скоринга** — специальной системы, которая оценивает способность потенциального заёмщика вернуть кредит банку."
   ]
  },
  {
   "cell_type": "markdown",
   "metadata": {},
   "source": [
    "## Импорт библиотек и знакомство с файлом\n",
    "<a id=\"start\"></a>"
   ]
  },
  {
   "cell_type": "code",
   "execution_count": 1,
   "metadata": {
    "scrolled": true
   },
   "outputs": [],
   "source": [
    "import pandas as pd\n",
    "from collections import Counter\n",
    "from pymystem3 import Mystem\n",
    "m = Mystem()\n"
   ]
  },
  {
   "cell_type": "markdown",
   "metadata": {},
   "source": [
    "<div class=\"alert alert-block alert-info\">\n",
    "Собрал импорты и константы в одном месте. Открытие датасета убрал в следующий блок."
   ]
  },
  {
   "cell_type": "code",
   "execution_count": 2,
   "metadata": {},
   "outputs": [
    {
     "data": {
      "text/html": [
       "<div>\n",
       "<style scoped>\n",
       "    .dataframe tbody tr th:only-of-type {\n",
       "        vertical-align: middle;\n",
       "    }\n",
       "\n",
       "    .dataframe tbody tr th {\n",
       "        vertical-align: top;\n",
       "    }\n",
       "\n",
       "    .dataframe thead th {\n",
       "        text-align: right;\n",
       "    }\n",
       "</style>\n",
       "<table border=\"1\" class=\"dataframe\">\n",
       "  <thead>\n",
       "    <tr style=\"text-align: right;\">\n",
       "      <th></th>\n",
       "      <th>children</th>\n",
       "      <th>days_employed</th>\n",
       "      <th>dob_years</th>\n",
       "      <th>education</th>\n",
       "      <th>education_id</th>\n",
       "      <th>family_status</th>\n",
       "      <th>family_status_id</th>\n",
       "      <th>gender</th>\n",
       "      <th>income_type</th>\n",
       "      <th>debt</th>\n",
       "      <th>total_income</th>\n",
       "      <th>purpose</th>\n",
       "    </tr>\n",
       "  </thead>\n",
       "  <tbody>\n",
       "    <tr>\n",
       "      <td>0</td>\n",
       "      <td>1</td>\n",
       "      <td>-8437.673028</td>\n",
       "      <td>42</td>\n",
       "      <td>высшее</td>\n",
       "      <td>0</td>\n",
       "      <td>женат / замужем</td>\n",
       "      <td>0</td>\n",
       "      <td>F</td>\n",
       "      <td>сотрудник</td>\n",
       "      <td>0</td>\n",
       "      <td>253875.639453</td>\n",
       "      <td>покупка жилья</td>\n",
       "    </tr>\n",
       "    <tr>\n",
       "      <td>1</td>\n",
       "      <td>1</td>\n",
       "      <td>-4024.803754</td>\n",
       "      <td>36</td>\n",
       "      <td>среднее</td>\n",
       "      <td>1</td>\n",
       "      <td>женат / замужем</td>\n",
       "      <td>0</td>\n",
       "      <td>F</td>\n",
       "      <td>сотрудник</td>\n",
       "      <td>0</td>\n",
       "      <td>112080.014102</td>\n",
       "      <td>приобретение автомобиля</td>\n",
       "    </tr>\n",
       "    <tr>\n",
       "      <td>2</td>\n",
       "      <td>0</td>\n",
       "      <td>-5623.422610</td>\n",
       "      <td>33</td>\n",
       "      <td>Среднее</td>\n",
       "      <td>1</td>\n",
       "      <td>женат / замужем</td>\n",
       "      <td>0</td>\n",
       "      <td>M</td>\n",
       "      <td>сотрудник</td>\n",
       "      <td>0</td>\n",
       "      <td>145885.952297</td>\n",
       "      <td>покупка жилья</td>\n",
       "    </tr>\n",
       "    <tr>\n",
       "      <td>3</td>\n",
       "      <td>3</td>\n",
       "      <td>-4124.747207</td>\n",
       "      <td>32</td>\n",
       "      <td>среднее</td>\n",
       "      <td>1</td>\n",
       "      <td>женат / замужем</td>\n",
       "      <td>0</td>\n",
       "      <td>M</td>\n",
       "      <td>сотрудник</td>\n",
       "      <td>0</td>\n",
       "      <td>267628.550329</td>\n",
       "      <td>дополнительное образование</td>\n",
       "    </tr>\n",
       "    <tr>\n",
       "      <td>4</td>\n",
       "      <td>0</td>\n",
       "      <td>340266.072047</td>\n",
       "      <td>53</td>\n",
       "      <td>среднее</td>\n",
       "      <td>1</td>\n",
       "      <td>гражданский брак</td>\n",
       "      <td>1</td>\n",
       "      <td>F</td>\n",
       "      <td>пенсионер</td>\n",
       "      <td>0</td>\n",
       "      <td>158616.077870</td>\n",
       "      <td>сыграть свадьбу</td>\n",
       "    </tr>\n",
       "  </tbody>\n",
       "</table>\n",
       "</div>"
      ],
      "text/plain": [
       "   children  days_employed  dob_years education  education_id  \\\n",
       "0         1   -8437.673028         42    высшее             0   \n",
       "1         1   -4024.803754         36   среднее             1   \n",
       "2         0   -5623.422610         33   Среднее             1   \n",
       "3         3   -4124.747207         32   среднее             1   \n",
       "4         0  340266.072047         53   среднее             1   \n",
       "\n",
       "      family_status  family_status_id gender income_type  debt   total_income  \\\n",
       "0   женат / замужем                 0      F   сотрудник     0  253875.639453   \n",
       "1   женат / замужем                 0      F   сотрудник     0  112080.014102   \n",
       "2   женат / замужем                 0      M   сотрудник     0  145885.952297   \n",
       "3   женат / замужем                 0      M   сотрудник     0  267628.550329   \n",
       "4  гражданский брак                 1      F   пенсионер     0  158616.077870   \n",
       "\n",
       "                      purpose  \n",
       "0               покупка жилья  \n",
       "1     приобретение автомобиля  \n",
       "2               покупка жилья  \n",
       "3  дополнительное образование  \n",
       "4             сыграть свадьбу  "
      ]
     },
     "execution_count": 2,
     "metadata": {},
     "output_type": "execute_result"
    }
   ],
   "source": [
    "credit_data = pd.read_csv('/datasets/data.csv')\n",
    "credit_data.head()"
   ]
  },
  {
   "cell_type": "code",
   "execution_count": 3,
   "metadata": {
    "scrolled": true
   },
   "outputs": [
    {
     "data": {
      "text/html": [
       "<div>\n",
       "<style scoped>\n",
       "    .dataframe tbody tr th:only-of-type {\n",
       "        vertical-align: middle;\n",
       "    }\n",
       "\n",
       "    .dataframe tbody tr th {\n",
       "        vertical-align: top;\n",
       "    }\n",
       "\n",
       "    .dataframe thead th {\n",
       "        text-align: right;\n",
       "    }\n",
       "</style>\n",
       "<table border=\"1\" class=\"dataframe\">\n",
       "  <thead>\n",
       "    <tr style=\"text-align: right;\">\n",
       "      <th></th>\n",
       "      <th>children</th>\n",
       "      <th>days_employed</th>\n",
       "      <th>dob_years</th>\n",
       "      <th>education</th>\n",
       "      <th>education_id</th>\n",
       "      <th>family_status</th>\n",
       "      <th>family_status_id</th>\n",
       "      <th>gender</th>\n",
       "      <th>income_type</th>\n",
       "      <th>debt</th>\n",
       "      <th>total_income</th>\n",
       "      <th>purpose</th>\n",
       "    </tr>\n",
       "  </thead>\n",
       "  <tbody>\n",
       "    <tr>\n",
       "      <td>21515</td>\n",
       "      <td>1</td>\n",
       "      <td>-467.685130</td>\n",
       "      <td>28</td>\n",
       "      <td>среднее</td>\n",
       "      <td>1</td>\n",
       "      <td>женат / замужем</td>\n",
       "      <td>0</td>\n",
       "      <td>F</td>\n",
       "      <td>сотрудник</td>\n",
       "      <td>1</td>\n",
       "      <td>109486.327999</td>\n",
       "      <td>заняться образованием</td>\n",
       "    </tr>\n",
       "    <tr>\n",
       "      <td>21516</td>\n",
       "      <td>0</td>\n",
       "      <td>-914.391429</td>\n",
       "      <td>42</td>\n",
       "      <td>высшее</td>\n",
       "      <td>0</td>\n",
       "      <td>женат / замужем</td>\n",
       "      <td>0</td>\n",
       "      <td>F</td>\n",
       "      <td>компаньон</td>\n",
       "      <td>0</td>\n",
       "      <td>322807.776603</td>\n",
       "      <td>покупка своего жилья</td>\n",
       "    </tr>\n",
       "    <tr>\n",
       "      <td>21517</td>\n",
       "      <td>0</td>\n",
       "      <td>-404.679034</td>\n",
       "      <td>42</td>\n",
       "      <td>высшее</td>\n",
       "      <td>0</td>\n",
       "      <td>гражданский брак</td>\n",
       "      <td>1</td>\n",
       "      <td>F</td>\n",
       "      <td>компаньон</td>\n",
       "      <td>0</td>\n",
       "      <td>178059.553491</td>\n",
       "      <td>на покупку своего автомобиля</td>\n",
       "    </tr>\n",
       "    <tr>\n",
       "      <td>21518</td>\n",
       "      <td>0</td>\n",
       "      <td>373995.710838</td>\n",
       "      <td>59</td>\n",
       "      <td>СРЕДНЕЕ</td>\n",
       "      <td>1</td>\n",
       "      <td>женат / замужем</td>\n",
       "      <td>0</td>\n",
       "      <td>F</td>\n",
       "      <td>пенсионер</td>\n",
       "      <td>0</td>\n",
       "      <td>153864.650328</td>\n",
       "      <td>сделка с автомобилем</td>\n",
       "    </tr>\n",
       "    <tr>\n",
       "      <td>21519</td>\n",
       "      <td>1</td>\n",
       "      <td>-2351.431934</td>\n",
       "      <td>37</td>\n",
       "      <td>ученая степень</td>\n",
       "      <td>4</td>\n",
       "      <td>в разводе</td>\n",
       "      <td>3</td>\n",
       "      <td>M</td>\n",
       "      <td>сотрудник</td>\n",
       "      <td>0</td>\n",
       "      <td>115949.039788</td>\n",
       "      <td>покупка коммерческой недвижимости</td>\n",
       "    </tr>\n",
       "    <tr>\n",
       "      <td>21520</td>\n",
       "      <td>1</td>\n",
       "      <td>-4529.316663</td>\n",
       "      <td>43</td>\n",
       "      <td>среднее</td>\n",
       "      <td>1</td>\n",
       "      <td>гражданский брак</td>\n",
       "      <td>1</td>\n",
       "      <td>F</td>\n",
       "      <td>компаньон</td>\n",
       "      <td>0</td>\n",
       "      <td>224791.862382</td>\n",
       "      <td>операции с жильем</td>\n",
       "    </tr>\n",
       "    <tr>\n",
       "      <td>21521</td>\n",
       "      <td>0</td>\n",
       "      <td>343937.404131</td>\n",
       "      <td>67</td>\n",
       "      <td>среднее</td>\n",
       "      <td>1</td>\n",
       "      <td>женат / замужем</td>\n",
       "      <td>0</td>\n",
       "      <td>F</td>\n",
       "      <td>пенсионер</td>\n",
       "      <td>0</td>\n",
       "      <td>155999.806512</td>\n",
       "      <td>сделка с автомобилем</td>\n",
       "    </tr>\n",
       "    <tr>\n",
       "      <td>21522</td>\n",
       "      <td>1</td>\n",
       "      <td>-2113.346888</td>\n",
       "      <td>38</td>\n",
       "      <td>среднее</td>\n",
       "      <td>1</td>\n",
       "      <td>гражданский брак</td>\n",
       "      <td>1</td>\n",
       "      <td>M</td>\n",
       "      <td>сотрудник</td>\n",
       "      <td>1</td>\n",
       "      <td>89672.561153</td>\n",
       "      <td>недвижимость</td>\n",
       "    </tr>\n",
       "    <tr>\n",
       "      <td>21523</td>\n",
       "      <td>3</td>\n",
       "      <td>-3112.481705</td>\n",
       "      <td>38</td>\n",
       "      <td>среднее</td>\n",
       "      <td>1</td>\n",
       "      <td>женат / замужем</td>\n",
       "      <td>0</td>\n",
       "      <td>M</td>\n",
       "      <td>сотрудник</td>\n",
       "      <td>1</td>\n",
       "      <td>244093.050500</td>\n",
       "      <td>на покупку своего автомобиля</td>\n",
       "    </tr>\n",
       "    <tr>\n",
       "      <td>21524</td>\n",
       "      <td>2</td>\n",
       "      <td>-1984.507589</td>\n",
       "      <td>40</td>\n",
       "      <td>среднее</td>\n",
       "      <td>1</td>\n",
       "      <td>женат / замужем</td>\n",
       "      <td>0</td>\n",
       "      <td>F</td>\n",
       "      <td>сотрудник</td>\n",
       "      <td>0</td>\n",
       "      <td>82047.418899</td>\n",
       "      <td>на покупку автомобиля</td>\n",
       "    </tr>\n",
       "  </tbody>\n",
       "</table>\n",
       "</div>"
      ],
      "text/plain": [
       "       children  days_employed  dob_years       education  education_id  \\\n",
       "21515         1    -467.685130         28         среднее             1   \n",
       "21516         0    -914.391429         42          высшее             0   \n",
       "21517         0    -404.679034         42          высшее             0   \n",
       "21518         0  373995.710838         59         СРЕДНЕЕ             1   \n",
       "21519         1   -2351.431934         37  ученая степень             4   \n",
       "21520         1   -4529.316663         43         среднее             1   \n",
       "21521         0  343937.404131         67         среднее             1   \n",
       "21522         1   -2113.346888         38         среднее             1   \n",
       "21523         3   -3112.481705         38         среднее             1   \n",
       "21524         2   -1984.507589         40         среднее             1   \n",
       "\n",
       "          family_status  family_status_id gender income_type  debt  \\\n",
       "21515   женат / замужем                 0      F   сотрудник     1   \n",
       "21516   женат / замужем                 0      F   компаньон     0   \n",
       "21517  гражданский брак                 1      F   компаньон     0   \n",
       "21518   женат / замужем                 0      F   пенсионер     0   \n",
       "21519         в разводе                 3      M   сотрудник     0   \n",
       "21520  гражданский брак                 1      F   компаньон     0   \n",
       "21521   женат / замужем                 0      F   пенсионер     0   \n",
       "21522  гражданский брак                 1      M   сотрудник     1   \n",
       "21523   женат / замужем                 0      M   сотрудник     1   \n",
       "21524   женат / замужем                 0      F   сотрудник     0   \n",
       "\n",
       "        total_income                            purpose  \n",
       "21515  109486.327999              заняться образованием  \n",
       "21516  322807.776603               покупка своего жилья  \n",
       "21517  178059.553491       на покупку своего автомобиля  \n",
       "21518  153864.650328               сделка с автомобилем  \n",
       "21519  115949.039788  покупка коммерческой недвижимости  \n",
       "21520  224791.862382                  операции с жильем  \n",
       "21521  155999.806512               сделка с автомобилем  \n",
       "21522   89672.561153                       недвижимость  \n",
       "21523  244093.050500       на покупку своего автомобиля  \n",
       "21524   82047.418899              на покупку автомобиля  "
      ]
     },
     "execution_count": 3,
     "metadata": {},
     "output_type": "execute_result"
    }
   ],
   "source": [
    "credit_data.tail(10)"
   ]
  },
  {
   "cell_type": "code",
   "execution_count": 4,
   "metadata": {
    "scrolled": true
   },
   "outputs": [
    {
     "data": {
      "text/html": [
       "<div>\n",
       "<style scoped>\n",
       "    .dataframe tbody tr th:only-of-type {\n",
       "        vertical-align: middle;\n",
       "    }\n",
       "\n",
       "    .dataframe tbody tr th {\n",
       "        vertical-align: top;\n",
       "    }\n",
       "\n",
       "    .dataframe thead th {\n",
       "        text-align: right;\n",
       "    }\n",
       "</style>\n",
       "<table border=\"1\" class=\"dataframe\">\n",
       "  <thead>\n",
       "    <tr style=\"text-align: right;\">\n",
       "      <th></th>\n",
       "      <th>children</th>\n",
       "      <th>days_employed</th>\n",
       "      <th>dob_years</th>\n",
       "      <th>education</th>\n",
       "      <th>education_id</th>\n",
       "      <th>family_status</th>\n",
       "      <th>family_status_id</th>\n",
       "      <th>gender</th>\n",
       "      <th>income_type</th>\n",
       "      <th>debt</th>\n",
       "      <th>total_income</th>\n",
       "      <th>purpose</th>\n",
       "    </tr>\n",
       "  </thead>\n",
       "  <tbody>\n",
       "    <tr>\n",
       "      <td>10263</td>\n",
       "      <td>0</td>\n",
       "      <td>-1779.684580</td>\n",
       "      <td>36</td>\n",
       "      <td>среднее</td>\n",
       "      <td>1</td>\n",
       "      <td>женат / замужем</td>\n",
       "      <td>0</td>\n",
       "      <td>M</td>\n",
       "      <td>сотрудник</td>\n",
       "      <td>0</td>\n",
       "      <td>203973.635751</td>\n",
       "      <td>заняться образованием</td>\n",
       "    </tr>\n",
       "    <tr>\n",
       "      <td>8521</td>\n",
       "      <td>0</td>\n",
       "      <td>-381.897136</td>\n",
       "      <td>25</td>\n",
       "      <td>неоконченное высшее</td>\n",
       "      <td>2</td>\n",
       "      <td>в разводе</td>\n",
       "      <td>3</td>\n",
       "      <td>F</td>\n",
       "      <td>сотрудник</td>\n",
       "      <td>0</td>\n",
       "      <td>79454.160535</td>\n",
       "      <td>покупка недвижимости</td>\n",
       "    </tr>\n",
       "    <tr>\n",
       "      <td>13660</td>\n",
       "      <td>1</td>\n",
       "      <td>-88.280875</td>\n",
       "      <td>44</td>\n",
       "      <td>высшее</td>\n",
       "      <td>0</td>\n",
       "      <td>женат / замужем</td>\n",
       "      <td>0</td>\n",
       "      <td>M</td>\n",
       "      <td>сотрудник</td>\n",
       "      <td>0</td>\n",
       "      <td>155906.409139</td>\n",
       "      <td>получение образования</td>\n",
       "    </tr>\n",
       "    <tr>\n",
       "      <td>4722</td>\n",
       "      <td>0</td>\n",
       "      <td>-2147.094331</td>\n",
       "      <td>44</td>\n",
       "      <td>среднее</td>\n",
       "      <td>1</td>\n",
       "      <td>в разводе</td>\n",
       "      <td>3</td>\n",
       "      <td>M</td>\n",
       "      <td>компаньон</td>\n",
       "      <td>0</td>\n",
       "      <td>388633.861914</td>\n",
       "      <td>покупка коммерческой недвижимости</td>\n",
       "    </tr>\n",
       "    <tr>\n",
       "      <td>6826</td>\n",
       "      <td>1</td>\n",
       "      <td>-2294.481990</td>\n",
       "      <td>40</td>\n",
       "      <td>среднее</td>\n",
       "      <td>1</td>\n",
       "      <td>женат / замужем</td>\n",
       "      <td>0</td>\n",
       "      <td>M</td>\n",
       "      <td>сотрудник</td>\n",
       "      <td>0</td>\n",
       "      <td>253374.870249</td>\n",
       "      <td>сделка с автомобилем</td>\n",
       "    </tr>\n",
       "    <tr>\n",
       "      <td>9823</td>\n",
       "      <td>0</td>\n",
       "      <td>-831.616198</td>\n",
       "      <td>30</td>\n",
       "      <td>среднее</td>\n",
       "      <td>1</td>\n",
       "      <td>женат / замужем</td>\n",
       "      <td>0</td>\n",
       "      <td>M</td>\n",
       "      <td>компаньон</td>\n",
       "      <td>0</td>\n",
       "      <td>141965.355510</td>\n",
       "      <td>заняться образованием</td>\n",
       "    </tr>\n",
       "    <tr>\n",
       "      <td>20962</td>\n",
       "      <td>1</td>\n",
       "      <td>-2589.669758</td>\n",
       "      <td>31</td>\n",
       "      <td>высшее</td>\n",
       "      <td>0</td>\n",
       "      <td>женат / замужем</td>\n",
       "      <td>0</td>\n",
       "      <td>M</td>\n",
       "      <td>компаньон</td>\n",
       "      <td>0</td>\n",
       "      <td>166323.689177</td>\n",
       "      <td>автомобиль</td>\n",
       "    </tr>\n",
       "    <tr>\n",
       "      <td>4332</td>\n",
       "      <td>0</td>\n",
       "      <td>-347.677186</td>\n",
       "      <td>36</td>\n",
       "      <td>высшее</td>\n",
       "      <td>0</td>\n",
       "      <td>Не женат / не замужем</td>\n",
       "      <td>4</td>\n",
       "      <td>F</td>\n",
       "      <td>сотрудник</td>\n",
       "      <td>0</td>\n",
       "      <td>73137.234205</td>\n",
       "      <td>строительство собственной недвижимости</td>\n",
       "    </tr>\n",
       "    <tr>\n",
       "      <td>3646</td>\n",
       "      <td>0</td>\n",
       "      <td>362739.565850</td>\n",
       "      <td>69</td>\n",
       "      <td>высшее</td>\n",
       "      <td>0</td>\n",
       "      <td>женат / замужем</td>\n",
       "      <td>0</td>\n",
       "      <td>F</td>\n",
       "      <td>пенсионер</td>\n",
       "      <td>0</td>\n",
       "      <td>314654.970464</td>\n",
       "      <td>покупка недвижимости</td>\n",
       "    </tr>\n",
       "    <tr>\n",
       "      <td>1539</td>\n",
       "      <td>0</td>\n",
       "      <td>-15785.678893</td>\n",
       "      <td>59</td>\n",
       "      <td>высшее</td>\n",
       "      <td>0</td>\n",
       "      <td>Не женат / не замужем</td>\n",
       "      <td>4</td>\n",
       "      <td>F</td>\n",
       "      <td>сотрудник</td>\n",
       "      <td>0</td>\n",
       "      <td>119563.851852</td>\n",
       "      <td>операции с коммерческой недвижимостью</td>\n",
       "    </tr>\n",
       "  </tbody>\n",
       "</table>\n",
       "</div>"
      ],
      "text/plain": [
       "       children  days_employed  dob_years            education  education_id  \\\n",
       "10263         0   -1779.684580         36              среднее             1   \n",
       "8521          0    -381.897136         25  неоконченное высшее             2   \n",
       "13660         1     -88.280875         44               высшее             0   \n",
       "4722          0   -2147.094331         44              среднее             1   \n",
       "6826          1   -2294.481990         40              среднее             1   \n",
       "9823          0    -831.616198         30              среднее             1   \n",
       "20962         1   -2589.669758         31               высшее             0   \n",
       "4332          0    -347.677186         36               высшее             0   \n",
       "3646          0  362739.565850         69               высшее             0   \n",
       "1539          0  -15785.678893         59               высшее             0   \n",
       "\n",
       "               family_status  family_status_id gender income_type  debt  \\\n",
       "10263        женат / замужем                 0      M   сотрудник     0   \n",
       "8521               в разводе                 3      F   сотрудник     0   \n",
       "13660        женат / замужем                 0      M   сотрудник     0   \n",
       "4722               в разводе                 3      M   компаньон     0   \n",
       "6826         женат / замужем                 0      M   сотрудник     0   \n",
       "9823         женат / замужем                 0      M   компаньон     0   \n",
       "20962        женат / замужем                 0      M   компаньон     0   \n",
       "4332   Не женат / не замужем                 4      F   сотрудник     0   \n",
       "3646         женат / замужем                 0      F   пенсионер     0   \n",
       "1539   Не женат / не замужем                 4      F   сотрудник     0   \n",
       "\n",
       "        total_income                                 purpose  \n",
       "10263  203973.635751                   заняться образованием  \n",
       "8521    79454.160535                    покупка недвижимости  \n",
       "13660  155906.409139                   получение образования  \n",
       "4722   388633.861914       покупка коммерческой недвижимости  \n",
       "6826   253374.870249                    сделка с автомобилем  \n",
       "9823   141965.355510                   заняться образованием  \n",
       "20962  166323.689177                              автомобиль  \n",
       "4332    73137.234205  строительство собственной недвижимости  \n",
       "3646   314654.970464                    покупка недвижимости  \n",
       "1539   119563.851852   операции с коммерческой недвижимостью  "
      ]
     },
     "execution_count": 4,
     "metadata": {},
     "output_type": "execute_result"
    }
   ],
   "source": [
    "credit_data.sample(10)"
   ]
  },
  {
   "cell_type": "markdown",
   "metadata": {},
   "source": [
    "<div class=\"alert alert-block alert-info\">\n",
    "    Попробовал)</div>"
   ]
  },
  {
   "cell_type": "code",
   "execution_count": 5,
   "metadata": {},
   "outputs": [
    {
     "data": {
      "text/html": [
       "<div>\n",
       "<style scoped>\n",
       "    .dataframe tbody tr th:only-of-type {\n",
       "        vertical-align: middle;\n",
       "    }\n",
       "\n",
       "    .dataframe tbody tr th {\n",
       "        vertical-align: top;\n",
       "    }\n",
       "\n",
       "    .dataframe thead th {\n",
       "        text-align: right;\n",
       "    }\n",
       "</style>\n",
       "<table border=\"1\" class=\"dataframe\">\n",
       "  <thead>\n",
       "    <tr style=\"text-align: right;\">\n",
       "      <th></th>\n",
       "      <th>count</th>\n",
       "      <th>mean</th>\n",
       "      <th>std</th>\n",
       "      <th>min</th>\n",
       "      <th>25%</th>\n",
       "      <th>50%</th>\n",
       "      <th>75%</th>\n",
       "      <th>max</th>\n",
       "    </tr>\n",
       "  </thead>\n",
       "  <tbody>\n",
       "    <tr>\n",
       "      <td>children</td>\n",
       "      <td>21525.0</td>\n",
       "      <td>0.538908</td>\n",
       "      <td>1.381587</td>\n",
       "      <td>-1.000000</td>\n",
       "      <td>0.000000</td>\n",
       "      <td>0.000000</td>\n",
       "      <td>1.000000</td>\n",
       "      <td>2.000000e+01</td>\n",
       "    </tr>\n",
       "    <tr>\n",
       "      <td>days_employed</td>\n",
       "      <td>19351.0</td>\n",
       "      <td>63046.497661</td>\n",
       "      <td>140827.311974</td>\n",
       "      <td>-18388.949901</td>\n",
       "      <td>-2747.423625</td>\n",
       "      <td>-1203.369529</td>\n",
       "      <td>-291.095954</td>\n",
       "      <td>4.017554e+05</td>\n",
       "    </tr>\n",
       "    <tr>\n",
       "      <td>dob_years</td>\n",
       "      <td>21525.0</td>\n",
       "      <td>43.293380</td>\n",
       "      <td>12.574584</td>\n",
       "      <td>0.000000</td>\n",
       "      <td>33.000000</td>\n",
       "      <td>42.000000</td>\n",
       "      <td>53.000000</td>\n",
       "      <td>7.500000e+01</td>\n",
       "    </tr>\n",
       "    <tr>\n",
       "      <td>education_id</td>\n",
       "      <td>21525.0</td>\n",
       "      <td>0.817236</td>\n",
       "      <td>0.548138</td>\n",
       "      <td>0.000000</td>\n",
       "      <td>1.000000</td>\n",
       "      <td>1.000000</td>\n",
       "      <td>1.000000</td>\n",
       "      <td>4.000000e+00</td>\n",
       "    </tr>\n",
       "    <tr>\n",
       "      <td>family_status_id</td>\n",
       "      <td>21525.0</td>\n",
       "      <td>0.972544</td>\n",
       "      <td>1.420324</td>\n",
       "      <td>0.000000</td>\n",
       "      <td>0.000000</td>\n",
       "      <td>0.000000</td>\n",
       "      <td>1.000000</td>\n",
       "      <td>4.000000e+00</td>\n",
       "    </tr>\n",
       "    <tr>\n",
       "      <td>debt</td>\n",
       "      <td>21525.0</td>\n",
       "      <td>0.080883</td>\n",
       "      <td>0.272661</td>\n",
       "      <td>0.000000</td>\n",
       "      <td>0.000000</td>\n",
       "      <td>0.000000</td>\n",
       "      <td>0.000000</td>\n",
       "      <td>1.000000e+00</td>\n",
       "    </tr>\n",
       "    <tr>\n",
       "      <td>total_income</td>\n",
       "      <td>19351.0</td>\n",
       "      <td>167422.302208</td>\n",
       "      <td>102971.566448</td>\n",
       "      <td>20667.263793</td>\n",
       "      <td>103053.152913</td>\n",
       "      <td>145017.937533</td>\n",
       "      <td>203435.067663</td>\n",
       "      <td>2.265604e+06</td>\n",
       "    </tr>\n",
       "  </tbody>\n",
       "</table>\n",
       "</div>"
      ],
      "text/plain": [
       "                    count           mean            std           min  \\\n",
       "children          21525.0       0.538908       1.381587     -1.000000   \n",
       "days_employed     19351.0   63046.497661  140827.311974 -18388.949901   \n",
       "dob_years         21525.0      43.293380      12.574584      0.000000   \n",
       "education_id      21525.0       0.817236       0.548138      0.000000   \n",
       "family_status_id  21525.0       0.972544       1.420324      0.000000   \n",
       "debt              21525.0       0.080883       0.272661      0.000000   \n",
       "total_income      19351.0  167422.302208  102971.566448  20667.263793   \n",
       "\n",
       "                            25%            50%            75%           max  \n",
       "children               0.000000       0.000000       1.000000  2.000000e+01  \n",
       "days_employed      -2747.423625   -1203.369529    -291.095954  4.017554e+05  \n",
       "dob_years             33.000000      42.000000      53.000000  7.500000e+01  \n",
       "education_id           1.000000       1.000000       1.000000  4.000000e+00  \n",
       "family_status_id       0.000000       0.000000       1.000000  4.000000e+00  \n",
       "debt                   0.000000       0.000000       0.000000  1.000000e+00  \n",
       "total_income      103053.152913  145017.937533  203435.067663  2.265604e+06  "
      ]
     },
     "execution_count": 5,
     "metadata": {},
     "output_type": "execute_result"
    }
   ],
   "source": [
    "credit_data.describe().T"
   ]
  },
  {
   "cell_type": "markdown",
   "metadata": {},
   "source": [
    "<div class=\"alert alert-block alert-info\">\n",
    "Использовал метод describe(), для поиска анамалий. <br>\n",
    "<br>\n",
    "* Видно пустые значения в столбиках total_income и days_employed<br>\n",
    "* Отрицательные и экстремально высокие значения в столбике days_employed<br>\n",
    "* Нулевые значения в графе dob_years<br>\n",
    "   \n"
   ]
  },
  {
   "cell_type": "markdown",
   "metadata": {},
   "source": [
    "Отрицательные значения в столбике 'days_employed'. Стаж пользователя credit_data.loc[4] составляет 932 года. Разный регистр в столбике 'education'."
   ]
  },
  {
   "cell_type": "code",
   "execution_count": 6,
   "metadata": {},
   "outputs": [
    {
     "name": "stdout",
     "output_type": "stream",
     "text": [
      "<class 'pandas.core.frame.DataFrame'>\n",
      "RangeIndex: 21525 entries, 0 to 21524\n",
      "Data columns (total 12 columns):\n",
      "children            21525 non-null int64\n",
      "days_employed       19351 non-null float64\n",
      "dob_years           21525 non-null int64\n",
      "education           21525 non-null object\n",
      "education_id        21525 non-null int64\n",
      "family_status       21525 non-null object\n",
      "family_status_id    21525 non-null int64\n",
      "gender              21525 non-null object\n",
      "income_type         21525 non-null object\n",
      "debt                21525 non-null int64\n",
      "total_income        19351 non-null float64\n",
      "purpose             21525 non-null object\n",
      "dtypes: float64(2), int64(5), object(5)\n",
      "memory usage: 2.0+ MB\n"
     ]
    }
   ],
   "source": [
    "credit_data.info()"
   ]
  },
  {
   "cell_type": "markdown",
   "metadata": {},
   "source": [
    "Пустые значения в столбиках 'days_employed' и 'total_income'"
   ]
  },
  {
   "cell_type": "code",
   "execution_count": 7,
   "metadata": {},
   "outputs": [
    {
     "data": {
      "text/plain": [
       "сотрудник          1105\n",
       "компаньон           508\n",
       "пенсионер           413\n",
       "госслужащий         147\n",
       "предприниматель       1\n",
       "Name: income_type, dtype: int64"
      ]
     },
     "execution_count": 7,
     "metadata": {},
     "output_type": "execute_result"
    }
   ],
   "source": [
    "credit_data[credit_data['total_income'].isna()].income_type.value_counts()"
   ]
  },
  {
   "cell_type": "code",
   "execution_count": 8,
   "metadata": {},
   "outputs": [
    {
     "data": {
      "text/plain": [
       "сотрудник          11119\n",
       "компаньон           5085\n",
       "пенсионер           3856\n",
       "госслужащий         1459\n",
       "предприниматель        2\n",
       "безработный            2\n",
       "в декрете              1\n",
       "студент                1\n",
       "Name: income_type, dtype: int64"
      ]
     },
     "execution_count": 8,
     "metadata": {},
     "output_type": "execute_result"
    }
   ],
   "source": [
    "credit_data.income_type.value_counts()"
   ]
  },
  {
   "cell_type": "markdown",
   "metadata": {},
   "source": [
    "Пропуски составляют примерно 10% по каждому из источников дохода. "
   ]
  },
  {
   "cell_type": "code",
   "execution_count": 9,
   "metadata": {},
   "outputs": [
    {
     "data": {
      "text/html": [
       "<div>\n",
       "<style scoped>\n",
       "    .dataframe tbody tr th:only-of-type {\n",
       "        vertical-align: middle;\n",
       "    }\n",
       "\n",
       "    .dataframe tbody tr th {\n",
       "        vertical-align: top;\n",
       "    }\n",
       "\n",
       "    .dataframe thead th {\n",
       "        text-align: right;\n",
       "    }\n",
       "</style>\n",
       "<table border=\"1\" class=\"dataframe\">\n",
       "  <thead>\n",
       "    <tr style=\"text-align: right;\">\n",
       "      <th></th>\n",
       "      <th>children</th>\n",
       "      <th>days_employed</th>\n",
       "      <th>dob_years</th>\n",
       "      <th>education</th>\n",
       "      <th>education_id</th>\n",
       "      <th>family_status</th>\n",
       "      <th>family_status_id</th>\n",
       "      <th>gender</th>\n",
       "      <th>income_type</th>\n",
       "      <th>debt</th>\n",
       "      <th>total_income</th>\n",
       "      <th>purpose</th>\n",
       "    </tr>\n",
       "  </thead>\n",
       "  <tbody>\n",
       "    <tr>\n",
       "      <td>12</td>\n",
       "      <td>0</td>\n",
       "      <td>NaN</td>\n",
       "      <td>65</td>\n",
       "      <td>среднее</td>\n",
       "      <td>1</td>\n",
       "      <td>гражданский брак</td>\n",
       "      <td>1</td>\n",
       "      <td>M</td>\n",
       "      <td>пенсионер</td>\n",
       "      <td>0</td>\n",
       "      <td>NaN</td>\n",
       "      <td>сыграть свадьбу</td>\n",
       "    </tr>\n",
       "    <tr>\n",
       "      <td>26</td>\n",
       "      <td>0</td>\n",
       "      <td>NaN</td>\n",
       "      <td>41</td>\n",
       "      <td>среднее</td>\n",
       "      <td>1</td>\n",
       "      <td>женат / замужем</td>\n",
       "      <td>0</td>\n",
       "      <td>M</td>\n",
       "      <td>госслужащий</td>\n",
       "      <td>0</td>\n",
       "      <td>NaN</td>\n",
       "      <td>образование</td>\n",
       "    </tr>\n",
       "    <tr>\n",
       "      <td>29</td>\n",
       "      <td>0</td>\n",
       "      <td>NaN</td>\n",
       "      <td>63</td>\n",
       "      <td>среднее</td>\n",
       "      <td>1</td>\n",
       "      <td>Не женат / не замужем</td>\n",
       "      <td>4</td>\n",
       "      <td>F</td>\n",
       "      <td>пенсионер</td>\n",
       "      <td>0</td>\n",
       "      <td>NaN</td>\n",
       "      <td>строительство жилой недвижимости</td>\n",
       "    </tr>\n",
       "    <tr>\n",
       "      <td>41</td>\n",
       "      <td>0</td>\n",
       "      <td>NaN</td>\n",
       "      <td>50</td>\n",
       "      <td>среднее</td>\n",
       "      <td>1</td>\n",
       "      <td>женат / замужем</td>\n",
       "      <td>0</td>\n",
       "      <td>F</td>\n",
       "      <td>госслужащий</td>\n",
       "      <td>0</td>\n",
       "      <td>NaN</td>\n",
       "      <td>сделка с подержанным автомобилем</td>\n",
       "    </tr>\n",
       "    <tr>\n",
       "      <td>55</td>\n",
       "      <td>0</td>\n",
       "      <td>NaN</td>\n",
       "      <td>54</td>\n",
       "      <td>среднее</td>\n",
       "      <td>1</td>\n",
       "      <td>гражданский брак</td>\n",
       "      <td>1</td>\n",
       "      <td>F</td>\n",
       "      <td>пенсионер</td>\n",
       "      <td>1</td>\n",
       "      <td>NaN</td>\n",
       "      <td>сыграть свадьбу</td>\n",
       "    </tr>\n",
       "    <tr>\n",
       "      <td>65</td>\n",
       "      <td>0</td>\n",
       "      <td>NaN</td>\n",
       "      <td>21</td>\n",
       "      <td>среднее</td>\n",
       "      <td>1</td>\n",
       "      <td>Не женат / не замужем</td>\n",
       "      <td>4</td>\n",
       "      <td>M</td>\n",
       "      <td>компаньон</td>\n",
       "      <td>0</td>\n",
       "      <td>NaN</td>\n",
       "      <td>операции с коммерческой недвижимостью</td>\n",
       "    </tr>\n",
       "    <tr>\n",
       "      <td>67</td>\n",
       "      <td>0</td>\n",
       "      <td>NaN</td>\n",
       "      <td>52</td>\n",
       "      <td>высшее</td>\n",
       "      <td>0</td>\n",
       "      <td>женат / замужем</td>\n",
       "      <td>0</td>\n",
       "      <td>F</td>\n",
       "      <td>пенсионер</td>\n",
       "      <td>0</td>\n",
       "      <td>NaN</td>\n",
       "      <td>покупка жилья для семьи</td>\n",
       "    </tr>\n",
       "    <tr>\n",
       "      <td>72</td>\n",
       "      <td>1</td>\n",
       "      <td>NaN</td>\n",
       "      <td>32</td>\n",
       "      <td>высшее</td>\n",
       "      <td>0</td>\n",
       "      <td>женат / замужем</td>\n",
       "      <td>0</td>\n",
       "      <td>M</td>\n",
       "      <td>госслужащий</td>\n",
       "      <td>0</td>\n",
       "      <td>NaN</td>\n",
       "      <td>операции с коммерческой недвижимостью</td>\n",
       "    </tr>\n",
       "    <tr>\n",
       "      <td>82</td>\n",
       "      <td>2</td>\n",
       "      <td>NaN</td>\n",
       "      <td>50</td>\n",
       "      <td>высшее</td>\n",
       "      <td>0</td>\n",
       "      <td>женат / замужем</td>\n",
       "      <td>0</td>\n",
       "      <td>F</td>\n",
       "      <td>сотрудник</td>\n",
       "      <td>0</td>\n",
       "      <td>NaN</td>\n",
       "      <td>жилье</td>\n",
       "    </tr>\n",
       "    <tr>\n",
       "      <td>83</td>\n",
       "      <td>0</td>\n",
       "      <td>NaN</td>\n",
       "      <td>52</td>\n",
       "      <td>среднее</td>\n",
       "      <td>1</td>\n",
       "      <td>женат / замужем</td>\n",
       "      <td>0</td>\n",
       "      <td>M</td>\n",
       "      <td>сотрудник</td>\n",
       "      <td>0</td>\n",
       "      <td>NaN</td>\n",
       "      <td>жилье</td>\n",
       "    </tr>\n",
       "  </tbody>\n",
       "</table>\n",
       "</div>"
      ],
      "text/plain": [
       "    children  days_employed  dob_years education  education_id  \\\n",
       "12         0            NaN         65   среднее             1   \n",
       "26         0            NaN         41   среднее             1   \n",
       "29         0            NaN         63   среднее             1   \n",
       "41         0            NaN         50   среднее             1   \n",
       "55         0            NaN         54   среднее             1   \n",
       "65         0            NaN         21   среднее             1   \n",
       "67         0            NaN         52    высшее             0   \n",
       "72         1            NaN         32    высшее             0   \n",
       "82         2            NaN         50    высшее             0   \n",
       "83         0            NaN         52   среднее             1   \n",
       "\n",
       "            family_status  family_status_id gender  income_type  debt  \\\n",
       "12       гражданский брак                 1      M    пенсионер     0   \n",
       "26        женат / замужем                 0      M  госслужащий     0   \n",
       "29  Не женат / не замужем                 4      F    пенсионер     0   \n",
       "41        женат / замужем                 0      F  госслужащий     0   \n",
       "55       гражданский брак                 1      F    пенсионер     1   \n",
       "65  Не женат / не замужем                 4      M    компаньон     0   \n",
       "67        женат / замужем                 0      F    пенсионер     0   \n",
       "72        женат / замужем                 0      M  госслужащий     0   \n",
       "82        женат / замужем                 0      F    сотрудник     0   \n",
       "83        женат / замужем                 0      M    сотрудник     0   \n",
       "\n",
       "    total_income                                purpose  \n",
       "12           NaN                        сыграть свадьбу  \n",
       "26           NaN                            образование  \n",
       "29           NaN       строительство жилой недвижимости  \n",
       "41           NaN       сделка с подержанным автомобилем  \n",
       "55           NaN                        сыграть свадьбу  \n",
       "65           NaN  операции с коммерческой недвижимостью  \n",
       "67           NaN                покупка жилья для семьи  \n",
       "72           NaN  операции с коммерческой недвижимостью  \n",
       "82           NaN                                  жилье  \n",
       "83           NaN                                  жилье  "
      ]
     },
     "execution_count": 9,
     "metadata": {},
     "output_type": "execute_result"
    }
   ],
   "source": [
    "credit_data[credit_data['total_income'].isna()].head(10)"
   ]
  },
  {
   "cell_type": "markdown",
   "metadata": {},
   "source": [
    "Пустые значения в столбиках 'days_employed' и 'total_income' совпадают. "
   ]
  },
  {
   "cell_type": "markdown",
   "metadata": {},
   "source": [
    "**Вывод**"
   ]
  },
  {
   "cell_type": "markdown",
   "metadata": {},
   "source": [
    "При первом взгляде на датафрейм выявляется ряд проблем, которые могут помешать анализу данных: \n",
    "- Отрицательные значения в столбике стажа (days_employed)\n",
    "- Смущение вызывает и дробный формат данных, где подсчёт идёт в целых днях\n",
    "- Стаж пользователя credit_data.loc[4] составляет 932 года\n",
    "- Пустые ячейки в столбиках 'days_employed' и 'total_income'\n",
    "- Разный регистр у одних значений в столбике образования\n",
    "- В графе children есть отрицательные значения и семьи с 20 детьми\n",
    "\n",
    "\n",
    "Строчки с пустыми значениями в столбике 'total_income' и 'days_employed' совпадают. Либо эти клиенты не оставили данные о своём месте работы и уровне зароботка, либо данные потерялись. Клиенты с нулевым уровнем дохода быть не могут, т.к. среди них есть пенсионеры, которые получают гарантированную пенсию от государства.\n",
    "\n",
    "Характер данных в столбике 'days_employed' говорит о том,  что данные импортировались некорректно, однако этот столбик для поставленных задач не нужен.              \n",
    "\n",
    "Процент пропущенных значений на уровне 10%. Не хотелось бы потерять эти данные. Будем менять пустые значения в столбике 'total_income'на медианные по типу дохода. \n",
    "\n",
    "В столбике 'children' содержатся отрицательные значения и строчки, где количество детей 20. Семей с таким количеством детей не может быть много, но в таблице содержится много таких строк, что говорит об опечатке. Скорее всего речь идёт о 2 детях в семье. \n",
    "Отрицательные значения переведем в положительне. \n"
   ]
  },
  {
   "cell_type": "markdown",
   "metadata": {},
   "source": [
    "## Предобработка данных \n",
    "<a id=\"processing\"></a>"
   ]
  },
  {
   "cell_type": "markdown",
   "metadata": {},
   "source": [
    "### Обработка пропусков\n",
    "<a id=\"processing1\"></a>"
   ]
  },
  {
   "cell_type": "code",
   "execution_count": 10,
   "metadata": {},
   "outputs": [],
   "source": [
    "empty_data_list = credit_data[credit_data['total_income'].isna()].income_type.unique()\n",
    "\n",
    "for element in empty_data_list:\n",
    "    median_income = credit_data[credit_data['income_type']==element].total_income.median()\n",
    "    credit_data.loc[credit_data['income_type']==element, 'total_income'] = \\\n",
    "    credit_data.loc[credit_data['income_type']==element, 'total_income'].fillna(median_income)"
   ]
  },
  {
   "cell_type": "markdown",
   "metadata": {},
   "source": [
    "Создали цикл для замены пустых значений медианными по каждому источнику дохода."
   ]
  },
  {
   "cell_type": "code",
   "execution_count": 11,
   "metadata": {},
   "outputs": [
    {
     "name": "stdout",
     "output_type": "stream",
     "text": [
      "<class 'pandas.core.frame.DataFrame'>\n",
      "RangeIndex: 21525 entries, 0 to 21524\n",
      "Data columns (total 12 columns):\n",
      "children            21525 non-null int64\n",
      "days_employed       19351 non-null float64\n",
      "dob_years           21525 non-null int64\n",
      "education           21525 non-null object\n",
      "education_id        21525 non-null int64\n",
      "family_status       21525 non-null object\n",
      "family_status_id    21525 non-null int64\n",
      "gender              21525 non-null object\n",
      "income_type         21525 non-null object\n",
      "debt                21525 non-null int64\n",
      "total_income        21525 non-null float64\n",
      "purpose             21525 non-null object\n",
      "dtypes: float64(2), int64(5), object(5)\n",
      "memory usage: 2.0+ MB\n"
     ]
    }
   ],
   "source": [
    "credit_data.info()"
   ]
  },
  {
   "cell_type": "markdown",
   "metadata": {},
   "source": [
    "Пустых значений в столбике 'total_income' не осталось."
   ]
  },
  {
   "cell_type": "markdown",
   "metadata": {},
   "source": [
    "**Вывод**"
   ]
  },
  {
   "cell_type": "markdown",
   "metadata": {},
   "source": [
    "Мы создали цикл, который определяет пустые значения в колонке 'total_income' и подставляет медианные значения по типу источника дохода. "
   ]
  },
  {
   "cell_type": "markdown",
   "metadata": {},
   "source": [
    "### Замена типа данных\n",
    "<a id=\"processing2\"></a>"
   ]
  },
  {
   "cell_type": "code",
   "execution_count": 12,
   "metadata": {},
   "outputs": [],
   "source": [
    "credit_data.total_income = credit_data.total_income.astype('int')"
   ]
  },
  {
   "cell_type": "code",
   "execution_count": 13,
   "metadata": {},
   "outputs": [],
   "source": [
    "credit_data['children'] = credit_data['children'].apply(abs)"
   ]
  },
  {
   "cell_type": "markdown",
   "metadata": {},
   "source": [
    "Заменили отрицательное значение в графе 'children'"
   ]
  },
  {
   "cell_type": "code",
   "execution_count": 14,
   "metadata": {},
   "outputs": [],
   "source": [
    "credit_data.loc[credit_data['children']==20,'children']=2"
   ]
  },
  {
   "cell_type": "markdown",
   "metadata": {},
   "source": [
    "Присвоили строчкам, в которых было указано 20 детей, значение 2. "
   ]
  },
  {
   "cell_type": "code",
   "execution_count": 15,
   "metadata": {},
   "outputs": [],
   "source": [
    "credit_data.education =credit_data.education.apply(str.lower)\n",
    "credit_data.family_status =credit_data.family_status.apply(str.lower)\n",
    "credit_data.gender =credit_data.gender.apply(str.lower)\n",
    "credit_data.income_type =credit_data.income_type.apply(str.lower)\n",
    "credit_data.purpose =credit_data.purpose.apply(str.lower)"
   ]
  },
  {
   "cell_type": "markdown",
   "metadata": {},
   "source": [
    "<div class=\"alert alert-block alert-info\">\n",
    "Перевёл регистр на нижний во всех столбиках типа object. Теперь нашёл 71 дубликат. "
   ]
  },
  {
   "cell_type": "markdown",
   "metadata": {},
   "source": [
    "**Вывод**"
   ]
  },
  {
   "cell_type": "markdown",
   "metadata": {},
   "source": [
    "Заменили вещественный тип (float64) на целочисленный (int) методом astype() в столбике 'total_income'. \n",
    "Пропустили столбик days_employed, т.к. он не используется для анализа. Обработали ошибки с столбике 'children'"
   ]
  },
  {
   "cell_type": "markdown",
   "metadata": {},
   "source": [
    "### Обработка дубликатов\n",
    "<a id=\"processing3\"></a>"
   ]
  },
  {
   "cell_type": "code",
   "execution_count": 16,
   "metadata": {},
   "outputs": [
    {
     "data": {
      "text/plain": [
       "71"
      ]
     },
     "execution_count": 16,
     "metadata": {},
     "output_type": "execute_result"
    }
   ],
   "source": [
    "credit_data.duplicated().sum()"
   ]
  },
  {
   "cell_type": "markdown",
   "metadata": {},
   "source": [
    "Обнаружили 54 дублирующиеся строки. Удалим их."
   ]
  },
  {
   "cell_type": "code",
   "execution_count": 17,
   "metadata": {},
   "outputs": [
    {
     "name": "stdout",
     "output_type": "stream",
     "text": [
      "<class 'pandas.core.frame.DataFrame'>\n",
      "RangeIndex: 21454 entries, 0 to 21453\n",
      "Data columns (total 12 columns):\n",
      "children            21454 non-null int64\n",
      "days_employed       19351 non-null float64\n",
      "dob_years           21454 non-null int64\n",
      "education           21454 non-null object\n",
      "education_id        21454 non-null int64\n",
      "family_status       21454 non-null object\n",
      "family_status_id    21454 non-null int64\n",
      "gender              21454 non-null object\n",
      "income_type         21454 non-null object\n",
      "debt                21454 non-null int64\n",
      "total_income        21454 non-null int64\n",
      "purpose             21454 non-null object\n",
      "dtypes: float64(1), int64(6), object(5)\n",
      "memory usage: 2.0+ MB\n"
     ]
    }
   ],
   "source": [
    "credit_data = credit_data.drop_duplicates().reset_index(drop=True)\n",
    "credit_data.info()"
   ]
  },
  {
   "cell_type": "markdown",
   "metadata": {},
   "source": [
    "<div class=\"alert alert-block alert-info\">\n",
    "Удалил дубликаты с учетом регистра. "
   ]
  },
  {
   "cell_type": "markdown",
   "metadata": {},
   "source": [
    "**Вывод**"
   ]
  },
  {
   "cell_type": "markdown",
   "metadata": {},
   "source": [
    "Все дублирующиеся значения удалены. Метод drop_duplicates() удаляет из датафрейма повторящиеся строки, при этом у строк остаются прежние индексы. Чтобы проиндексировать строки заново, я использовал метод reset_index() с параметром drop=True, чтобы старые индексы удалились. \n",
    "\n",
    "Скорее всего, причина появляения дубликатов здесь - ошибка на стороне сервера, который задвоил часть хранимых данных.\n"
   ]
  },
  {
   "cell_type": "markdown",
   "metadata": {},
   "source": [
    "### Лемматизация\n",
    "<a id=\"processing4\"></a>"
   ]
  },
  {
   "cell_type": "code",
   "execution_count": 18,
   "metadata": {},
   "outputs": [
    {
     "data": {
      "text/plain": [
       "свадьба                                   791\n",
       "на проведение свадьбы                     768\n",
       "сыграть свадьбу                           765\n",
       "операции с недвижимостью                  675\n",
       "покупка коммерческой недвижимости         661\n",
       "операции с жильем                         652\n",
       "покупка жилья для сдачи                   651\n",
       "операции с коммерческой недвижимостью     650\n",
       "жилье                                     646\n",
       "покупка жилья                             646\n",
       "покупка жилья для семьи                   638\n",
       "строительство собственной недвижимости    635\n",
       "недвижимость                              633\n",
       "операции со своей недвижимостью           627\n",
       "строительство жилой недвижимости          624\n",
       "покупка недвижимости                      621\n",
       "покупка своего жилья                      620\n",
       "строительство недвижимости                619\n",
       "ремонт жилью                              607\n",
       "покупка жилой недвижимости                606\n",
       "на покупку своего автомобиля              505\n",
       "заняться высшим образованием              496\n",
       "автомобиль                                494\n",
       "сделка с подержанным автомобилем          486\n",
       "свой автомобиль                           478\n",
       "автомобили                                478\n",
       "на покупку подержанного автомобиля        478\n",
       "на покупку автомобиля                     471\n",
       "приобретение автомобиля                   461\n",
       "дополнительное образование                460\n",
       "сделка с автомобилем                      455\n",
       "высшее образование                        452\n",
       "образование                               447\n",
       "получение дополнительного образования     446\n",
       "получение образования                     442\n",
       "профильное образование                    436\n",
       "получение высшего образования             426\n",
       "заняться образованием                     408\n",
       "Name: purpose, dtype: int64"
      ]
     },
     "execution_count": 18,
     "metadata": {},
     "output_type": "execute_result"
    }
   ],
   "source": [
    "credit_data.purpose.value_counts()"
   ]
  },
  {
   "cell_type": "code",
   "execution_count": 19,
   "metadata": {},
   "outputs": [
    {
     "data": {
      "text/plain": [
       "Counter({'покупка': 5897,\n",
       "         ' ': 33570,\n",
       "         'жилье': 4460,\n",
       "         '\\n': 21454,\n",
       "         'приобретение': 461,\n",
       "         'автомобиль': 4306,\n",
       "         'дополнительный': 906,\n",
       "         'образование': 4013,\n",
       "         'сыграть': 765,\n",
       "         'свадьба': 2324,\n",
       "         'операция': 2604,\n",
       "         'с': 2918,\n",
       "         'на': 2222,\n",
       "         'проведение': 768,\n",
       "         'для': 1289,\n",
       "         'семья': 638,\n",
       "         'недвижимость': 6351,\n",
       "         'коммерческий': 1311,\n",
       "         'жилой': 1230,\n",
       "         'строительство': 1878,\n",
       "         'собственный': 635,\n",
       "         'подержать': 478,\n",
       "         'свой': 2230,\n",
       "         'со': 627,\n",
       "         'заниматься': 904,\n",
       "         'сделка': 941,\n",
       "         'подержанный': 486,\n",
       "         'получение': 1314,\n",
       "         'высокий': 1374,\n",
       "         'профильный': 436,\n",
       "         'сдача': 651,\n",
       "         'ремонт': 607})"
      ]
     },
     "execution_count": 19,
     "metadata": {},
     "output_type": "execute_result"
    }
   ],
   "source": [
    "lemmas = []\n",
    "for row in range (len(credit_data)):\n",
    "    lemmas += m.lemmatize(credit_data.loc[row,'purpose'])\n",
    "Counter(lemmas)"
   ]
  },
  {
   "cell_type": "markdown",
   "metadata": {},
   "source": [
    "Посчитали частоту встречаемости для каждого слова. Посчитали количество уникальных фраз в столбике 'purpose'.\n",
    "\n",
    "Можно выделить основные цели, для которых берут кредит: \n",
    "   * Проведение свадьбы\n",
    "   * Операциии с недвижимостью\n",
    "   * Получение образования\n",
    "   * Сделка с автомобилем\n",
    "   \n",
    "Далее категоризируем цели приобретения кредита по этим пунктам. "
   ]
  },
  {
   "cell_type": "code",
   "execution_count": 20,
   "metadata": {},
   "outputs": [],
   "source": [
    "def category_purpose(purpose):\n",
    "    lemmed_word = m.lemmatize(purpose)\n",
    "   \n",
    "    for word in lemmed_word: \n",
    "        if word == 'жилье':\n",
    "            return 'операциии с недвижимостью'\n",
    "        if word == 'недвижимость':\n",
    "            return 'операциии с недвижимостью'\n",
    "        if word == 'свадьба':\n",
    "            return 'проведение свадьбы'\n",
    "        if word == 'автомобиль':\n",
    "            return 'сделка с автомобилем'\n",
    "        if word == 'образование':\n",
    "            return 'получение образования'  "
   ]
  },
  {
   "cell_type": "code",
   "execution_count": 21,
   "metadata": {},
   "outputs": [],
   "source": [
    "credit_data['category'] = credit_data['purpose'].apply(category_purpose)"
   ]
  },
  {
   "cell_type": "markdown",
   "metadata": {},
   "source": [
    "Применили полученную функцию к столбику 'purpose'. Результат сохранили в новом столбике 'category'."
   ]
  },
  {
   "cell_type": "code",
   "execution_count": 22,
   "metadata": {},
   "outputs": [
    {
     "data": {
      "text/plain": [
       "операциии с недвижимостью    10811\n",
       "сделка с автомобилем          4306\n",
       "получение образования         4013\n",
       "проведение свадьбы            2324\n",
       "Name: category, dtype: int64"
      ]
     },
     "execution_count": 22,
     "metadata": {},
     "output_type": "execute_result"
    }
   ],
   "source": [
    "credit_data.category.value_counts()"
   ]
  },
  {
   "cell_type": "markdown",
   "metadata": {},
   "source": [
    "Все строчки в новом столбике заполнены. "
   ]
  },
  {
   "cell_type": "markdown",
   "metadata": {},
   "source": [
    "**Вывод**"
   ]
  },
  {
   "cell_type": "markdown",
   "metadata": {},
   "source": [
    "В ходе лемматизации мы разбили столбик 'purpose' по ключевым словам. Мы изучили самые часто встречающиеся слова и просмотрели все фразы. На основании этого мы выделили 4 основные категори целей приобретения кредита и закодировали столбик 'purpose'."
   ]
  },
  {
   "cell_type": "markdown",
   "metadata": {},
   "source": [
    "### Категоризация данных\n",
    "<a id=\"processing5\"></a>"
   ]
  },
  {
   "cell_type": "code",
   "execution_count": 23,
   "metadata": {},
   "outputs": [],
   "source": [
    "def cotegorize_children(children):\n",
    "    if children == 0:\n",
    "        return 'бездетные'\n",
    "    if 0 < children < 3:\n",
    "        return 'малодетные'\n",
    "    if children > 2:\n",
    "        return 'многодетные'"
   ]
  },
  {
   "cell_type": "code",
   "execution_count": 24,
   "metadata": {},
   "outputs": [],
   "source": [
    "credit_data['children_category'] = credit_data['children'].apply(cotegorize_children)"
   ]
  },
  {
   "cell_type": "markdown",
   "metadata": {},
   "source": [
    "Категоризировали клиентов по количеству детей в семье. Использовали следующие деление: 1) бездетные; 2) малодетные; 3) многодетные;"
   ]
  },
  {
   "cell_type": "code",
   "execution_count": 25,
   "metadata": {},
   "outputs": [
    {
     "data": {
      "text/plain": [
       "count      21454.0\n",
       "mean      165320.0\n",
       "std        98187.0\n",
       "min        20667.0\n",
       "25%       107623.0\n",
       "50%       142594.0\n",
       "75%       195820.0\n",
       "max      2265604.0\n",
       "Name: total_income, dtype: float64"
      ]
     },
     "execution_count": 25,
     "metadata": {},
     "output_type": "execute_result"
    }
   ],
   "source": [
    "round(credit_data.total_income.describe())"
   ]
  },
  {
   "cell_type": "markdown",
   "metadata": {},
   "source": [
    "Разобьём пользователей по уровню дохода. Разделим данныепо медиане и 1 и 3 квартели на 4 группы:\n",
    "* Меньше 107654 - \"бедные\"\n",
    "* От 107654 до 142594 - \"ниже_среднего\"\n",
    "* От 142594 до 195768 - \"выше_среднего\"\n",
    "* От 195768 - \"богатые\""
   ]
  },
  {
   "cell_type": "code",
   "execution_count": 26,
   "metadata": {},
   "outputs": [],
   "source": [
    "def cotegorize_income(income):\n",
    "    if income < 107654:\n",
    "        return 'бедные'\n",
    "    if 107654 <= income < 142594:\n",
    "        return 'ниже_среднего'\n",
    "    if 142594 <= income <195768:\n",
    "        return 'выше_среднего'\n",
    "    if income >= 195768:\n",
    "        return 'богатые'"
   ]
  },
  {
   "cell_type": "code",
   "execution_count": 27,
   "metadata": {},
   "outputs": [],
   "source": [
    "credit_data['income_category'] = credit_data['total_income'].apply(cotegorize_income)"
   ]
  },
  {
   "cell_type": "markdown",
   "metadata": {},
   "source": [
    "Категоризировали пользователей по уровню дохода."
   ]
  },
  {
   "cell_type": "code",
   "execution_count": 28,
   "metadata": {},
   "outputs": [
    {
     "data": {
      "text/plain": [
       "children_category\n",
       "бездетные      0.075438\n",
       "малодетные     0.092654\n",
       "многодетные    0.081579\n",
       "Name: debt, dtype: float64"
      ]
     },
     "execution_count": 28,
     "metadata": {},
     "output_type": "execute_result"
    }
   ],
   "source": [
    "children_debt_index = credit_data.groupby('children_category').debt.mean()\n",
    "children_debt_index"
   ]
  },
  {
   "cell_type": "markdown",
   "metadata": {},
   "source": [
    "Посчитали индекс возврата кредитов по категориям наличия детей. "
   ]
  },
  {
   "cell_type": "code",
   "execution_count": 29,
   "metadata": {},
   "outputs": [
    {
     "data": {
      "text/plain": [
       "family_status\n",
       "в разводе                0.071130\n",
       "вдовец / вдова           0.065693\n",
       "гражданский брак         0.093471\n",
       "женат / замужем          0.075452\n",
       "не женат / не замужем    0.097509\n",
       "Name: debt, dtype: float64"
      ]
     },
     "execution_count": 29,
     "metadata": {},
     "output_type": "execute_result"
    }
   ],
   "source": [
    "family_debt_index = credit_data.groupby('family_status').debt.mean()\n",
    "family_debt_index"
   ]
  },
  {
   "cell_type": "code",
   "execution_count": 30,
   "metadata": {},
   "outputs": [
    {
     "data": {
      "text/plain": [
       "income_category\n",
       "бедные           0.079545\n",
       "богатые          0.071349\n",
       "выше_среднего    0.086488\n",
       "ниже_среднего    0.087401\n",
       "Name: debt, dtype: float64"
      ]
     },
     "execution_count": 30,
     "metadata": {},
     "output_type": "execute_result"
    }
   ],
   "source": [
    "income_debt_index = credit_data.groupby('income_category').debt.mean()\n",
    "income_debt_index"
   ]
  },
  {
   "cell_type": "code",
   "execution_count": 31,
   "metadata": {},
   "outputs": [
    {
     "data": {
      "text/plain": [
       "category\n",
       "операциии с недвижимостью    0.072334\n",
       "получение образования        0.092200\n",
       "проведение свадьбы           0.080034\n",
       "сделка с автомобилем         0.093590\n",
       "Name: debt, dtype: float64"
      ]
     },
     "execution_count": 31,
     "metadata": {},
     "output_type": "execute_result"
    }
   ],
   "source": [
    "purpose_debt_index = credit_data.groupby('category').debt.mean()\n",
    "purpose_debt_index"
   ]
  },
  {
   "cell_type": "markdown",
   "metadata": {},
   "source": [
    "**Вывод**"
   ]
  },
  {
   "cell_type": "markdown",
   "metadata": {},
   "source": [
    "В ходе этого этапе мы создали категории по уровню дохода и наличию детей. Далее мы рассчитали индекс возврата кредитов для разных категорий клиентов: по семейному статусу, по наличию детей, по уровню дохода, по цели кредита. "
   ]
  },
  {
   "cell_type": "markdown",
   "metadata": {},
   "source": [
    "## Подсчёт индекса. Поиск зависимостей\n",
    "<a id=\"сoun_of_index\"></a>"
   ]
  },
  {
   "cell_type": "markdown",
   "metadata": {},
   "source": [
    "**1) Есть ли зависимость между наличием детей и возвратом кредита в срок?**"
   ]
  },
  {
   "cell_type": "code",
   "execution_count": 32,
   "metadata": {},
   "outputs": [
    {
     "data": {
      "text/plain": [
       "children_category\n",
       "бездетные      0.075438\n",
       "малодетные     0.092654\n",
       "многодетные    0.081579\n",
       "Name: debt, dtype: float64"
      ]
     },
     "execution_count": 32,
     "metadata": {},
     "output_type": "execute_result"
    }
   ],
   "source": [
    "children_debt_index"
   ]
  },
  {
   "cell_type": "markdown",
   "metadata": {},
   "source": [
    "**Вывод**"
   ]
  },
  {
   "cell_type": "markdown",
   "metadata": {},
   "source": [
    "Зависимость между наличием детей и возвратом кредита прослеживается. Клиенты без детей реже имеют задолженности по возврату кредитов. \n",
    "\n",
    "Бездетные чаще отдают кредиты, т.к. они менее финансово нагружены. \n",
    "\n",
    "При этом среди родителей чаще возвращают кредиты в срок те, кто имеет 3 и более ребенка. Это связано с тем, что 3 ребенок и выше чаще появляются после 30 лет, когда финансовое положение семьи стабильное."
   ]
  },
  {
   "cell_type": "markdown",
   "metadata": {},
   "source": [
    "**2) Есть ли зависимость между уровнем дохода и возвратом кредита в срок?**"
   ]
  },
  {
   "cell_type": "code",
   "execution_count": 33,
   "metadata": {},
   "outputs": [
    {
     "data": {
      "text/plain": [
       "income_category\n",
       "бедные           0.079545\n",
       "богатые          0.071349\n",
       "выше_среднего    0.086488\n",
       "ниже_среднего    0.087401\n",
       "Name: debt, dtype: float64"
      ]
     },
     "execution_count": 33,
     "metadata": {},
     "output_type": "execute_result"
    }
   ],
   "source": [
    "income_debt_index"
   ]
  },
  {
   "cell_type": "markdown",
   "metadata": {},
   "source": [
    "**Вывод**"
   ]
  },
  {
   "cell_type": "markdown",
   "metadata": {},
   "source": [
    "Зависимость в уровне дохода тоже прослеживается - чаще кредиты всрок возвращают бедные и богатые клиенты. \n",
    "\n",
    "Как ни странно, пользователи со средним уровнем дохода чаще задерживают выплоты по кредиту. Это может быть связано с тем, что в данной категории людей люди меньше бояться брать кредиты, но иногда могут плохо рассчитывать свои силы и не выплачивать в срок.  \n",
    "\n",
    "Бедные же берут кредиты в крайних случаях под жизненно необходимые вещи. Они осознают угрозу, что могут невплатить кредит в срок и поэтому тщательно обдумывают такое решение. \n",
    "\n",
    "В целом же индекс по категориям уровня дохода отличается не сильно. "
   ]
  },
  {
   "cell_type": "markdown",
   "metadata": {},
   "source": [
    "**3) Как разные цели кредита влияют на его возврат в срок?**"
   ]
  },
  {
   "cell_type": "code",
   "execution_count": 34,
   "metadata": {},
   "outputs": [
    {
     "data": {
      "text/plain": [
       "category\n",
       "операциии с недвижимостью    0.072334\n",
       "получение образования        0.092200\n",
       "проведение свадьбы           0.080034\n",
       "сделка с автомобилем         0.093590\n",
       "Name: debt, dtype: float64"
      ]
     },
     "execution_count": 34,
     "metadata": {},
     "output_type": "execute_result"
    }
   ],
   "source": [
    "purpose_debt_index"
   ]
  },
  {
   "cell_type": "markdown",
   "metadata": {},
   "source": [
    "**Вывод**"
   ]
  },
  {
   "cell_type": "markdown",
   "metadata": {},
   "source": [
    "Хуже отдают кредит, взятые с целью получить образование и на покупку автомобиля. \n",
    "\n",
    "При получении образования это говорит о том, что люди либо ещё в поисках работы либо хотят сменить профессию. Это говорит об их неустойчивом финансовом положении. \n",
    "\n",
    "Автомобиль же в России является показателем статуса, и многие люди приобретают его в кредит, желая поднять свой социальный статус, однако не имея для этого финансовых возможностей. \n",
    "\n",
    "На свадьбы берут не такие большие суммы, чтобы их было сложно возвращать. И в России принято дарить деньги на свадьбу, что создаёт финансовую подушку после её проведения, поэтому меньше сложностей с выплатой кредита после. \n",
    "\n",
    "При операциях с недвижимостью гарантией выплаты кредита является приобретаемая собственность, поэтому люди, берущие кредит с этой целью, больше мотивированы его отдать. "
   ]
  },
  {
   "cell_type": "markdown",
   "metadata": {},
   "source": [
    "**4) Есть ли зависимость между семейным положением и возвратом кредита в срок?**"
   ]
  },
  {
   "cell_type": "code",
   "execution_count": 35,
   "metadata": {},
   "outputs": [
    {
     "data": {
      "text/plain": [
       "family_status\n",
       "в разводе                0.071130\n",
       "вдовец / вдова           0.065693\n",
       "гражданский брак         0.093471\n",
       "женат / замужем          0.075452\n",
       "не женат / не замужем    0.097509\n",
       "Name: debt, dtype: float64"
      ]
     },
     "execution_count": 35,
     "metadata": {},
     "output_type": "execute_result"
    }
   ],
   "source": [
    "family_debt_index"
   ]
  },
  {
   "cell_type": "markdown",
   "metadata": {},
   "source": [
    "**Вывод**"
   ]
  },
  {
   "cell_type": "markdown",
   "metadata": {},
   "source": [
    "Клиенты, кто сейчас находится или был в официальном браке чаще отдают кредиты, чем те, кто не женат/не замужем или разведен. \n",
    "\n",
    "Супруги несут юридические обязательства друг за друга при выплате кредита и поэтому больше помогают своим половинкам. \n",
    "Также можно добавить, что у супругов выше уровень ответственности друг за друга, т.к. они являются семьей. \n",
    "\n",
    "Вдовцы и люди в разводе более возрастные, могут иметь детей, внуков, которые помогают им с выплатой кредита. \n",
    "\n",
    "Не женатые/ в гражданском браке чаще молодежь, уровень дохода которой ниже."
   ]
  },
  {
   "cell_type": "markdown",
   "metadata": {},
   "source": [
    "## Общий вывод\n",
    "<a id=\"conclusion\"></a>"
   ]
  },
  {
   "cell_type": "markdown",
   "metadata": {},
   "source": [
    "<div class=\"alert alert-block alert-info\">\n",
    "В ходе анализа был составлен индекс оценки возвращаемости кредитов. В индексе 0 означает, что ни один клиент в группе не имел задолженностей с выплатой кредита, 1 - все клиенты из группы имели задолженности. Данные индекс был подсчитан для разных категорий клиентов.<br>\n",
    "    <br>\n",
    "Клиенты были разделены на группы на основании разных параметров: <br>\n",
    "        * По наличию детей;<br> \n",
    "        * По уровню дохода;  <br>\n",
    "        * По семейному положению;  <br>\n",
    "        * По цели получения кредита;  <br>\n",
    "    <br>\n",
    "    По <b>наличию детей</b> клиенты были разделены на 3 категории:<br> 1) бездетные (0 детей); <br>2) малодетные (1-2); <br>3) многодетные;<br>\n",
    "    <br>\n",
    "    По <b>уровню дохода</b> на 4: <br> 1) бедные; <br> 2) ниже среднего; <br> 3) выше среднего; <br> 4) богатые;<br>\n",
    "    <br>\n",
    "    По <b>семейному положению</b> использовали предложенное деление: <br> 1) в разводе; <br>2) вдовец/вдова;<br> 3) гражданский брак; <br> 4) женат/замужем;<br> 5) не женат/не замужем;<br>\n",
    "    <br>\n",
    "    По <b>цели получения кредита</b> произвели лемматизацию и раздели клиентов на 4 категории: <br> 1) покупка жилья;<br> 2) сделка с автомобилем; <br> 3) получение образования; <br> 4) проведение свадьбы;<br>\n",
    "    <br>\n",
    "    В ходе исследования мы сделали выводы, что <b>семейное положение, наличие детей и цель получения кредита значительно влияют</b> на его возвращаемость. <b>Уровень дохода</b> также влиет на возвращаемость кредита, но в меньшей степени.<br>\n",
    "    <br>\n",
    "    <b>Наиболее надежной</b> группой являются люди, которые находятся или находились в браке, которые берут кредит с целью приобретения недвижимости. Среди них будут в приоритете те, кто не имеет детей, т.к. они несут меньшуют финансовую нагрузку.  Чуть менее надежными являются многодетные семьи с 3 и более детьми, т.к. это уже люди старшего возраста с более стабильными источниками дохода. Таким образом большее внимание нужно уделять следующим категориям людей: 1) молодые семьи без детей; 2) семьи с 3 и более детьми; <br> \n",
    "    <br>\n",
    "    <b>Менее надежной</b> является группа неженатых, бездетных, берущих кредит на проведение свадьбы. В России принято дарить деньги на свадьбу, что создаёт финансовую подушку после её проведения. <br>\n",
    "    <br>\n",
    "    <b>Наиболее опасной</b> является группа неженатых/незамужних клиентов, клиентов живущих в гражданском браке, имеющих 1-2 детей, берущих кредит для получения образования либо на покупку автомобиля. Получение образования говорит о том, что клиент либо ещё не имеет работы, либо пытается её сменить, что означет нестабильность его финансового положения. Автомобиль является элементом статуса, и люди часто пытатся его поднять, не имея на это возможности. Первые дети появляются в раннем возрасте, когда люди только начинают свою карьеру и ещё не достигают пика зароботка. Люди не в браке не имеют той поддержки с небес, которая посылается праведным семьям, создавшим брак в лоне церкви. Шутка:)<br>\n",
    "    <br>"
   ]
  },
  {
   "cell_type": "code",
   "execution_count": null,
   "metadata": {},
   "outputs": [],
   "source": []
  }
 ],
 "metadata": {
  "ExecuteTimeLog": [
   {
    "duration": 712,
    "start_time": "2021-07-02T13:02:48.169Z"
   },
   {
    "duration": 708,
    "start_time": "2021-07-02T13:03:06.906Z"
   },
   {
    "duration": 706,
    "start_time": "2021-07-02T13:04:36.457Z"
   },
   {
    "duration": 836,
    "start_time": "2021-07-02T13:04:46.197Z"
   },
   {
    "duration": 98,
    "start_time": "2021-07-02T13:04:57.103Z"
   },
   {
    "duration": 132,
    "start_time": "2021-07-02T13:05:03.939Z"
   },
   {
    "duration": 73,
    "start_time": "2021-07-02T13:10:24.262Z"
   },
   {
    "duration": 77,
    "start_time": "2021-07-02T13:10:40.138Z"
   },
   {
    "duration": 14,
    "start_time": "2021-07-02T13:10:59.151Z"
   },
   {
    "duration": 361,
    "start_time": "2021-07-02T13:11:23.509Z"
   },
   {
    "duration": 6,
    "start_time": "2021-07-02T13:11:26.175Z"
   },
   {
    "duration": 5,
    "start_time": "2021-07-02T13:21:40.013Z"
   },
   {
    "duration": 5,
    "start_time": "2021-07-02T13:23:09.244Z"
   },
   {
    "duration": 5,
    "start_time": "2021-07-02T13:23:24.891Z"
   },
   {
    "duration": 283,
    "start_time": "2021-07-02T13:29:54.003Z"
   },
   {
    "duration": 12,
    "start_time": "2021-07-02T13:30:09.890Z"
   },
   {
    "duration": 298,
    "start_time": "2021-07-02T13:30:52.716Z"
   },
   {
    "duration": 15,
    "start_time": "2021-07-02T13:31:13.011Z"
   },
   {
    "duration": 283,
    "start_time": "2021-07-02T13:31:26.999Z"
   },
   {
    "duration": 93,
    "start_time": "2021-07-02T13:31:57.480Z"
   },
   {
    "duration": 35,
    "start_time": "2021-07-02T13:32:05.070Z"
   },
   {
    "duration": 21,
    "start_time": "2021-07-02T13:36:48.992Z"
   },
   {
    "duration": 21,
    "start_time": "2021-07-02T13:38:11.736Z"
   },
   {
    "duration": 23,
    "start_time": "2021-07-02T13:47:02.628Z"
   },
   {
    "duration": 5,
    "start_time": "2021-07-02T13:47:04.942Z"
   },
   {
    "duration": 11,
    "start_time": "2021-07-02T13:47:58.969Z"
   },
   {
    "duration": 10,
    "start_time": "2021-07-02T13:48:23.378Z"
   },
   {
    "duration": 31,
    "start_time": "2021-07-02T13:50:50.405Z"
   },
   {
    "duration": 262,
    "start_time": "2021-07-02T13:53:10.730Z"
   },
   {
    "duration": 265,
    "start_time": "2021-07-02T13:53:18.942Z"
   },
   {
    "duration": 22,
    "start_time": "2021-07-02T13:53:39.483Z"
   },
   {
    "duration": 5,
    "start_time": "2021-07-02T14:04:51.452Z"
   },
   {
    "duration": 23,
    "start_time": "2021-07-02T14:10:04.994Z"
   },
   {
    "duration": 287,
    "start_time": "2021-07-02T14:10:50.799Z"
   },
   {
    "duration": 27,
    "start_time": "2021-07-02T14:11:50.267Z"
   },
   {
    "duration": 35,
    "start_time": "2021-07-02T14:12:41.747Z"
   },
   {
    "duration": 26,
    "start_time": "2021-07-02T14:12:53.019Z"
   },
   {
    "duration": 11,
    "start_time": "2021-07-02T14:14:06.563Z"
   },
   {
    "duration": 8,
    "start_time": "2021-07-02T14:15:22.927Z"
   },
   {
    "duration": 10,
    "start_time": "2021-07-02T14:16:04.730Z"
   },
   {
    "duration": 11,
    "start_time": "2021-07-02T14:16:20.086Z"
   },
   {
    "duration": 13,
    "start_time": "2021-07-02T14:17:33.020Z"
   },
   {
    "duration": 11,
    "start_time": "2021-07-02T14:19:20.357Z"
   },
   {
    "duration": 9,
    "start_time": "2021-07-02T14:19:26.689Z"
   },
   {
    "duration": 11,
    "start_time": "2021-07-02T14:20:10.875Z"
   },
   {
    "duration": 9,
    "start_time": "2021-07-02T14:20:16.654Z"
   },
   {
    "duration": 6,
    "start_time": "2021-07-02T14:22:35.407Z"
   },
   {
    "duration": 11,
    "start_time": "2021-07-02T14:24:22.132Z"
   },
   {
    "duration": 10,
    "start_time": "2021-07-02T14:25:02.887Z"
   },
   {
    "duration": 8,
    "start_time": "2021-07-02T14:25:10.598Z"
   },
   {
    "duration": 7,
    "start_time": "2021-07-02T14:27:42.692Z"
   },
   {
    "duration": 9,
    "start_time": "2021-07-02T14:27:46.306Z"
   },
   {
    "duration": 8,
    "start_time": "2021-07-02T14:27:53.253Z"
   },
   {
    "duration": 10,
    "start_time": "2021-07-02T14:28:09.047Z"
   },
   {
    "duration": 9,
    "start_time": "2021-07-02T14:29:16.312Z"
   },
   {
    "duration": 13,
    "start_time": "2021-07-02T14:29:19.808Z"
   },
   {
    "duration": 9,
    "start_time": "2021-07-02T14:29:25.348Z"
   },
   {
    "duration": 128,
    "start_time": "2021-07-05T07:26:20.734Z"
   },
   {
    "duration": 114,
    "start_time": "2021-07-05T07:27:38.431Z"
   },
   {
    "duration": 127,
    "start_time": "2021-07-05T07:31:10.150Z"
   },
   {
    "duration": 404,
    "start_time": "2021-07-05T07:32:13.743Z"
   },
   {
    "duration": 865,
    "start_time": "2021-07-05T07:32:30.368Z"
   },
   {
    "duration": 16,
    "start_time": "2021-07-05T07:32:31.236Z"
   },
   {
    "duration": 11,
    "start_time": "2021-07-05T07:32:31.261Z"
   },
   {
    "duration": 15,
    "start_time": "2021-07-05T07:32:31.275Z"
   },
   {
    "duration": 26,
    "start_time": "2021-07-05T07:32:31.293Z"
   },
   {
    "duration": 10,
    "start_time": "2021-07-05T07:32:31.321Z"
   },
   {
    "duration": 9,
    "start_time": "2021-07-05T07:32:31.363Z"
   },
   {
    "duration": 9,
    "start_time": "2021-07-05T07:32:31.375Z"
   },
   {
    "duration": 18,
    "start_time": "2021-07-05T07:32:31.386Z"
   },
   {
    "duration": 21,
    "start_time": "2021-07-05T07:32:31.407Z"
   },
   {
    "duration": 21,
    "start_time": "2021-07-05T07:34:39.976Z"
   },
   {
    "duration": 10,
    "start_time": "2021-07-05T07:35:50.889Z"
   },
   {
    "duration": 10,
    "start_time": "2021-07-05T07:36:00.414Z"
   },
   {
    "duration": 8,
    "start_time": "2021-07-05T07:36:06.057Z"
   },
   {
    "duration": 11,
    "start_time": "2021-07-05T07:36:12.514Z"
   },
   {
    "duration": 9,
    "start_time": "2021-07-05T07:36:19.532Z"
   },
   {
    "duration": 11,
    "start_time": "2021-07-05T07:36:27.482Z"
   },
   {
    "duration": 10,
    "start_time": "2021-07-05T07:36:31.978Z"
   },
   {
    "duration": 9,
    "start_time": "2021-07-05T07:36:35.922Z"
   },
   {
    "duration": 7,
    "start_time": "2021-07-05T07:36:41.852Z"
   },
   {
    "duration": 8,
    "start_time": "2021-07-05T07:37:20.622Z"
   },
   {
    "duration": 12,
    "start_time": "2021-07-05T07:39:15.976Z"
   },
   {
    "duration": 29,
    "start_time": "2021-07-05T07:40:38.370Z"
   },
   {
    "duration": 20,
    "start_time": "2021-07-05T07:42:25.398Z"
   },
   {
    "duration": 439,
    "start_time": "2021-07-05T07:43:46.344Z"
   },
   {
    "duration": 14,
    "start_time": "2021-07-05T07:44:03.532Z"
   },
   {
    "duration": 404,
    "start_time": "2021-07-05T07:46:52.702Z"
   },
   {
    "duration": 21,
    "start_time": "2021-07-05T07:47:06.593Z"
   },
   {
    "duration": 10,
    "start_time": "2021-07-05T07:47:32.401Z"
   },
   {
    "duration": 67,
    "start_time": "2021-07-05T07:47:50.161Z"
   },
   {
    "duration": 15,
    "start_time": "2021-07-05T07:47:59.696Z"
   },
   {
    "duration": 57,
    "start_time": "2021-07-05T07:48:02.886Z"
   },
   {
    "duration": 11,
    "start_time": "2021-07-05T07:48:07.980Z"
   },
   {
    "duration": 43,
    "start_time": "2021-07-05T07:48:11.249Z"
   },
   {
    "duration": 19,
    "start_time": "2021-07-05T07:49:21.357Z"
   },
   {
    "duration": 12,
    "start_time": "2021-07-05T07:49:30.216Z"
   },
   {
    "duration": 86,
    "start_time": "2021-07-05T07:49:37.995Z"
   },
   {
    "duration": 15,
    "start_time": "2021-07-05T07:49:38.085Z"
   },
   {
    "duration": 13,
    "start_time": "2021-07-05T07:49:38.104Z"
   },
   {
    "duration": 55,
    "start_time": "2021-07-05T07:49:38.121Z"
   },
   {
    "duration": 32,
    "start_time": "2021-07-05T07:49:38.179Z"
   },
   {
    "duration": 8,
    "start_time": "2021-07-05T07:49:38.214Z"
   },
   {
    "duration": 14,
    "start_time": "2021-07-05T07:49:38.225Z"
   },
   {
    "duration": 26,
    "start_time": "2021-07-05T07:49:38.242Z"
   },
   {
    "duration": 11,
    "start_time": "2021-07-05T07:49:38.272Z"
   },
   {
    "duration": 18,
    "start_time": "2021-07-05T07:49:38.285Z"
   },
   {
    "duration": 15,
    "start_time": "2021-07-05T07:49:38.305Z"
   },
   {
    "duration": 12,
    "start_time": "2021-07-05T07:49:53.719Z"
   },
   {
    "duration": 22,
    "start_time": "2021-07-05T07:50:15.477Z"
   },
   {
    "duration": 34,
    "start_time": "2021-07-05T07:52:05.932Z"
   },
   {
    "duration": 60,
    "start_time": "2021-07-05T07:52:33.553Z"
   },
   {
    "duration": 39,
    "start_time": "2021-07-05T07:52:38.387Z"
   },
   {
    "duration": 11,
    "start_time": "2021-07-05T07:52:52.209Z"
   },
   {
    "duration": 13,
    "start_time": "2021-07-05T07:55:19.659Z"
   },
   {
    "duration": 78,
    "start_time": "2021-07-05T07:59:47.667Z"
   },
   {
    "duration": 27,
    "start_time": "2021-07-05T07:59:47.748Z"
   },
   {
    "duration": 17,
    "start_time": "2021-07-05T07:59:47.779Z"
   },
   {
    "duration": 13,
    "start_time": "2021-07-05T07:59:47.800Z"
   },
   {
    "duration": 68,
    "start_time": "2021-07-05T07:59:47.815Z"
   },
   {
    "duration": 11,
    "start_time": "2021-07-05T07:59:47.886Z"
   },
   {
    "duration": 11,
    "start_time": "2021-07-05T07:59:47.899Z"
   },
   {
    "duration": 48,
    "start_time": "2021-07-05T07:59:47.914Z"
   },
   {
    "duration": 9,
    "start_time": "2021-07-05T07:59:47.965Z"
   },
   {
    "duration": 9,
    "start_time": "2021-07-05T07:59:47.977Z"
   },
   {
    "duration": 14,
    "start_time": "2021-07-05T07:59:47.989Z"
   },
   {
    "duration": 7,
    "start_time": "2021-07-05T07:59:48.005Z"
   },
   {
    "duration": 10,
    "start_time": "2021-07-05T07:59:48.015Z"
   },
   {
    "duration": 8,
    "start_time": "2021-07-05T07:59:48.063Z"
   },
   {
    "duration": 9,
    "start_time": "2021-07-05T07:59:48.075Z"
   },
   {
    "duration": 18,
    "start_time": "2021-07-05T07:59:48.088Z"
   },
   {
    "duration": 83,
    "start_time": "2021-07-05T08:28:25.716Z"
   },
   {
    "duration": 17,
    "start_time": "2021-07-05T08:28:25.802Z"
   },
   {
    "duration": 40,
    "start_time": "2021-07-05T08:28:25.823Z"
   },
   {
    "duration": 9,
    "start_time": "2021-07-05T08:28:25.866Z"
   },
   {
    "duration": 30,
    "start_time": "2021-07-05T08:28:25.878Z"
   },
   {
    "duration": 8,
    "start_time": "2021-07-05T08:28:25.910Z"
   },
   {
    "duration": 43,
    "start_time": "2021-07-05T08:28:25.921Z"
   },
   {
    "duration": 11,
    "start_time": "2021-07-05T08:28:25.968Z"
   },
   {
    "duration": 9,
    "start_time": "2021-07-05T08:28:25.981Z"
   },
   {
    "duration": 7,
    "start_time": "2021-07-05T08:28:25.992Z"
   },
   {
    "duration": 11,
    "start_time": "2021-07-05T08:28:26.002Z"
   },
   {
    "duration": 5411,
    "start_time": "2021-07-05T08:28:26.015Z"
   },
   {
    "duration": -160,
    "start_time": "2021-07-05T08:28:31.589Z"
   },
   {
    "duration": -165,
    "start_time": "2021-07-05T08:28:31.596Z"
   },
   {
    "duration": -168,
    "start_time": "2021-07-05T08:28:31.601Z"
   },
   {
    "duration": -172,
    "start_time": "2021-07-05T08:28:31.607Z"
   },
   {
    "duration": 337,
    "start_time": "2021-07-05T08:28:31.613Z"
   },
   {
    "duration": 3968,
    "start_time": "2021-07-05T08:29:08.208Z"
   },
   {
    "duration": 77,
    "start_time": "2021-07-05T08:29:14.823Z"
   },
   {
    "duration": 13,
    "start_time": "2021-07-05T08:29:14.903Z"
   },
   {
    "duration": 42,
    "start_time": "2021-07-05T08:29:14.919Z"
   },
   {
    "duration": 11,
    "start_time": "2021-07-05T08:29:14.965Z"
   },
   {
    "duration": 25,
    "start_time": "2021-07-05T08:29:14.979Z"
   },
   {
    "duration": 18,
    "start_time": "2021-07-05T08:29:15.007Z"
   },
   {
    "duration": 40,
    "start_time": "2021-07-05T08:29:15.028Z"
   },
   {
    "duration": 12,
    "start_time": "2021-07-05T08:29:15.073Z"
   },
   {
    "duration": 14,
    "start_time": "2021-07-05T08:29:15.088Z"
   },
   {
    "duration": 16,
    "start_time": "2021-07-05T08:29:15.105Z"
   },
   {
    "duration": 14,
    "start_time": "2021-07-05T08:29:15.123Z"
   },
   {
    "duration": 11,
    "start_time": "2021-07-05T08:29:15.163Z"
   },
   {
    "duration": 10,
    "start_time": "2021-07-05T08:29:15.176Z"
   },
   {
    "duration": 14,
    "start_time": "2021-07-05T08:29:15.189Z"
   },
   {
    "duration": 7,
    "start_time": "2021-07-05T08:29:15.206Z"
   },
   {
    "duration": 50,
    "start_time": "2021-07-05T08:29:15.215Z"
   },
   {
    "duration": 32,
    "start_time": "2021-07-05T08:49:08.007Z"
   },
   {
    "duration": 25,
    "start_time": "2021-07-05T08:49:35.694Z"
   },
   {
    "duration": 79,
    "start_time": "2021-07-05T08:49:43.458Z"
   },
   {
    "duration": 104,
    "start_time": "2021-07-05T08:49:48.095Z"
   },
   {
    "duration": 21,
    "start_time": "2021-07-05T08:49:48.202Z"
   },
   {
    "duration": 35,
    "start_time": "2021-07-05T08:49:48.227Z"
   },
   {
    "duration": 14,
    "start_time": "2021-07-05T08:49:48.266Z"
   },
   {
    "duration": 23,
    "start_time": "2021-07-05T08:49:48.283Z"
   },
   {
    "duration": 10,
    "start_time": "2021-07-05T08:49:48.310Z"
   },
   {
    "duration": 47,
    "start_time": "2021-07-05T08:49:48.322Z"
   },
   {
    "duration": 10,
    "start_time": "2021-07-05T08:49:48.375Z"
   },
   {
    "duration": 10,
    "start_time": "2021-07-05T08:49:48.388Z"
   },
   {
    "duration": 11,
    "start_time": "2021-07-05T08:49:48.400Z"
   },
   {
    "duration": 52,
    "start_time": "2021-07-05T08:49:48.414Z"
   },
   {
    "duration": 12,
    "start_time": "2021-07-05T08:49:48.469Z"
   },
   {
    "duration": 17,
    "start_time": "2021-07-05T08:49:48.483Z"
   },
   {
    "duration": 16,
    "start_time": "2021-07-05T08:49:48.503Z"
   },
   {
    "duration": 20,
    "start_time": "2021-07-05T08:49:48.522Z"
   },
   {
    "duration": 38,
    "start_time": "2021-07-05T08:49:48.544Z"
   },
   {
    "duration": 33,
    "start_time": "2021-07-05T08:49:48.585Z"
   },
   {
    "duration": 76,
    "start_time": "2021-07-05T08:50:00.059Z"
   },
   {
    "duration": 15,
    "start_time": "2021-07-05T08:50:06.246Z"
   },
   {
    "duration": 10,
    "start_time": "2021-07-05T08:50:10.627Z"
   },
   {
    "duration": 10,
    "start_time": "2021-07-05T08:50:16.436Z"
   },
   {
    "duration": 22,
    "start_time": "2021-07-05T08:50:26.123Z"
   },
   {
    "duration": 9,
    "start_time": "2021-07-05T08:50:33.298Z"
   },
   {
    "duration": 9,
    "start_time": "2021-07-05T08:50:35.243Z"
   },
   {
    "duration": 10,
    "start_time": "2021-07-05T08:50:37.192Z"
   },
   {
    "duration": 8,
    "start_time": "2021-07-05T08:50:38.992Z"
   },
   {
    "duration": 7,
    "start_time": "2021-07-05T08:50:40.837Z"
   },
   {
    "duration": 9,
    "start_time": "2021-07-05T08:50:43.453Z"
   },
   {
    "duration": 10,
    "start_time": "2021-07-05T08:50:45.623Z"
   },
   {
    "duration": 12,
    "start_time": "2021-07-05T08:50:47.459Z"
   },
   {
    "duration": 9,
    "start_time": "2021-07-05T08:50:49.688Z"
   },
   {
    "duration": 9,
    "start_time": "2021-07-05T08:50:51.416Z"
   },
   {
    "duration": 14,
    "start_time": "2021-07-05T08:50:53.894Z"
   },
   {
    "duration": 32,
    "start_time": "2021-07-05T08:50:58.269Z"
   },
   {
    "duration": 78,
    "start_time": "2021-07-05T08:51:08.927Z"
   },
   {
    "duration": 349,
    "start_time": "2021-07-05T08:51:46.001Z"
   },
   {
    "duration": 21,
    "start_time": "2021-07-05T08:51:51.442Z"
   },
   {
    "duration": 20,
    "start_time": "2021-07-05T08:51:54.754Z"
   },
   {
    "duration": 9,
    "start_time": "2021-07-05T08:52:53.438Z"
   },
   {
    "duration": 19,
    "start_time": "2021-07-05T08:53:08.909Z"
   },
   {
    "duration": 13,
    "start_time": "2021-07-05T08:55:44.083Z"
   },
   {
    "duration": 20,
    "start_time": "2021-07-05T08:55:47.727Z"
   },
   {
    "duration": 114,
    "start_time": "2021-07-05T08:55:56.187Z"
   },
   {
    "duration": 24,
    "start_time": "2021-07-05T08:55:56.305Z"
   },
   {
    "duration": 35,
    "start_time": "2021-07-05T08:55:56.333Z"
   },
   {
    "duration": 14,
    "start_time": "2021-07-05T08:55:56.372Z"
   },
   {
    "duration": 21,
    "start_time": "2021-07-05T08:55:56.389Z"
   },
   {
    "duration": 9,
    "start_time": "2021-07-05T08:55:56.413Z"
   },
   {
    "duration": 47,
    "start_time": "2021-07-05T08:55:56.424Z"
   },
   {
    "duration": 16,
    "start_time": "2021-07-05T08:55:56.476Z"
   },
   {
    "duration": 17,
    "start_time": "2021-07-05T08:55:56.496Z"
   },
   {
    "duration": 10,
    "start_time": "2021-07-05T08:55:56.516Z"
   },
   {
    "duration": 38,
    "start_time": "2021-07-05T08:55:56.529Z"
   },
   {
    "duration": 36,
    "start_time": "2021-07-05T08:55:56.569Z"
   },
   {
    "duration": 20,
    "start_time": "2021-07-05T08:55:56.607Z"
   },
   {
    "duration": 68,
    "start_time": "2021-07-05T08:55:56.630Z"
   },
   {
    "duration": 36,
    "start_time": "2021-07-05T08:56:36.220Z"
   },
   {
    "duration": 35,
    "start_time": "2021-07-05T08:57:04.317Z"
   },
   {
    "duration": 11,
    "start_time": "2021-07-05T08:57:55.631Z"
   },
   {
    "duration": 36,
    "start_time": "2021-07-05T08:57:59.103Z"
   },
   {
    "duration": 38,
    "start_time": "2021-07-05T08:59:10.691Z"
   },
   {
    "duration": 35,
    "start_time": "2021-07-05T08:59:20.547Z"
   },
   {
    "duration": 30,
    "start_time": "2021-07-05T08:59:34.656Z"
   },
   {
    "duration": 13,
    "start_time": "2021-07-05T09:00:05.273Z"
   },
   {
    "duration": 38,
    "start_time": "2021-07-05T09:00:16.734Z"
   },
   {
    "duration": 10,
    "start_time": "2021-07-05T09:00:36.910Z"
   },
   {
    "duration": 54,
    "start_time": "2021-07-05T09:00:40.197Z"
   },
   {
    "duration": 10,
    "start_time": "2021-07-05T09:00:58.113Z"
   },
   {
    "duration": 38,
    "start_time": "2021-07-05T09:01:00.006Z"
   },
   {
    "duration": 11,
    "start_time": "2021-07-05T09:01:54.201Z"
   },
   {
    "duration": 35,
    "start_time": "2021-07-05T09:01:56.649Z"
   },
   {
    "duration": 10,
    "start_time": "2021-07-05T09:03:57.318Z"
   },
   {
    "duration": 13,
    "start_time": "2021-07-05T09:04:07.580Z"
   },
   {
    "duration": 19,
    "start_time": "2021-07-05T09:06:14.446Z"
   },
   {
    "duration": 13,
    "start_time": "2021-07-05T09:06:28.695Z"
   },
   {
    "duration": 13,
    "start_time": "2021-07-05T09:07:17.275Z"
   },
   {
    "duration": 52,
    "start_time": "2021-07-05T09:07:19.879Z"
   },
   {
    "duration": 13,
    "start_time": "2021-07-05T09:07:22.173Z"
   },
   {
    "duration": 36,
    "start_time": "2021-07-05T09:07:24.094Z"
   },
   {
    "duration": 85,
    "start_time": "2021-07-05T09:07:33.801Z"
   },
   {
    "duration": 15,
    "start_time": "2021-07-05T09:07:33.888Z"
   },
   {
    "duration": 10,
    "start_time": "2021-07-05T09:07:33.907Z"
   },
   {
    "duration": 31,
    "start_time": "2021-07-05T09:07:33.920Z"
   },
   {
    "duration": 25,
    "start_time": "2021-07-05T09:07:33.963Z"
   },
   {
    "duration": 8,
    "start_time": "2021-07-05T09:07:33.991Z"
   },
   {
    "duration": 14,
    "start_time": "2021-07-05T09:07:34.002Z"
   },
   {
    "duration": 45,
    "start_time": "2021-07-05T09:07:34.019Z"
   },
   {
    "duration": 9,
    "start_time": "2021-07-05T09:07:34.068Z"
   },
   {
    "duration": 23,
    "start_time": "2021-07-05T09:07:34.080Z"
   },
   {
    "duration": 14,
    "start_time": "2021-07-05T09:07:34.106Z"
   },
   {
    "duration": 59,
    "start_time": "2021-07-05T09:07:34.123Z"
   },
   {
    "duration": 16,
    "start_time": "2021-07-05T09:07:34.184Z"
   },
   {
    "duration": 14,
    "start_time": "2021-07-05T09:07:57.801Z"
   },
   {
    "duration": 301,
    "start_time": "2021-07-05T09:20:54.985Z"
   },
   {
    "duration": 16,
    "start_time": "2021-07-05T09:20:55.289Z"
   },
   {
    "duration": 23,
    "start_time": "2021-07-05T09:20:55.309Z"
   },
   {
    "duration": 24,
    "start_time": "2021-07-05T09:20:55.341Z"
   },
   {
    "duration": 23,
    "start_time": "2021-07-05T09:20:55.367Z"
   },
   {
    "duration": 14,
    "start_time": "2021-07-05T09:20:55.392Z"
   },
   {
    "duration": 17,
    "start_time": "2021-07-05T09:20:55.408Z"
   },
   {
    "duration": 34,
    "start_time": "2021-07-05T09:20:55.429Z"
   },
   {
    "duration": 80,
    "start_time": "2021-07-05T09:20:55.466Z"
   },
   {
    "duration": 14,
    "start_time": "2021-07-05T09:20:55.548Z"
   },
   {
    "duration": 12,
    "start_time": "2021-07-05T09:20:55.565Z"
   },
   {
    "duration": 20,
    "start_time": "2021-07-05T09:20:55.580Z"
   },
   {
    "duration": 60,
    "start_time": "2021-07-05T09:20:55.603Z"
   },
   {
    "duration": 15,
    "start_time": "2021-07-05T09:20:55.666Z"
   },
   {
    "duration": 9,
    "start_time": "2021-07-05T09:21:04.522Z"
   },
   {
    "duration": 16,
    "start_time": "2021-07-05T09:21:08.095Z"
   },
   {
    "duration": 37,
    "start_time": "2021-07-05T09:21:10.884Z"
   },
   {
    "duration": 7,
    "start_time": "2021-07-05T09:24:41.497Z"
   },
   {
    "duration": 14,
    "start_time": "2021-07-05T09:24:43.576Z"
   },
   {
    "duration": 78,
    "start_time": "2021-07-05T09:24:52.378Z"
   },
   {
    "duration": 15,
    "start_time": "2021-07-05T09:24:52.459Z"
   },
   {
    "duration": 10,
    "start_time": "2021-07-05T09:24:52.478Z"
   },
   {
    "duration": 9,
    "start_time": "2021-07-05T09:24:52.491Z"
   },
   {
    "duration": 21,
    "start_time": "2021-07-05T09:24:52.502Z"
   },
   {
    "duration": 41,
    "start_time": "2021-07-05T09:24:52.525Z"
   },
   {
    "duration": 9,
    "start_time": "2021-07-05T09:24:52.568Z"
   },
   {
    "duration": 13,
    "start_time": "2021-07-05T09:24:52.580Z"
   },
   {
    "duration": 7,
    "start_time": "2021-07-05T09:24:52.596Z"
   },
   {
    "duration": 9,
    "start_time": "2021-07-05T09:24:52.605Z"
   },
   {
    "duration": 8,
    "start_time": "2021-07-05T09:24:52.617Z"
   },
   {
    "duration": 15,
    "start_time": "2021-07-05T09:24:52.663Z"
   },
   {
    "duration": 34,
    "start_time": "2021-07-05T09:24:52.680Z"
   },
   {
    "duration": 52,
    "start_time": "2021-07-05T09:24:52.717Z"
   },
   {
    "duration": 34,
    "start_time": "2021-07-05T09:25:16.194Z"
   },
   {
    "duration": 7,
    "start_time": "2021-07-05T09:25:43.334Z"
   },
   {
    "duration": 17,
    "start_time": "2021-07-05T09:25:45.385Z"
   },
   {
    "duration": 34,
    "start_time": "2021-07-05T09:25:48.240Z"
   },
   {
    "duration": 10,
    "start_time": "2021-07-05T09:27:34.311Z"
   },
   {
    "duration": 9,
    "start_time": "2021-07-05T09:27:48.094Z"
   },
   {
    "duration": 16,
    "start_time": "2021-07-05T09:27:50.594Z"
   },
   {
    "duration": 46,
    "start_time": "2021-07-05T09:27:53.563Z"
   },
   {
    "duration": 12,
    "start_time": "2021-07-05T09:30:30.022Z"
   },
   {
    "duration": 14,
    "start_time": "2021-07-05T09:30:32.513Z"
   },
   {
    "duration": 79,
    "start_time": "2021-07-05T09:30:54.767Z"
   },
   {
    "duration": 26,
    "start_time": "2021-07-05T09:30:54.849Z"
   },
   {
    "duration": 11,
    "start_time": "2021-07-05T09:30:54.879Z"
   },
   {
    "duration": 15,
    "start_time": "2021-07-05T09:30:54.894Z"
   },
   {
    "duration": 76,
    "start_time": "2021-07-05T09:30:54.912Z"
   },
   {
    "duration": 11,
    "start_time": "2021-07-05T09:30:54.991Z"
   },
   {
    "duration": 11,
    "start_time": "2021-07-05T09:30:55.005Z"
   },
   {
    "duration": 11,
    "start_time": "2021-07-05T09:30:55.021Z"
   },
   {
    "duration": 11,
    "start_time": "2021-07-05T09:30:55.064Z"
   },
   {
    "duration": 11,
    "start_time": "2021-07-05T09:30:55.078Z"
   },
   {
    "duration": 16,
    "start_time": "2021-07-05T09:30:55.093Z"
   },
   {
    "duration": 18,
    "start_time": "2021-07-05T09:30:55.112Z"
   },
   {
    "duration": 34,
    "start_time": "2021-07-05T09:30:55.163Z"
   },
   {
    "duration": 14,
    "start_time": "2021-07-05T09:30:55.201Z"
   },
   {
    "duration": 80,
    "start_time": "2021-07-05T09:31:23.902Z"
   },
   {
    "duration": 14,
    "start_time": "2021-07-05T09:31:23.984Z"
   },
   {
    "duration": 12,
    "start_time": "2021-07-05T09:31:24.002Z"
   },
   {
    "duration": 10,
    "start_time": "2021-07-05T09:31:24.018Z"
   },
   {
    "duration": 24,
    "start_time": "2021-07-05T09:31:24.062Z"
   },
   {
    "duration": 8,
    "start_time": "2021-07-05T09:31:24.088Z"
   },
   {
    "duration": 19,
    "start_time": "2021-07-05T09:31:24.098Z"
   },
   {
    "duration": 9,
    "start_time": "2021-07-05T09:31:24.121Z"
   },
   {
    "duration": 8,
    "start_time": "2021-07-05T09:31:24.162Z"
   },
   {
    "duration": 9,
    "start_time": "2021-07-05T09:31:24.172Z"
   },
   {
    "duration": 20,
    "start_time": "2021-07-05T09:31:24.183Z"
   },
   {
    "duration": 17,
    "start_time": "2021-07-05T09:31:24.205Z"
   },
   {
    "duration": 58,
    "start_time": "2021-07-05T09:31:24.225Z"
   },
   {
    "duration": 13,
    "start_time": "2021-07-05T09:31:24.286Z"
   },
   {
    "duration": 12,
    "start_time": "2021-07-05T09:32:42.333Z"
   },
   {
    "duration": 13,
    "start_time": "2021-07-05T09:32:48.694Z"
   },
   {
    "duration": 26,
    "start_time": "2021-07-05T09:33:02.187Z"
   },
   {
    "duration": 14,
    "start_time": "2021-07-05T09:34:23.846Z"
   },
   {
    "duration": 17,
    "start_time": "2021-07-05T09:34:27.384Z"
   },
   {
    "duration": 12,
    "start_time": "2021-07-05T09:34:54.282Z"
   },
   {
    "duration": 14,
    "start_time": "2021-07-05T09:34:59.328Z"
   },
   {
    "duration": 76,
    "start_time": "2021-07-05T09:35:07.128Z"
   },
   {
    "duration": 15,
    "start_time": "2021-07-05T09:35:07.207Z"
   },
   {
    "duration": 42,
    "start_time": "2021-07-05T09:35:07.226Z"
   },
   {
    "duration": 13,
    "start_time": "2021-07-05T09:35:07.272Z"
   },
   {
    "duration": 50,
    "start_time": "2021-07-05T09:35:07.288Z"
   },
   {
    "duration": 22,
    "start_time": "2021-07-05T09:35:07.341Z"
   },
   {
    "duration": 11,
    "start_time": "2021-07-05T09:35:07.366Z"
   },
   {
    "duration": 12,
    "start_time": "2021-07-05T09:35:07.383Z"
   },
   {
    "duration": 11,
    "start_time": "2021-07-05T09:35:07.398Z"
   },
   {
    "duration": 26,
    "start_time": "2021-07-05T09:35:07.412Z"
   },
   {
    "duration": 31,
    "start_time": "2021-07-05T09:35:07.441Z"
   },
   {
    "duration": 19,
    "start_time": "2021-07-05T09:35:07.475Z"
   },
   {
    "duration": 30,
    "start_time": "2021-07-05T09:35:07.496Z"
   },
   {
    "duration": 14,
    "start_time": "2021-07-05T09:35:07.528Z"
   },
   {
    "duration": 24,
    "start_time": "2021-07-05T09:35:07.544Z"
   },
   {
    "duration": 35,
    "start_time": "2021-07-05T09:35:07.570Z"
   },
   {
    "duration": 19,
    "start_time": "2021-07-05T09:35:07.607Z"
   },
   {
    "duration": 78,
    "start_time": "2021-07-05T09:36:49.804Z"
   },
   {
    "duration": 14,
    "start_time": "2021-07-05T09:36:49.885Z"
   },
   {
    "duration": 10,
    "start_time": "2021-07-05T09:36:49.902Z"
   },
   {
    "duration": 17,
    "start_time": "2021-07-05T09:36:49.915Z"
   },
   {
    "duration": 46,
    "start_time": "2021-07-05T09:36:49.935Z"
   },
   {
    "duration": 8,
    "start_time": "2021-07-05T09:36:49.984Z"
   },
   {
    "duration": 9,
    "start_time": "2021-07-05T09:36:49.994Z"
   },
   {
    "duration": 14,
    "start_time": "2021-07-05T09:36:50.007Z"
   },
   {
    "duration": 40,
    "start_time": "2021-07-05T09:36:50.024Z"
   },
   {
    "duration": 7,
    "start_time": "2021-07-05T09:36:50.067Z"
   },
   {
    "duration": 15,
    "start_time": "2021-07-05T09:36:50.077Z"
   },
   {
    "duration": 14,
    "start_time": "2021-07-05T09:36:50.094Z"
   },
   {
    "duration": 23,
    "start_time": "2021-07-05T09:36:50.110Z"
   },
   {
    "duration": 30,
    "start_time": "2021-07-05T09:36:50.135Z"
   },
   {
    "duration": 11,
    "start_time": "2021-07-05T09:36:50.168Z"
   },
   {
    "duration": 32,
    "start_time": "2021-07-05T09:36:50.181Z"
   },
   {
    "duration": 14,
    "start_time": "2021-07-05T09:36:50.215Z"
   },
   {
    "duration": 14,
    "start_time": "2021-07-05T09:37:11.760Z"
   },
   {
    "duration": 36,
    "start_time": "2021-07-05T09:37:40.373Z"
   },
   {
    "duration": 36,
    "start_time": "2021-07-05T09:37:49.126Z"
   },
   {
    "duration": 20,
    "start_time": "2021-07-05T09:38:00.575Z"
   },
   {
    "duration": 6,
    "start_time": "2021-07-05T09:40:10.357Z"
   },
   {
    "duration": 5,
    "start_time": "2021-07-05T09:40:35.786Z"
   },
   {
    "duration": 8,
    "start_time": "2021-07-05T09:40:40.571Z"
   },
   {
    "duration": 76,
    "start_time": "2021-07-05T09:40:51.509Z"
   },
   {
    "duration": 6,
    "start_time": "2021-07-05T09:40:59.504Z"
   },
   {
    "duration": 338,
    "start_time": "2021-07-05T09:41:29.633Z"
   },
   {
    "duration": 8,
    "start_time": "2021-07-05T09:41:56.880Z"
   },
   {
    "duration": 7,
    "start_time": "2021-07-05T09:42:22.969Z"
   },
   {
    "duration": 122,
    "start_time": "2021-07-05T09:43:44.375Z"
   },
   {
    "duration": 338,
    "start_time": "2021-07-05T09:46:46.539Z"
   },
   {
    "duration": 13,
    "start_time": "2021-07-05T09:46:53.637Z"
   },
   {
    "duration": 81,
    "start_time": "2021-07-05T09:47:05.329Z"
   },
   {
    "duration": 15,
    "start_time": "2021-07-05T09:47:10.473Z"
   },
   {
    "duration": 38,
    "start_time": "2021-07-05T09:47:25.864Z"
   },
   {
    "duration": 11,
    "start_time": "2021-07-05T09:48:02.285Z"
   },
   {
    "duration": 6,
    "start_time": "2021-07-05T09:48:58.368Z"
   },
   {
    "duration": 122,
    "start_time": "2021-07-05T09:54:05.110Z"
   },
   {
    "duration": 53,
    "start_time": "2021-07-05T09:54:13.999Z"
   },
   {
    "duration": 81,
    "start_time": "2021-07-05T09:54:33.584Z"
   },
   {
    "duration": 14,
    "start_time": "2021-07-05T09:54:33.668Z"
   },
   {
    "duration": 10,
    "start_time": "2021-07-05T09:54:33.686Z"
   },
   {
    "duration": 9,
    "start_time": "2021-07-05T09:54:33.698Z"
   },
   {
    "duration": 56,
    "start_time": "2021-07-05T09:54:33.709Z"
   },
   {
    "duration": 54,
    "start_time": "2021-07-05T09:54:33.768Z"
   },
   {
    "duration": 38,
    "start_time": "2021-07-05T09:54:33.824Z"
   },
   {
    "duration": 19,
    "start_time": "2021-07-05T09:54:33.864Z"
   },
   {
    "duration": 56,
    "start_time": "2021-07-05T09:55:10.441Z"
   },
   {
    "duration": 15,
    "start_time": "2021-07-05T09:55:13.721Z"
   },
   {
    "duration": 19,
    "start_time": "2021-07-05T09:55:16.731Z"
   },
   {
    "duration": 13,
    "start_time": "2021-07-05T09:55:30.160Z"
   },
   {
    "duration": 56,
    "start_time": "2021-07-05T09:56:11.025Z"
   },
   {
    "duration": 14,
    "start_time": "2021-07-05T09:56:14.486Z"
   },
   {
    "duration": 35,
    "start_time": "2021-07-05T09:56:31.300Z"
   },
   {
    "duration": 75,
    "start_time": "2021-07-05T09:57:20.166Z"
   },
   {
    "duration": 20,
    "start_time": "2021-07-05T09:57:23.722Z"
   },
   {
    "duration": 85,
    "start_time": "2021-07-05T09:57:50.799Z"
   },
   {
    "duration": 19,
    "start_time": "2021-07-05T09:57:53.280Z"
   },
   {
    "duration": 13,
    "start_time": "2021-07-05T09:58:00.060Z"
   },
   {
    "duration": 15,
    "start_time": "2021-07-05T09:58:10.636Z"
   },
   {
    "duration": 13,
    "start_time": "2021-07-05T09:58:30.846Z"
   },
   {
    "duration": 38,
    "start_time": "2021-07-05T09:58:45.689Z"
   },
   {
    "duration": 16,
    "start_time": "2021-07-05T09:59:12.974Z"
   },
   {
    "duration": 18,
    "start_time": "2021-07-05T09:59:55.176Z"
   },
   {
    "duration": 77,
    "start_time": "2021-07-05T10:00:02.861Z"
   },
   {
    "duration": 22,
    "start_time": "2021-07-05T10:00:02.941Z"
   },
   {
    "duration": 11,
    "start_time": "2021-07-05T10:00:02.966Z"
   },
   {
    "duration": 10,
    "start_time": "2021-07-05T10:00:02.979Z"
   },
   {
    "duration": 37,
    "start_time": "2021-07-05T10:00:02.991Z"
   },
   {
    "duration": 81,
    "start_time": "2021-07-05T10:00:03.031Z"
   },
   {
    "duration": 17,
    "start_time": "2021-07-05T10:00:03.115Z"
   },
   {
    "duration": 20,
    "start_time": "2021-07-05T10:00:03.165Z"
   },
   {
    "duration": 153,
    "start_time": "2021-07-05T10:00:32.077Z"
   },
   {
    "duration": 10,
    "start_time": "2021-07-05T10:00:36.921Z"
   },
   {
    "duration": 697,
    "start_time": "2021-07-05T10:00:41.633Z"
   },
   {
    "duration": 14,
    "start_time": "2021-07-05T10:00:42.332Z"
   },
   {
    "duration": 11,
    "start_time": "2021-07-05T10:00:42.361Z"
   },
   {
    "duration": 11,
    "start_time": "2021-07-05T10:00:42.375Z"
   },
   {
    "duration": 31,
    "start_time": "2021-07-05T10:00:42.389Z"
   },
   {
    "duration": 104,
    "start_time": "2021-07-05T10:00:42.424Z"
   },
   {
    "duration": 21,
    "start_time": "2021-07-05T10:00:42.531Z"
   },
   {
    "duration": 26,
    "start_time": "2021-07-05T10:00:42.554Z"
   },
   {
    "duration": 8,
    "start_time": "2021-07-05T10:50:46.476Z"
   },
   {
    "duration": 5,
    "start_time": "2021-07-05T10:51:00.690Z"
   },
   {
    "duration": 33,
    "start_time": "2021-07-05T10:51:06.875Z"
   },
   {
    "duration": 33,
    "start_time": "2021-07-05T10:59:55.446Z"
   },
   {
    "duration": 23,
    "start_time": "2021-07-05T11:00:03.407Z"
   },
   {
    "duration": 36,
    "start_time": "2021-07-05T12:38:28.264Z"
   },
   {
    "duration": 54,
    "start_time": "2021-07-05T12:38:46.699Z"
   },
   {
    "duration": 92,
    "start_time": "2021-07-05T12:57:57.304Z"
   },
   {
    "duration": 348,
    "start_time": "2021-07-05T13:06:16.829Z"
   },
   {
    "duration": 287,
    "start_time": "2021-07-05T13:07:59.336Z"
   },
   {
    "duration": 346,
    "start_time": "2021-07-05T13:08:10.651Z"
   },
   {
    "duration": 2050,
    "start_time": "2021-07-05T13:08:40.841Z"
   },
   {
    "duration": 334,
    "start_time": "2021-07-05T13:12:03.397Z"
   },
   {
    "duration": 356,
    "start_time": "2021-07-05T13:12:11.867Z"
   },
   {
    "duration": -198,
    "start_time": "2021-07-05T13:13:59.671Z"
   },
   {
    "duration": 6229,
    "start_time": "2021-07-05T13:15:26.391Z"
   },
   {
    "duration": 305,
    "start_time": "2021-07-05T13:16:12.839Z"
   },
   {
    "duration": 357,
    "start_time": "2021-07-05T13:17:13.547Z"
   },
   {
    "duration": 1571,
    "start_time": "2021-07-05T13:17:29.712Z"
   },
   {
    "duration": 278,
    "start_time": "2021-07-05T13:20:46.758Z"
   },
   {
    "duration": 935,
    "start_time": "2021-07-05T13:21:05.843Z"
   },
   {
    "duration": 345,
    "start_time": "2021-07-05T13:21:16.544Z"
   },
   {
    "duration": 298,
    "start_time": "2021-07-05T13:21:23.069Z"
   },
   {
    "duration": 363,
    "start_time": "2021-07-05T13:21:26.432Z"
   },
   {
    "duration": 8,
    "start_time": "2021-07-05T13:21:30.761Z"
   },
   {
    "duration": 63,
    "start_time": "2021-07-05T13:21:55.270Z"
   },
   {
    "duration": 5,
    "start_time": "2021-07-05T13:22:05.754Z"
   },
   {
    "duration": 20,
    "start_time": "2021-07-05T13:22:25.222Z"
   },
   {
    "duration": 4,
    "start_time": "2021-07-05T13:25:29.109Z"
   },
   {
    "duration": 341,
    "start_time": "2021-07-05T13:26:27.741Z"
   },
   {
    "duration": 6,
    "start_time": "2021-07-05T13:26:35.851Z"
   },
   {
    "duration": 117,
    "start_time": "2021-07-05T13:27:17.051Z"
   },
   {
    "duration": 6,
    "start_time": "2021-07-05T13:27:22.139Z"
   },
   {
    "duration": 124,
    "start_time": "2021-07-05T13:28:38.090Z"
   },
   {
    "duration": -187,
    "start_time": "2021-07-05T13:28:52.591Z"
   },
   {
    "duration": 4,
    "start_time": "2021-07-05T13:29:05.857Z"
   },
   {
    "duration": 5952,
    "start_time": "2021-07-05T13:30:30.495Z"
   },
   {
    "duration": -239,
    "start_time": "2021-07-05T13:30:36.692Z"
   },
   {
    "duration": 5945,
    "start_time": "2021-07-05T13:30:51.704Z"
   },
   {
    "duration": 11,
    "start_time": "2021-07-05T13:32:04.845Z"
   },
   {
    "duration": 5,
    "start_time": "2021-07-05T13:33:02.099Z"
   },
   {
    "duration": 333,
    "start_time": "2021-07-05T13:33:15.303Z"
   },
   {
    "duration": 5665,
    "start_time": "2021-07-05T13:41:06.717Z"
   },
   {
    "duration": 130,
    "start_time": "2021-07-05T13:41:22.598Z"
   },
   {
    "duration": 103,
    "start_time": "2021-07-05T13:43:10.229Z"
   },
   {
    "duration": 333,
    "start_time": "2021-07-05T13:43:27.572Z"
   },
   {
    "duration": 374,
    "start_time": "2021-07-05T13:43:32.214Z"
   },
   {
    "duration": 134,
    "start_time": "2021-07-05T13:43:50.111Z"
   },
   {
    "duration": 6083,
    "start_time": "2021-07-05T13:45:44.291Z"
   },
   {
    "duration": 6,
    "start_time": "2021-07-05T13:45:50.378Z"
   },
   {
    "duration": 4933,
    "start_time": "2021-07-05T13:46:04.396Z"
   },
   {
    "duration": 49,
    "start_time": "2021-07-05T13:46:09.333Z"
   },
   {
    "duration": 4954,
    "start_time": "2021-07-05T13:46:22.170Z"
   },
   {
    "duration": 7,
    "start_time": "2021-07-05T13:46:27.126Z"
   },
   {
    "duration": 417,
    "start_time": "2021-07-05T13:47:01.767Z"
   },
   {
    "duration": 5065,
    "start_time": "2021-07-05T13:47:23.175Z"
   },
   {
    "duration": 329,
    "start_time": "2021-07-05T13:48:11.762Z"
   },
   {
    "duration": 98,
    "start_time": "2021-07-05T13:48:30.374Z"
   },
   {
    "duration": 5505,
    "start_time": "2021-07-05T13:48:38.890Z"
   },
   {
    "duration": 150,
    "start_time": "2021-07-05T13:48:44.398Z"
   },
   {
    "duration": 314,
    "start_time": "2021-07-05T13:49:45.599Z"
   },
   {
    "duration": 125,
    "start_time": "2021-07-05T13:50:33.800Z"
   },
   {
    "duration": 276,
    "start_time": "2021-07-05T13:50:40.167Z"
   },
   {
    "duration": 290,
    "start_time": "2021-07-05T13:50:43.709Z"
   },
   {
    "duration": 6005,
    "start_time": "2021-07-05T13:50:55.275Z"
   },
   {
    "duration": 6,
    "start_time": "2021-07-05T13:51:01.283Z"
   },
   {
    "duration": 330,
    "start_time": "2021-07-05T13:52:49.205Z"
   },
   {
    "duration": 5212,
    "start_time": "2021-07-05T13:53:39.022Z"
   },
   {
    "duration": 24,
    "start_time": "2021-07-05T13:53:45.985Z"
   },
   {
    "duration": 20,
    "start_time": "2021-07-05T13:53:57.734Z"
   },
   {
    "duration": 4909,
    "start_time": "2021-07-05T13:55:41.377Z"
   },
   {
    "duration": 309,
    "start_time": "2021-07-05T14:02:56.732Z"
   },
   {
    "duration": 15,
    "start_time": "2021-07-05T14:03:04.467Z"
   },
   {
    "duration": 5357,
    "start_time": "2021-07-05T14:17:04.255Z"
   },
   {
    "duration": 304,
    "start_time": "2021-07-05T14:19:58.708Z"
   },
   {
    "duration": 4937,
    "start_time": "2021-07-05T14:24:14.804Z"
   },
   {
    "duration": 112,
    "start_time": "2021-07-05T14:44:21.526Z"
   },
   {
    "duration": 343,
    "start_time": "2021-07-05T14:44:28.845Z"
   },
   {
    "duration": 4866,
    "start_time": "2021-07-05T14:44:51.622Z"
   },
   {
    "duration": 5180,
    "start_time": "2021-07-05T14:45:01.534Z"
   },
   {
    "duration": 4909,
    "start_time": "2021-07-05T14:45:18.187Z"
   },
   {
    "duration": 4,
    "start_time": "2021-07-05T14:53:12.527Z"
   },
   {
    "duration": 420,
    "start_time": "2021-07-05T14:53:54.041Z"
   },
   {
    "duration": 7,
    "start_time": "2021-07-05T14:54:13.965Z"
   },
   {
    "duration": 6,
    "start_time": "2021-07-05T14:56:17.014Z"
   },
   {
    "duration": 9,
    "start_time": "2021-07-05T14:56:56.500Z"
   },
   {
    "duration": 7,
    "start_time": "2021-07-05T14:57:11.326Z"
   },
   {
    "duration": 7,
    "start_time": "2021-07-05T14:57:18.116Z"
   },
   {
    "duration": 6,
    "start_time": "2021-07-05T14:57:47.533Z"
   },
   {
    "duration": 6,
    "start_time": "2021-07-05T14:57:51.240Z"
   },
   {
    "duration": 8,
    "start_time": "2021-07-05T14:58:40.333Z"
   },
   {
    "duration": 5,
    "start_time": "2021-07-05T14:59:12.282Z"
   },
   {
    "duration": 5,
    "start_time": "2021-07-05T14:59:15.088Z"
   },
   {
    "duration": 5,
    "start_time": "2021-07-05T15:01:24.365Z"
   },
   {
    "duration": 5,
    "start_time": "2021-07-05T15:01:27.030Z"
   },
   {
    "duration": 5,
    "start_time": "2021-07-05T15:01:55.966Z"
   },
   {
    "duration": 6,
    "start_time": "2021-07-05T15:01:58.664Z"
   },
   {
    "duration": 6,
    "start_time": "2021-07-05T15:02:59.647Z"
   },
   {
    "duration": 5,
    "start_time": "2021-07-05T15:03:02.138Z"
   },
   {
    "duration": 5,
    "start_time": "2021-07-05T15:03:08.280Z"
   },
   {
    "duration": 7,
    "start_time": "2021-07-05T15:03:42.171Z"
   },
   {
    "duration": 6,
    "start_time": "2021-07-05T15:04:38.205Z"
   },
   {
    "duration": 8,
    "start_time": "2021-07-05T15:05:37.782Z"
   },
   {
    "duration": 527,
    "start_time": "2021-07-05T15:05:44.975Z"
   },
   {
    "duration": 7,
    "start_time": "2021-07-05T15:05:49.513Z"
   },
   {
    "duration": 5,
    "start_time": "2021-07-05T15:06:54.154Z"
   },
   {
    "duration": 12,
    "start_time": "2021-07-05T15:07:21.050Z"
   },
   {
    "duration": 8,
    "start_time": "2021-07-05T15:07:29.714Z"
   },
   {
    "duration": 8,
    "start_time": "2021-07-05T15:07:45.939Z"
   },
   {
    "duration": 8,
    "start_time": "2021-07-05T15:07:52.535Z"
   },
   {
    "duration": 8,
    "start_time": "2021-07-05T15:08:42.110Z"
   },
   {
    "duration": 5,
    "start_time": "2021-07-05T15:09:50.086Z"
   },
   {
    "duration": 4141,
    "start_time": "2021-07-05T15:10:25.604Z"
   },
   {
    "duration": 4133,
    "start_time": "2021-07-05T15:11:53.865Z"
   },
   {
    "duration": 37,
    "start_time": "2021-07-05T15:12:16.116Z"
   },
   {
    "duration": 10,
    "start_time": "2021-07-05T15:12:55.746Z"
   },
   {
    "duration": 7,
    "start_time": "2021-07-05T15:13:47.546Z"
   },
   {
    "duration": 54,
    "start_time": "2021-07-05T15:13:51.900Z"
   },
   {
    "duration": 10,
    "start_time": "2021-07-05T15:14:22.260Z"
   },
   {
    "duration": 116,
    "start_time": "2021-07-05T15:14:48.596Z"
   },
   {
    "duration": 12,
    "start_time": "2021-07-05T15:14:55.173Z"
   },
   {
    "duration": 106,
    "start_time": "2021-07-05T15:15:28.254Z"
   },
   {
    "duration": 10,
    "start_time": "2021-07-05T15:15:48.300Z"
   },
   {
    "duration": 11,
    "start_time": "2021-07-05T15:16:15.592Z"
   },
   {
    "duration": 10,
    "start_time": "2021-07-05T15:16:22.141Z"
   },
   {
    "duration": 10,
    "start_time": "2021-07-05T15:16:43.098Z"
   },
   {
    "duration": 4172,
    "start_time": "2021-07-05T15:16:43.110Z"
   },
   {
    "duration": 9,
    "start_time": "2021-07-05T15:16:47.285Z"
   },
   {
    "duration": 36,
    "start_time": "2021-07-05T15:16:52.916Z"
   },
   {
    "duration": 111,
    "start_time": "2021-07-05T15:17:28.200Z"
   },
   {
    "duration": 5,
    "start_time": "2021-07-05T15:18:52.405Z"
   },
   {
    "duration": 3884,
    "start_time": "2021-07-05T15:18:55.102Z"
   },
   {
    "duration": 9,
    "start_time": "2021-07-05T15:18:58.989Z"
   },
   {
    "duration": 34,
    "start_time": "2021-07-05T15:21:13.210Z"
   },
   {
    "duration": 21,
    "start_time": "2021-07-05T15:22:23.024Z"
   },
   {
    "duration": 5,
    "start_time": "2021-07-06T11:05:33.108Z"
   },
   {
    "duration": 361,
    "start_time": "2021-07-06T11:08:23.601Z"
   },
   {
    "duration": 872,
    "start_time": "2021-07-06T11:08:29.819Z"
   },
   {
    "duration": 14,
    "start_time": "2021-07-06T11:08:30.694Z"
   },
   {
    "duration": 15,
    "start_time": "2021-07-06T11:08:30.711Z"
   },
   {
    "duration": 41,
    "start_time": "2021-07-06T11:08:30.728Z"
   },
   {
    "duration": 34,
    "start_time": "2021-07-06T11:08:30.772Z"
   },
   {
    "duration": 113,
    "start_time": "2021-07-06T11:08:30.809Z"
   },
   {
    "duration": 17,
    "start_time": "2021-07-06T11:08:30.925Z"
   },
   {
    "duration": 24,
    "start_time": "2021-07-06T11:08:30.947Z"
   },
   {
    "duration": 37,
    "start_time": "2021-07-06T11:08:30.975Z"
   },
   {
    "duration": 52,
    "start_time": "2021-07-06T11:08:31.015Z"
   },
   {
    "duration": 13,
    "start_time": "2021-07-06T11:08:31.072Z"
   },
   {
    "duration": 6185,
    "start_time": "2021-07-06T11:08:31.089Z"
   },
   {
    "duration": 7,
    "start_time": "2021-07-06T11:08:37.277Z"
   },
   {
    "duration": 4223,
    "start_time": "2021-07-06T11:08:37.287Z"
   },
   {
    "duration": 12,
    "start_time": "2021-07-06T11:08:41.512Z"
   },
   {
    "duration": 126,
    "start_time": "2021-07-06T11:08:41.526Z"
   },
   {
    "duration": -881,
    "start_time": "2021-07-06T11:08:42.535Z"
   },
   {
    "duration": -887,
    "start_time": "2021-07-06T11:08:42.542Z"
   },
   {
    "duration": -890,
    "start_time": "2021-07-06T11:08:42.547Z"
   },
   {
    "duration": 4,
    "start_time": "2021-07-06T11:08:46.991Z"
   },
   {
    "duration": 420,
    "start_time": "2021-07-06T11:08:48.670Z"
   },
   {
    "duration": -838,
    "start_time": "2021-07-06T11:09:10.364Z"
   },
   {
    "duration": -839,
    "start_time": "2021-07-06T11:09:27.079Z"
   },
   {
    "duration": -845,
    "start_time": "2021-07-06T11:09:27.086Z"
   },
   {
    "duration": 10308,
    "start_time": "2021-07-06T11:11:55.575Z"
   },
   {
    "duration": 323,
    "start_time": "2021-07-06T11:12:43.875Z"
   },
   {
    "duration": 9008,
    "start_time": "2021-07-06T11:14:35.492Z"
   },
   {
    "duration": 4,
    "start_time": "2021-07-06T11:14:44.686Z"
   },
   {
    "duration": 365,
    "start_time": "2021-07-06T11:23:40.059Z"
   },
   {
    "duration": 336,
    "start_time": "2021-07-06T11:23:45.924Z"
   },
   {
    "duration": 1308,
    "start_time": "2021-07-06T11:23:56.637Z"
   },
   {
    "duration": 10,
    "start_time": "2021-07-06T11:24:12.463Z"
   },
   {
    "duration": 9,
    "start_time": "2021-07-06T11:24:52.095Z"
   },
   {
    "duration": 13,
    "start_time": "2021-07-06T11:34:41.122Z"
   },
   {
    "duration": 103,
    "start_time": "2021-07-06T11:34:52.477Z"
   },
   {
    "duration": 16,
    "start_time": "2021-07-06T11:34:52.583Z"
   },
   {
    "duration": 19,
    "start_time": "2021-07-06T11:34:52.602Z"
   },
   {
    "duration": 10,
    "start_time": "2021-07-06T11:34:52.624Z"
   },
   {
    "duration": 52,
    "start_time": "2021-07-06T11:34:52.636Z"
   },
   {
    "duration": 59,
    "start_time": "2021-07-06T11:34:52.691Z"
   },
   {
    "duration": 28,
    "start_time": "2021-07-06T11:34:52.752Z"
   },
   {
    "duration": 5,
    "start_time": "2021-07-06T11:34:52.785Z"
   },
   {
    "duration": 14,
    "start_time": "2021-07-06T11:34:52.793Z"
   },
   {
    "duration": 69,
    "start_time": "2021-07-06T11:34:52.809Z"
   },
   {
    "duration": 39,
    "start_time": "2021-07-06T11:34:52.881Z"
   },
   {
    "duration": 10,
    "start_time": "2021-07-06T11:34:52.923Z"
   },
   {
    "duration": 5719,
    "start_time": "2021-07-06T11:34:52.936Z"
   },
   {
    "duration": 7,
    "start_time": "2021-07-06T11:34:58.666Z"
   },
   {
    "duration": 4027,
    "start_time": "2021-07-06T11:34:58.676Z"
   },
   {
    "duration": 8,
    "start_time": "2021-07-06T11:35:02.705Z"
   },
   {
    "duration": 20,
    "start_time": "2021-07-06T11:35:02.716Z"
   },
   {
    "duration": 36,
    "start_time": "2021-07-06T11:35:02.738Z"
   },
   {
    "duration": 8,
    "start_time": "2021-07-06T11:35:11.998Z"
   },
   {
    "duration": 13,
    "start_time": "2021-07-06T11:38:38.836Z"
   },
   {
    "duration": 105,
    "start_time": "2021-07-06T11:38:44.188Z"
   },
   {
    "duration": 17,
    "start_time": "2021-07-06T11:38:44.297Z"
   },
   {
    "duration": 12,
    "start_time": "2021-07-06T11:38:44.317Z"
   },
   {
    "duration": 10,
    "start_time": "2021-07-06T11:38:44.368Z"
   },
   {
    "duration": 29,
    "start_time": "2021-07-06T11:38:44.380Z"
   },
   {
    "duration": 128,
    "start_time": "2021-07-06T11:38:44.413Z"
   },
   {
    "duration": 28,
    "start_time": "2021-07-06T11:38:44.544Z"
   },
   {
    "duration": 6,
    "start_time": "2021-07-06T11:38:44.578Z"
   },
   {
    "duration": 20,
    "start_time": "2021-07-06T11:38:44.587Z"
   },
   {
    "duration": 11,
    "start_time": "2021-07-06T11:38:44.611Z"
   },
   {
    "duration": 24,
    "start_time": "2021-07-06T11:38:44.667Z"
   },
   {
    "duration": 38,
    "start_time": "2021-07-06T11:38:44.694Z"
   },
   {
    "duration": 42,
    "start_time": "2021-07-06T11:38:44.735Z"
   },
   {
    "duration": 6061,
    "start_time": "2021-07-06T11:38:44.780Z"
   },
   {
    "duration": 5,
    "start_time": "2021-07-06T11:38:50.843Z"
   },
   {
    "duration": 4399,
    "start_time": "2021-07-06T11:38:50.851Z"
   },
   {
    "duration": 24,
    "start_time": "2021-07-06T11:38:55.253Z"
   },
   {
    "duration": 33,
    "start_time": "2021-07-06T11:38:55.280Z"
   },
   {
    "duration": 11,
    "start_time": "2021-07-06T11:38:55.316Z"
   },
   {
    "duration": 8,
    "start_time": "2021-07-06T11:38:55.775Z"
   },
   {
    "duration": 4,
    "start_time": "2021-07-06T11:46:13.939Z"
   },
   {
    "duration": 418,
    "start_time": "2021-07-06T11:47:40.283Z"
   },
   {
    "duration": 4,
    "start_time": "2021-07-06T11:47:51.121Z"
   },
   {
    "duration": 348,
    "start_time": "2021-07-06T11:47:59.366Z"
   },
   {
    "duration": 10,
    "start_time": "2021-07-06T11:48:45.371Z"
   },
   {
    "duration": 29,
    "start_time": "2021-07-06T11:48:58.344Z"
   },
   {
    "duration": 10,
    "start_time": "2021-07-06T11:49:38.884Z"
   },
   {
    "duration": 114,
    "start_time": "2021-07-06T11:50:33.652Z"
   },
   {
    "duration": 10,
    "start_time": "2021-07-06T11:52:08.027Z"
   },
   {
    "duration": 454,
    "start_time": "2021-07-06T11:55:36.814Z"
   },
   {
    "duration": 8,
    "start_time": "2021-07-06T11:55:43.760Z"
   },
   {
    "duration": 10,
    "start_time": "2021-07-06T11:55:50.227Z"
   },
   {
    "duration": 11,
    "start_time": "2021-07-06T12:04:01.549Z"
   },
   {
    "duration": 4,
    "start_time": "2021-07-06T12:06:11.012Z"
   },
   {
    "duration": 12,
    "start_time": "2021-07-06T12:08:04.470Z"
   },
   {
    "duration": 15,
    "start_time": "2021-07-06T12:14:54.675Z"
   },
   {
    "duration": 109,
    "start_time": "2021-07-06T12:19:34.436Z"
   },
   {
    "duration": 4,
    "start_time": "2021-07-06T12:25:50.775Z"
   },
   {
    "duration": 50,
    "start_time": "2021-07-06T12:26:27.620Z"
   },
   {
    "duration": 55,
    "start_time": "2021-07-06T12:27:39.667Z"
   },
   {
    "duration": 5,
    "start_time": "2021-07-06T12:29:05.730Z"
   },
   {
    "duration": 50,
    "start_time": "2021-07-06T12:29:08.957Z"
   },
   {
    "duration": 4,
    "start_time": "2021-07-06T12:29:37.448Z"
   },
   {
    "duration": 46,
    "start_time": "2021-07-06T12:29:39.306Z"
   },
   {
    "duration": 4,
    "start_time": "2021-07-06T12:30:30.964Z"
   },
   {
    "duration": 24,
    "start_time": "2021-07-06T12:30:33.142Z"
   },
   {
    "duration": 33,
    "start_time": "2021-07-06T12:30:46.853Z"
   },
   {
    "duration": 29,
    "start_time": "2021-07-06T12:31:07.883Z"
   },
   {
    "duration": 14,
    "start_time": "2021-07-06T12:31:23.567Z"
   },
   {
    "duration": 110,
    "start_time": "2021-07-06T12:31:47.012Z"
   },
   {
    "duration": 10,
    "start_time": "2021-07-06T12:32:32.026Z"
   },
   {
    "duration": 7,
    "start_time": "2021-07-06T12:33:17.087Z"
   },
   {
    "duration": 10,
    "start_time": "2021-07-06T12:33:21.891Z"
   },
   {
    "duration": 34,
    "start_time": "2021-07-06T12:34:35.517Z"
   },
   {
    "duration": 11,
    "start_time": "2021-07-06T12:35:16.399Z"
   },
   {
    "duration": 6,
    "start_time": "2021-07-06T12:38:31.249Z"
   },
   {
    "duration": 6,
    "start_time": "2021-07-06T12:46:43.948Z"
   },
   {
    "duration": 6,
    "start_time": "2021-07-06T12:57:09.713Z"
   },
   {
    "duration": 6,
    "start_time": "2021-07-06T13:14:07.515Z"
   },
   {
    "duration": 795,
    "start_time": "2021-07-06T19:41:50.892Z"
   },
   {
    "duration": 737,
    "start_time": "2021-07-07T07:18:35.624Z"
   },
   {
    "duration": 4,
    "start_time": "2021-07-07T07:18:40.504Z"
   },
   {
    "duration": 5,
    "start_time": "2021-07-07T07:18:55.711Z"
   },
   {
    "duration": 372,
    "start_time": "2021-07-07T07:44:55.970Z"
   },
   {
    "duration": 65,
    "start_time": "2021-07-07T07:47:07.927Z"
   },
   {
    "duration": 87,
    "start_time": "2021-07-07T07:58:10.817Z"
   },
   {
    "duration": 67,
    "start_time": "2021-07-07T08:15:02.876Z"
   },
   {
    "duration": 86,
    "start_time": "2021-07-07T08:15:17.166Z"
   },
   {
    "duration": 23,
    "start_time": "2021-07-07T08:19:09.985Z"
   },
   {
    "duration": 19,
    "start_time": "2021-07-07T08:19:23.501Z"
   },
   {
    "duration": 22,
    "start_time": "2021-07-07T08:24:16.920Z"
   },
   {
    "duration": 126,
    "start_time": "2021-07-07T08:30:51.958Z"
   },
   {
    "duration": 106,
    "start_time": "2021-07-07T08:31:11.461Z"
   },
   {
    "duration": 119,
    "start_time": "2021-07-07T08:31:17.092Z"
   },
   {
    "duration": 112,
    "start_time": "2021-07-07T08:31:27.310Z"
   },
   {
    "duration": 96,
    "start_time": "2021-07-07T08:31:53.014Z"
   },
   {
    "duration": 96,
    "start_time": "2021-07-07T08:32:00.975Z"
   },
   {
    "duration": 109,
    "start_time": "2021-07-07T08:32:20.043Z"
   },
   {
    "duration": 87,
    "start_time": "2021-07-07T08:34:15.949Z"
   },
   {
    "duration": 47,
    "start_time": "2021-07-07T08:36:21.782Z"
   },
   {
    "duration": 48,
    "start_time": "2021-07-07T08:36:37.170Z"
   },
   {
    "duration": 125,
    "start_time": "2021-07-07T08:37:16.939Z"
   },
   {
    "duration": 317,
    "start_time": "2021-07-07T09:39:57.380Z"
   },
   {
    "duration": 17,
    "start_time": "2021-07-07T09:40:25.018Z"
   },
   {
    "duration": 44,
    "start_time": "2021-07-07T09:40:34.017Z"
   },
   {
    "duration": 29,
    "start_time": "2021-07-07T09:40:51.377Z"
   },
   {
    "duration": 29,
    "start_time": "2021-07-07T09:41:08.451Z"
   },
   {
    "duration": 29,
    "start_time": "2021-07-07T09:42:42.967Z"
   },
   {
    "duration": 47,
    "start_time": "2021-07-07T09:43:38.038Z"
   },
   {
    "duration": 67,
    "start_time": "2021-07-07T09:43:53.470Z"
   },
   {
    "duration": 69,
    "start_time": "2021-07-07T09:44:14.149Z"
   },
   {
    "duration": 57,
    "start_time": "2021-07-07T09:44:31.105Z"
   },
   {
    "duration": 37,
    "start_time": "2021-07-07T09:44:36.546Z"
   },
   {
    "duration": 42,
    "start_time": "2021-07-07T09:45:56.146Z"
   },
   {
    "duration": 3,
    "start_time": "2021-07-07T09:46:13.249Z"
   },
   {
    "duration": 149,
    "start_time": "2021-07-07T09:46:13.258Z"
   },
   {
    "duration": 19,
    "start_time": "2021-07-07T09:46:13.409Z"
   },
   {
    "duration": 21,
    "start_time": "2021-07-07T09:46:13.431Z"
   },
   {
    "duration": 74,
    "start_time": "2021-07-07T09:46:13.455Z"
   },
   {
    "duration": 15,
    "start_time": "2021-07-07T09:46:13.531Z"
   },
   {
    "duration": 36,
    "start_time": "2021-07-07T09:46:13.549Z"
   },
   {
    "duration": 12,
    "start_time": "2021-07-07T09:46:13.588Z"
   },
   {
    "duration": 22,
    "start_time": "2021-07-07T09:46:13.606Z"
   },
   {
    "duration": 97,
    "start_time": "2021-07-07T09:46:13.632Z"
   },
   {
    "duration": 15,
    "start_time": "2021-07-07T09:46:13.731Z"
   },
   {
    "duration": 5,
    "start_time": "2021-07-07T09:46:13.749Z"
   },
   {
    "duration": 35,
    "start_time": "2021-07-07T09:46:13.756Z"
   },
   {
    "duration": 10,
    "start_time": "2021-07-07T09:46:13.793Z"
   },
   {
    "duration": 48,
    "start_time": "2021-07-07T09:46:13.806Z"
   },
   {
    "duration": 57,
    "start_time": "2021-07-07T09:46:13.857Z"
   },
   {
    "duration": 43,
    "start_time": "2021-07-07T09:46:13.916Z"
   },
   {
    "duration": 13,
    "start_time": "2021-07-07T09:46:13.987Z"
   },
   {
    "duration": 5217,
    "start_time": "2021-07-07T09:46:14.002Z"
   },
   {
    "duration": 6,
    "start_time": "2021-07-07T09:46:19.223Z"
   },
   {
    "duration": 3585,
    "start_time": "2021-07-07T09:46:19.232Z"
   },
   {
    "duration": 9,
    "start_time": "2021-07-07T09:46:22.820Z"
   },
   {
    "duration": 4,
    "start_time": "2021-07-07T09:46:22.831Z"
   },
   {
    "duration": 14,
    "start_time": "2021-07-07T09:46:22.840Z"
   },
   {
    "duration": 36,
    "start_time": "2021-07-07T09:46:22.857Z"
   },
   {
    "duration": 4,
    "start_time": "2021-07-07T09:46:22.896Z"
   },
   {
    "duration": 15,
    "start_time": "2021-07-07T09:46:22.903Z"
   },
   {
    "duration": 28,
    "start_time": "2021-07-07T09:46:22.920Z"
   },
   {
    "duration": 39,
    "start_time": "2021-07-07T09:46:22.950Z"
   },
   {
    "duration": 10,
    "start_time": "2021-07-07T09:46:22.992Z"
   },
   {
    "duration": 15,
    "start_time": "2021-07-07T09:46:23.004Z"
   },
   {
    "duration": 6,
    "start_time": "2021-07-07T09:46:23.021Z"
   },
   {
    "duration": 13,
    "start_time": "2021-07-07T09:46:23.029Z"
   },
   {
    "duration": 48,
    "start_time": "2021-07-07T09:46:23.044Z"
   },
   {
    "duration": 11,
    "start_time": "2021-07-07T09:46:23.094Z"
   },
   {
    "duration": 10,
    "start_time": "2021-07-07T09:47:02.676Z"
   },
   {
    "duration": 26,
    "start_time": "2021-07-07T09:57:14.682Z"
   },
   {
    "duration": 99,
    "start_time": "2021-07-07T09:57:14.711Z"
   },
   {
    "duration": 19,
    "start_time": "2021-07-07T09:57:14.813Z"
   },
   {
    "duration": 23,
    "start_time": "2021-07-07T09:57:14.835Z"
   },
   {
    "duration": 52,
    "start_time": "2021-07-07T09:57:14.885Z"
   },
   {
    "duration": 16,
    "start_time": "2021-07-07T09:57:14.939Z"
   },
   {
    "duration": 34,
    "start_time": "2021-07-07T09:57:14.958Z"
   },
   {
    "duration": 12,
    "start_time": "2021-07-07T09:57:14.996Z"
   },
   {
    "duration": 43,
    "start_time": "2021-07-07T09:57:15.011Z"
   },
   {
    "duration": 77,
    "start_time": "2021-07-07T09:57:15.057Z"
   },
   {
    "duration": 14,
    "start_time": "2021-07-07T09:57:15.136Z"
   },
   {
    "duration": 4,
    "start_time": "2021-07-07T09:57:15.153Z"
   },
   {
    "duration": 34,
    "start_time": "2021-07-07T09:57:15.160Z"
   },
   {
    "duration": 13,
    "start_time": "2021-07-07T09:57:15.197Z"
   },
   {
    "duration": 48,
    "start_time": "2021-07-07T09:57:15.212Z"
   },
   {
    "duration": 57,
    "start_time": "2021-07-07T09:57:15.263Z"
   },
   {
    "duration": 62,
    "start_time": "2021-07-07T09:57:15.323Z"
   },
   {
    "duration": 13,
    "start_time": "2021-07-07T09:57:15.388Z"
   },
   {
    "duration": 5145,
    "start_time": "2021-07-07T09:57:15.403Z"
   },
   {
    "duration": 11,
    "start_time": "2021-07-07T09:57:20.550Z"
   },
   {
    "duration": 3691,
    "start_time": "2021-07-07T09:57:20.567Z"
   },
   {
    "duration": 10,
    "start_time": "2021-07-07T09:57:24.261Z"
   },
   {
    "duration": 4,
    "start_time": "2021-07-07T09:57:24.291Z"
   },
   {
    "duration": 14,
    "start_time": "2021-07-07T09:57:24.299Z"
   },
   {
    "duration": 14,
    "start_time": "2021-07-07T09:57:24.315Z"
   },
   {
    "duration": 5,
    "start_time": "2021-07-07T09:57:24.332Z"
   },
   {
    "duration": 15,
    "start_time": "2021-07-07T09:57:24.386Z"
   },
   {
    "duration": 27,
    "start_time": "2021-07-07T09:57:24.403Z"
   },
   {
    "duration": 11,
    "start_time": "2021-07-07T09:57:24.432Z"
   },
   {
    "duration": 41,
    "start_time": "2021-07-07T09:57:24.446Z"
   },
   {
    "duration": 10,
    "start_time": "2021-07-07T09:57:24.489Z"
   },
   {
    "duration": 6,
    "start_time": "2021-07-07T09:57:24.502Z"
   },
   {
    "duration": 8,
    "start_time": "2021-07-07T09:57:24.510Z"
   },
   {
    "duration": 14,
    "start_time": "2021-07-07T09:57:24.520Z"
   },
   {
    "duration": 49,
    "start_time": "2021-07-07T09:57:24.536Z"
   },
   {
    "duration": 761,
    "start_time": "2021-07-07T13:32:53.531Z"
   },
   {
    "duration": 88,
    "start_time": "2021-07-07T13:32:54.295Z"
   },
   {
    "duration": 25,
    "start_time": "2021-07-07T13:32:54.387Z"
   },
   {
    "duration": 22,
    "start_time": "2021-07-07T13:32:54.414Z"
   },
   {
    "duration": 76,
    "start_time": "2021-07-07T13:32:54.438Z"
   },
   {
    "duration": 15,
    "start_time": "2021-07-07T13:32:54.516Z"
   },
   {
    "duration": 9,
    "start_time": "2021-07-07T13:32:54.533Z"
   },
   {
    "duration": 8,
    "start_time": "2021-07-07T13:32:54.546Z"
   },
   {
    "duration": 57,
    "start_time": "2021-07-07T13:32:54.558Z"
   },
   {
    "duration": 63,
    "start_time": "2021-07-07T13:32:54.617Z"
   },
   {
    "duration": 21,
    "start_time": "2021-07-07T13:32:54.683Z"
   },
   {
    "duration": 5,
    "start_time": "2021-07-07T13:32:54.706Z"
   },
   {
    "duration": 15,
    "start_time": "2021-07-07T13:32:54.714Z"
   },
   {
    "duration": 22,
    "start_time": "2021-07-07T13:32:54.732Z"
   },
   {
    "duration": 62,
    "start_time": "2021-07-07T13:32:54.756Z"
   },
   {
    "duration": 35,
    "start_time": "2021-07-07T13:32:54.820Z"
   },
   {
    "duration": 54,
    "start_time": "2021-07-07T13:32:54.857Z"
   },
   {
    "duration": 12,
    "start_time": "2021-07-07T13:32:54.913Z"
   },
   {
    "duration": 5192,
    "start_time": "2021-07-07T13:32:54.927Z"
   },
   {
    "duration": 5,
    "start_time": "2021-07-07T13:33:00.122Z"
   },
   {
    "duration": 3606,
    "start_time": "2021-07-07T13:33:00.129Z"
   },
   {
    "duration": 12,
    "start_time": "2021-07-07T13:33:03.737Z"
   },
   {
    "duration": 5,
    "start_time": "2021-07-07T13:33:03.756Z"
   },
   {
    "duration": 44,
    "start_time": "2021-07-07T13:33:03.764Z"
   },
   {
    "duration": 18,
    "start_time": "2021-07-07T13:33:03.810Z"
   },
   {
    "duration": 5,
    "start_time": "2021-07-07T13:33:03.830Z"
   },
   {
    "duration": 23,
    "start_time": "2021-07-07T13:33:03.837Z"
   },
   {
    "duration": 45,
    "start_time": "2021-07-07T13:33:03.862Z"
   },
   {
    "duration": 11,
    "start_time": "2021-07-07T13:33:03.910Z"
   },
   {
    "duration": 10,
    "start_time": "2021-07-07T13:33:03.923Z"
   },
   {
    "duration": 26,
    "start_time": "2021-07-07T13:33:03.936Z"
   },
   {
    "duration": 40,
    "start_time": "2021-07-07T13:33:03.965Z"
   },
   {
    "duration": 9,
    "start_time": "2021-07-07T13:33:04.009Z"
   },
   {
    "duration": 13,
    "start_time": "2021-07-07T13:33:04.021Z"
   },
   {
    "duration": 10,
    "start_time": "2021-07-07T13:33:04.037Z"
   },
   {
    "duration": 5,
    "start_time": "2021-07-07T13:57:58.097Z"
   },
   {
    "duration": 29,
    "start_time": "2021-07-07T13:58:24.702Z"
   },
   {
    "duration": 82,
    "start_time": "2021-07-07T13:58:24.769Z"
   },
   {
    "duration": 53,
    "start_time": "2021-07-07T13:58:24.854Z"
   },
   {
    "duration": 22,
    "start_time": "2021-07-07T13:58:24.910Z"
   },
   {
    "duration": 78,
    "start_time": "2021-07-07T13:58:24.934Z"
   },
   {
    "duration": 22,
    "start_time": "2021-07-07T13:58:25.015Z"
   },
   {
    "duration": 14,
    "start_time": "2021-07-07T13:58:25.040Z"
   },
   {
    "duration": 47,
    "start_time": "2021-07-07T13:58:25.057Z"
   },
   {
    "duration": 23,
    "start_time": "2021-07-07T13:58:25.110Z"
   },
   {
    "duration": 89,
    "start_time": "2021-07-07T13:58:25.137Z"
   },
   {
    "duration": 15,
    "start_time": "2021-07-07T13:58:25.229Z"
   },
   {
    "duration": 4,
    "start_time": "2021-07-07T13:58:25.246Z"
   },
   {
    "duration": 15,
    "start_time": "2021-07-07T13:58:25.252Z"
   },
   {
    "duration": 35,
    "start_time": "2021-07-07T13:58:25.269Z"
   },
   {
    "duration": 48,
    "start_time": "2021-07-07T13:58:25.307Z"
   },
   {
    "duration": 58,
    "start_time": "2021-07-07T13:58:25.358Z"
   },
   {
    "duration": 41,
    "start_time": "2021-07-07T13:58:25.419Z"
   },
   {
    "duration": 40,
    "start_time": "2021-07-07T13:58:25.464Z"
   },
   {
    "duration": 5571,
    "start_time": "2021-07-07T13:58:25.506Z"
   },
   {
    "duration": 6,
    "start_time": "2021-07-07T13:58:31.079Z"
   },
   {
    "duration": 3732,
    "start_time": "2021-07-07T13:58:31.100Z"
   },
   {
    "duration": 11,
    "start_time": "2021-07-07T13:58:34.835Z"
   },
   {
    "duration": 7,
    "start_time": "2021-07-07T13:58:34.857Z"
   },
   {
    "duration": 32,
    "start_time": "2021-07-07T13:58:34.869Z"
   },
   {
    "duration": 12,
    "start_time": "2021-07-07T13:58:34.904Z"
   },
   {
    "duration": 5,
    "start_time": "2021-07-07T13:58:34.919Z"
   },
   {
    "duration": 23,
    "start_time": "2021-07-07T13:58:34.926Z"
   },
   {
    "duration": 50,
    "start_time": "2021-07-07T13:58:34.952Z"
   },
   {
    "duration": 11,
    "start_time": "2021-07-07T13:58:35.005Z"
   },
   {
    "duration": 10,
    "start_time": "2021-07-07T13:58:35.018Z"
   },
   {
    "duration": 10,
    "start_time": "2021-07-07T13:58:35.031Z"
   },
   {
    "duration": 7,
    "start_time": "2021-07-07T13:58:35.043Z"
   },
   {
    "duration": 51,
    "start_time": "2021-07-07T13:58:35.053Z"
   },
   {
    "duration": 13,
    "start_time": "2021-07-07T13:58:35.107Z"
   },
   {
    "duration": 18,
    "start_time": "2021-07-07T13:58:35.122Z"
   },
   {
    "duration": 623,
    "start_time": "2021-12-03T06:39:41.127Z"
   },
   {
    "duration": 65,
    "start_time": "2021-12-03T06:39:41.752Z"
   },
   {
    "duration": 12,
    "start_time": "2021-12-03T06:39:41.819Z"
   },
   {
    "duration": 15,
    "start_time": "2021-12-03T06:39:41.833Z"
   },
   {
    "duration": 46,
    "start_time": "2021-12-03T06:39:41.849Z"
   },
   {
    "duration": 11,
    "start_time": "2021-12-03T06:39:41.897Z"
   },
   {
    "duration": 8,
    "start_time": "2021-12-03T06:39:41.909Z"
   },
   {
    "duration": 7,
    "start_time": "2021-12-03T06:39:41.920Z"
   },
   {
    "duration": 43,
    "start_time": "2021-12-03T06:39:41.929Z"
   },
   {
    "duration": 39,
    "start_time": "2021-12-03T06:39:41.974Z"
   },
   {
    "duration": 11,
    "start_time": "2021-12-03T06:39:42.015Z"
   },
   {
    "duration": 4,
    "start_time": "2021-12-03T06:39:42.027Z"
   },
   {
    "duration": 34,
    "start_time": "2021-12-03T06:39:42.033Z"
   },
   {
    "duration": 15,
    "start_time": "2021-12-03T06:39:42.069Z"
   },
   {
    "duration": 47,
    "start_time": "2021-12-03T06:39:42.086Z"
   },
   {
    "duration": 27,
    "start_time": "2021-12-03T06:39:42.135Z"
   },
   {
    "duration": 31,
    "start_time": "2021-12-03T06:39:42.164Z"
   },
   {
    "duration": 9,
    "start_time": "2021-12-03T06:39:42.197Z"
   },
   {
    "duration": 4022,
    "start_time": "2021-12-03T06:39:42.207Z"
   },
   {
    "duration": 4,
    "start_time": "2021-12-03T06:39:46.231Z"
   },
   {
    "duration": 2991,
    "start_time": "2021-12-03T06:39:46.236Z"
   },
   {
    "duration": 8,
    "start_time": "2021-12-03T06:39:49.228Z"
   },
   {
    "duration": 12,
    "start_time": "2021-12-03T06:39:49.239Z"
   },
   {
    "duration": 26,
    "start_time": "2021-12-03T06:39:49.253Z"
   },
   {
    "duration": 27,
    "start_time": "2021-12-03T06:39:49.281Z"
   },
   {
    "duration": 9,
    "start_time": "2021-12-03T06:39:49.309Z"
   },
   {
    "duration": 27,
    "start_time": "2021-12-03T06:39:49.319Z"
   },
   {
    "duration": 34,
    "start_time": "2021-12-03T06:39:49.347Z"
   },
   {
    "duration": 16,
    "start_time": "2021-12-03T06:39:49.383Z"
   },
   {
    "duration": 19,
    "start_time": "2021-12-03T06:39:49.401Z"
   },
   {
    "duration": 23,
    "start_time": "2021-12-03T06:39:49.422Z"
   },
   {
    "duration": 20,
    "start_time": "2021-12-03T06:39:49.446Z"
   },
   {
    "duration": 17,
    "start_time": "2021-12-03T06:39:49.467Z"
   },
   {
    "duration": 26,
    "start_time": "2021-12-03T06:39:49.486Z"
   },
   {
    "duration": 13,
    "start_time": "2021-12-03T06:39:49.514Z"
   },
   {
    "duration": 631,
    "start_time": "2021-12-03T06:49:30.554Z"
   },
   {
    "duration": 71,
    "start_time": "2021-12-03T06:49:31.191Z"
   },
   {
    "duration": 12,
    "start_time": "2021-12-03T06:49:31.264Z"
   },
   {
    "duration": 21,
    "start_time": "2021-12-03T06:49:31.278Z"
   },
   {
    "duration": 37,
    "start_time": "2021-12-03T06:49:31.301Z"
   },
   {
    "duration": 24,
    "start_time": "2021-12-03T06:49:31.339Z"
   },
   {
    "duration": 16,
    "start_time": "2021-12-03T06:49:31.365Z"
   },
   {
    "duration": 24,
    "start_time": "2021-12-03T06:49:31.384Z"
   },
   {
    "duration": 41,
    "start_time": "2021-12-03T06:49:31.411Z"
   },
   {
    "duration": 43,
    "start_time": "2021-12-03T06:49:31.453Z"
   },
   {
    "duration": 12,
    "start_time": "2021-12-03T06:49:31.497Z"
   },
   {
    "duration": 19,
    "start_time": "2021-12-03T06:49:31.511Z"
   },
   {
    "duration": 20,
    "start_time": "2021-12-03T06:49:31.532Z"
   },
   {
    "duration": 24,
    "start_time": "2021-12-03T06:49:31.554Z"
   },
   {
    "duration": 43,
    "start_time": "2021-12-03T06:49:31.580Z"
   },
   {
    "duration": 28,
    "start_time": "2021-12-03T06:49:31.625Z"
   },
   {
    "duration": 33,
    "start_time": "2021-12-03T06:49:31.655Z"
   },
   {
    "duration": 9,
    "start_time": "2021-12-03T06:49:31.691Z"
   },
   {
    "duration": 4124,
    "start_time": "2021-12-03T06:49:31.702Z"
   },
   {
    "duration": 3,
    "start_time": "2021-12-03T06:49:35.828Z"
   },
   {
    "duration": 2841,
    "start_time": "2021-12-03T06:49:35.833Z"
   },
   {
    "duration": 8,
    "start_time": "2021-12-03T06:49:38.676Z"
   },
   {
    "duration": 6,
    "start_time": "2021-12-03T06:49:38.686Z"
   },
   {
    "duration": 17,
    "start_time": "2021-12-03T06:49:38.693Z"
   },
   {
    "duration": 10,
    "start_time": "2021-12-03T06:49:38.712Z"
   },
   {
    "duration": 3,
    "start_time": "2021-12-03T06:49:38.725Z"
   },
   {
    "duration": 13,
    "start_time": "2021-12-03T06:49:38.730Z"
   },
   {
    "duration": 33,
    "start_time": "2021-12-03T06:49:38.745Z"
   },
   {
    "duration": 8,
    "start_time": "2021-12-03T06:49:38.780Z"
   },
   {
    "duration": 8,
    "start_time": "2021-12-03T06:49:38.790Z"
   },
   {
    "duration": 9,
    "start_time": "2021-12-03T06:49:38.800Z"
   },
   {
    "duration": 4,
    "start_time": "2021-12-03T06:49:38.811Z"
   },
   {
    "duration": 15,
    "start_time": "2021-12-03T06:49:38.817Z"
   },
   {
    "duration": 5,
    "start_time": "2021-12-03T06:49:38.864Z"
   },
   {
    "duration": 9,
    "start_time": "2021-12-03T06:49:38.870Z"
   }
  ],
  "kernelspec": {
   "display_name": "Python 3 (ipykernel)",
   "language": "python",
   "name": "python3"
  },
  "language_info": {
   "codemirror_mode": {
    "name": "ipython",
    "version": 3
   },
   "file_extension": ".py",
   "mimetype": "text/x-python",
   "name": "python",
   "nbconvert_exporter": "python",
   "pygments_lexer": "ipython3",
   "version": "3.8.11"
  },
  "toc": {
   "base_numbering": 1,
   "nav_menu": {},
   "number_sections": true,
   "sideBar": true,
   "skip_h1_title": true,
   "title_cell": "Table of Contents",
   "title_sidebar": "Contents",
   "toc_cell": false,
   "toc_position": {},
   "toc_section_display": true,
   "toc_window_display": false
  }
 },
 "nbformat": 4,
 "nbformat_minor": 2
}
